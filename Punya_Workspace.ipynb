{
 "cells": [
  {
   "cell_type": "code",
   "execution_count": 1,
   "id": "4b8cc13a",
   "metadata": {},
   "outputs": [],
   "source": [
    "import dill as dl"
   ]
  },
  {
   "cell_type": "code",
   "execution_count": 2,
   "id": "1a3de176",
   "metadata": {},
   "outputs": [],
   "source": [
    "var1= 1\n",
    "var2= 5\n",
    "var3= var1+var2"
   ]
  },
  {
   "cell_type": "code",
   "execution_count": 7,
   "id": "3a566338",
   "metadata": {},
   "outputs": [],
   "source": [
    "dl.dump_session('var3.pkl')"
   ]
  },
  {
   "cell_type": "code",
   "execution_count": null,
   "id": "364daf45",
   "metadata": {},
   "outputs": [],
   "source": []
  }
 ],
 "metadata": {
  "kernelspec": {
   "display_name": "Python 3 (ipykernel)",
   "language": "python",
   "name": "python3"
  },
  "language_info": {
   "codemirror_mode": {
    "name": "ipython",
    "version": 3
   },
   "file_extension": ".py",
   "mimetype": "text/x-python",
   "name": "python",
   "nbconvert_exporter": "python",
   "pygments_lexer": "ipython3",
   "version": "3.10.12"
  }
 },
 "nbformat": 4,
 "nbformat_minor": 5
}
