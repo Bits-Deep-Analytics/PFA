{
 "cells": [
  {
   "cell_type": "code",
   "execution_count": 1,
   "id": "1ed4741e",
   "metadata": {},
   "outputs": [],
   "source": [
    "import pandas as pd"
   ]
  },
  {
   "cell_type": "code",
   "execution_count": 2,
   "id": "199171a2",
   "metadata": {},
   "outputs": [],
   "source": [
    "data = pd.read_csv(\"https://raw.githubusercontent.com/Bits-Deep-Analytics/PFA/main/Iris.csv\")"
   ]
  },
  {
   "cell_type": "code",
   "execution_count": 5,
   "id": "f404bd83",
   "metadata": {},
   "outputs": [
    {
     "name": "stdout",
     "output_type": "stream",
     "text": [
      "      Id  SepalLengthCm  SepalWidthCm  PetalLengthCm  PetalWidthCm  \\\n",
      "0      1            5.1           3.5            1.4           0.2   \n",
      "1      2            4.9           3.0            1.4           0.2   \n",
      "2      3            4.7           3.2            1.3           0.2   \n",
      "3      4            4.6           3.1            1.5           0.2   \n",
      "4      5            5.0           3.6            1.4           0.2   \n",
      "..   ...            ...           ...            ...           ...   \n",
      "145  146            6.7           3.0            5.2           2.3   \n",
      "146  147            6.3           2.5            5.0           1.9   \n",
      "147  148            6.5           3.0            5.2           2.0   \n",
      "148  149            6.2           3.4            5.4           2.3   \n",
      "149  150            5.9           3.0            5.1           1.8   \n",
      "\n",
      "            Species  \n",
      "0       Iris-setosa  \n",
      "1       Iris-setosa  \n",
      "2       Iris-setosa  \n",
      "3       Iris-setosa  \n",
      "4       Iris-setosa  \n",
      "..              ...  \n",
      "145  Iris-virginica  \n",
      "146  Iris-virginica  \n",
      "147  Iris-virginica  \n",
      "148  Iris-virginica  \n",
      "149  Iris-virginica  \n",
      "\n",
      "[150 rows x 6 columns]\n"
     ]
    }
   ],
   "source": [
    "print (data)"
   ]
  },
  {
   "cell_type": "code",
   "execution_count": 9,
   "id": "a4d28855",
   "metadata": {},
   "outputs": [
    {
     "name": "stdout",
     "output_type": "stream",
     "text": [
      "      Id  SepalLengthCm  SepalWidthCm  PetalLengthCm  PetalWidthCm  \\\n",
      "0      1            5.1           3.5            1.4           0.2   \n",
      "1      2            4.9           3.0            1.4           0.2   \n",
      "2      3            4.7           3.2            1.3           0.2   \n",
      "3      4            4.6           3.1            1.5           0.2   \n",
      "4      5            5.0           3.6            1.4           0.2   \n",
      "..   ...            ...           ...            ...           ...   \n",
      "145  146            6.7           3.0            5.2           2.3   \n",
      "146  147            6.3           2.5            5.0           1.9   \n",
      "147  148            6.5           3.0            5.2           2.0   \n",
      "148  149            6.2           3.4            5.4           2.3   \n",
      "149  150            5.9           3.0            5.1           1.8   \n",
      "\n",
      "            Species     pl_pw     sl_sw  plw_slw_ratio  \n",
      "0       Iris-setosa  7.000000  1.457143       4.803922  \n",
      "1       Iris-setosa  7.000000  1.633333       4.285714  \n",
      "2       Iris-setosa  6.500000  1.468750       4.425532  \n",
      "3       Iris-setosa  7.500000  1.483871       5.054348  \n",
      "4       Iris-setosa  7.000000  1.388889       5.040000  \n",
      "..              ...       ...       ...            ...  \n",
      "145  Iris-virginica  2.260870  2.233333       1.012330  \n",
      "146  Iris-virginica  2.631579  2.520000       1.044277  \n",
      "147  Iris-virginica  2.600000  2.166667       1.200000  \n",
      "148  Iris-virginica  2.347826  1.823529       1.287518  \n",
      "149  Iris-virginica  2.833333  1.966667       1.440678  \n",
      "\n",
      "[150 rows x 9 columns]\n",
      "        pl_pw     sl_sw  plw_slw_ratio         Species\n",
      "0    7.000000  1.457143       4.803922     Iris-setosa\n",
      "1    7.000000  1.633333       4.285714     Iris-setosa\n",
      "2    6.500000  1.468750       4.425532     Iris-setosa\n",
      "3    7.500000  1.483871       5.054348     Iris-setosa\n",
      "4    7.000000  1.388889       5.040000     Iris-setosa\n",
      "..        ...       ...            ...             ...\n",
      "145  2.260870  2.233333       1.012330  Iris-virginica\n",
      "146  2.631579  2.520000       1.044277  Iris-virginica\n",
      "147  2.600000  2.166667       1.200000  Iris-virginica\n",
      "148  2.347826  1.823529       1.287518  Iris-virginica\n",
      "149  2.833333  1.966667       1.440678  Iris-virginica\n",
      "\n",
      "[150 rows x 4 columns]\n"
     ]
    }
   ],
   "source": [
    "\n",
    "# Create new features\n",
    "data['pl_pw'] = data['PetalLengthCm'] / data['PetalWidthCm']\n",
    "data['sl_sw'] = data['SepalLengthCm'] / data['SepalWidthCm']\n",
    "data['plw_slw_ratio'] = data['pl_pw'] / data['sl_sw']\n",
    "\n",
    "print (data)\n",
    "\n",
    "# creating a new dataframe and storing the derived attributes and the species \n",
    "new_iris_df = data[['pl_pw', 'sl_sw', 'plw_slw_ratio', 'Species']]\n",
    "\n",
    "print (new_iris_df)\n"
   ]
  },
  {
   "cell_type": "code",
   "execution_count": 10,
   "id": "3dded7a8",
   "metadata": {},
   "outputs": [
    {
     "name": "stdout",
     "output_type": "stream",
     "text": [
      "        pl_pw     sl_sw  plw_slw_ratio         Species\n",
      "0    7.000000  1.457143       4.803922     Iris-setosa\n",
      "1    7.000000  1.633333       4.285714     Iris-setosa\n",
      "2    6.500000  1.468750       4.425532     Iris-setosa\n",
      "3    7.500000  1.483871       5.054348     Iris-setosa\n",
      "4    7.000000  1.388889       5.040000     Iris-setosa\n",
      "..        ...       ...            ...             ...\n",
      "145  2.260870  2.233333       1.012330  Iris-virginica\n",
      "146  2.631579  2.520000       1.044277  Iris-virginica\n",
      "147  2.600000  2.166667       1.200000  Iris-virginica\n",
      "148  2.347826  1.823529       1.287518  Iris-virginica\n",
      "149  2.833333  1.966667       1.440678  Iris-virginica\n",
      "\n",
      "[150 rows x 4 columns]\n"
     ]
    }
   ],
   "source": [
    "print (new_iris_df)"
   ]
  },
  {
   "cell_type": "code",
   "execution_count": 15,
   "id": "78f18a07",
   "metadata": {},
   "outputs": [],
   "source": [
    "new_iris_df.to_csv(r'C:\\Users\\PRERANA\\Documents\\group_2_pfa_test_task-2.csv')"
   ]
  },
  {
   "cell_type": "code",
   "execution_count": null,
   "id": "2959917d",
   "metadata": {},
   "outputs": [],
   "source": []
  }
 ],
 "metadata": {
  "kernelspec": {
   "display_name": "Python 3 (ipykernel)",
   "language": "python",
   "name": "python3"
  },
  "language_info": {
   "codemirror_mode": {
    "name": "ipython",
    "version": 3
   },
   "file_extension": ".py",
   "mimetype": "text/x-python",
   "name": "python",
   "nbconvert_exporter": "python",
   "pygments_lexer": "ipython3",
   "version": "3.11.4"
  }
 },
 "nbformat": 4,
 "nbformat_minor": 5
}
