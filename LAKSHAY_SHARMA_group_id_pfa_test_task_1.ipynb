{
  "nbformat": 4,
  "nbformat_minor": 0,
  "metadata": {
    "colab": {
      "provenance": []
    },
    "kernelspec": {
      "name": "python3",
      "display_name": "Python 3"
    },
    "language_info": {
      "name": "python"
    }
  },
  "cells": [
    {
      "cell_type": "code",
      "execution_count": null,
      "metadata": {
        "id": "fCCJwB3BsHwy"
      },
      "outputs": [],
      "source": [
        "## Please write your code here\n",
        "## Only to be submitted by team leader"
      ]
    },
    {
      "cell_type": "code",
      "source": [
        "class StaQueue:\n",
        "    def __init__(self):\n",
        "        self.queue = []\n",
        "\n",
        "    def enter(self, x):\n",
        "        if isinstance(x, int):\n",
        "            self.queue.append(x)\n",
        "\n",
        "    def dequeue(self):\n",
        "        if self.queue:\n",
        "            return self.queue.pop(0)\n",
        "\n",
        "    def pop(self):\n",
        "        if self.queue:\n",
        "            return self.queue.pop()\n",
        "\n",
        "    def print_queue(self):\n",
        "        print(self.queue)\n",
        "\n",
        "\n",
        "# Test case\n",
        "def main():\n",
        "    staqueue_obj = StaQueue()\n",
        "    staqueue_obj.enter(4)\n",
        "    staqueue_obj.enter(2)\n",
        "    staqueue_obj.enter(3)\n",
        "    staqueue_obj.dequeue()\n",
        "    staqueue_obj.enter(2)\n",
        "    staqueue_obj.pop()\n",
        "\n",
        "    # Print the elements in the required order\n",
        "    staqueue_obj.print_queue()\n",
        "\n",
        "if __name__ == \"__main__\":\n",
        "    main()"
      ],
      "metadata": {
        "colab": {
          "base_uri": "https://localhost:8080/"
        },
        "id": "5Cijic_Gywye",
        "outputId": "cf42f763-6027-4502-d5e1-e654c203a76f"
      },
      "execution_count": 14,
      "outputs": [
        {
          "output_type": "stream",
          "name": "stdout",
          "text": [
            "[2, 3]\n"
          ]
        }
      ]
    },
    {
      "cell_type": "code",
      "source": [],
      "metadata": {
        "id": "Wf5h-qD_4KhH"
      },
      "execution_count": null,
      "outputs": []
    }
  ]
}