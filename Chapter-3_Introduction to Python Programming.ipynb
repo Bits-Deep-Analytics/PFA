{
 "cells": [
  {
   "cell_type": "markdown",
   "metadata": {},
   "source": [
    "<a href=\"https://colab.research.google.com/github/Bits-Deep-Analytics/PFA/blob/main/Chapter-3_Introduction to Python Programming.ipynb\" target=\"_blank\"><img src=\"https://colab.research.google.com/assets/colab-badge.svg\" alt=\"Open this notebook in Colaboratory\"/></a>"
   ]
  },
  {
   "cell_type": "markdown",
   "metadata": {
    "id": "jFB4hD-aLO__"
   },
   "source": [
    "# Introduction to Python programming"
   ]
  },
  {
   "cell_type": "markdown",
   "metadata": {
    "id": "cWe_bjevIG6v"
   },
   "source": [
    "## Introduction"
   ]
  },
  {
   "cell_type": "code",
   "execution_count": null,
   "metadata": {
    "id": "viwdtj4IOISy"
   },
   "outputs": [],
   "source": [
    "print(\"This is a built-in function\") # Test if Python is running or not\n",
    "# This is a comment to be ignored by the interpreter"
   ]
  },
  {
   "cell_type": "markdown",
   "metadata": {
    "id": "z94XHtHCMHHE"
   },
   "source": [
    "## Variables and Assignment Statements"
   ]
  },
  {
   "cell_type": "code",
   "execution_count": null,
   "metadata": {
    "id": "RfZTH7ebMOe8"
   },
   "outputs": [],
   "source": [
    "45 + 72"
   ]
  },
  {
   "cell_type": "markdown",
   "metadata": {
    "id": "sLxg9BTdOAeV"
   },
   "source": [
    "###  Adding Variable Values and Viewing the Result"
   ]
  },
  {
   "cell_type": "code",
   "execution_count": null,
   "metadata": {
    "id": "rbaS3TGXM1ga"
   },
   "outputs": [],
   "source": [
    "x = 7\n",
    "y = 3\n",
    "x + y"
   ]
  },
  {
   "cell_type": "markdown",
   "metadata": {
    "id": "NWrDMUtSNvE6"
   },
   "source": [
    "### Calculations in Assingment Statements"
   ]
  },
  {
   "cell_type": "code",
   "execution_count": null,
   "metadata": {
    "id": "-pQ9Wah2OiOB"
   },
   "outputs": [],
   "source": [
    "total = x + y # Total is an identifier\n",
    "total"
   ]
  },
  {
   "cell_type": "markdown",
   "metadata": {
    "id": "mHigaGdcPjmC"
   },
   "source": [
    "### Types"
   ]
  },
  {
   "cell_type": "code",
   "execution_count": null,
   "metadata": {
    "id": "oJc2dTe0PqN9"
   },
   "outputs": [],
   "source": [
    "type(x)"
   ]
  },
  {
   "cell_type": "code",
   "execution_count": null,
   "metadata": {
    "id": "iEqti4frPvN3"
   },
   "outputs": [],
   "source": [
    "type(10.5)"
   ]
  },
  {
   "cell_type": "markdown",
   "metadata": {
    "id": "wJIUoRP0Doji"
   },
   "source": [
    "## Arithmetic"
   ]
  },
  {
   "cell_type": "markdown",
   "metadata": {
    "id": "Ip2Io9m6D0eH"
   },
   "source": [
    "### Multiplication (*)"
   ]
  },
  {
   "cell_type": "code",
   "execution_count": null,
   "metadata": {
    "id": "djrKlSvbD4FQ"
   },
   "outputs": [],
   "source": [
    "7 * 4"
   ]
  },
  {
   "cell_type": "markdown",
   "metadata": {
    "id": "bayq2mSSEdAd"
   },
   "source": [
    "### Exponentiation (**)\n"
   ]
  },
  {
   "cell_type": "code",
   "execution_count": null,
   "metadata": {
    "id": "mE5QKPMrEkAw"
   },
   "outputs": [],
   "source": [
    "2 ** 10"
   ]
  },
  {
   "cell_type": "markdown",
   "metadata": {
    "id": "zeAnf6wUEla0"
   },
   "source": [
    "### True Division (/) vs. Floor Division (//)"
   ]
  },
  {
   "cell_type": "code",
   "execution_count": null,
   "metadata": {
    "id": "iPG-q5MdEwMq"
   },
   "outputs": [],
   "source": [
    "# True Division\n",
    "7 / 4"
   ]
  },
  {
   "cell_type": "code",
   "execution_count": null,
   "metadata": {
    "id": "LCUR5H-SEyJV"
   },
   "outputs": [],
   "source": [
    "# Floor division (//)\n",
    "7 // 4"
   ]
  },
  {
   "cell_type": "code",
   "execution_count": null,
   "metadata": {
    "id": "BeDF8QXMFE3u"
   },
   "outputs": [],
   "source": [
    "3 // 5"
   ]
  },
  {
   "cell_type": "code",
   "execution_count": null,
   "metadata": {
    "id": "vr7L2O2VFHKV"
   },
   "outputs": [],
   "source": [
    "14 // 7"
   ]
  },
  {
   "cell_type": "code",
   "execution_count": null,
   "metadata": {
    "id": "39mTBEWpFI8N"
   },
   "outputs": [],
   "source": [
    "-13 / 4"
   ]
  },
  {
   "cell_type": "code",
   "execution_count": null,
   "metadata": {
    "id": "sG78JWw6FLKY"
   },
   "outputs": [],
   "source": [
    "-13 // 4"
   ]
  },
  {
   "cell_type": "markdown",
   "metadata": {
    "id": "1idmkQ7tFRMx"
   },
   "source": [
    "### Exceptions and Tracebacks"
   ]
  },
  {
   "cell_type": "code",
   "execution_count": null,
   "metadata": {
    "id": "plhubce2FUc6"
   },
   "outputs": [],
   "source": [
    "# 123 / 0"
   ]
  },
  {
   "cell_type": "markdown",
   "metadata": {
    "id": "FQ17RuIxGy_i"
   },
   "source": [
    "### Remainder Operator"
   ]
  },
  {
   "cell_type": "code",
   "execution_count": null,
   "metadata": {
    "id": "vVCW6njgFcJd"
   },
   "outputs": [],
   "source": [
    "17 % 5"
   ]
  },
  {
   "cell_type": "code",
   "execution_count": null,
   "metadata": {
    "id": "xBTlYKmDFfRz"
   },
   "outputs": [],
   "source": [
    "7.5 % 3.5"
   ]
  },
  {
   "cell_type": "markdown",
   "metadata": {
    "id": "R5jD8b0SFm3X"
   },
   "source": [
    "### Grouping Expressions with Parentheses"
   ]
  },
  {
   "cell_type": "code",
   "execution_count": null,
   "metadata": {
    "id": "KRv3RktmFoWq"
   },
   "outputs": [],
   "source": [
    "10 * (5 + 3)"
   ]
  },
  {
   "cell_type": "code",
   "execution_count": null,
   "metadata": {
    "id": "ygfb7B4MFrHs"
   },
   "outputs": [],
   "source": [
    "10 * 5 + 3"
   ]
  },
  {
   "cell_type": "markdown",
   "metadata": {
    "id": "Tks2IKjkF1Z4"
   },
   "source": [
    "### Operator Precedence Rules"
   ]
  },
  {
   "cell_type": "markdown",
   "metadata": {
    "id": "AVRA6gaOGAn-"
   },
   "source": [
    "#### Operator Grouping\n",
    "#### Redundant ParenthesesOperator Grouping\n",
    "#### Operand Types"
   ]
  },
  {
   "cell_type": "markdown",
   "metadata": {
    "id": "yDxnNjyuG_4Z"
   },
   "source": [
    "## Function print and an Intro to Single- and Double-Quoted Strings"
   ]
  },
  {
   "cell_type": "code",
   "execution_count": null,
   "metadata": {
    "id": "_4h0CmxRIDtK"
   },
   "outputs": [],
   "source": [
    "print('Welcome to Python!')"
   ]
  },
  {
   "cell_type": "markdown",
   "metadata": {
    "id": "youTe7-AIP70"
   },
   "source": [
    "### Printing a Comma-Separated List of Items"
   ]
  },
  {
   "cell_type": "code",
   "execution_count": null,
   "metadata": {
    "id": "S1trzXwbIU9U"
   },
   "outputs": [],
   "source": [
    "print('Welcome', 'to', 'Python!')"
   ]
  },
  {
   "cell_type": "markdown",
   "metadata": {
    "id": "Dl9IHLebIcNZ"
   },
   "source": [
    "### Printing Many Lines of Text with One Statement"
   ]
  },
  {
   "cell_type": "code",
   "execution_count": null,
   "metadata": {
    "id": "BQDetYIZIe5a"
   },
   "outputs": [],
   "source": [
    "print('Welcome\\nto\\n\\nPython!')"
   ]
  },
  {
   "cell_type": "code",
   "execution_count": null,
   "metadata": {
    "id": "sd73ClG_IhCW"
   },
   "outputs": [],
   "source": [
    "### Ignoring a Line Break in a Long String"
   ]
  },
  {
   "cell_type": "code",
   "execution_count": null,
   "metadata": {
    "id": "nR0d45deIl2B"
   },
   "outputs": [],
   "source": [
    "print('this is a longer string, so we \\\n",
    " split it over two lines')"
   ]
  },
  {
   "cell_type": "markdown",
   "metadata": {
    "id": "LEYKDrsUIuAc"
   },
   "source": [
    "### Printing the Value of an Expression"
   ]
  },
  {
   "cell_type": "code",
   "execution_count": null,
   "metadata": {
    "id": "P3dgTsd2Iw1a"
   },
   "outputs": [],
   "source": [
    "print('Sum is', 7 + 3)"
   ]
  },
  {
   "cell_type": "markdown",
   "metadata": {
    "id": "uKPcnYb1I2AK"
   },
   "source": [
    "## Triple-Quoted Strings"
   ]
  },
  {
   "cell_type": "markdown",
   "metadata": {
    "id": "WHUiK757I3xP"
   },
   "source": [
    "### Including Quotes in Strings"
   ]
  },
  {
   "cell_type": "code",
   "execution_count": null,
   "metadata": {
    "id": "_em893uqI8KZ"
   },
   "outputs": [],
   "source": [
    "print('Display \"hi\" in quotes')"
   ]
  },
  {
   "cell_type": "code",
   "execution_count": null,
   "metadata": {
    "id": "M0yseNDeI8rH"
   },
   "outputs": [],
   "source": [
    "# print('Display 'hi' in quotes')"
   ]
  },
  {
   "cell_type": "code",
   "execution_count": null,
   "metadata": {
    "id": "OmXaFQMjJB2H"
   },
   "outputs": [],
   "source": [
    "print('Display \\'hi\\' in quotes')"
   ]
  },
  {
   "cell_type": "code",
   "execution_count": null,
   "metadata": {
    "id": "XsSFFXLsJD5f"
   },
   "outputs": [],
   "source": [
    "print(\"Display the name O'Brien\")"
   ]
  },
  {
   "cell_type": "code",
   "execution_count": null,
   "metadata": {
    "id": "lqrw8Ax2JHf-"
   },
   "outputs": [],
   "source": [
    "print(\"Display \\\"hi\\\" in quotes\")"
   ]
  },
  {
   "cell_type": "code",
   "execution_count": null,
   "metadata": {
    "id": "cU4bQjXlJIax"
   },
   "outputs": [],
   "source": [
    "print(\"\"\"Display \"hi\" and 'bye' in quotes\"\"\")"
   ]
  },
  {
   "cell_type": "markdown",
   "metadata": {
    "id": "S3SlSE55JO8b"
   },
   "source": [
    "### Multiline Strings"
   ]
  },
  {
   "cell_type": "code",
   "execution_count": null,
   "metadata": {
    "id": "EJvvL13LJRqX"
   },
   "outputs": [],
   "source": [
    "triple_quoted_string = \"\"\"This is a triple-quoted\n",
    " string that spans two lines\"\"\""
   ]
  },
  {
   "cell_type": "code",
   "execution_count": null,
   "metadata": {
    "id": "ZRGlpfUlJToS"
   },
   "outputs": [],
   "source": [
    "print(triple_quoted_string)"
   ]
  },
  {
   "cell_type": "code",
   "execution_count": null,
   "metadata": {
    "id": "7GWppPY-JY6q"
   },
   "outputs": [],
   "source": [
    "triple_quoted_string"
   ]
  },
  {
   "cell_type": "markdown",
   "metadata": {
    "id": "pHZMfv2_JwWy"
   },
   "source": [
    "## Getting Input from the User"
   ]
  },
  {
   "cell_type": "code",
   "execution_count": null,
   "metadata": {
    "id": "gp2cEa5AKBtv"
   },
   "outputs": [],
   "source": [
    "name = input(\"What's your name? \")"
   ]
  },
  {
   "cell_type": "code",
   "execution_count": null,
   "metadata": {
    "id": "zgp_lgGiKOlh"
   },
   "outputs": [],
   "source": [
    "name"
   ]
  },
  {
   "cell_type": "code",
   "execution_count": null,
   "metadata": {
    "id": "--xRZn5cKTGp"
   },
   "outputs": [],
   "source": [
    "print(name)"
   ]
  },
  {
   "cell_type": "markdown",
   "metadata": {
    "id": "FRFBWE3EKhqO"
   },
   "source": [
    "### Function input Always Returns a String"
   ]
  },
  {
   "cell_type": "code",
   "execution_count": null,
   "metadata": {
    "id": "AL2yc-IRKjAL"
   },
   "outputs": [],
   "source": [
    "value1 = input('Enter first number: ')"
   ]
  },
  {
   "cell_type": "code",
   "execution_count": null,
   "metadata": {
    "id": "idxRN-XyKo_k"
   },
   "outputs": [],
   "source": [
    "value2 = input('Enter second number: ')"
   ]
  },
  {
   "cell_type": "code",
   "execution_count": null,
   "metadata": {
    "id": "BZE3OzPVKsy3"
   },
   "outputs": [],
   "source": [
    "value1 + value2"
   ]
  },
  {
   "cell_type": "markdown",
   "metadata": {
    "id": "Jk9uZZWhKznR"
   },
   "source": [
    "### Getting an Integer from the User"
   ]
  },
  {
   "cell_type": "code",
   "execution_count": null,
   "metadata": {
    "id": "JeEkGNAfK1jb"
   },
   "outputs": [],
   "source": [
    "value = input('Enter an integer: ')"
   ]
  },
  {
   "cell_type": "code",
   "execution_count": null,
   "metadata": {
    "id": "TxDN5axWK3T7"
   },
   "outputs": [],
   "source": [
    "value = int(value)"
   ]
  },
  {
   "cell_type": "code",
   "execution_count": null,
   "metadata": {
    "id": "taDYGAYtK8wz"
   },
   "outputs": [],
   "source": [
    "value"
   ]
  },
  {
   "cell_type": "code",
   "execution_count": null,
   "metadata": {
    "id": "tcCvlCH8K_D5"
   },
   "outputs": [],
   "source": [
    "another_value = int(input('Enter another integer: '))"
   ]
  },
  {
   "cell_type": "code",
   "execution_count": null,
   "metadata": {
    "id": "cRePdlyKLCYT"
   },
   "outputs": [],
   "source": [
    "another_value"
   ]
  },
  {
   "cell_type": "code",
   "execution_count": null,
   "metadata": {
    "id": "rE_dSHlHLG6W"
   },
   "outputs": [],
   "source": [
    "value + another_value"
   ]
  },
  {
   "cell_type": "code",
   "execution_count": null,
   "metadata": {
    "id": "yH7zfmtHLKFr"
   },
   "outputs": [],
   "source": [
    "bad_value = int(input('Enter another integer: '))"
   ]
  },
  {
   "cell_type": "code",
   "execution_count": null,
   "metadata": {
    "id": "hGvibsdGLNBY"
   },
   "outputs": [],
   "source": [
    "int(10.5)"
   ]
  },
  {
   "cell_type": "markdown",
   "metadata": {
    "id": "vjc_qP0KMAIh"
   },
   "source": [
    "## Decision Making: The if Statement and Comparison Operators"
   ]
  },
  {
   "cell_type": "code",
   "execution_count": null,
   "metadata": {
    "id": "Ll7_0ZPVMndB"
   },
   "outputs": [],
   "source": [
    "7 > 4"
   ]
  },
  {
   "cell_type": "code",
   "execution_count": null,
   "metadata": {
    "id": "yyLq52CnMqBi"
   },
   "outputs": [],
   "source": [
    "7 < 4"
   ]
  },
  {
   "cell_type": "markdown",
   "metadata": {
    "id": "uWCQ7C1hM8NC"
   },
   "source": [
    "### Making Decisions with the if Statement: Introducing Scripts"
   ]
  },
  {
   "cell_type": "code",
   "execution_count": null,
   "metadata": {
    "id": "rD7sXpQENFOw"
   },
   "outputs": [],
   "source": [
    "# fig02_01.py\n",
    "\"\"\"Comparing integers using if statements and comparison operators.\"\"\"\n",
    "\n",
    "print('Enter two integers, and I will tell you',\n",
    "       'the relationships they satisfy.')\n",
    "\n",
    " # read first integer\n",
    "number1 = int(input('Enter first integer: '))\n",
    "\n",
    " # read second integer\n",
    "number2 = int(input('Enter second integer: '))\n",
    "\n",
    "if number1 == number2:\n",
    "     print(number1, 'is equal to', number2)\n",
    "\n",
    "if number1 != number2:\n",
    "    print(number1, 'is not equal to', number2)\n",
    "\n",
    "if number1 < number2:\n",
    "     print(number1, 'is less than', number2)\n",
    "\n",
    "if number1 > number2:\n",
    "     print(number1, 'is greater than', number2)\n",
    "\n",
    "if number1 <= number2:\n",
    "     print(number1, 'is less than or equal to', number2)\n",
    "\n",
    "if number1 >= number2:\n",
    "     print(number1, 'is greater than or equal to', number2)"
   ]
  },
  {
   "cell_type": "markdown",
   "metadata": {
    "id": "j7-Uhz0hO-NM"
   },
   "source": [
    "### Chaining Comparisons"
   ]
  },
  {
   "cell_type": "code",
   "execution_count": null,
   "metadata": {
    "id": "r0oAJ9BkPUPr"
   },
   "outputs": [],
   "source": [
    "x = 3\n",
    "1 <= x <= 5\n"
   ]
  },
  {
   "cell_type": "code",
   "execution_count": null,
   "metadata": {
    "id": "_-jG7hn1Pgrc"
   },
   "outputs": [],
   "source": [
    "x = 10\n",
    "1 <= x <= 5"
   ]
  },
  {
   "cell_type": "markdown",
   "metadata": {
    "id": "8YINTliUP9e-"
   },
   "source": [
    "## Objects and Dynamic Typing"
   ]
  },
  {
   "cell_type": "code",
   "execution_count": null,
   "metadata": {
    "id": "gffF85k5QBjF"
   },
   "outputs": [],
   "source": [
    "type(7)"
   ]
  },
  {
   "cell_type": "code",
   "execution_count": null,
   "metadata": {
    "id": "zH9eGksJQDUm"
   },
   "outputs": [],
   "source": [
    "type(4.1)"
   ]
  },
  {
   "cell_type": "code",
   "execution_count": null,
   "metadata": {
    "id": "tKnteInvQFOh"
   },
   "outputs": [],
   "source": [
    "type('dog')"
   ]
  },
  {
   "cell_type": "markdown",
   "metadata": {
    "id": "A5pICYNtQRBs"
   },
   "source": [
    "### Variables Refer to Objects"
   ]
  },
  {
   "cell_type": "code",
   "execution_count": null,
   "metadata": {
    "id": "GcNdK-v3QS6b"
   },
   "outputs": [],
   "source": [
    "x = 7\n",
    "x + 10"
   ]
  },
  {
   "cell_type": "code",
   "execution_count": null,
   "metadata": {
    "id": "QCSa6XpGQpfI"
   },
   "outputs": [],
   "source": [
    "x = 7"
   ]
  },
  {
   "cell_type": "code",
   "execution_count": null,
   "metadata": {
    "id": "uIQ7tejdQX25"
   },
   "outputs": [],
   "source": [
    "x = x + 10\n",
    "x"
   ]
  },
  {
   "cell_type": "markdown",
   "metadata": {
    "id": "7p5c4H7qQuQT"
   },
   "source": [
    "### Dynamic Typing"
   ]
  },
  {
   "cell_type": "code",
   "execution_count": null,
   "metadata": {
    "id": "V1FqW8b6QviY"
   },
   "outputs": [],
   "source": [
    "type(x)"
   ]
  },
  {
   "cell_type": "code",
   "execution_count": null,
   "metadata": {
    "id": "0hUmjQyIQw78"
   },
   "outputs": [],
   "source": [
    "x = 4.1"
   ]
  },
  {
   "cell_type": "code",
   "execution_count": null,
   "metadata": {
    "id": "YAHem1AbQyl0"
   },
   "outputs": [],
   "source": [
    "type(x)"
   ]
  },
  {
   "cell_type": "code",
   "execution_count": null,
   "metadata": {
    "id": "f3i53eBoQ0DL"
   },
   "outputs": [],
   "source": [
    "x = 'dog'"
   ]
  },
  {
   "cell_type": "code",
   "execution_count": null,
   "metadata": {
    "id": "ds7sATrpQ2-I"
   },
   "outputs": [],
   "source": [
    "type(x)"
   ]
  },
  {
   "cell_type": "markdown",
   "metadata": {
    "id": "taNx0O21RAP7"
   },
   "source": [
    "### Garbage Collection\n"
   ]
  },
  {
   "cell_type": "code",
   "execution_count": null,
   "metadata": {
    "id": "eF5hnDuOSWTm"
   },
   "outputs": [],
   "source": [
    "x = 5\n",
    "x = 'Hi'\n",
    "# 5 is garbage now, will now be taken by garbage collector"
   ]
  },
  {
   "cell_type": "markdown",
   "metadata": {
    "id": "PoUGSI1XRIQr"
   },
   "source": [
    "## Intro to Data Science: Basic Descriptive Statistics"
   ]
  },
  {
   "cell_type": "markdown",
   "metadata": {
    "id": "h4LDGmgmRMCl"
   },
   "source": [
    "### Determining the Minimum of Three Values"
   ]
  },
  {
   "cell_type": "code",
   "execution_count": null,
   "metadata": {
    "id": "v-oyQsvnRN9C"
   },
   "outputs": [],
   "source": [
    "\"\"\"Find the minimum of three values.\"\"\"\n",
    "number1 = int(input('Enter first integer: '))\n",
    "number2 = int(input('Enter second integer: '))\n",
    "number3 = int(input('Enter third integer: '))\n",
    "\n",
    "minimum = number1\n",
    "\n",
    "if number2 < minimum:\n",
    "  minimum = number2\n",
    "\n",
    "if number3 < minimum:\n",
    "  minimum = number3\n",
    "print('Minimum value is', minimum)"
   ]
  },
  {
   "cell_type": "markdown",
   "metadata": {
    "id": "qftcinqgRucE"
   },
   "source": [
    "### Determining the Minimum and Maximum with Built-In Functions min and max"
   ]
  },
  {
   "cell_type": "code",
   "execution_count": null,
   "metadata": {
    "id": "niLFuINSRb6d"
   },
   "outputs": [],
   "source": [
    "min(36, 27, 12)"
   ]
  },
  {
   "cell_type": "code",
   "execution_count": null,
   "metadata": {
    "id": "JcfqZE26RreJ"
   },
   "outputs": [],
   "source": [
    "max(36, 27, 12)"
   ]
  },
  {
   "cell_type": "markdown",
   "metadata": {
    "id": "EpPIHPgnR6Nt"
   },
   "source": [
    "### Determining the Range of a Collection of Values"
   ]
  },
  {
   "cell_type": "code",
   "execution_count": null,
   "metadata": {
    "id": "aZF2KpHSRdrO"
   },
   "outputs": [],
   "source": [
    "# Write python code to calculate range\n",
    "# Hint: Find min and max to calculate range"
   ]
  },
  {
   "cell_type": "markdown",
   "metadata": {
    "id": "SRHiX0k2R9pc"
   },
   "source": [
    "### Functional-Style Programming: Reduction"
   ]
  },
  {
   "cell_type": "code",
   "execution_count": null,
   "metadata": {
    "id": "PQs7YTwmSCmi"
   },
   "outputs": [],
   "source": [
    "print(\"Average = \", sum([3,3,4])/3)"
   ]
  }
 ],
 "metadata": {
  "colab": {
   "collapsed_sections": [
    "z94XHtHCMHHE",
    "Ip2Io9m6D0eH",
    "bayq2mSSEdAd",
    "zeAnf6wUEla0",
    "1idmkQ7tFRMx",
    "FQ17RuIxGy_i",
    "R5jD8b0SFm3X",
    "Tks2IKjkF1Z4",
    "yDxnNjyuG_4Z",
    "uKPcnYb1I2AK",
    "pHZMfv2_JwWy",
    "vjc_qP0KMAIh",
    "uWCQ7C1hM8NC",
    "j7-Uhz0hO-NM",
    "8YINTliUP9e-",
    "A5pICYNtQRBs",
    "7p5c4H7qQuQT",
    "PoUGSI1XRIQr"
   ],
   "provenance": [
    {
     "file_id": "1XFIZaDTeo25F0-ijbj_hEX8bdJ0m9Pw2",
     "timestamp": 1694168809302
    }
   ]
  },
  "kernelspec": {
   "display_name": "Python 3 (ipykernel)",
   "language": "python",
   "name": "python3"
  },
  "language_info": {
   "codemirror_mode": {
    "name": "ipython",
    "version": 3
   },
   "file_extension": ".py",
   "mimetype": "text/x-python",
   "name": "python",
   "nbconvert_exporter": "python",
   "pygments_lexer": "ipython3",
   "version": "3.9.16"
  }
 },
 "nbformat": 4,
 "nbformat_minor": 1
}
