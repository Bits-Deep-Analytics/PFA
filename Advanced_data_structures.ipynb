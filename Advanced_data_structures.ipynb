{
  "nbformat": 4,
  "nbformat_minor": 0,
  "metadata": {
    "colab": {
      "provenance": []
    },
    "language_info": {
      "name": "python"
    },
    "kernelspec": {
      "name": "python3",
      "display_name": "Python 3"
    }
  },
  "cells": [
    {
      "cell_type": "code",
      "execution_count": null,
      "metadata": {
        "colab": {
          "base_uri": "https://localhost:8080/"
        },
        "id": "DEKFOH3YEjGP",
        "outputId": "b1c6bf14-27a6-46e4-efd2-4461c99a6c0f"
      },
      "outputs": [
        {
          "output_type": "stream",
          "name": "stdout",
          "text": [
            "[[1 2 3]\n",
            " [4 5 6]]\n"
          ]
        },
        {
          "output_type": "execute_result",
          "data": {
            "text/plain": [
              "array([ 10.        ,  12.91549665,  16.68100537,  21.5443469 ,\n",
              "        27.82559402,  35.93813664,  46.41588834,  59.94842503,\n",
              "        77.42636827, 100.        ])"
            ]
          },
          "metadata": {},
          "execution_count": 109
        }
      ],
      "source": [
        "import numpy as np\n",
        "numbers = np.array([1,2,3])\n",
        "type(numbers)\n",
        "numbers\n",
        "n1 = np.array([[1, 2, 3], [4, 5, 6]])\n",
        "n1\n",
        "np.array([x for x in range(2, 22, 2)])\n",
        "integers = np.array([[1, 2, 3], [4, 5, 6]])\n",
        "integers\n",
        "floats = np.array([0.0, 0.1, 0.2, 0.3, 0.4])\n",
        "floats\n",
        "integers.dtype\n",
        "floats.dtype\n",
        "integers.ndim\n",
        "floats.ndim\n",
        "print(integers)\n",
        "integers.shape\n",
        "floats.shape\n",
        "integers.size\n",
        "integers.itemsize\n",
        "# floats.size\n",
        "# floats.itemsize\n",
        "\n",
        "\n",
        "# np.zeros(5, dtype = int)\n",
        "# np.ones((2, 4), dtype=float)\n",
        "# np.full((3, 5), 13)\n",
        "# np.arange(5)\n",
        "# np.arange(5, 10)\n",
        "# np.arange(10, 1, -2)\n",
        "np.linspace(0.0, 1.0, num=5)\n",
        "np.logspace(1.0, 2.0, num=10)\n",
        "# numbers = np.array([0.0, 0.1, 0.2, 0.3, 0.4, 0.5])"
      ]
    },
    {
      "cell_type": "code",
      "source": [
        "for row in integers:\n",
        "  for column in row:\n",
        "    print(column, end=' ')\n",
        "  print()"
      ],
      "metadata": {
        "colab": {
          "base_uri": "https://localhost:8080/"
        },
        "id": "4DXGbVHvIaKk",
        "outputId": "02e990b0-eec8-4d53-ceac-347885cabccf"
      },
      "execution_count": null,
      "outputs": [
        {
          "output_type": "stream",
          "name": "stdout",
          "text": [
            "1 2 3 \n",
            "4 5 6 \n"
          ]
        }
      ]
    },
    {
      "cell_type": "code",
      "source": [
        "for i in integers.flat:\n",
        "  print(i, end=' ')"
      ],
      "metadata": {
        "colab": {
          "base_uri": "https://localhost:8080/"
        },
        "id": "cQjooVr6IaH1",
        "outputId": "6ae8a718-16fd-4c12-843e-f704658e050b"
      },
      "execution_count": null,
      "outputs": [
        {
          "output_type": "stream",
          "name": "stdout",
          "text": [
            "1 2 3 4 5 6 "
          ]
        }
      ]
    },
    {
      "cell_type": "code",
      "source": [
        "# numbers = integers\n",
        "numbers * 2\n",
        "# numbers ** 3\n",
        "# numbers\n",
        "numbers += 10\n",
        "# numbers\n",
        "# numbers * [[2, 3, 2],[ 2, 2, 2]]\n",
        "# numbers\n",
        "# np.sqrt(numbers)\n",
        "# np.add(numbers, numbers2)\n",
        "print(numbers)"
      ],
      "metadata": {
        "colab": {
          "base_uri": "https://localhost:8080/"
        },
        "id": "GBc1k0-0IaFK",
        "outputId": "0d63a6c4-9640-4987-a958-bdc58c5ac805"
      },
      "execution_count": null,
      "outputs": [
        {
          "output_type": "stream",
          "name": "stdout",
          "text": [
            "[1 2 3]\n"
          ]
        }
      ]
    },
    {
      "cell_type": "code",
      "source": [
        "# grades = np.array([[87, 96, 70], [100, 87, 90],[94, 77, 90], [100, 81, 82]])\n",
        "# print(grades)\n",
        "# grades.sum()\n",
        "# grades.min()\n",
        "# grades.max()\n",
        "# grades.mean()\n",
        "# grades.std()\n",
        "# grades.var()\n",
        "# grades.mean(axis=1)"
      ],
      "metadata": {
        "id": "UDZva_NDIaCS"
      },
      "execution_count": null,
      "outputs": []
    },
    {
      "cell_type": "code",
      "source": [
        "import numpy as np\n",
        "numbers = np.array([1, 4, 9, 16, 25, 36])\n",
        "np.sqrt(numbers)"
      ],
      "metadata": {
        "id": "ZQKreofYIZ_m",
        "colab": {
          "base_uri": "https://localhost:8080/"
        },
        "outputId": "9eafddaf-541e-4d0a-86ab-2de2f3448c2a"
      },
      "execution_count": null,
      "outputs": [
        {
          "output_type": "execute_result",
          "data": {
            "text/plain": [
              "array([1., 2., 3., 4., 5., 6.])"
            ]
          },
          "metadata": {},
          "execution_count": 98
        }
      ]
    },
    {
      "cell_type": "code",
      "source": [
        "numbers2 = np.arange(1, 7) * 10\n",
        "numbers2\n",
        "np.multiply(numbers2, 5)\n",
        "numbers3 = numbers2.reshape(2, 3)\n",
        "numbers3\n",
        "numbers4 = np.array([2, 4, 6])\n",
        "np.multiply(numbers3, numbers4)"
      ],
      "metadata": {
        "id": "n8Kyz82DIZ8-",
        "colab": {
          "base_uri": "https://localhost:8080/"
        },
        "outputId": "9e3b61a8-6a1d-4059-81b4-94f73f6207ec"
      },
      "execution_count": null,
      "outputs": [
        {
          "output_type": "execute_result",
          "data": {
            "text/plain": [
              "array([[ 20,  80, 180],\n",
              "       [ 80, 200, 360]])"
            ]
          },
          "metadata": {},
          "execution_count": 126
        }
      ]
    },
    {
      "cell_type": "markdown",
      "source": [
        "## Indexing"
      ],
      "metadata": {
        "id": "ivIrNroJyMBN"
      }
    },
    {
      "cell_type": "code",
      "source": [
        "# grades = np.array([[87, 96, 70], [100, 87, 90], [94, 77, 90], [100, 81, 82]])\n",
        "grades = np.array([1,2,3])\n",
        "print(grades.shape)\n",
        "# grades[0, 1]\n",
        "# grades[1]\n",
        "# grades[0:2]\n",
        "# grades[[1, 3]]\n",
        "# a = grades[:, 0]\n",
        "# b = grades[:, 1:3]\n",
        "# b.shape"
      ],
      "metadata": {
        "id": "e1uIzr97IZ6D",
        "colab": {
          "base_uri": "https://localhost:8080/"
        },
        "outputId": "43c16f31-3d8a-43df-e511-c34af0aec7b3"
      },
      "execution_count": null,
      "outputs": [
        {
          "output_type": "stream",
          "name": "stdout",
          "text": [
            "(3,)\n"
          ]
        }
      ]
    },
    {
      "cell_type": "code",
      "source": [
        "grades = np.array([[87, 96, 70], [100, 87, 90]])\n",
        "# grades.resize(1, 6)\n",
        "grades.reshape(1, 6)\n",
        "flattened = grades.flatten()\n",
        "grades2 = np.array([[94, 77, 90], [100, 81, 82]])\n",
        "# np.hstack((grades, grades2))\n",
        "grades3 = np.hstack((grades, grades2))\n",
        "print(grades3)"
      ],
      "metadata": {
        "colab": {
          "base_uri": "https://localhost:8080/"
        },
        "id": "0WnqKs-d5yJ0",
        "outputId": "ceb1e1db-5a36-4f31-8102-2a4ac8e141ab"
      },
      "execution_count": null,
      "outputs": [
        {
          "output_type": "stream",
          "name": "stdout",
          "text": [
            "[[ 87  96  70  94  77  90]\n",
            " [100  87  90 100  81  82]]\n"
          ]
        }
      ]
    },
    {
      "cell_type": "code",
      "source": [
        "import pandas as pd\n",
        "grades = pd.Series([87, 100, 94])\n",
        "print(grades)\n",
        "pd.Series(98.6, range(3))\n",
        "grades[0]\n",
        "grades.count()\n",
        "grades.mean()\n",
        "# grades.min()\n",
        "# grades.std()\n",
        "# grades.describe()\n",
        "# grades = pd.Series([87, 100, 94], index=['Wally', 'Eva', 'Sam'])\n",
        "grades = pd.Series({'Wally': 87, 'Eva': 100, 'Sam': 94})\n",
        "grades.dtype\n",
        "grades\n"
      ],
      "metadata": {
        "colab": {
          "base_uri": "https://localhost:8080/"
        },
        "id": "TYufh2487eto",
        "outputId": "c6a3215a-f0c3-4620-88fa-8ac215d7d1ae"
      },
      "execution_count": null,
      "outputs": [
        {
          "output_type": "stream",
          "name": "stdout",
          "text": [
            "0     87\n",
            "1    100\n",
            "2     94\n",
            "dtype: int64\n"
          ]
        },
        {
          "output_type": "execute_result",
          "data": {
            "text/plain": [
              "Wally     87\n",
              "Eva      100\n",
              "Sam       94\n",
              "dtype: int64"
            ]
          },
          "metadata": {},
          "execution_count": 139
        }
      ]
    },
    {
      "cell_type": "code",
      "source": [
        "hardware = pd.Series(['Hammer', 'Saw', 'Wrench'])\n",
        "hardware\n",
        "hardware.str.contains('a')"
      ],
      "metadata": {
        "colab": {
          "base_uri": "https://localhost:8080/"
        },
        "id": "BqIshEvQ8Yoz",
        "outputId": "bb2f7aeb-c320-4d7a-c0e0-d94be7dfddae"
      },
      "execution_count": null,
      "outputs": [
        {
          "output_type": "execute_result",
          "data": {
            "text/plain": [
              "0     True\n",
              "1     True\n",
              "2    False\n",
              "dtype: bool"
            ]
          },
          "metadata": {},
          "execution_count": 103
        }
      ]
    },
    {
      "cell_type": "code",
      "source": [
        "import numpy as np\n",
        "nums1 = np.array([[1,2],[2,2],[3,3]])\n",
        "nums2 = np.array([[1,2,3],[1,2,3]])\n",
        "print(nums1.shape)\n",
        "print(nums2.shape)\n",
        "nums = np.dot(nums2,nums1)\n",
        "print(nums.shape)\n",
        "print(nums)"
      ],
      "metadata": {
        "id": "VhH2p5tqIZ3F",
        "colab": {
          "base_uri": "https://localhost:8080/"
        },
        "outputId": "c259916b-130c-4a5c-a60b-e48a4734f372"
      },
      "execution_count": null,
      "outputs": [
        {
          "output_type": "stream",
          "name": "stdout",
          "text": [
            "(3, 2)\n",
            "(2, 3)\n",
            "(2, 2)\n",
            "[[14 15]\n",
            " [14 15]]\n"
          ]
        }
      ]
    }
  ]
}