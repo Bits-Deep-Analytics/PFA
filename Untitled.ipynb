{
 "cells": [
  {
   "cell_type": "code",
   "execution_count": 3,
   "id": "c52d4660",
   "metadata": {},
   "outputs": [
    {
     "name": "stdout",
     "output_type": "stream",
     "text": [
      "<module '__main__'>\n"
     ]
    }
   ],
   "source": [
    "import pickle as p\n",
    "pk=open('py_11.pkl','rb')\n",
    "pl=p.load(open(\"py_11.pkl\",'rb'))\n",
    "print(pl)"
   ]
  },
  {
   "cell_type": "code",
   "execution_count": 4,
   "id": "3a562f18",
   "metadata": {},
   "outputs": [
    {
     "name": "stdout",
     "output_type": "stream",
     "text": [
      "<module '__main__'>\n"
     ]
    }
   ],
   "source": [
    "import pandas as pd\n",
    "obj=pd.read_pickle(pk)\n",
    "print(obj)"
   ]
  }
 ],
 "metadata": {
  "kernelspec": {
   "display_name": "Python 3 (ipykernel)",
   "language": "python",
   "name": "python3"
  },
  "language_info": {
   "codemirror_mode": {
    "name": "ipython",
    "version": 3
   },
   "file_extension": ".py",
   "mimetype": "text/x-python",
   "name": "python",
   "nbconvert_exporter": "python",
   "pygments_lexer": "ipython3",
   "version": "3.10.9"
  }
 },
 "nbformat": 4,
 "nbformat_minor": 5
}
