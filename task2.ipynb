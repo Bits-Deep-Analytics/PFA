{
  "nbformat": 4,
  "nbformat_minor": 0,
  "metadata": {
    "colab": {
      "provenance": []
    },
    "kernelspec": {
      "name": "python3",
      "display_name": "Python 3"
    },
    "language_info": {
      "name": "python"
    }
  },
  "cells": [
    {
      "cell_type": "markdown",
      "source": [],
      "metadata": {
        "id": "LoPIgWL2-n0Q"
      }
    },
    {
      "cell_type": "code",
      "execution_count": 4,
      "metadata": {
        "id": "nF_FtQWE1A83"
      },
      "outputs": [],
      "source": [
        "#Task 2\n",
        "import pandas as pd\n",
        "file_url = 'https://raw.githubusercontent.com/Bits-Deep-Analytics/PFA/main/Iris.csv'\n",
        "iris = pd.read_csv(file_url)\n",
        "iris.head()\n",
        "iris['pl_pw'] = iris['PetalLengthCm']/iris['PetalWidthCm']\n",
        "iris['pl_pw']\n",
        "iris['sl_sw'] = iris['SepalLengthCm']/iris['SepalWidthCm']\n",
        "iris['sl_sw']\n",
        "iris['plw_slw'] = iris['pl_pw']/iris['sl_sw']\n",
        "iris['plw_slw']\n",
        "iris.head()\n",
        "iris.drop(iris.columns.difference(['pl_pw','sl_sw','plw_slw','Species']),axis=1, inplace=True)\n",
        "iris\n",
        "iris.to_csv('group_3_pfatest.csv')"
      ]
    }
  ]
}