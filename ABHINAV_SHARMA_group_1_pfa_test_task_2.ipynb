{
  "nbformat": 4,
  "nbformat_minor": 0,
  "metadata": {
    "colab": {
      "provenance": []
    },
    "kernelspec": {
      "name": "python3",
      "display_name": "Python 3"
    },
    "language_info": {
      "name": "python"
    }
  },
  "cells": [
    {
      "cell_type": "code",
      "execution_count": 2,
      "metadata": {
        "id": "fCCJwB3BsHwy"
      },
      "outputs": [],
      "source": [
        "## Please write your code here\n",
        "## Only to be submitted by team leader\n",
        "import pandas as pd\n",
        "\n",
        "# Get the raw csv file URL\n",
        "#url = \"https://github.com/Bits-Deep-Analytics/PFA/blob/main/Iris.csv\"\n",
        "\n",
        "# Read the raw csv file as a pandas data frame\n",
        "df = pd.read_csv('/content/Iris.csv')\n",
        "\n",
        "# Create 3 new features\n",
        "df[\"pl_pw\"] = df[\"PetalLengthCm\"] / df[\"PetalWidthCm\"]\n",
        "df[\"sl_sw\"] = df[\"SepalLengthCm\"] / df[\"SepalWidthCm\"]\n",
        "df[\"plw_slw_ratio\"] = df[\"pl_pw\"] / df[\"sl_sw\"]\n",
        "\n",
        "# Remove all other raw predictors\n",
        "df = df[[\"Species\",\"pl_pw\", \"sl_sw\", \"plw_slw_ratio\"]]\n",
        "df = df.round(2)\n",
        "# Save the new dataset along with the target variable as a csv file\n",
        "X = df.drop(\"Species\",axis=1)\n",
        "Y = df[\"Species\"]  #Target Variable\n",
        "\n",
        "df.to_csv(\"group_1_pfa_test_task-2.csv\",index=False)"
      ]
    }
  ]
}