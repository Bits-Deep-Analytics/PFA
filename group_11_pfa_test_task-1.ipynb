{
  "cells": [
    {
      "cell_type": "code",
      "execution_count": 1,
      "metadata": {
        "colab": {
          "base_uri": "https://localhost:8080/"
        },
        "id": "cidxipe9ulGF",
        "outputId": "b51f75e2-9d26-4f84-b8b6-c470833c7d58"
      },
      "outputs": [
        {
          "name": "stdout",
          "output_type": "stream",
          "text": [
            "2 3 \n"
          ]
        }
      ],
      "source": [
        "class Staqueue:\n",
        "    def __init__(self):\n",
        "        self.elements = []\n",
        "\n",
        "    def enter(self, x):\n",
        "        if isinstance(x, int):\n",
        "            self.elements.append(x)\n",
        "\n",
        "    def pop(self):\n",
        "        if len(self.elements) > 0:\n",
        "            return self.elements.pop()\n",
        "\n",
        "    def dequeue(self):\n",
        "        if len(self.elements) > 0:\n",
        "            return self.elements.pop(0)\n",
        "\n",
        "    def print(self):\n",
        "        for element in self.elements:\n",
        "            print(element, end=' ')\n",
        "        print()\n",
        "\n",
        "# Test case\n",
        "staq = Staqueue()\n",
        "staq.enter(4.6)\n",
        "staq.enter(2)\n",
        "staq.enter(3)\n",
        "staq.dequeue()\n",
        "staq.enter(2)\n",
        "staq.pop()\n",
        "\n",
        "# Print the elements in the required order\n",
        "staq.print()\n"
      ]
    }
  ],
  "metadata": {
    "colab": {
      "provenance": []
    },
    "kernelspec": {
      "display_name": "Python 3",
      "name": "python3"
    },
    "language_info": {
      "name": "python"
    }
  },
  "nbformat": 4,
  "nbformat_minor": 0
}
