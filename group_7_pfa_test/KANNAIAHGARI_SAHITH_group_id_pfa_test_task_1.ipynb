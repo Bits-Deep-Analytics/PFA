{
  "nbformat": 4,
  "nbformat_minor": 0,
  "metadata": {
    "colab": {
      "provenance": []
    },
    "kernelspec": {
      "name": "python3",
      "display_name": "Python 3"
    },
    "language_info": {
      "name": "python"
    }
  },
  "cells": [
    {
      "cell_type": "code",
      "execution_count": 1,
      "metadata": {
        "id": "fCCJwB3BsHwy",
        "outputId": "13660a03-43c6-48ca-aeae-4a9fcda5e7dc",
        "colab": {
          "base_uri": "https://localhost:8080/"
        }
      },
      "outputs": [
        {
          "output_type": "stream",
          "name": "stdout",
          "text": [
            "4\n",
            "3\n",
            "2\n",
            "3\n",
            "[3, 2]\n"
          ]
        }
      ],
      "source": [
        "## Please write your code here\n",
        "## Only to be submitted by team leader\n",
        "## task 1 : implementing staqueue\n",
        "\n",
        "class Staqueue:\n",
        "  def __init__(self):\n",
        "    self.newlist=[]\n",
        "  def enter(self,x):\n",
        "    if isinstance(x,int):\n",
        "      self.newlist.append(x)\n",
        "  def pop(self):\n",
        "    if self.newlist:\n",
        "      self.newlist.pop()\n",
        "  def dequeue(self):\n",
        "    if self.newlist:\n",
        "      self.newlist.pop(0)\n",
        "  def __print__(self):\n",
        "    print(self.newlist)\n",
        "\n",
        "#creating the object\n",
        "obj=Staqueue()\n",
        "try:\n",
        "  obj.enter(int(input()))\n",
        "  obj.enter(int(input()))\n",
        "  obj.enter(int(input()))\n",
        "  obj.dequeue()\n",
        "  obj.enter(int(input()))\n",
        "  obj.pop()\n",
        "  obj.__print__()\n",
        "except ValueError:\n",
        "  print(\"Please enter an integer value\")\n",
        "\n"
      ]
    },
    {
      "cell_type": "code",
      "source": [],
      "metadata": {
        "id": "MeYTMtBeEk8D"
      },
      "execution_count": null,
      "outputs": []
    }
  ]
}