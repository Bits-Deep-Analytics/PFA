{
  "nbformat": 4,
  "nbformat_minor": 0,
  "metadata": {
    "colab": {
      "provenance": []
    },
    "kernelspec": {
      "name": "python3",
      "display_name": "Python 3"
    },
    "language_info": {
      "name": "python"
    }
  },
  "cells": [
    {
      "cell_type": "code",
      "execution_count": null,
      "metadata": {
        "id": "fCCJwB3BsHwy"
      },
      "outputs": [],
      "source": [
        "## Please write your code here\n",
        "## Only to be submitted by team leader"
      ]
    },
    {
      "cell_type": "code",
      "source": [
        "import pandas as pd\n",
        "\n",
        "# Raw CSV file URL\n",
        "url = \"https://raw.githubusercontent.com/Bits-Deep-Analytics/PFA/main/Iris.csv\"\n",
        "\n",
        "# Read the raw data into a pandas dataframe\n",
        "iris_ds = pd.read_csv(url)\n",
        "\n",
        "# Create new features\n",
        "iris_ds['pl_pw'] = iris_ds['PetalLengthCm'] / iris_ds['PetalWidthCm']\n",
        "iris_ds['sl_sw'] = iris_ds['SepalLengthCm'] / iris_ds['SepalWidthCm']\n",
        "iris_ds['plw_slw_ratio'] = iris_ds['pl_pw'] / iris_ds['sl_sw']\n",
        "\n",
        "# Keep only the derived attributes and the target variable (Species)\n",
        "iris_ds = iris_ds[['pl_pw', 'sl_sw', 'plw_slw_ratio', 'Species']]\n",
        "\n",
        "# Save the new dataset to a CSV file\n",
        "iris_ds.to_csv('group_4_pfa_test_task-2.csv', index=False)\n",
        "\n",
        "# Display the first few rows of the new dataset\n",
        "print(iris_ds.head())"
      ],
      "metadata": {
        "id": "NEfM-70c3Rq-",
        "colab": {
          "base_uri": "https://localhost:8080/"
        },
        "outputId": "ffffc78f-b828-445a-e27f-66726d41b127"
      },
      "execution_count": 6,
      "outputs": [
        {
          "output_type": "stream",
          "name": "stdout",
          "text": [
            "   pl_pw     sl_sw  plw_slw_ratio      Species\n",
            "0    7.0  1.457143       4.803922  Iris-setosa\n",
            "1    7.0  1.633333       4.285714  Iris-setosa\n",
            "2    6.5  1.468750       4.425532  Iris-setosa\n",
            "3    7.5  1.483871       5.054348  Iris-setosa\n",
            "4    7.0  1.388889       5.040000  Iris-setosa\n"
          ]
        }
      ]
    }
  ]
}