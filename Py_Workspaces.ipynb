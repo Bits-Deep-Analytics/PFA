{
 "cells": [
  {
   "cell_type": "code",
   "execution_count": 27,
   "id": "7ac3d33f",
   "metadata": {},
   "outputs": [
    {
     "name": "stdout",
     "output_type": "stream",
     "text": [
      "15.0\n"
     ]
    }
   ],
   "source": [
    "import dill as dl # Calling the module\n",
    "var1 = 11.55\n",
    "var2 = 3.45\n",
    "var3 = var1 + var2 # Creates the variable var3\n",
    "dl.dump_session('three_vars.pkl') # Saves all three variables\n",
    "print(var3) \n",
    "del var1, var2, var3 # Deleting all the variables from Python session\n",
    "# print(var3) # 'Variable is no more'"
   ]
  },
  {
   "cell_type": "code",
   "execution_count": 28,
   "id": "becdd3fe",
   "metadata": {},
   "outputs": [
    {
     "name": "stdout",
     "output_type": "stream",
     "text": [
      "15.0\n"
     ]
    }
   ],
   "source": [
    "dl.load(open('three_vars.pkl','rb')) # Load the Pickle for consumption\n",
    "print(var3) # Now var3 is ready to serve"
   ]
  }
 ],
 "metadata": {
  "kernelspec": {
   "display_name": "Python 3 (ipykernel)",
   "language": "python",
   "name": "python3"
  },
  "language_info": {
   "codemirror_mode": {
    "name": "ipython",
    "version": 3
   },
   "file_extension": ".py",
   "mimetype": "text/x-python",
   "name": "python",
   "nbconvert_exporter": "python",
   "pygments_lexer": "ipython3",
   "version": "3.9.16"
  }
 },
 "nbformat": 4,
 "nbformat_minor": 5
}
