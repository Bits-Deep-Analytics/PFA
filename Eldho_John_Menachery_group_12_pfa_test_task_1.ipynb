{
  "nbformat": 4,
  "nbformat_minor": 0,
  "metadata": {
    "colab": {
      "provenance": []
    },
    "kernelspec": {
      "name": "python3",
      "display_name": "Python 3"
    },
    "language_info": {
      "name": "python"
    }
  },
  "cells": [
    {
      "cell_type": "markdown",
      "source": [
        "##**Task 1**"
      ],
      "metadata": {
        "id": "axjmIY1PztUX"
      }
    },
    {
      "cell_type": "code",
      "execution_count": null,
      "metadata": {
        "id": "fCCJwB3BsHwy"
      },
      "outputs": [],
      "source": [
        "class Staqueue:\n",
        "    def __init__(self):\n",
        "        # Initialize an empty list to hold the integers\n",
        "        self.data = []\n",
        "\n",
        "    def enter(self, x):\n",
        "        # Check if x is an integer, then add it to the staqueue\n",
        "        if isinstance(x, int):\n",
        "            self.data.append(x)\n",
        "        else:\n",
        "            print(f\"Error: {x} is not an integer\")\n",
        "\n",
        "    def pop(self):\n",
        "        # Remove and return the last element from the staqueue, if it's not empty\n",
        "        if self.data:\n",
        "            return self.data.pop()\n",
        "        else:\n",
        "            print(\"Staqueue is empty. No element to pop.\")\n",
        "\n",
        "    def dequeue(self):\n",
        "        # Remove and return the first element from the staqueue, if it's not empty\n",
        "        if self.data:\n",
        "            return self.data.pop(0)\n",
        "        else:\n",
        "            print(\"Staqueue is empty. No element to dequeue.\")\n",
        "\n",
        "    def print(self):\n",
        "        # Print elements from bottom/front/left to top/rear/right\n",
        "        print(\"Staqueue:\", self.data)\n",
        "\n"
      ]
    },
    {
      "cell_type": "code",
      "source": [
        "staqueue = Staqueue()\n",
        "staqueue.enter(4.5)\n",
        "staqueue.enter(\"Eldho\")\n"
      ],
      "metadata": {
        "colab": {
          "base_uri": "https://localhost:8080/"
        },
        "id": "IyaGoyZwzISj",
        "outputId": "50dd41ed-805a-49aa-a58b-75caea44df59"
      },
      "execution_count": null,
      "outputs": [
        {
          "output_type": "stream",
          "name": "stdout",
          "text": [
            "Error: 4.5 is not an integer\n",
            "Error: Eldho is not an integer\n"
          ]
        }
      ]
    },
    {
      "cell_type": "code",
      "source": [
        "staqueue.enter(4)\n",
        "staqueue.enter(2)\n",
        "staqueue.enter(3)\n",
        "staqueue.dequeue()\n",
        "staqueue.enter(2)\n",
        "staqueue.pop()\n",
        "staqueue.print()"
      ],
      "metadata": {
        "colab": {
          "base_uri": "https://localhost:8080/"
        },
        "id": "bZmI6IMezJ9U",
        "outputId": "69b968f4-9d6c-4f6b-8256-fe84aa353b55"
      },
      "execution_count": null,
      "outputs": [
        {
          "output_type": "stream",
          "name": "stdout",
          "text": [
            "Staqueue: [2, 3]\n"
          ]
        }
      ]
    }
  ]
}