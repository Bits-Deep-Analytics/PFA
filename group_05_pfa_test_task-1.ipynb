{
 "cells": [
  {
   "cell_type": "code",
   "execution_count": 3,
   "metadata": {
    "id": "fCCJwB3BsHwy"
   },
   "outputs": [],
   "source": [
    "class Staqueue:\n",
    "    def __init__(self):\n",
    "        self.data = []\n",
    "\n",
    "    def enter(self, x):\n",
    "        if isinstance(x, int):\n",
    "            self.data.append(x)\n",
    "        else: \n",
    "            print(\"Error: Enter an integer value.\")\n",
    "\n",
    "    def pop(self):\n",
    "        if self.data:\n",
    "            return self.data.pop()\n",
    "\n",
    "    def dequeue(self):\n",
    "        if self.data:\n",
    "            return self.data.pop(0)\n",
    "\n",
    "    def print(self):\n",
    "        print(self.data)\n",
    "\n",
    "# Test case\n",
    "def test_staqueue():\n",
    "    # Creating a staqueue object\n",
    "    staq = Staqueue()\n",
    "\n",
    "    # Test operations\n",
    "    staq.enter(4)\n",
    "    staq.enter(2)\n",
    "    staq.enter(3)\n",
    "    staq.dequeue()\n",
    "    staq.enter(2)\n",
    "    staq.pop()\n",
    "\n",
    "    # Print the elements \n",
    "    staq.print()"
   ]
  },
  {
   "cell_type": "code",
   "execution_count": 4,
   "metadata": {
    "colab": {
     "base_uri": "https://localhost:8080/"
    },
    "id": "iYNBC6QwxX9S",
    "outputId": "9cef7f03-9a41-45cd-b5d2-11ac45d46a55"
   },
   "outputs": [
    {
     "name": "stdout",
     "output_type": "stream",
     "text": [
      "[2, 3]\n"
     ]
    }
   ],
   "source": [
    "# Run the test case\n",
    "test_staqueue()"
   ]
  },
  {
   "cell_type": "code",
   "execution_count": null,
   "metadata": {
    "id": "h5UD1MOF2xb4"
   },
   "outputs": [],
   "source": []
  }
 ],
 "metadata": {
  "colab": {
   "provenance": []
  },
  "kernelspec": {
   "display_name": "Python 3 (ipykernel)",
   "language": "python",
   "name": "python3"
  },
  "language_info": {
   "codemirror_mode": {
    "name": "ipython",
    "version": 3
   },
   "file_extension": ".py",
   "mimetype": "text/x-python",
   "name": "python",
   "nbconvert_exporter": "python",
   "pygments_lexer": "ipython3",
   "version": "3.11.4"
  }
 },
 "nbformat": 4,
 "nbformat_minor": 1
}
