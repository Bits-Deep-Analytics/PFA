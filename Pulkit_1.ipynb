{
 "cells": [
  {
   "cell_type": "code",
   "execution_count": 6,
   "id": "58ff3039",
   "metadata": {},
   "outputs": [
    {
     "data": {
      "text/plain": [
       "<function dill.session.dump_session(filename='C:\\\\Users\\\\PULKIT~1\\\\AppData\\\\Local\\\\Temp\\\\session.pkl', main=None, byref=False, **kwds)>"
      ]
     },
     "execution_count": 6,
     "metadata": {},
     "output_type": "execute_result"
    }
   ],
   "source": [
    "import dill # to preserve data for future\n",
    "var1 = 1\n",
    "var2 = 5\n",
    "var3 = var1 + var2\n",
    "dill.dump_session"
   ]
  },
  {
   "cell_type": "code",
   "execution_count": 7,
   "id": "59e73f8a",
   "metadata": {},
   "outputs": [],
   "source": [
    "del var1"
   ]
  },
  {
   "cell_type": "code",
   "execution_count": 10,
   "id": "f68aeca5",
   "metadata": {},
   "outputs": [
    {
     "name": "stdout",
     "output_type": "stream",
     "text": [
      "6\n"
     ]
    }
   ],
   "source": [
    "print(var3)"
   ]
  },
  {
   "cell_type": "code",
   "execution_count": null,
   "id": "16d28823",
   "metadata": {},
   "outputs": [],
   "source": []
  }
 ],
 "metadata": {
  "kernelspec": {
   "display_name": "Python 3 (ipykernel)",
   "language": "python",
   "name": "python3"
  },
  "language_info": {
   "codemirror_mode": {
    "name": "ipython",
    "version": 3
   },
   "file_extension": ".py",
   "mimetype": "text/x-python",
   "name": "python",
   "nbconvert_exporter": "python",
   "pygments_lexer": "ipython3",
   "version": "3.11.4"
  }
 },
 "nbformat": 4,
 "nbformat_minor": 5
}
