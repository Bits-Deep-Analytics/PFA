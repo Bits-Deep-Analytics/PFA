{
  "nbformat": 4,
  "nbformat_minor": 0,
  "metadata": {
    "colab": {
      "provenance": []
    },
    "language_info": {
      "name": "python"
    },
    "kernelspec": {
      "name": "python3",
      "display_name": "Python 3"
    }
  },
  "cells": [
    {
      "cell_type": "code",
      "execution_count": 3,
      "metadata": {
        "id": "5QPX5tZBcEt9"
      },
      "outputs": [],
      "source": [
        "class IntSet(object):\n",
        "  \"\"\"An intSet is a set of integers\"\"\"\n",
        "  #Information about the implementation (not the abstraction)\n",
        "  #Value of the set is re_presented by a list of ints, self.vals.\n",
        "  #Each int in the set occurs in self.vals exactly once.\n",
        "  a = 5\n",
        "  def __init__(self):\n",
        "    \"\"\"Create an empty set of integers\"\"\"\n",
        "    self.vals = []\n",
        "  def insert(self, e):\n",
        "    \"\"\"Assumes e is an integer and inserts e into self\"\"\"\n",
        "    if e not in self.vals:\n",
        "      self.vals.append(e)\n",
        "  def __member(self, e):\n",
        "    \"\"\"Assumes e is an integer\n",
        "    Returns True if e is in self, and False otherwise\"\"\"\n",
        "    return e in self.vals\n",
        "  def remove(self, e):\n",
        "    \"\"\"Assumes e is an integer and removes e from self\n",
        "    Raises ValueError if e is not in self\"\"\"\n",
        "    try:\n",
        "      self.vals.remove(e)\n",
        "    except:\n",
        "      raise ValueError(str(e) + ' not found')\n",
        "  def getMembers(self):\n",
        "    \"\"\"Returns a list containing the elements of self.\n",
        "    Nothing can be assumed about the order of the elements\"\"\"\n",
        "    return self.vals[:]\n",
        "  def __str__(self):\n",
        "    \"\"\"Returns a string representation of self\"\"\"\n",
        "    self.vals.sort()\n",
        "    result = ''\n",
        "    for e in self.vals:\n",
        "      result = result + str(e) + '\\t'\n",
        "    return '{' + result[:] + '}' #-1 omits trailing comma"
      ]
    },
    {
      "cell_type": "code",
      "source": [
        "s = IntSet()\n",
        "print(s)\n",
        "\n",
        "# print(type(IntSet), type(IntSet.insert))"
      ],
      "metadata": {
        "colab": {
          "base_uri": "https://localhost:8080/"
        },
        "id": "jVy6PYaAoN2R",
        "outputId": "cb2bf163-ddf6-49cf-ff00-8836e7e51bb4"
      },
      "execution_count": 4,
      "outputs": [
        {
          "output_type": "stream",
          "name": "stdout",
          "text": [
            "{}\n"
          ]
        }
      ]
    },
    {
      "cell_type": "code",
      "source": [
        "s = IntSet()\n",
        "s.insert(3)\n",
        "s.insert(5)\n",
        "s.insert(7)\n",
        "# print(s.member(4)) # Check why it causes error\n",
        "print(s)\n",
        "a = {2,3}\n",
        "print(a)"
      ],
      "metadata": {
        "colab": {
          "base_uri": "https://localhost:8080/"
        },
        "id": "nV-ZZ4gDoTjh",
        "outputId": "8b60f191-1ca2-40e0-fd9d-dda7e54fc79f"
      },
      "execution_count": 6,
      "outputs": [
        {
          "output_type": "stream",
          "name": "stdout",
          "text": [
            "{3\t5\t7\t}\n",
            "{2, 3}\n"
          ]
        }
      ]
    },
    {
      "cell_type": "code",
      "source": [
        "s = IntSet()\n",
        "s.insert(3)\n",
        "s.insert(4.5)\n",
        "print(s)"
      ],
      "metadata": {
        "colab": {
          "base_uri": "https://localhost:8080/"
        },
        "id": "nRAOp2GpoYAL",
        "outputId": "614578be-ad9e-4cb5-b53d-fe9141d5a6ca"
      },
      "execution_count": 7,
      "outputs": [
        {
          "output_type": "stream",
          "name": "stdout",
          "text": [
            "{3\t4.5\t}\n"
          ]
        }
      ]
    },
    {
      "cell_type": "code",
      "source": [
        "import datetime\n",
        "class Person(object):\n",
        "  def __init__(self, name):\n",
        "    \"\"\"Create a person\"\"\"\n",
        "    self.name = name\n",
        "    try:\n",
        "      lastBlank = name.rindex(' ')\n",
        "      self.lastName = name[lastBlank+1:]\n",
        "    except:\n",
        "      self.lastName = name\n",
        "      self.birthday = None\n",
        "  def getName(self):\n",
        "    \"\"\"Returns self's full name\"\"\"\n",
        "    return self.name\n",
        "  def getLastName(self):\n",
        "    \"\"\"Returns self's last name\"\"\"\n",
        "    return self.lastName\n",
        "  def setBirthday(self, birthdate):\n",
        "    \"\"\"Assumes birthdate is of type datetime.date\n",
        "    Sets self's birthday to birthdate\"\"\"\n",
        "    self.birthday = birthdate\n",
        "  def getAge(self):\n",
        "    \"\"\"Returns self's current age in days\"\"\"\n",
        "    if self.birthday == None:\n",
        "      raise ValueError\n",
        "    return (datetime.date.today() - self.birthday).days\n",
        "  def __lt__(self, other):\n",
        "    \"\"\"Returns True if self precedes other in alphabetical\n",
        "    order, and False otherwise. Comparison is based on last\n",
        "    names, but if these are the same full names are\n",
        "    compared.\"\"\"\n",
        "    if self.lastName == other.lastName:\n",
        "      return self.name < other.name\n",
        "    return self.lastName < other.lastName\n",
        "  def __str__(self):\n",
        "    \"\"\"Returns self's\"\"\"\n",
        "    return self.name"
      ],
      "metadata": {
        "id": "2AGrWwaqod28"
      },
      "execution_count": 8,
      "outputs": []
    },
    {
      "cell_type": "code",
      "source": [
        "p1 = Person('Deepak')\n",
        "print(p1)"
      ],
      "metadata": {
        "colab": {
          "base_uri": "https://localhost:8080/"
        },
        "id": "IZ3bZ2dQ4pYj",
        "outputId": "c3152439-c211-4906-c7d4-262b3ffea702"
      },
      "execution_count": 9,
      "outputs": [
        {
          "output_type": "stream",
          "name": "stdout",
          "text": [
            "Deepak\n"
          ]
        }
      ]
    },
    {
      "cell_type": "code",
      "source": [
        "me = Person('Michael Guttag')\n",
        "him = Person('Barack Hussein Obama')\n",
        "her = Person('Madonna')\n",
        "# print(him.getLastName())\n",
        "him.setBirthday(datetime.date(1961, 8, 4))\n",
        "her.setBirthday(datetime.date(1958, 8, 16))\n",
        "# print(him.getName(), 'is', him.getAge(), 'days old')"
      ],
      "metadata": {
        "id": "tWMdFOINooRK"
      },
      "execution_count": 10,
      "outputs": []
    },
    {
      "cell_type": "code",
      "source": [
        "class MITPerson(Person):\n",
        "  nextIdNum = 0 #identification number\n",
        "  def __init__(self, name):\n",
        "    Person.__init__(self, name)\n",
        "    self.idNum = MITPerson.nextIdNum\n",
        "    MITPerson.nextIdNum += 1\n",
        "  def getIdNum(self):\n",
        "    return self.idNum\n",
        "  def __lt__(self, other):\n",
        "    return self.idNum < other.idNum\n",
        "  # def isStudent(self):\n",
        "  #   return isinstance(self, Student)\n",
        "  # def isStudent(self):\n",
        "  #   return type(self) == Grad or type(self) == UG"
      ],
      "metadata": {
        "id": "9N8T7dFdu8Qs"
      },
      "execution_count": 11,
      "outputs": []
    },
    {
      "cell_type": "code",
      "source": [
        "p1 = MITPerson('Barbara Beaver')\n",
        "print(str(p1) + '\\'s id number is ' + str(p1.getIdNum()))"
      ],
      "metadata": {
        "id": "B2i8UxtLu8M4",
        "colab": {
          "base_uri": "https://localhost:8080/"
        },
        "outputId": "b5217b2d-48db-444f-9ac4-b2349293dbf7"
      },
      "execution_count": 12,
      "outputs": [
        {
          "output_type": "stream",
          "name": "stdout",
          "text": [
            "Barbara Beaver's id number is 0\n"
          ]
        }
      ]
    },
    {
      "cell_type": "code",
      "source": [
        "p1 = MITPerson('Mark Guttag')\n",
        "p2 = MITPerson('Billy Bob Beaver')\n",
        "p3 = MITPerson('Billy Bob Beaver')\n",
        "p4 = Person('Billy Bob Beaver')"
      ],
      "metadata": {
        "id": "kMGFsG3qu8I5"
      },
      "execution_count": 13,
      "outputs": []
    },
    {
      "cell_type": "code",
      "source": [
        "print('p1 < p2 =', p1 < p2)\n",
        "print('p3 < p2 =', p3 < p2)\n",
        "print('p4 < p1 =', p4 < p1)"
      ],
      "metadata": {
        "id": "X0N3gxZMu79v",
        "colab": {
          "base_uri": "https://localhost:8080/"
        },
        "outputId": "eadfa316-a3a7-4daf-a91b-469ea8de08e0"
      },
      "execution_count": 14,
      "outputs": [
        {
          "output_type": "stream",
          "name": "stdout",
          "text": [
            "p1 < p2 = True\n",
            "p3 < p2 = False\n",
            "p4 < p1 = True\n"
          ]
        }
      ]
    },
    {
      "cell_type": "code",
      "source": [
        "class Student(MITPerson):\n",
        "  pass\n",
        "class UG(Student):\n",
        "  def __init__(self, name, classYear):\n",
        "    MITPerson.__init__(self, name)\n",
        "    self.year = classYear\n",
        "  def getClass(self):\n",
        "      return self.year\n",
        "class Grad(Student):\n",
        "  pass"
      ],
      "metadata": {
        "id": "kzWBD5iXvs8I"
      },
      "execution_count": 15,
      "outputs": []
    },
    {
      "cell_type": "code",
      "source": [
        "p5 = Grad('Buzz Aldrin')\n",
        "p6 = UG('Billy Beaver', 1984)\n",
        "print(p5, 'is a graduate student is', type(p5) == Grad)\n",
        "print(p5, 'is an undergraduate student is', type(p5) == UG)"
      ],
      "metadata": {
        "id": "wVR85GAXvvCi",
        "colab": {
          "base_uri": "https://localhost:8080/"
        },
        "outputId": "60a70c24-c9be-4b31-ebab-6f10082a61ea"
      },
      "execution_count": 16,
      "outputs": [
        {
          "output_type": "stream",
          "name": "stdout",
          "text": [
            "Buzz Aldrin is a graduate student is True\n",
            "Buzz Aldrin is an undergraduate student is False\n"
          ]
        }
      ]
    },
    {
      "cell_type": "code",
      "source": [
        "Rafael = MITPerson('Rafael Reif')"
      ],
      "metadata": {
        "id": "QnPXgGu4wjPb"
      },
      "execution_count": 19,
      "outputs": []
    },
    {
      "cell_type": "code",
      "source": [
        "class infoHiding(object):\n",
        "  def __init__(self):\n",
        "    self.visible = 'Look at me'\n",
        "    self.__alsoVisible__ = 'Look at me too'\n",
        "    self.__invisible = 'Don\\'t look at me directly'\n",
        "  def printVisible(self):\n",
        "    print(self.visible)\n",
        "  def printInvisible(self):\n",
        "    print(self.__invisible)\n",
        "  def __printInvisible(self):\n",
        "    print(self.__invisible)\n",
        "  def __printInvisible__(self):\n",
        "    print(self.__invisible)"
      ],
      "metadata": {
        "id": "NdejpkIEwjM3"
      },
      "execution_count": 20,
      "outputs": []
    },
    {
      "cell_type": "code",
      "source": [
        "test = infoHiding()\n",
        "print(test.visible)\n",
        "print(test.__alsoVisible__)\n",
        "# print(test.__invisible) # Find and fix the cause of the error"
      ],
      "metadata": {
        "id": "XBdE3zd0wjJw",
        "colab": {
          "base_uri": "https://localhost:8080/"
        },
        "outputId": "61875b15-bf2d-41d0-aa81-d36b6652f2f1"
      },
      "execution_count": 22,
      "outputs": [
        {
          "output_type": "stream",
          "name": "stdout",
          "text": [
            "Look at me\n",
            "Look at me too\n"
          ]
        }
      ]
    },
    {
      "cell_type": "code",
      "source": [
        "test = infoHiding()\n",
        "test.printInvisible()\n",
        "test.__printInvisible__()\n",
        "# test.__printInvisible() # Find & Fix"
      ],
      "metadata": {
        "id": "EOzFQ-ZhwjEf",
        "colab": {
          "base_uri": "https://localhost:8080/"
        },
        "outputId": "28e7157d-bcc6-4bff-b1bd-0c3cc489b8f7"
      },
      "execution_count": 24,
      "outputs": [
        {
          "output_type": "stream",
          "name": "stdout",
          "text": [
            "Don't look at me directly\n",
            "Don't look at me directly\n"
          ]
        }
      ]
    }
  ]
}