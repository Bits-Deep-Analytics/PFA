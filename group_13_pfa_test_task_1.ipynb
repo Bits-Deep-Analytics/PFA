{
  "nbformat": 4,
  "nbformat_minor": 0,
  "metadata": {
    "colab": {
      "provenance": []
    },
    "kernelspec": {
      "name": "python3",
      "display_name": "Python 3"
    },
    "language_info": {
      "name": "python"
    }
  },
  "cells": [
    {
      "cell_type": "code",
      "source": [
        "#Task 1 Submission - Group 13 - Sameer Gupta, Tanvi Khanna, Arjun Katwal, Chetas Aigal, Abhishek Kumar\n",
        "\n",
        "class Staqueue:\n",
        "    def __init__(self):\n",
        "        self.elements = []\n",
        "\n",
        "    def enter(self, x):\n",
        "        if isinstance(x, int):\n",
        "            self.elements.append(x)\n",
        "\n",
        "    def pop(self):\n",
        "        if self.elements:\n",
        "            return self.elements.pop()\n",
        "\n",
        "    def dequeue(self):\n",
        "        if self.elements:\n",
        "            return self.elements.pop(0)\n",
        "\n",
        "    def print(self):\n",
        "        print(\"Staqueue Status:\", self.elements)\n",
        "\n",
        "staqueue_instance = Staqueue()\n",
        "try:\n",
        "  x=int(input(\"Enter First Value: \"))\n",
        "  staqueue_instance.enter(x)\n",
        "  staqueue_instance.print()\n",
        "  x=int(input(\"Enter Second Value: \"))\n",
        "  staqueue_instance.enter(x)\n",
        "  staqueue_instance.print()\n",
        "  x=int(input(\"Enter Third Value: \"))\n",
        "  staqueue_instance.enter(x)\n",
        "  staqueue_instance.print()\n",
        "  staqueue_instance.dequeue()\n",
        "  staqueue_instance.print()\n",
        "  x=int(input(\"Enter Fourth Value: \"))\n",
        "  staqueue_instance.enter(x)\n",
        "  staqueue_instance.print()\n",
        "  staqueue_instance.pop()\n",
        "  staqueue_instance.print()\n",
        "except ValueError:\n",
        "  print(\"Enter integer Values only!\")\n"
      ],
      "metadata": {
        "id": "ekud1OIv66md",
        "colab": {
          "base_uri": "https://localhost:8080/"
        },
        "outputId": "34bc3536-0961-4c7b-f5d1-8b01dc308d2c"
      },
      "execution_count": null,
      "outputs": [
        {
          "output_type": "stream",
          "name": "stdout",
          "text": [
            "Enter First Value: 4\n",
            "Staqueue Status: [4]\n",
            "Enter Second Value: 2\n",
            "Staqueue Status: [4, 2]\n",
            "Enter Third Value: 3\n",
            "Staqueue Status: [4, 2, 3]\n",
            "Staqueue Status: [2, 3]\n",
            "Enter Fourth Value: 2\n",
            "Staqueue Status: [2, 3, 2]\n",
            "Staqueue Status: [2, 3]\n"
          ]
        }
      ]
    }
  ]
}