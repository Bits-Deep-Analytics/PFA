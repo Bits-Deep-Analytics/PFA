{
  "nbformat": 4,
  "nbformat_minor": 0,
  "metadata": {
    "colab": {
      "provenance": []
    },
    "kernelspec": {
      "name": "python3",
      "display_name": "Python 3"
    },
    "language_info": {
      "name": "python"
    }
  },
  "cells": [
    {
      "cell_type": "code",
      "execution_count": null,
      "metadata": {
        "id": "fCCJwB3BsHwy"
      },
      "outputs": [],
      "source": [
        "## Please write your code here\n",
        "## Only to be submitted by team leader"
      ]
    },
    {
      "cell_type": "code",
      "source": [
        "#Task 1\n",
        "class staqueue:\n",
        "    def __init__(self):\n",
        "        self.stack = []\n",
        "    def enter(self, x):\n",
        "        if type(x) == int:\n",
        "            self.stack.append(x)\n",
        "    def pop(self):\n",
        "        if len(self.stack) > 0:\n",
        "            return self.stack.pop()\n",
        "        else:\n",
        "            return None\n",
        "    def dequeue(self):\n",
        "        if len(self.stack) > 0:\n",
        "            return self.stack.pop(0)\n",
        "        else:\n",
        "            return None\n",
        "    def print(self):\n",
        "        for i in range(len(self.stack)-1, -1, -1):\n",
        "            print(self.stack[i])"
      ],
      "metadata": {
        "id": "2rDdZuVt9zZn"
      },
      "execution_count": null,
      "outputs": []
    },
    {
      "cell_type": "code",
      "source": [
        "s = staqueue()\n",
        "s.enter(4)\n",
        "s.enter(2)\n",
        "s.enter(3)\n",
        "print(s.dequeue())\n",
        "s.enter(2)\n",
        "print(s.pop())\n",
        "s.print()"
      ],
      "metadata": {
        "colab": {
          "base_uri": "https://localhost:8080/"
        },
        "id": "GlJzRPyr-ZpF",
        "outputId": "32f8c9d0-6d45-4290-ceae-cd6337466eeb"
      },
      "execution_count": null,
      "outputs": [
        {
          "output_type": "stream",
          "name": "stdout",
          "text": [
            "4\n",
            "2\n",
            "3\n",
            "2\n"
          ]
        }
      ]
    }
  ]
}