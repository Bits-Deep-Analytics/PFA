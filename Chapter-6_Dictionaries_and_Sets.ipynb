{
 "cells": [
  {
   "cell_type": "markdown",
   "metadata": {
    "id": "zn_DoMlsU1di"
   },
   "source": [
    "<a href=\"https://colab.research.google.com/github/Bits-Deep-Analytics/PFA/blob/main/Chapter-6_Dictionaries_and_Sets.ipynb\" target=\"_blank\"><img src=\"https://colab.research.google.com/assets/colab-badge.svg\" alt=\"Open this notebook in Colaboratory\"/></a>"
   ]
  },
  {
   "cell_type": "markdown",
   "metadata": {
    "id": "w3DVNOFKgBIs"
   },
   "source": [
    "## 6.1 Introduction"
   ]
  },
  {
   "cell_type": "markdown",
   "metadata": {
    "id": "YJzzMojUiZEh"
   },
   "source": [
    "* Use dictionaries to represent\n",
    "unordered collections of key–\n",
    "value pairs.\n",
    "* Use sets to represent\n",
    "unordered collections of\n",
    "unique values.\n",
    "* Create, initialize and refer to\n",
    "elements of dictionaries and\n",
    "sets.\n",
    "* Iterate through a dictionary’s\n",
    "keys, values and key–value\n",
    "pairs.\n",
    "* Add, remove and update a\n",
    "dictionary’s key–value pairs.\n",
    "* Use dictionary and set\n",
    "comparison operators.\n",
    "* Combine sets with set\n",
    "operators and methods.\n",
    "* Use operators in and not in\n",
    "to determine if a dictionary\n",
    "contains a key or a set\n",
    "contains a value.\n",
    "* Use the mutable set\n",
    "operations to modify a set’s\n",
    "contents.\n",
    "* Use comprehensions to create\n",
    "dictionaries and sets quickly\n",
    "and conveniently.\n",
    "* Learn how to build dynamic\n",
    "visualizations and implement\n",
    "more of your own in the\n",
    "exercises.\n",
    "* Enhance your understanding\n",
    "of mutability and\n",
    "immutability."
   ]
  },
  {
   "cell_type": "markdown",
   "metadata": {
    "id": "HwGf4xXegDMP"
   },
   "source": [
    "## 6.2 Dictionaries"
   ]
  },
  {
   "cell_type": "markdown",
   "metadata": {
    "id": "SHRcA--NNThj"
   },
   "source": [
    "#### Dictionary keys are immutable and unique"
   ]
  },
  {
   "cell_type": "markdown",
   "metadata": {
    "id": "9TeN7mFtgMJw"
   },
   "source": [
    "### 6.2.1 Creating a Dictionary"
   ]
  },
  {
   "cell_type": "code",
   "execution_count": 394,
   "metadata": {
    "colab": {
     "base_uri": "https://localhost:8080/"
    },
    "id": "ggG-IKIbgVTL",
    "outputId": "7fe95754-5ab9-4429-bbef-90fb40d078a5"
   },
   "outputs": [
    {
     "data": {
      "text/plain": [
       "{'Finland': 'fi', 'South Africa': 'za', 'Nepal': 'np'}"
      ]
     },
     "execution_count": 394,
     "metadata": {},
     "output_type": "execute_result"
    }
   ],
   "source": [
    "country_codes = {'Finland': 'fi', 'South Africa': 'za','Nepal': 'np'}\n",
    "country_codes"
   ]
  },
  {
   "cell_type": "markdown",
   "metadata": {
    "id": "-4rn6Wr9gp4u"
   },
   "source": [
    "#### Determining if a Dictionary Is Empty"
   ]
  },
  {
   "cell_type": "code",
   "execution_count": 395,
   "metadata": {
    "colab": {
     "base_uri": "https://localhost:8080/"
    },
    "id": "S1Iw0OPugkdV",
    "outputId": "4ae973ae-69f4-4e8c-e21f-f428ffb55bb5"
   },
   "outputs": [
    {
     "data": {
      "text/plain": [
       "3"
      ]
     },
     "execution_count": 395,
     "metadata": {},
     "output_type": "execute_result"
    }
   ],
   "source": [
    "len(country_codes)"
   ]
  },
  {
   "cell_type": "markdown",
   "metadata": {
    "id": "9JbkamA2gHFW"
   },
   "source": [
    "#### A dictionary returns False if it is empty"
   ]
  },
  {
   "cell_type": "code",
   "execution_count": 396,
   "metadata": {
    "colab": {
     "base_uri": "https://localhost:8080/"
    },
    "id": "P3qBc6Nvg2qX",
    "outputId": "0656738b-f9b2-473b-f10d-bb58c245a770"
   },
   "outputs": [
    {
     "name": "stdout",
     "output_type": "stream",
     "text": [
      "country_codes is not empty\n"
     ]
    }
   ],
   "source": [
    "if country_codes:\n",
    "    print('country_codes is not empty')\n",
    "else:\n",
    "     print('country_codes is empty')"
   ]
  },
  {
   "cell_type": "code",
   "execution_count": 397,
   "metadata": {
    "colab": {
     "base_uri": "https://localhost:8080/"
    },
    "id": "CNUGZX5Fg-Vp",
    "outputId": "030b6c68-207e-49eb-bf78-96f0064205f6"
   },
   "outputs": [
    {
     "name": "stdout",
     "output_type": "stream",
     "text": [
      "country_codes is empty\n"
     ]
    }
   ],
   "source": [
    "country_codes.clear()\n",
    "if country_codes:\n",
    "    print('country_codes is not empty')\n",
    "else:\n",
    "    print('country_codes is empty')"
   ]
  },
  {
   "cell_type": "markdown",
   "metadata": {
    "id": "nfgdyZc5hT6o"
   },
   "source": [
    "### 6.2.2 Iterating through a Dictionary"
   ]
  },
  {
   "cell_type": "code",
   "execution_count": 398,
   "metadata": {
    "colab": {
     "base_uri": "https://localhost:8080/"
    },
    "id": "MooHmFoWhXI7",
    "outputId": "cf6c9826-5a16-40c6-cdf2-1228517fc0c7"
   },
   "outputs": [
    {
     "data": {
      "text/plain": [
       "{'January': 31, 'February': 28, 'March': 31}"
      ]
     },
     "execution_count": 398,
     "metadata": {},
     "output_type": "execute_result"
    }
   ],
   "source": [
    "days_per_month = {'January': 31, 'February': 28, 'March': 31}\n",
    "days_per_month"
   ]
  },
  {
   "cell_type": "code",
   "execution_count": 399,
   "metadata": {
    "colab": {
     "base_uri": "https://localhost:8080/"
    },
    "id": "DoK_7XgSQM3c",
    "outputId": "820c06dc-bcc5-499c-e774-47197a69eb12"
   },
   "outputs": [
    {
     "name": "stdout",
     "output_type": "stream",
     "text": [
      "January has 31 days\n",
      "February has 28 days\n",
      "March has 31 days\n"
     ]
    }
   ],
   "source": [
    "for month, days in days_per_month.items():\n",
    "  print(f'{month} has {days} days')"
   ]
  },
  {
   "cell_type": "markdown",
   "metadata": {
    "id": "SPOhAdrlhtMV"
   },
   "source": [
    "### 6.2.3 Basic Dictionary Operations"
   ]
  },
  {
   "cell_type": "code",
   "execution_count": 400,
   "metadata": {
    "colab": {
     "base_uri": "https://localhost:8080/"
    },
    "id": "RVI2YVIFh1ZO",
    "outputId": "5575a088-ef60-4fcd-a3e4-d670c82122d7"
   },
   "outputs": [
    {
     "data": {
      "text/plain": [
       "{'I': 1, 'II': 2, 'III': 3, 'V': 5, 'X': 100}"
      ]
     },
     "execution_count": 400,
     "metadata": {},
     "output_type": "execute_result"
    }
   ],
   "source": [
    "roman_numerals = {'I': 1, 'II': 2, 'III': 3, 'V': 5, 'X': 100}\n",
    "roman_numerals"
   ]
  },
  {
   "cell_type": "markdown",
   "metadata": {
    "id": "jPALchR9h8Tw"
   },
   "source": [
    "#### Accessing the Value Associated with a Key"
   ]
  },
  {
   "cell_type": "code",
   "execution_count": 401,
   "metadata": {
    "colab": {
     "base_uri": "https://localhost:8080/"
    },
    "id": "67YxwPZMh9ky",
    "outputId": "58469a9c-fb8f-4125-9d33-78735da12dfb"
   },
   "outputs": [
    {
     "data": {
      "text/plain": [
       "5"
      ]
     },
     "execution_count": 401,
     "metadata": {},
     "output_type": "execute_result"
    }
   ],
   "source": [
    "roman_numerals['V']"
   ]
  },
  {
   "cell_type": "markdown",
   "metadata": {
    "id": "n9CMqWHQtZ11"
   },
   "source": [
    "#### Updating the Value of an Existing Key–Value Pair"
   ]
  },
  {
   "cell_type": "code",
   "execution_count": 402,
   "metadata": {
    "colab": {
     "base_uri": "https://localhost:8080/"
    },
    "id": "qgPQiYZch_mG",
    "outputId": "37a21b88-b6ef-42f7-e93b-91cdedb893d8"
   },
   "outputs": [
    {
     "data": {
      "text/plain": [
       "{'I': 1, 'II': 2, 'III': 3, 'V': 5, 'X': 10}"
      ]
     },
     "execution_count": 402,
     "metadata": {},
     "output_type": "execute_result"
    }
   ],
   "source": [
    "roman_numerals['X'] = 10\n",
    "roman_numerals"
   ]
  },
  {
   "cell_type": "markdown",
   "metadata": {
    "id": "PDBPYMfbt3u2"
   },
   "source": [
    "#### Adding a New Key–Value Pair"
   ]
  },
  {
   "cell_type": "code",
   "execution_count": 403,
   "metadata": {
    "colab": {
     "base_uri": "https://localhost:8080/"
    },
    "id": "CoAOsRhOiFWY",
    "outputId": "c5a3ecb1-6d65-4c73-a2fa-da65d88a5d4c"
   },
   "outputs": [
    {
     "data": {
      "text/plain": [
       "{'I': 1, 'II': 2, 'III': 3, 'V': 5, 'X': 10, 'L': 50}"
      ]
     },
     "execution_count": 403,
     "metadata": {},
     "output_type": "execute_result"
    }
   ],
   "source": [
    "roman_numerals['L'] = 50\n",
    "roman_numerals"
   ]
  },
  {
   "cell_type": "markdown",
   "metadata": {
    "id": "DvKBl5RAt9yP"
   },
   "source": [
    "#### Removing a Key–Value Pair"
   ]
  },
  {
   "cell_type": "code",
   "execution_count": 404,
   "metadata": {
    "colab": {
     "base_uri": "https://localhost:8080/"
    },
    "id": "04BnSpfgiL1Z",
    "outputId": "876a22d2-2cfa-4a6e-b1ec-fb041d35d34e"
   },
   "outputs": [
    {
     "data": {
      "text/plain": [
       "{'I': 1, 'II': 2, 'V': 5, 'X': 10, 'L': 50}"
      ]
     },
     "execution_count": 404,
     "metadata": {},
     "output_type": "execute_result"
    }
   ],
   "source": [
    "del roman_numerals['III']\n",
    "roman_numerals"
   ]
  },
  {
   "cell_type": "code",
   "execution_count": 405,
   "metadata": {
    "colab": {
     "base_uri": "https://localhost:8080/"
    },
    "id": "35vbEzl8iMnt",
    "outputId": "61ebffed-cdbb-4144-ee0c-1d0c915bb739"
   },
   "outputs": [
    {
     "data": {
      "text/plain": [
       "10"
      ]
     },
     "execution_count": 405,
     "metadata": {},
     "output_type": "execute_result"
    }
   ],
   "source": [
    "roman_numerals.pop('X')\n",
    "10"
   ]
  },
  {
   "cell_type": "code",
   "execution_count": 406,
   "metadata": {
    "colab": {
     "base_uri": "https://localhost:8080/"
    },
    "id": "gD4bNORNiUwo",
    "outputId": "93cba6b5-27ef-4f9b-95cb-bdac92fb307d"
   },
   "outputs": [
    {
     "data": {
      "text/plain": [
       "{'I': 1, 'II': 2, 'V': 5, 'L': 50}"
      ]
     },
     "execution_count": 406,
     "metadata": {},
     "output_type": "execute_result"
    }
   ],
   "source": [
    "roman_numerals"
   ]
  },
  {
   "cell_type": "markdown",
   "metadata": {
    "id": "ZsN5f4KVvFNk"
   },
   "source": [
    "#### Attempting to Access a Nonexistent Key"
   ]
  },
  {
   "cell_type": "markdown",
   "metadata": {
    "id": "CMbOOBJiQOcA"
   },
   "source": [
    "##### **Task no. 1 # Fetch the value for key 'III'**"
   ]
  },
  {
   "cell_type": "code",
   "execution_count": 407,
   "metadata": {
    "id": "upSzyKqsiYFH"
   },
   "outputs": [],
   "source": [
    "# roman_numerals['III']"
   ]
  },
  {
   "cell_type": "code",
   "execution_count": 408,
   "metadata": {
    "colab": {
     "base_uri": "https://localhost:8080/",
     "height": 35
    },
    "id": "oIbVn8E_ifTK",
    "outputId": "8507093c-8054-4048-c33a-f13b71828d0b"
   },
   "outputs": [
    {
     "data": {
      "application/vnd.google.colaboratory.intrinsic+json": {
       "type": "string"
      },
      "text/plain": [
       "'III not in dictionary'"
      ]
     },
     "execution_count": 408,
     "metadata": {},
     "output_type": "execute_result"
    }
   ],
   "source": [
    "roman_numerals.get('III')\n",
    "roman_numerals.get('III', 'III not in dictionary')"
   ]
  },
  {
   "cell_type": "code",
   "execution_count": 409,
   "metadata": {
    "colab": {
     "base_uri": "https://localhost:8080/"
    },
    "id": "IefNcgcSikNx",
    "outputId": "cbbb36d5-c08a-4246-f5f3-1aa3c6b88789"
   },
   "outputs": [
    {
     "data": {
      "text/plain": [
       "5"
      ]
     },
     "execution_count": 409,
     "metadata": {},
     "output_type": "execute_result"
    }
   ],
   "source": [
    "roman_numerals.get('V')"
   ]
  },
  {
   "cell_type": "markdown",
   "metadata": {
    "id": "v9PFwLtpvSNA"
   },
   "source": [
    "#### Testing Whether a Dictionary Contains a Specified Key"
   ]
  },
  {
   "cell_type": "code",
   "execution_count": 410,
   "metadata": {
    "colab": {
     "base_uri": "https://localhost:8080/"
    },
    "id": "LT_8KJbNq64U",
    "outputId": "2d1d5594-07b6-476a-9a1b-ae88d8b2e79e"
   },
   "outputs": [
    {
     "data": {
      "text/plain": [
       "True"
      ]
     },
     "execution_count": 410,
     "metadata": {},
     "output_type": "execute_result"
    }
   ],
   "source": [
    "'V' in roman_numerals"
   ]
  },
  {
   "cell_type": "code",
   "execution_count": 411,
   "metadata": {
    "colab": {
     "base_uri": "https://localhost:8080/"
    },
    "id": "g1J19CscrNfn",
    "outputId": "09925d01-1411-4d54-9eed-439d2c59f4e0"
   },
   "outputs": [
    {
     "data": {
      "text/plain": [
       "False"
      ]
     },
     "execution_count": 411,
     "metadata": {},
     "output_type": "execute_result"
    }
   ],
   "source": [
    "'III' in roman_numerals"
   ]
  },
  {
   "cell_type": "code",
   "execution_count": 412,
   "metadata": {
    "colab": {
     "base_uri": "https://localhost:8080/"
    },
    "id": "xeR-s_JJrPea",
    "outputId": "1378aa31-b75b-4f02-eea0-d4f318446d00"
   },
   "outputs": [
    {
     "data": {
      "text/plain": [
       "True"
      ]
     },
     "execution_count": 412,
     "metadata": {},
     "output_type": "execute_result"
    }
   ],
   "source": [
    "'III' not in roman_numerals"
   ]
  },
  {
   "cell_type": "markdown",
   "metadata": {
    "id": "iR08NgoBgW83"
   },
   "source": [
    "### 6.2.4 Dictionary Methods keys and values"
   ]
  },
  {
   "cell_type": "code",
   "execution_count": 413,
   "metadata": {
    "colab": {
     "base_uri": "https://localhost:8080/"
    },
    "id": "kF5KwA6tgY8M",
    "outputId": "e29d348a-821b-41c1-ab78-f5c1680abe46"
   },
   "outputs": [
    {
     "name": "stdout",
     "output_type": "stream",
     "text": [
      "January February March "
     ]
    }
   ],
   "source": [
    "months = {'January': 1, 'February': 2, 'March': 3}\n",
    "for month_name in months.keys():\n",
    "    print(month_name, end=' ')"
   ]
  },
  {
   "cell_type": "code",
   "execution_count": 414,
   "metadata": {
    "colab": {
     "base_uri": "https://localhost:8080/"
    },
    "id": "d9uiWDyagneM",
    "outputId": "58a2c34f-99c6-4da6-e94a-e1d9e49d910c"
   },
   "outputs": [
    {
     "name": "stdout",
     "output_type": "stream",
     "text": [
      "1 2 3 "
     ]
    }
   ],
   "source": [
    "for month_number in months.values():\n",
    "    print(month_number, end=' ')"
   ]
  },
  {
   "cell_type": "markdown",
   "metadata": {
    "id": "_7kZ7KrmiATY"
   },
   "source": [
    "#### Dictionary Views"
   ]
  },
  {
   "cell_type": "code",
   "execution_count": 415,
   "metadata": {
    "colab": {
     "base_uri": "https://localhost:8080/"
    },
    "id": "gR0jjh8LiBgJ",
    "outputId": "c6065e8b-16d1-4b86-dd55-0ce995f75b39"
   },
   "outputs": [
    {
     "name": "stdout",
     "output_type": "stream",
     "text": [
      "January February March "
     ]
    }
   ],
   "source": [
    "months_view = months.keys()\n",
    "for key in months_view:\n",
    "    print(key, end=' ')"
   ]
  },
  {
   "cell_type": "code",
   "execution_count": 416,
   "metadata": {
    "colab": {
     "base_uri": "https://localhost:8080/"
    },
    "id": "siNbQtktiKaE",
    "outputId": "abde51cb-0c94-4f61-e294-c34e185ef691"
   },
   "outputs": [
    {
     "data": {
      "text/plain": [
       "{'January': 1, 'February': 2, 'March': 3, 'December': 12}"
      ]
     },
     "execution_count": 416,
     "metadata": {},
     "output_type": "execute_result"
    }
   ],
   "source": [
    "months['December'] = 12\n",
    "months"
   ]
  },
  {
   "cell_type": "code",
   "execution_count": 417,
   "metadata": {
    "colab": {
     "base_uri": "https://localhost:8080/"
    },
    "id": "KhRuUyx1iOwq",
    "outputId": "70134ba2-be53-4ac0-d788-cb3c04faa24c"
   },
   "outputs": [
    {
     "name": "stdout",
     "output_type": "stream",
     "text": [
      "January February March December "
     ]
    }
   ],
   "source": [
    "for key in months_view:\n",
    "    print(key, end=' ')"
   ]
  },
  {
   "cell_type": "markdown",
   "metadata": {
    "id": "iW7u3fk3iZO7"
   },
   "source": [
    "#### Converting Dictionary Keys, Values and Key–Value Pairs to Lists"
   ]
  },
  {
   "cell_type": "code",
   "execution_count": 418,
   "metadata": {
    "colab": {
     "base_uri": "https://localhost:8080/"
    },
    "id": "oF8ckxVhicQ8",
    "outputId": "79ca7cde-aebf-4a54-933b-64811ef27d17"
   },
   "outputs": [
    {
     "data": {
      "text/plain": [
       "['January', 'February', 'March', 'December']"
      ]
     },
     "execution_count": 418,
     "metadata": {},
     "output_type": "execute_result"
    }
   ],
   "source": [
    "list(months.keys())"
   ]
  },
  {
   "cell_type": "code",
   "execution_count": 419,
   "metadata": {
    "colab": {
     "base_uri": "https://localhost:8080/"
    },
    "id": "7LJdKQRLihBB",
    "outputId": "8102e66c-5940-46aa-95e2-ca6bb3b44116"
   },
   "outputs": [
    {
     "data": {
      "text/plain": [
       "[1, 2, 3, 12]"
      ]
     },
     "execution_count": 419,
     "metadata": {},
     "output_type": "execute_result"
    }
   ],
   "source": [
    "list(months.values())"
   ]
  },
  {
   "cell_type": "code",
   "execution_count": 420,
   "metadata": {
    "colab": {
     "base_uri": "https://localhost:8080/"
    },
    "id": "1XYOc8Pyijo7",
    "outputId": "9457f795-e879-48fd-a764-f5838cebf0eb"
   },
   "outputs": [
    {
     "data": {
      "text/plain": [
       "[('January', 1), ('February', 2), ('March', 3), ('December', 12)]"
      ]
     },
     "execution_count": 420,
     "metadata": {},
     "output_type": "execute_result"
    }
   ],
   "source": [
    "list(months.items())"
   ]
  },
  {
   "cell_type": "markdown",
   "metadata": {
    "id": "_Wl_OGz6imkt"
   },
   "source": [
    "#### Processing Keys in Sorted Order"
   ]
  },
  {
   "cell_type": "code",
   "execution_count": 421,
   "metadata": {
    "colab": {
     "base_uri": "https://localhost:8080/"
    },
    "id": "ThPOOu6-ioro",
    "outputId": "c8a14185-004a-45d1-be39-e9eb2afcc2e5"
   },
   "outputs": [
    {
     "name": "stdout",
     "output_type": "stream",
     "text": [
      "December February January March "
     ]
    }
   ],
   "source": [
    "for month_name in sorted(months.keys()):\n",
    "    print(month_name, end=' ')"
   ]
  },
  {
   "cell_type": "markdown",
   "metadata": {
    "id": "yCmHJ2ahiwon"
   },
   "source": [
    "### 6.2.5 Dictionary Comparisons"
   ]
  },
  {
   "cell_type": "code",
   "execution_count": 422,
   "metadata": {
    "id": "IHudyhsxix_G"
   },
   "outputs": [],
   "source": [
    "country_capitals1 = {'Belgium': 'Brussels','Haiti': 'Port-au-Prince'}\n",
    "country_capitals2 = {'Nepal': 'Kathmandu',\n",
    "                     'Uruguay': 'Montevideo'}\n",
    "country_capitals3 = {'Haiti': 'Port-au-Prince',\n",
    "                     'Belgium': 'Brussels'}"
   ]
  },
  {
   "cell_type": "code",
   "execution_count": 423,
   "metadata": {
    "colab": {
     "base_uri": "https://localhost:8080/"
    },
    "id": "v9-H5-KtjOEG",
    "outputId": "fb01ff5a-e241-41e2-9f51-8ccab5f7d3c3"
   },
   "outputs": [
    {
     "data": {
      "text/plain": [
       "False"
      ]
     },
     "execution_count": 423,
     "metadata": {},
     "output_type": "execute_result"
    }
   ],
   "source": [
    "country_capitals1 == country_capitals2"
   ]
  },
  {
   "cell_type": "code",
   "execution_count": 424,
   "metadata": {
    "colab": {
     "base_uri": "https://localhost:8080/"
    },
    "id": "fEjA3PMAjU0S",
    "outputId": "fdfcb742-a339-4418-dce7-b248469226e0"
   },
   "outputs": [
    {
     "data": {
      "text/plain": [
       "True"
      ]
     },
     "execution_count": 424,
     "metadata": {},
     "output_type": "execute_result"
    }
   ],
   "source": [
    "country_capitals1 == country_capitals3"
   ]
  },
  {
   "cell_type": "code",
   "execution_count": 425,
   "metadata": {
    "colab": {
     "base_uri": "https://localhost:8080/"
    },
    "id": "2yPzHOQ0jYJA",
    "outputId": "a7091e86-6ba2-41b5-ea97-38d987fc5a3a"
   },
   "outputs": [
    {
     "data": {
      "text/plain": [
       "True"
      ]
     },
     "execution_count": 425,
     "metadata": {},
     "output_type": "execute_result"
    }
   ],
   "source": [
    "country_capitals1 != country_capitals2"
   ]
  },
  {
   "cell_type": "markdown",
   "metadata": {
    "id": "JpdtuG-9jkM6"
   },
   "source": [
    "### 6.2.6 Example: Dictionary of Student Grades"
   ]
  },
  {
   "cell_type": "code",
   "execution_count": 426,
   "metadata": {
    "colab": {
     "base_uri": "https://localhost:8080/"
    },
    "id": "i_CrTzjJxxyB",
    "outputId": "4069ce75-ec9d-4365-e039-8d2d0a3be8e3"
   },
   "outputs": [
    {
     "name": "stdout",
     "output_type": "stream",
     "text": [
      "Average for Susan is 92.33\n",
      "Average for Eduardo is 85.67\n",
      "Average for Azizi is 87.33\n",
      "Average for Pantipa is 93.33\n",
      "Class's average is: 89.67\n"
     ]
    }
   ],
   "source": [
    "# fig06_01.py\n",
    "\"\"\"Using a dictionary to represent an instructor's grade book.\"\"\"\n",
    "grade_book = {\n",
    "    'Susan': [92, 85, 100],\n",
    "    'Eduardo': [83, 95, 79],\n",
    "    'Azizi': [91, 89, 82],\n",
    "    'Pantipa': [97, 91, 92]\n",
    "}\n",
    "all_grades_total = 0\n",
    "all_grades_count = 0\n",
    "\n",
    "for name, grades in grade_book.items():\n",
    "    total = sum(grades)\n",
    "    print(f'Average for {name} is {total/len(grades):.2f}')\n",
    "    all_grades_total += total\n",
    "    all_grades_count += len(grades)\n",
    "\n",
    "print(f\"Class's average is: {all_grades_total / all_grades_count:.2f}\")\n"
   ]
  },
  {
   "cell_type": "markdown",
   "metadata": {
    "id": "g060b4EOyvRY"
   },
   "source": [
    "### 6.2.7 Example: Word Counts"
   ]
  },
  {
   "cell_type": "code",
   "execution_count": 427,
   "metadata": {
    "colab": {
     "base_uri": "https://localhost:8080/"
    },
    "id": "g84URPFRyxIn",
    "outputId": "0dc2e656-c757-488a-adf8-72a9c7977209"
   },
   "outputs": [
    {
     "name": "stdout",
     "output_type": "stream",
     "text": [
      "WORD        COUNT\n",
      "different   1\n",
      "is          2\n",
      "more        1\n",
      "sample      2\n",
      "several     1\n",
      "some        1\n",
      "text        2\n",
      "this        2\n",
      "with        2\n",
      "words       2\n",
      "\n",
      "Number of unique words: 10\n"
     ]
    }
   ],
   "source": [
    "# fig06_02.py\n",
    "\"\"\"Tokenizing a string and counting unique words.\"\"\"\n",
    "\n",
    "text = ('this is sample text with several words '\n",
    "        'this is more sample text with some different words')\n",
    "\n",
    "word_counts = {}\n",
    "\n",
    "# count occurrences of each unique word\n",
    "for word in text.split():\n",
    "  if word in word_counts:\n",
    "    word_counts[word] += 1 # update existing key-value pair\n",
    "  else:\n",
    "    word_counts[word] = 1 # insert new key-value pair\n",
    "\n",
    "print(f'{\"WORD\":<12}COUNT')\n",
    "\n",
    "for word, count in sorted(word_counts.items()):\n",
    "  print(f'{word:<12}{count}')\n",
    "\n",
    "print('\\nNumber of unique words:', len(word_counts))"
   ]
  },
  {
   "cell_type": "markdown",
   "metadata": {
    "id": "3KyEBzDmDobS"
   },
   "source": [
    "#### Python Standard Library Module collections"
   ]
  },
  {
   "cell_type": "code",
   "execution_count": 428,
   "metadata": {
    "colab": {
     "base_uri": "https://localhost:8080/"
    },
    "id": "BdenC4QUDpSv",
    "outputId": "ac0a4ceb-69a6-473c-d358-bd0464282be2"
   },
   "outputs": [
    {
     "name": "stdout",
     "output_type": "stream",
     "text": [
      "different   1\n",
      "is          2\n",
      "more        1\n",
      "sample      2\n",
      "several     1\n",
      "some        1\n",
      "text        2\n",
      "this        2\n",
      "with        2\n",
      "words       2\n"
     ]
    }
   ],
   "source": [
    "from collections import Counter\n",
    "text = ('this is sample text with several words '\n",
    "        'this is more sample text with some different words')\n",
    "counter = Counter(text.split())\n",
    "for word, count in sorted(counter.items()):\n",
    "    print(f'{word:<12}{count}')"
   ]
  },
  {
   "cell_type": "markdown",
   "metadata": {
    "id": "MeQUFz5oSWY9"
   },
   "source": [
    "#### **Task no. 2 # What will happen if sorted function is not called?**"
   ]
  },
  {
   "cell_type": "markdown",
   "metadata": {
    "id": "-F0_J0zmo96z"
   },
   "source": [
    "### 6.2.8 Dictionary Method update"
   ]
  },
  {
   "cell_type": "code",
   "execution_count": 429,
   "metadata": {
    "colab": {
     "base_uri": "https://localhost:8080/"
    },
    "id": "CHCFJrQPo_xc",
    "outputId": "395b3ce2-2644-4dd8-c763-2ca6a46b95cc"
   },
   "outputs": [
    {
     "data": {
      "text/plain": [
       "{'South Africa': 'za'}"
      ]
     },
     "execution_count": 429,
     "metadata": {},
     "output_type": "execute_result"
    }
   ],
   "source": [
    "country_codes = {}\n",
    "country_codes.update({'South Africa': 'za'})\n",
    "country_codes"
   ]
  },
  {
   "cell_type": "code",
   "execution_count": 430,
   "metadata": {
    "colab": {
     "base_uri": "https://localhost:8080/"
    },
    "id": "P8ZzxyGDpGbF",
    "outputId": "af3455b6-b123-4ec0-b4f3-4d06bed0580d"
   },
   "outputs": [
    {
     "data": {
      "text/plain": [
       "{'South Africa': 'za', 'Australia': 'ar'}"
      ]
     },
     "execution_count": 430,
     "metadata": {},
     "output_type": "execute_result"
    }
   ],
   "source": [
    "country_codes.update(Australia='ar')\n",
    "country_codes"
   ]
  },
  {
   "cell_type": "code",
   "execution_count": 431,
   "metadata": {
    "colab": {
     "base_uri": "https://localhost:8080/"
    },
    "id": "PvPo1LiMpOsy",
    "outputId": "291f3557-a1fd-4c84-b9ef-c1a8de73766c"
   },
   "outputs": [
    {
     "data": {
      "text/plain": [
       "{'South Africa': 'za', 'Australia': 'au'}"
      ]
     },
     "execution_count": 431,
     "metadata": {},
     "output_type": "execute_result"
    }
   ],
   "source": [
    "country_codes.update(Australia='au')\n",
    "country_codes"
   ]
  },
  {
   "cell_type": "markdown",
   "metadata": {
    "id": "kBxUwHRD9M5K"
   },
   "source": [
    "#### **Task no. 3 # Add elements in a dictionary from a list of tuples**"
   ]
  },
  {
   "cell_type": "markdown",
   "metadata": {
    "id": "b2NeSnc8pVH4"
   },
   "source": [
    "### 6.2.9 Dictionary Comprehensions"
   ]
  },
  {
   "cell_type": "code",
   "execution_count": 432,
   "metadata": {
    "colab": {
     "base_uri": "https://localhost:8080/"
    },
    "id": "DxfUsCpMpWqR",
    "outputId": "24744d01-553a-4207-9fc0-21b62738f77c"
   },
   "outputs": [
    {
     "data": {
      "text/plain": [
       "{1: 'January', 2: 'February', 3: 'March'}"
      ]
     },
     "execution_count": 432,
     "metadata": {},
     "output_type": "execute_result"
    }
   ],
   "source": [
    "months = {'January': 1, 'February': 2, 'March': 3}\n",
    "months2 = {number: name for name, number in months.items()} # Swapping\n",
    "months2"
   ]
  },
  {
   "cell_type": "code",
   "execution_count": 433,
   "metadata": {
    "colab": {
     "base_uri": "https://localhost:8080/"
    },
    "id": "Xpq-I-oXpd0N",
    "outputId": "1e14c393-2427-48a9-8dfa-4e6adb191936"
   },
   "outputs": [
    {
     "data": {
      "text/plain": [
       "{'Sue': 93.0, 'Bob': 90.0}"
      ]
     },
     "execution_count": 433,
     "metadata": {},
     "output_type": "execute_result"
    }
   ],
   "source": [
    "grades = {'Sue': [98, 87, 94], 'Bob': [84, 95, 91]}\n",
    "grades2 = {k: sum(v) / len(v) for k, v in grades.items()} # Mapping\n",
    "grades2"
   ]
  },
  {
   "cell_type": "markdown",
   "metadata": {
    "id": "_PL0Ar2-9hbh"
   },
   "source": [
    "#### **Task no. 4 # Create a dictionary having duplicate values and swap keys with values**"
   ]
  },
  {
   "cell_type": "markdown",
   "metadata": {
    "id": "cHF8OrXipp67"
   },
   "source": [
    "## 6.3 Sets"
   ]
  },
  {
   "cell_type": "markdown",
   "metadata": {
    "id": "c9uw2reKhVnD"
   },
   "source": [
    "Set is an unordered collection of unique values"
   ]
  },
  {
   "cell_type": "markdown",
   "metadata": {
    "id": "ce6Ojx7UpxWx"
   },
   "source": [
    "#### Creating a Set with Curly Braces"
   ]
  },
  {
   "cell_type": "code",
   "execution_count": 434,
   "metadata": {
    "colab": {
     "base_uri": "https://localhost:8080/"
    },
    "id": "4guwjTKopzki",
    "outputId": "38452a11-2706-4975-c24a-4892b2377cb0"
   },
   "outputs": [
    {
     "data": {
      "text/plain": [
       "{'blue', 'green', 'orange', 'red', 'yellow'}"
      ]
     },
     "execution_count": 434,
     "metadata": {},
     "output_type": "execute_result"
    }
   ],
   "source": [
    "colors = {'red', 'orange', 'yellow', 'green', 'red', 'blue'}\n",
    "colors"
   ]
  },
  {
   "cell_type": "markdown",
   "metadata": {
    "id": "jAwpoexsCBXc"
   },
   "source": [
    "#### **Task no. 5 # Write the name of third element of the colors set**"
   ]
  },
  {
   "cell_type": "markdown",
   "metadata": {
    "id": "83YcjRtcqAYO"
   },
   "source": [
    "#### Determining a Set’s Length"
   ]
  },
  {
   "cell_type": "code",
   "execution_count": 435,
   "metadata": {
    "colab": {
     "base_uri": "https://localhost:8080/"
    },
    "id": "9T6lLSKYqCg7",
    "outputId": "32bb981b-807c-49db-b2df-18818d4ce63d"
   },
   "outputs": [
    {
     "data": {
      "text/plain": [
       "5"
      ]
     },
     "execution_count": 435,
     "metadata": {},
     "output_type": "execute_result"
    }
   ],
   "source": [
    "len(colors)"
   ]
  },
  {
   "cell_type": "markdown",
   "metadata": {
    "id": "yT5y21cqqGho"
   },
   "source": [
    "#### Checking Whether a Value Is in a Set"
   ]
  },
  {
   "cell_type": "code",
   "execution_count": 436,
   "metadata": {
    "colab": {
     "base_uri": "https://localhost:8080/"
    },
    "id": "xZYz699vqHuC",
    "outputId": "48b781fe-418c-44a7-b080-6d2eb9556294"
   },
   "outputs": [
    {
     "data": {
      "text/plain": [
       "True"
      ]
     },
     "execution_count": 436,
     "metadata": {},
     "output_type": "execute_result"
    }
   ],
   "source": [
    "'red' in colors"
   ]
  },
  {
   "cell_type": "code",
   "execution_count": 437,
   "metadata": {
    "colab": {
     "base_uri": "https://localhost:8080/"
    },
    "id": "S4kiT5h1qJxf",
    "outputId": "e1dc78a1-6db6-4c35-bb25-a2f16afc297c"
   },
   "outputs": [
    {
     "data": {
      "text/plain": [
       "False"
      ]
     },
     "execution_count": 437,
     "metadata": {},
     "output_type": "execute_result"
    }
   ],
   "source": [
    "'purple' in colors"
   ]
  },
  {
   "cell_type": "code",
   "execution_count": 438,
   "metadata": {
    "colab": {
     "base_uri": "https://localhost:8080/"
    },
    "id": "qq3e2uI7qLaO",
    "outputId": "0f63bf26-7d3a-4536-9852-d68e9f5b605c"
   },
   "outputs": [
    {
     "data": {
      "text/plain": [
       "True"
      ]
     },
     "execution_count": 438,
     "metadata": {},
     "output_type": "execute_result"
    }
   ],
   "source": [
    "'purple' not in colors"
   ]
  },
  {
   "cell_type": "markdown",
   "metadata": {
    "id": "m2tUIqMuqPtR"
   },
   "source": [
    "#### Iterating Through a Set"
   ]
  },
  {
   "cell_type": "code",
   "execution_count": 439,
   "metadata": {
    "colab": {
     "base_uri": "https://localhost:8080/"
    },
    "id": "TRhWCliFqQ3g",
    "outputId": "364a2b2c-c4f3-4f17-b25d-d4a3b1841d91"
   },
   "outputs": [
    {
     "name": "stdout",
     "output_type": "stream",
     "text": [
      "GREEN ORANGE BLUE YELLOW RED "
     ]
    }
   ],
   "source": [
    "for color in colors:\n",
    "    print(color.upper(), end=' ')"
   ]
  },
  {
   "cell_type": "markdown",
   "metadata": {
    "id": "Clbn4JlYqYqV"
   },
   "source": [
    "#### Creating a Set with the Built-In set Function"
   ]
  },
  {
   "cell_type": "code",
   "execution_count": 440,
   "metadata": {
    "id": "fowfcFGCqaR6"
   },
   "outputs": [],
   "source": [
    "numbers = list(range(10)) + list(range(5))"
   ]
  },
  {
   "cell_type": "code",
   "execution_count": 441,
   "metadata": {
    "colab": {
     "base_uri": "https://localhost:8080/"
    },
    "id": "0lUIcUyjqcGs",
    "outputId": "b560905c-71c6-41e0-abd6-2be3af272e22"
   },
   "outputs": [
    {
     "data": {
      "text/plain": [
       "[0, 1, 2, 3, 4, 5, 6, 7, 8, 9, 0, 1, 2, 3, 4]"
      ]
     },
     "execution_count": 441,
     "metadata": {},
     "output_type": "execute_result"
    }
   ],
   "source": [
    "numbers"
   ]
  },
  {
   "cell_type": "code",
   "execution_count": 442,
   "metadata": {
    "colab": {
     "base_uri": "https://localhost:8080/"
    },
    "id": "I-d2PraNqedG",
    "outputId": "39a02628-135f-4535-871d-cf8cad95f7e5"
   },
   "outputs": [
    {
     "data": {
      "text/plain": [
       "{0, 1, 2, 3, 4, 5, 6, 7, 8, 9}"
      ]
     },
     "execution_count": 442,
     "metadata": {},
     "output_type": "execute_result"
    }
   ],
   "source": [
    "set(numbers)"
   ]
  },
  {
   "cell_type": "code",
   "execution_count": 443,
   "metadata": {
    "id": "sw8-48KbqgSk"
   },
   "outputs": [],
   "source": [
    "a = set() # Create an empty set"
   ]
  },
  {
   "cell_type": "markdown",
   "metadata": {
    "id": "5ZPee9dIgD0h"
   },
   "source": [
    "#### Frozenset"
   ]
  },
  {
   "cell_type": "code",
   "execution_count": 444,
   "metadata": {
    "colab": {
     "base_uri": "https://localhost:8080/"
    },
    "id": "MW4jsKETgGRq",
    "outputId": "33e5cae6-05e9-46dd-942b-1c3aa7d7f9d1"
   },
   "outputs": [
    {
     "name": "stdout",
     "output_type": "stream",
     "text": [
      "frozenset({1, 2, 3})\n"
     ]
    }
   ],
   "source": [
    "f_numbers = frozenset({1,2,3,2,1})\n",
    "print(f_numbers)"
   ]
  },
  {
   "cell_type": "markdown",
   "metadata": {
    "id": "IJxwHduiFwuv"
   },
   "source": [
    "#### **Task no. 6 # Remove element 2 and add 5**"
   ]
  },
  {
   "cell_type": "markdown",
   "metadata": {
    "id": "Qgm4OYUwqnC-"
   },
   "source": [
    "### 6.3.1 Comparing Sets"
   ]
  },
  {
   "cell_type": "code",
   "execution_count": 445,
   "metadata": {
    "colab": {
     "base_uri": "https://localhost:8080/"
    },
    "id": "xYWPOgbsqoVj",
    "outputId": "4026e9f5-d397-43f8-9e62-bd06fdc977d3"
   },
   "outputs": [
    {
     "data": {
      "text/plain": [
       "True"
      ]
     },
     "execution_count": 445,
     "metadata": {},
     "output_type": "execute_result"
    }
   ],
   "source": [
    "{1, 3, 5} == {3, 5, 1}"
   ]
  },
  {
   "cell_type": "code",
   "execution_count": 446,
   "metadata": {
    "colab": {
     "base_uri": "https://localhost:8080/"
    },
    "id": "NpFApL5hqqhq",
    "outputId": "be657c98-a32c-4aee-b9a0-e87a4115385f"
   },
   "outputs": [
    {
     "data": {
      "text/plain": [
       "False"
      ]
     },
     "execution_count": 446,
     "metadata": {},
     "output_type": "execute_result"
    }
   ],
   "source": [
    "{1, 3, 5} != {3, 5, 1}"
   ]
  },
  {
   "cell_type": "code",
   "execution_count": 447,
   "metadata": {
    "colab": {
     "base_uri": "https://localhost:8080/"
    },
    "id": "jn0DDlCgqsVa",
    "outputId": "57ca4004-041b-4385-9079-e00033722971"
   },
   "outputs": [
    {
     "data": {
      "text/plain": [
       "False"
      ]
     },
     "execution_count": 447,
     "metadata": {},
     "output_type": "execute_result"
    }
   ],
   "source": [
    "{1, 3, 5} < {3, 5, 1} # Is it a properset?"
   ]
  },
  {
   "cell_type": "code",
   "execution_count": 448,
   "metadata": {
    "colab": {
     "base_uri": "https://localhost:8080/"
    },
    "id": "6tU3ChpZqunw",
    "outputId": "6bd3650a-1025-4ce6-bf75-c8417cba8375"
   },
   "outputs": [
    {
     "data": {
      "text/plain": [
       "True"
      ]
     },
     "execution_count": 448,
     "metadata": {},
     "output_type": "execute_result"
    }
   ],
   "source": [
    "{1, 3, 5} < {7, 3, 5, 1}"
   ]
  },
  {
   "cell_type": "code",
   "execution_count": 449,
   "metadata": {
    "colab": {
     "base_uri": "https://localhost:8080/"
    },
    "id": "727cwMLaqwbG",
    "outputId": "2fbaa8d0-cf51-4b49-b243-e71572a366ef"
   },
   "outputs": [
    {
     "data": {
      "text/plain": [
       "True"
      ]
     },
     "execution_count": 449,
     "metadata": {},
     "output_type": "execute_result"
    }
   ],
   "source": [
    "{1, 3, 5} <= {3, 5, 1}"
   ]
  },
  {
   "cell_type": "code",
   "execution_count": 450,
   "metadata": {
    "colab": {
     "base_uri": "https://localhost:8080/"
    },
    "id": "O5-6_N9Vqyr_",
    "outputId": "fa7923a1-7b7f-4c5f-cd96-878852d9ab56"
   },
   "outputs": [
    {
     "data": {
      "text/plain": [
       "True"
      ]
     },
     "execution_count": 450,
     "metadata": {},
     "output_type": "execute_result"
    }
   ],
   "source": [
    "{1, 3} <= {3, 5, 1}"
   ]
  },
  {
   "cell_type": "code",
   "execution_count": 451,
   "metadata": {
    "colab": {
     "base_uri": "https://localhost:8080/"
    },
    "id": "7qj3oTvCq0YT",
    "outputId": "a344a587-c8c9-4425-b499-1a37c005eb88"
   },
   "outputs": [
    {
     "data": {
      "text/plain": [
       "True"
      ]
     },
     "execution_count": 451,
     "metadata": {},
     "output_type": "execute_result"
    }
   ],
   "source": [
    "{1, 3, 5}.issubset({3, 5, 1})"
   ]
  },
  {
   "cell_type": "code",
   "execution_count": 452,
   "metadata": {
    "colab": {
     "base_uri": "https://localhost:8080/"
    },
    "id": "KtZH_d8oq2if",
    "outputId": "c120a5ad-13a4-46c1-cc13-bb0935c01c8a"
   },
   "outputs": [
    {
     "data": {
      "text/plain": [
       "False"
      ]
     },
     "execution_count": 452,
     "metadata": {},
     "output_type": "execute_result"
    }
   ],
   "source": [
    "{1, 2}.issubset({3, 5, 1})"
   ]
  },
  {
   "cell_type": "code",
   "execution_count": 453,
   "metadata": {
    "colab": {
     "base_uri": "https://localhost:8080/"
    },
    "id": "QrkXdQS_q41i",
    "outputId": "6c1a9ca9-6c73-40e8-b28a-b4e0922e011f"
   },
   "outputs": [
    {
     "data": {
      "text/plain": [
       "False"
      ]
     },
     "execution_count": 453,
     "metadata": {},
     "output_type": "execute_result"
    }
   ],
   "source": [
    "{1, 3, 5} > {3, 5, 1}"
   ]
  },
  {
   "cell_type": "code",
   "execution_count": 454,
   "metadata": {
    "colab": {
     "base_uri": "https://localhost:8080/"
    },
    "id": "1XDdWpAbq67G",
    "outputId": "41c0ed63-d546-4e9c-fffc-5b3be496bd3e"
   },
   "outputs": [
    {
     "data": {
      "text/plain": [
       "True"
      ]
     },
     "execution_count": 454,
     "metadata": {},
     "output_type": "execute_result"
    }
   ],
   "source": [
    "{1, 3, 5, 7} > {3, 5, 1}"
   ]
  },
  {
   "cell_type": "code",
   "execution_count": 455,
   "metadata": {
    "colab": {
     "base_uri": "https://localhost:8080/"
    },
    "id": "v8AWRmNRq9Qu",
    "outputId": "5d8f8d7f-15e6-443f-fe69-dbefbfc6fc0a"
   },
   "outputs": [
    {
     "data": {
      "text/plain": [
       "True"
      ]
     },
     "execution_count": 455,
     "metadata": {},
     "output_type": "execute_result"
    }
   ],
   "source": [
    "{1, 3, 5} >= {3, 5, 1}"
   ]
  },
  {
   "cell_type": "code",
   "execution_count": 456,
   "metadata": {
    "colab": {
     "base_uri": "https://localhost:8080/"
    },
    "id": "s2yPj4OKrAux",
    "outputId": "75e80826-28d3-4477-a6c2-a7c654dac135"
   },
   "outputs": [
    {
     "data": {
      "text/plain": [
       "True"
      ]
     },
     "execution_count": 456,
     "metadata": {},
     "output_type": "execute_result"
    }
   ],
   "source": [
    "{1, 3, 5} >= {3, 1}"
   ]
  },
  {
   "cell_type": "code",
   "execution_count": 457,
   "metadata": {
    "colab": {
     "base_uri": "https://localhost:8080/"
    },
    "id": "v4nmxd7DrCuy",
    "outputId": "e9371ae6-d586-4ad2-9ee2-966084612ce2"
   },
   "outputs": [
    {
     "data": {
      "text/plain": [
       "False"
      ]
     },
     "execution_count": 457,
     "metadata": {},
     "output_type": "execute_result"
    }
   ],
   "source": [
    "{1, 3} >= {3, 1, 7}"
   ]
  },
  {
   "cell_type": "code",
   "execution_count": 458,
   "metadata": {
    "colab": {
     "base_uri": "https://localhost:8080/"
    },
    "id": "E7SUiU5JrEo0",
    "outputId": "019501a8-15c9-4208-c4c4-59c423d5b095"
   },
   "outputs": [
    {
     "data": {
      "text/plain": [
       "True"
      ]
     },
     "execution_count": 458,
     "metadata": {},
     "output_type": "execute_result"
    }
   ],
   "source": [
    "{1, 3, 5}.issuperset({3, 5, 1})"
   ]
  },
  {
   "cell_type": "code",
   "execution_count": 459,
   "metadata": {
    "colab": {
     "base_uri": "https://localhost:8080/"
    },
    "id": "GJv_z25YrHR4",
    "outputId": "1703f7b9-1d99-4690-b579-6fd48b4a66c4"
   },
   "outputs": [
    {
     "data": {
      "text/plain": [
       "False"
      ]
     },
     "execution_count": 459,
     "metadata": {},
     "output_type": "execute_result"
    }
   ],
   "source": [
    "{1, 3, 5}.issuperset({3, 2})"
   ]
  },
  {
   "cell_type": "markdown",
   "metadata": {
    "id": "2boKxRoorL6O"
   },
   "source": [
    "### 6.3.2 Mathematical Set Operations\n",
    "   "
   ]
  },
  {
   "cell_type": "markdown",
   "metadata": {
    "id": "0ifAqZOlrRMO"
   },
   "source": [
    "#### Union"
   ]
  },
  {
   "cell_type": "code",
   "execution_count": 460,
   "metadata": {
    "colab": {
     "base_uri": "https://localhost:8080/"
    },
    "id": "PQfTwkVLrS2L",
    "outputId": "828417bc-61a7-4c06-812d-8fa014248fae"
   },
   "outputs": [
    {
     "data": {
      "text/plain": [
       "{1, 2, 3, 4, 5}"
      ]
     },
     "execution_count": 460,
     "metadata": {},
     "output_type": "execute_result"
    }
   ],
   "source": [
    "{1, 3, 5} | {2, 3, 4}"
   ]
  },
  {
   "cell_type": "code",
   "execution_count": 461,
   "metadata": {
    "colab": {
     "base_uri": "https://localhost:8080/"
    },
    "id": "JRCUXDp4rUhV",
    "outputId": "2d5ddb10-4090-4cac-9da0-55d31ce9f833"
   },
   "outputs": [
    {
     "data": {
      "text/plain": [
       "{1, 3, 5, 20, 40}"
      ]
     },
     "execution_count": 461,
     "metadata": {},
     "output_type": "execute_result"
    }
   ],
   "source": [
    "{1, 3, 5}.union([20, 20, 3, 40, 40])"
   ]
  },
  {
   "cell_type": "markdown",
   "metadata": {
    "id": "2X0iHoabrcwN"
   },
   "source": [
    "#### Intersection"
   ]
  },
  {
   "cell_type": "code",
   "execution_count": 462,
   "metadata": {
    "colab": {
     "base_uri": "https://localhost:8080/"
    },
    "id": "DY32ZI4ireBn",
    "outputId": "8e87c982-822c-45ad-f9aa-d448d489141d"
   },
   "outputs": [
    {
     "data": {
      "text/plain": [
       "{3}"
      ]
     },
     "execution_count": 462,
     "metadata": {},
     "output_type": "execute_result"
    }
   ],
   "source": [
    "{1, 3, 5} & {2, 3, 4}"
   ]
  },
  {
   "cell_type": "code",
   "execution_count": 463,
   "metadata": {
    "colab": {
     "base_uri": "https://localhost:8080/"
    },
    "id": "niEa4UJurf5_",
    "outputId": "c4d0abf3-77ce-4e52-e560-aad3e8a2fc38"
   },
   "outputs": [
    {
     "data": {
      "text/plain": [
       "{1, 3}"
      ]
     },
     "execution_count": 463,
     "metadata": {},
     "output_type": "execute_result"
    }
   ],
   "source": [
    "{1, 3, 5}.intersection([1, 2, 2, 3, 3, 4, 4])"
   ]
  },
  {
   "cell_type": "markdown",
   "metadata": {
    "id": "iXZrHtJOKuTV"
   },
   "source": [
    "#### **Task no. 7 # Calculate union of {1,2,3} and [5,7,3]**"
   ]
  },
  {
   "cell_type": "markdown",
   "metadata": {
    "id": "n7FRLpK3rki4"
   },
   "source": [
    "#### Difference"
   ]
  },
  {
   "cell_type": "code",
   "execution_count": 464,
   "metadata": {
    "colab": {
     "base_uri": "https://localhost:8080/"
    },
    "id": "xS_3L30vrmE-",
    "outputId": "3d33fbf7-be68-4bfa-bdb7-ca47f8ea0136"
   },
   "outputs": [
    {
     "data": {
      "text/plain": [
       "{1, 5}"
      ]
     },
     "execution_count": 464,
     "metadata": {},
     "output_type": "execute_result"
    }
   ],
   "source": [
    "{1, 3, 5} - {2, 3, 4}"
   ]
  },
  {
   "cell_type": "code",
   "execution_count": 465,
   "metadata": {
    "colab": {
     "base_uri": "https://localhost:8080/"
    },
    "id": "KAwojq0ArohZ",
    "outputId": "04b1a1d7-ea07-4763-f2e6-264dd2e629b9"
   },
   "outputs": [
    {
     "data": {
      "text/plain": [
       "{1, 5, 7}"
      ]
     },
     "execution_count": 465,
     "metadata": {},
     "output_type": "execute_result"
    }
   ],
   "source": [
    "{1, 3, 5, 7}.difference([2, 2, 3, 3, 4, 4])"
   ]
  },
  {
   "cell_type": "markdown",
   "metadata": {
    "id": "ZAPishrHrvwh"
   },
   "source": [
    "#### Symmetric Difference"
   ]
  },
  {
   "cell_type": "code",
   "execution_count": 466,
   "metadata": {
    "colab": {
     "base_uri": "https://localhost:8080/"
    },
    "id": "aJLMaAo3ryPw",
    "outputId": "7691217f-01e3-45e6-8028-46ea924f9ecc"
   },
   "outputs": [
    {
     "data": {
      "text/plain": [
       "{1, 2, 4, 5}"
      ]
     },
     "execution_count": 466,
     "metadata": {},
     "output_type": "execute_result"
    }
   ],
   "source": [
    "{1, 3, 5} ^ {2, 3, 4}"
   ]
  },
  {
   "cell_type": "code",
   "execution_count": 467,
   "metadata": {
    "colab": {
     "base_uri": "https://localhost:8080/"
    },
    "id": "U5wjJzIFr1Qx",
    "outputId": "ee568548-035b-456b-b964-59e1c3506b84"
   },
   "outputs": [
    {
     "data": {
      "text/plain": [
       "{1, 2, 4, 5, 7}"
      ]
     },
     "execution_count": 467,
     "metadata": {},
     "output_type": "execute_result"
    }
   ],
   "source": [
    "{1, 3, 5, 7}.symmetric_difference([2, 2, 3, 3, 4, 4])"
   ]
  },
  {
   "cell_type": "markdown",
   "metadata": {
    "id": "u3Q_sdn3r5sX"
   },
   "source": [
    "#### Disjoint"
   ]
  },
  {
   "cell_type": "code",
   "execution_count": 468,
   "metadata": {
    "colab": {
     "base_uri": "https://localhost:8080/"
    },
    "id": "5DT0t_Ezr7Mn",
    "outputId": "0e570050-a4e2-49f5-c786-efb5004e4557"
   },
   "outputs": [
    {
     "data": {
      "text/plain": [
       "True"
      ]
     },
     "execution_count": 468,
     "metadata": {},
     "output_type": "execute_result"
    }
   ],
   "source": [
    "{1, 3, 5}.isdisjoint({2, 4, 6})"
   ]
  },
  {
   "cell_type": "code",
   "execution_count": 469,
   "metadata": {
    "colab": {
     "base_uri": "https://localhost:8080/"
    },
    "id": "jnGr-fLBr84B",
    "outputId": "ce20772a-4767-4a5b-efaf-1d1b1167a591"
   },
   "outputs": [
    {
     "data": {
      "text/plain": [
       "False"
      ]
     },
     "execution_count": 469,
     "metadata": {},
     "output_type": "execute_result"
    }
   ],
   "source": [
    "{1, 3, 5}.isdisjoint({4, 6, 1})"
   ]
  },
  {
   "cell_type": "markdown",
   "metadata": {
    "id": "p735LCsYsDD5"
   },
   "source": [
    "### 6.3.3 Mutable Set Operators and Methods"
   ]
  },
  {
   "cell_type": "markdown",
   "metadata": {
    "id": "64E4nAx2sGGh"
   },
   "source": [
    "#### Mutable Mathematical Set Operations"
   ]
  },
  {
   "cell_type": "markdown",
   "metadata": {
    "id": "vOmew7oWugLd"
   },
   "source": [
    "* intersection augmented assignment &=\n",
    "* difference augmented assignment -=\n",
    "* symmetric difference augmented assignment ^="
   ]
  },
  {
   "cell_type": "code",
   "execution_count": 470,
   "metadata": {
    "colab": {
     "base_uri": "https://localhost:8080/"
    },
    "id": "jLpbvjazsIbd",
    "outputId": "57f4ba6e-b54a-42cf-eb92-21596efa73d9"
   },
   "outputs": [
    {
     "data": {
      "text/plain": [
       "{1, 2, 3, 4, 5}"
      ]
     },
     "execution_count": 470,
     "metadata": {},
     "output_type": "execute_result"
    }
   ],
   "source": [
    "numbers = {1, 3, 5}\n",
    "numbers |= {2, 3, 4}\n",
    "numbers"
   ]
  },
  {
   "cell_type": "code",
   "execution_count": 471,
   "metadata": {
    "id": "bGu6WYUzsMeS"
   },
   "outputs": [],
   "source": [
    "numbers.update(range(10))"
   ]
  },
  {
   "cell_type": "code",
   "execution_count": 472,
   "metadata": {
    "colab": {
     "base_uri": "https://localhost:8080/"
    },
    "id": "c3njUxrLsSGc",
    "outputId": "08cc4453-f721-42dd-a34f-27632da4586b"
   },
   "outputs": [
    {
     "data": {
      "text/plain": [
       "{0, 1, 2, 3, 4, 5, 6, 7, 8, 9}"
      ]
     },
     "execution_count": 472,
     "metadata": {},
     "output_type": "execute_result"
    }
   ],
   "source": [
    "numbers"
   ]
  },
  {
   "cell_type": "markdown",
   "metadata": {
    "id": "zN8Iq9rCsW7c"
   },
   "source": [
    "#### Methods for Adding and Removing Elements"
   ]
  },
  {
   "cell_type": "code",
   "execution_count": 473,
   "metadata": {
    "id": "IlglPnHUsYI_"
   },
   "outputs": [],
   "source": [
    "numbers.add(17)"
   ]
  },
  {
   "cell_type": "code",
   "execution_count": 474,
   "metadata": {
    "id": "yZZx5U8Dsa85"
   },
   "outputs": [],
   "source": [
    "numbers.add(3)"
   ]
  },
  {
   "cell_type": "code",
   "execution_count": 475,
   "metadata": {
    "colab": {
     "base_uri": "https://localhost:8080/"
    },
    "id": "Rvj733DasbdE",
    "outputId": "da2c224c-e7f7-4199-ccd9-344226b2d264"
   },
   "outputs": [
    {
     "data": {
      "text/plain": [
       "{0, 1, 2, 3, 4, 5, 6, 7, 8, 9, 17}"
      ]
     },
     "execution_count": 475,
     "metadata": {},
     "output_type": "execute_result"
    }
   ],
   "source": [
    "numbers"
   ]
  },
  {
   "cell_type": "code",
   "execution_count": 476,
   "metadata": {
    "id": "Xee94IR1sc4p"
   },
   "outputs": [],
   "source": [
    "numbers.remove(3) # Prone to cause error"
   ]
  },
  {
   "cell_type": "markdown",
   "metadata": {
    "id": "JG4NxmL5NBXi"
   },
   "source": [
    "##### **Task no. 8 # Write the code to remove element 10 from numbers**"
   ]
  },
  {
   "cell_type": "code",
   "execution_count": 477,
   "metadata": {
    "colab": {
     "base_uri": "https://localhost:8080/"
    },
    "id": "K_EioHc7sfHk",
    "outputId": "b0f863b5-fcd0-4edf-f127-18b54ceec1ae"
   },
   "outputs": [
    {
     "data": {
      "text/plain": [
       "0"
      ]
     },
     "execution_count": 477,
     "metadata": {},
     "output_type": "execute_result"
    }
   ],
   "source": [
    "numbers.pop() # What element it will pop\n",
    "# What if it is a null set"
   ]
  },
  {
   "cell_type": "code",
   "execution_count": 478,
   "metadata": {
    "id": "9yGrh9pi1SRf"
   },
   "outputs": [],
   "source": [
    "numbers.discard(2) # Error-free"
   ]
  },
  {
   "cell_type": "code",
   "execution_count": 479,
   "metadata": {
    "colab": {
     "base_uri": "https://localhost:8080/"
    },
    "id": "3xTkvzprsgwq",
    "outputId": "e3f98a21-b384-4950-e489-915efbbe35a7"
   },
   "outputs": [
    {
     "data": {
      "text/plain": [
       "{1, 4, 5, 6, 7, 8, 9, 17}"
      ]
     },
     "execution_count": 479,
     "metadata": {},
     "output_type": "execute_result"
    }
   ],
   "source": [
    "numbers"
   ]
  },
  {
   "cell_type": "code",
   "execution_count": 480,
   "metadata": {
    "id": "oj4yewoMsizP"
   },
   "outputs": [],
   "source": [
    "numbers.clear()"
   ]
  },
  {
   "cell_type": "code",
   "execution_count": 481,
   "metadata": {
    "colab": {
     "base_uri": "https://localhost:8080/"
    },
    "id": "PBWziDK4sm4m",
    "outputId": "51c4cb29-99f9-4b32-9984-dc02868672aa"
   },
   "outputs": [
    {
     "data": {
      "text/plain": [
       "set()"
      ]
     },
     "execution_count": 481,
     "metadata": {},
     "output_type": "execute_result"
    }
   ],
   "source": [
    "numbers"
   ]
  }
 ],
 "metadata": {
  "colab": {
   "collapsed_sections": [
    "cHF8OrXipp67"
   ],
   "provenance": []
  },
  "kernelspec": {
   "display_name": "Python 3 (ipykernel)",
   "language": "python",
   "name": "python3"
  },
  "language_info": {
   "codemirror_mode": {
    "name": "ipython",
    "version": 3
   },
   "file_extension": ".py",
   "mimetype": "text/x-python",
   "name": "python",
   "nbconvert_exporter": "python",
   "pygments_lexer": "ipython3",
   "version": "3.9.16"
  }
 },
 "nbformat": 4,
 "nbformat_minor": 1
}
