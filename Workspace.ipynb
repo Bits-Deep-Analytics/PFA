{
 "cells": [
  {
   "cell_type": "code",
   "execution_count": 2,
   "id": "36663d4a",
   "metadata": {},
   "outputs": [
    {
     "data": {
      "text/plain": [
       "<function dill.session.dump_session(filename='/var/folders/x4/kkr9vy2s2fg2kg2l2vvhgn340000gn/T/session.pkl', main=None, byref=False, **kwds)>"
      ]
     },
     "execution_count": 2,
     "metadata": {},
     "output_type": "execute_result"
    }
   ],
   "source": [
    "import dill as dl\n",
    "var1 = 1\n",
    "var2 = 2\n",
    "var3 = var1 + var2\n",
    "dl.dump_session"
   ]
  },
  {
   "cell_type": "code",
   "execution_count": null,
   "id": "bc1948f3",
   "metadata": {},
   "outputs": [],
   "source": []
  }
 ],
 "metadata": {
  "kernelspec": {
   "display_name": "Python 3 (ipykernel)",
   "language": "python",
   "name": "python3"
  },
  "language_info": {
   "codemirror_mode": {
    "name": "ipython",
    "version": 3
   },
   "file_extension": ".py",
   "mimetype": "text/x-python",
   "name": "python",
   "nbconvert_exporter": "python",
   "pygments_lexer": "ipython3",
   "version": "3.11.4"
  }
 },
 "nbformat": 4,
 "nbformat_minor": 5
}
