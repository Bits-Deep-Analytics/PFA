{
 "cells": [
  {
   "cell_type": "code",
   "execution_count": 4,
   "id": "8f7b5d91",
   "metadata": {},
   "outputs": [
    {
     "data": {
      "text/plain": [
       "<function dill.session.dump_session(filename='C:\\\\Users\\\\kumar\\\\AppData\\\\Local\\\\Temp\\\\session.pkl', main=None, byref=False, **kwds)>"
      ]
     },
     "execution_count": 4,
     "metadata": {},
     "output_type": "execute_result"
    }
   ],
   "source": [
    "import dill as dl\n",
    "var1 = \"Hello Data\"\n",
    "var2 = \"Welcome to PFA Lab class\"\n",
    "var3 = var1 + var2\n",
    "dl.dump_session"
   ]
  },
  {
   "cell_type": "code",
   "execution_count": null,
   "id": "20550aba",
   "metadata": {},
   "outputs": [],
   "source": []
  }
 ],
 "metadata": {
  "kernelspec": {
   "display_name": "Python 3 (ipykernel)",
   "language": "python",
   "name": "python3"
  },
  "language_info": {
   "codemirror_mode": {
    "name": "ipython",
    "version": 3
   },
   "file_extension": ".py",
   "mimetype": "text/x-python",
   "name": "python",
   "nbconvert_exporter": "python",
   "pygments_lexer": "ipython3",
   "version": "3.11.4"
  }
 },
 "nbformat": 4,
 "nbformat_minor": 5
}
