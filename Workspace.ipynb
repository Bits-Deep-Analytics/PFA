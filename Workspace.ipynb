{
 "cells": [
  {
   "cell_type": "code",
   "execution_count": 1,
   "id": "9483e683",
   "metadata": {},
   "outputs": [],
   "source": [
    "import dill as dl\n",
    "var1 = 1\n",
    "var2 = 5\n",
    "var3 = var1 + var2\n",
    "dl.dump_session('var3.pkl')"
   ]
  },
  {
   "cell_type": "code",
   "execution_count": 2,
   "id": "50b3bdaf",
   "metadata": {},
   "outputs": [
    {
     "name": "stdout",
     "output_type": "stream",
     "text": [
      "Variables saved to my_variables.pkl\n"
     ]
    }
   ],
   "source": [
    "import dill as dl\n",
    "var1 = 1\n",
    "var2 = 5\n",
    "var3 = var1 + var2\n",
    "pickle_filename = \"my_variables.pkl\"\n",
    "with open(pickle_filename, 'wb') as file:\n",
    "    dl.dump((var1, var2, var3), file)\n",
    "print(f\"Variables saved to {pickle_filename}\")"
   ]
  },
  {
   "cell_type": "code",
   "execution_count": 3,
   "id": "62c31473",
   "metadata": {},
   "outputs": [
    {
     "name": "stdout",
     "output_type": "stream",
     "text": [
      "1\n",
      "5\n",
      "6\n"
     ]
    }
   ],
   "source": [
    "import dill as dl\n",
    "pickle_filename = \"my_variables.pkl\"\n",
    "with open(pickle_filename, 'rb') as file:\n",
    "    loaded_var1, loaded_var2, loaded_var3 = dl.load(file)\n",
    "print(loaded_var1)\n",
    "print(loaded_var2)\n",
    "print(loaded_var3)"
   ]
  }
 ],
 "metadata": {
  "kernelspec": {
   "display_name": "Python 3 (ipykernel)",
   "language": "python",
   "name": "python3"
  },
  "language_info": {
   "codemirror_mode": {
    "name": "ipython",
    "version": 3
   },
   "file_extension": ".py",
   "mimetype": "text/x-python",
   "name": "python",
   "nbconvert_exporter": "python",
   "pygments_lexer": "ipython3",
   "version": "3.10.9"
  }
 },
 "nbformat": 4,
 "nbformat_minor": 5
}
