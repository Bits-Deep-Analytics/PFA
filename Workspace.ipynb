{
 "cells": [
  {
   "cell_type": "code",
   "execution_count": 17,
   "id": "8f7b5d91",
   "metadata": {},
   "outputs": [],
   "source": [
    "import dill as dl\n",
    "var1 = \"Hello Data\"\n",
    "var2 = \" Welcome to PFA Lab class\"\n",
    "var3 = var1 + var2\n",
    "#creating a pi\n",
    "dl.dump_session('var3.pkl')"
   ]
  },
  {
   "cell_type": "code",
   "execution_count": 10,
   "id": "20550aba",
   "metadata": {},
   "outputs": [
    {
     "name": "stdout",
     "output_type": "stream",
     "text": [
      "Hello Data Welcome to PFA Lab class\n"
     ]
    }
   ],
   "source": [
    "print(var3)"
   ]
  },
  {
   "cell_type": "code",
   "execution_count": 13,
   "id": "786a92fb",
   "metadata": {},
   "outputs": [],
   "source": [
    "#del var1"
   ]
  },
  {
   "cell_type": "code",
   "execution_count": 16,
   "id": "ff40cc37",
   "metadata": {
    "scrolled": true
   },
   "outputs": [
    {
     "name": "stdout",
     "output_type": "stream",
     "text": [
      "Hello Data\n"
     ]
    }
   ],
   "source": [
    "print(var1)"
   ]
  },
  {
   "cell_type": "code",
   "execution_count": null,
   "id": "ecba641f",
   "metadata": {},
   "outputs": [],
   "source": []
  }
 ],
 "metadata": {
  "kernelspec": {
   "display_name": "Python 3 (ipykernel)",
   "language": "python",
   "name": "python3"
  },
  "language_info": {
   "codemirror_mode": {
    "name": "ipython",
    "version": 3
   },
   "file_extension": ".py",
   "mimetype": "text/x-python",
   "name": "python",
   "nbconvert_exporter": "python",
   "pygments_lexer": "ipython3",
   "version": "3.11.4"
  }
 },
 "nbformat": 4,
 "nbformat_minor": 5
}
