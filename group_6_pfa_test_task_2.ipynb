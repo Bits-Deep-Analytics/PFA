{
  "nbformat": 4,
  "nbformat_minor": 0,
  "metadata": {
    "colab": {
      "provenance": []
    },
    "kernelspec": {
      "name": "python3",
      "display_name": "Python 3"
    },
    "language_info": {
      "name": "python"
    }
  },
  "cells": [
    {
      "cell_type": "code",
      "execution_count": null,
      "metadata": {
        "id": "fCCJwB3BsHwy"
      },
      "outputs": [],
      "source": [
        "## Please write your code here\n",
        "## Only to be submitted by team leader"
      ]
    },
    {
      "cell_type": "code",
      "source": [
        "#Task 2\n",
        "import pandas as pd\n",
        "\n",
        "\n",
        "url = 'https://raw.githubusercontent.com/Bits-Deep-Analytics/PFA/main/Iris.csv'\n",
        "iris_df = pd.read_csv(url)\n",
        "\n",
        "\n",
        "iris_df['pl_pw'] = iris_df['PetalLengthCm'] / iris_df['PetalWidthCm']\n",
        "iris_df['sl_sw'] = iris_df['SepalLengthCm'] / iris_df['SepalWidthCm']\n",
        "iris_df['plw_slw_ratio'] = iris_df['pl_pw'] / iris_df['sl_sw']\n",
        "\n",
        "\n",
        "modified_df = iris_df[['pl_pw', 'sl_sw', 'plw_slw_ratio', 'Species']]\n",
        "\n",
        "\n",
        "modified_df.to_csv('group_6_pfa_test_task-2.csv', index=False)\n",
        "print(modified_df)"
      ],
      "metadata": {
        "colab": {
          "base_uri": "https://localhost:8080/"
        },
        "id": "mSanMZYW-s9D",
        "outputId": "2b21c349-1b3f-4964-999d-ddfd022beb53"
      },
      "execution_count": null,
      "outputs": [
        {
          "output_type": "stream",
          "name": "stdout",
          "text": [
            "        pl_pw     sl_sw  plw_slw_ratio         Species\n",
            "0    7.000000  1.457143       4.803922     Iris-setosa\n",
            "1    7.000000  1.633333       4.285714     Iris-setosa\n",
            "2    6.500000  1.468750       4.425532     Iris-setosa\n",
            "3    7.500000  1.483871       5.054348     Iris-setosa\n",
            "4    7.000000  1.388889       5.040000     Iris-setosa\n",
            "..        ...       ...            ...             ...\n",
            "145  2.260870  2.233333       1.012330  Iris-virginica\n",
            "146  2.631579  2.520000       1.044277  Iris-virginica\n",
            "147  2.600000  2.166667       1.200000  Iris-virginica\n",
            "148  2.347826  1.823529       1.287518  Iris-virginica\n",
            "149  2.833333  1.966667       1.440678  Iris-virginica\n",
            "\n",
            "[150 rows x 4 columns]\n"
          ]
        }
      ]
    }
  ]
}