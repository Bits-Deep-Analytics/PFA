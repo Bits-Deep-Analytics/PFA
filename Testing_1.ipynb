{
  "nbformat": 4,
  "nbformat_minor": 0,
  "metadata": {
    "colab": {
      "provenance": []
    },
    "kernelspec": {
      "name": "python3",
      "display_name": "Python 3"
    },
    "language_info": {
      "name": "python"
    }
  },
  "cells": [
    {
      "cell_type": "code",
      "execution_count": 25,
      "metadata": {
        "id": "nVZdq5Qqa3as"
      },
      "outputs": [],
      "source": [
        "def isPal(x):\n",
        "  \"\"\"Assumes x is a list\n",
        "  Returns True if the list is a palindrome; False otherwise\"\"\"\n",
        "  temp = x\n",
        "  temp.reverse\n",
        "  if temp == x:\n",
        "    return True\n",
        "  else:\n",
        "    return False"
      ]
    },
    {
      "cell_type": "code",
      "source": [
        "def silly(n):\n",
        "  \"\"\"Assumes n is an int > 0\n",
        "  Gets n inputs from user\n",
        "  Prints 'Yes' if the sequence of inputs forms a palindrome;\n",
        "  'No' otherwise\"\"\"\n",
        "  for i in range(n):\n",
        "    result = []\n",
        "    elem = input('Enter element: ')\n",
        "    result.append(elem)\n",
        "    if isPal(result):\n",
        "      print('Yes')\n",
        "    else:\n",
        "      print('No')"
      ],
      "metadata": {
        "id": "gce_Wf2adh9g"
      },
      "execution_count": 24,
      "outputs": []
    },
    {
      "cell_type": "code",
      "source": [
        "silly(3)"
      ],
      "metadata": {
        "colab": {
          "base_uri": "https://localhost:8080/"
        },
        "id": "Npu3UxIGdhzL",
        "outputId": "02d24a85-30cd-48e5-e975-0a55225bc5d9"
      },
      "execution_count": 26,
      "outputs": [
        {
          "output_type": "stream",
          "name": "stdout",
          "text": [
            "Enter element: 1\n",
            "Yes\n",
            "Enter element: 2\n",
            "Yes\n",
            "Enter element: 1\n",
            "Yes\n"
          ]
        }
      ]
    }
  ]
}