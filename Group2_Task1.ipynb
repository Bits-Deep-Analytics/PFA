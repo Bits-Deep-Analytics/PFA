{
 "cells": [
  {
   "cell_type": "code",
   "execution_count": 10,
   "id": "3550802f",
   "metadata": {},
   "outputs": [
    {
     "name": "stdout",
     "output_type": "stream",
     "text": [
      "[4, 2, 3]\n",
      "4\n",
      "[2, 3, 2]\n",
      "2\n",
      "[2, 3]\n"
     ]
    }
   ],
   "source": [
    "class Staqueue:\n",
    "    def __init__(self):\n",
    "        self.elements = []\n",
    "\n",
    "    def enter(self, x):\n",
    "        if isinstance(x, int):\n",
    "            self.elements.append(x)\n",
    "\n",
    "    def pop(self):\n",
    "        if self.elements:\n",
    "            return self.elements.pop()\n",
    "\n",
    "    def dequeue(self):\n",
    "        if self.elements:\n",
    "            return self.elements.pop(0)\n",
    "\n",
    "    def print(self):\n",
    "        print(self.elements)\n",
    "\n",
    "\n",
    "# Test case\n",
    "staq = Staqueue()\n",
    "staq.enter(4)\n",
    "staq.enter(2)\n",
    "staq.enter(3)\n",
    "staq.print()\n",
    "print(staq.dequeue())\n",
    "staq.enter(2)\n",
    "staq.print()\n",
    "print(staq.pop())\n",
    "staq.print()"
   ]
  },
  {
   "cell_type": "code",
   "execution_count": null,
   "id": "7cfc2d92",
   "metadata": {},
   "outputs": [],
   "source": []
  }
 ],
 "metadata": {
  "kernelspec": {
   "display_name": "Python 3 (ipykernel)",
   "language": "python",
   "name": "python3"
  },
  "language_info": {
   "codemirror_mode": {
    "name": "ipython",
    "version": 3
   },
   "file_extension": ".py",
   "mimetype": "text/x-python",
   "name": "python",
   "nbconvert_exporter": "python",
   "pygments_lexer": "ipython3",
   "version": "3.11.4"
  }
 },
 "nbformat": 4,
 "nbformat_minor": 5
}
