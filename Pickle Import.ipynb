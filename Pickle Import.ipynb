{
 "cells": [
  {
   "cell_type": "code",
   "execution_count": 8,
   "id": "9051881f",
   "metadata": {},
   "outputs": [],
   "source": [
    "import dill as dl\n",
    "var1 = 1\n",
    "var2 = 2\n",
    "var3 = var1 + var2\n",
    "dl.dump_session\n",
    "\n",
    "del var1\n",
    "del var2"
   ]
  },
  {
   "cell_type": "code",
   "execution_count": 5,
   "id": "3b58203b",
   "metadata": {},
   "outputs": [
    {
     "name": "stdout",
     "output_type": "stream",
     "text": [
      "3\n"
     ]
    }
   ],
   "source": [
    "print(var3)"
   ]
  }
 ],
 "metadata": {
  "kernelspec": {
   "display_name": "Python 3 (ipykernel)",
   "language": "python",
   "name": "python3"
  },
  "language_info": {
   "codemirror_mode": {
    "name": "ipython",
    "version": 3
   },
   "file_extension": ".py",
   "mimetype": "text/x-python",
   "name": "python",
   "nbconvert_exporter": "python",
   "pygments_lexer": "ipython3",
   "version": "3.11.4"
  }
 },
 "nbformat": 4,
 "nbformat_minor": 5
}
