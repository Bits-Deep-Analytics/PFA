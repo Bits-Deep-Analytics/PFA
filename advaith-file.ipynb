{
 "cells": [
  {
   "cell_type": "code",
   "execution_count": 37,
   "id": "08d2cf78",
   "metadata": {},
   "outputs": [],
   "source": [
    "import dill\n",
    "v = [1,2,3]\n",
    "w = [13]\n",
    "my_list = v+w\n",
    "dill.dump_session('pickle.pkl')"
   ]
  },
  {
   "cell_type": "code",
   "execution_count": 38,
   "id": "be089280",
   "metadata": {},
   "outputs": [
    {
     "name": "stdout",
     "output_type": "stream",
     "text": [
      "[1, 2, 3, 13]\n"
     ]
    }
   ],
   "source": [
    "dill.load_session('pickle.pkl')\n",
    "print(my_list)"
   ]
  },
  {
   "cell_type": "code",
   "execution_count": null,
   "id": "dc4b7293",
   "metadata": {},
   "outputs": [],
   "source": []
  }
 ],
 "metadata": {
  "kernelspec": {
   "display_name": "Python 3 (ipykernel)",
   "language": "python",
   "name": "python3"
  },
  "language_info": {
   "codemirror_mode": {
    "name": "ipython",
    "version": 3
   },
   "file_extension": ".py",
   "mimetype": "text/x-python",
   "name": "python",
   "nbconvert_exporter": "python",
   "pygments_lexer": "ipython3",
   "version": "3.11.4"
  }
 },
 "nbformat": 4,
 "nbformat_minor": 5
}
