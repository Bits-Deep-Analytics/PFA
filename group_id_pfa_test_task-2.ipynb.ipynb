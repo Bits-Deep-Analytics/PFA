{
  "nbformat": 4,
  "nbformat_minor": 0,
  "metadata": {
    "colab": {
      "provenance": []
    },
    "kernelspec": {
      "name": "python3",
      "display_name": "Python 3"
    },
    "language_info": {
      "name": "python"
    }
  },
  "cells": [
    {
      "cell_type": "code",
      "execution_count": 1,
      "metadata": {
        "id": "QfFEgRc69BAa"
      },
      "outputs": [],
      "source": [
        "import pandas as pd\n",
        "url = 'https://raw.githubusercontent.com/Bits-Deep-Analytics/PFA/main/Iris.csv'\n",
        "data = pd.read_csv(url)\n",
        "df = data\n",
        "df['pl_pw'] = df['PetalLengthCm'] / df['PetalWidthCm']\n",
        "df['sl_sw'] = df['SepalLengthCm'] / df['SepalWidthCm']\n",
        "df['plw_slw_ratio'] = df['pl_pw'] / df['sl_sw']\n",
        "columns_to_drop = ['PetalLengthCm', 'PetalWidthCm', 'SepalLengthCm', 'SepalWidthCm','Id']\n",
        "df = df.drop(columns=columns_to_drop)\n",
        "df.to_csv('group_14_pfa_test_task-2.csv', index=False)"
      ]
    }
  ]
}