{
 "cells": [
  {
   "cell_type": "markdown",
   "metadata": {
    "colab_type": "text",
    "id": "view-in-github"
   },
   "source": [
    "<a href=\"https://colab.research.google.com/github/Bits-Deep-Analytics/PFA/blob/main/EDA.ipynb\" target=\"_blank\"><img src=\"https://colab.research.google.com/assets/colab-badge.svg\" alt=\"Open this notebook in Colaboratory\"/></a>"
   ]
  },
  {
   "cell_type": "markdown",
   "metadata": {
    "id": "TVS-EMg3SqWB"
   },
   "source": [
    "### Read and Merge"
   ]
  },
  {
   "cell_type": "code",
   "execution_count": null,
   "metadata": {
    "colab": {
     "base_uri": "https://localhost:8080/",
     "height": 222
    },
    "id": "s23dcg7oD0EX",
    "outputId": "aa70974e-9e09-4eeb-c58f-e5b91286ccdc",
    "scrolled": true
   },
   "outputs": [],
   "source": [
    "import pandas as pd\n",
    "import numpy as np\n",
    "import seaborn as sns\n",
    "import matplotlib.pyplot as plt\n",
    "from sklearn.linear_model import LinearRegression\n",
    "import scipy.stats as st\n",
    "import plotly.express as px\n",
    "\n",
    "test = pd.read_csv('https://raw.githubusercontent.com/Bits-Deep-Analytics/PFA/main/churn-bigml-20.csv')\n",
    "train = pd.read_csv('https://raw.githubusercontent.com/Bits-Deep-Analytics/PFA/main/churn-bigml-80.csv')\n",
    "complete = [train, test]\n",
    "data = pd.concat(complete)\n",
    "data.head(3)\n",
    "print(data.columns)\n",
    "print(data['Churn'].value_counts())"
   ]
  },
  {
   "cell_type": "markdown",
   "metadata": {},
   "source": [
    "### Statistical analysis & Visualization"
   ]
  },
  {
   "cell_type": "code",
   "execution_count": null,
   "metadata": {
    "scrolled": false
   },
   "outputs": [],
   "source": [
    "sns.set_style(\"whitegrid\")\n",
    "sns.FacetGrid(data, hue='Churn', height=4).map(plt.scatter, 'Total eve charge', 'Total day charge').add_legend();\n",
    "plt.show()"
   ]
  },
  {
   "cell_type": "code",
   "execution_count": null,
   "metadata": {},
   "outputs": [],
   "source": [
    "fig = px.scatter_3d(data, x='Total day minutes', y='Total eve minutes', z='Total night minutes',\n",
    "              color='Churn',width=900, height=900)\n",
    "fig.show()"
   ]
  },
  {
   "cell_type": "code",
   "execution_count": null,
   "metadata": {
    "scrolled": false
   },
   "outputs": [],
   "source": [
    "sns.set_style('whitegrid')\n",
    "ss = data.iloc[:,[6,9,12,19]]\n",
    "sns.pairplot(ss,hue='Churn',diag_kind='kde')\n",
    "plt.show()"
   ]
  },
  {
   "cell_type": "code",
   "execution_count": null,
   "metadata": {},
   "outputs": [],
   "source": [
    "sns.FacetGrid(data,hue='Churn',height=8).map(sns.histplot,'Total day minutes', bins=50).add_legend()\n",
    "plt.show()"
   ]
  },
  {
   "cell_type": "code",
   "execution_count": null,
   "metadata": {},
   "outputs": [],
   "source": [
    "f,x = np.histogram(data['Total day minutes'],bins = 50, density = False)\n",
    "pdf = f/sum(f)\n",
    "plt.plot(x[1:],pdf)\n",
    "cdf = np.cumsum(pdf)\n",
    "plt.plot(x[1:],cdf)\n",
    "plt.show()"
   ]
  },
  {
   "cell_type": "code",
   "execution_count": null,
   "metadata": {},
   "outputs": [],
   "source": [
    "print(np.mean(data['Total day minutes']))\n",
    "print(np.median(data['Total day minutes']))\n",
    "print(np.std(data['Total day minutes']))\n",
    "print(np.percentile(data['Total day minutes'],np.arange(0,100,25)))\n",
    "print(np.percentile(data['Total day minutes'],90))\n",
    "from statsmodels import robust\n",
    "print(robust.mad(data['Total day minutes']))\n"
   ]
  },
  {
   "cell_type": "markdown",
   "metadata": {
    "id": "3K--DnYeV0TL"
   },
   "source": [
    "### Draw diagrams"
   ]
  },
  {
   "cell_type": "code",
   "execution_count": null,
   "metadata": {
    "colab": {
     "base_uri": "https://localhost:8080/"
    },
    "id": "BCEpNu-wSgbE",
    "outputId": "529204dc-60af-4641-fe14-1e0303221cf1"
   },
   "outputs": [],
   "source": [
    "ct_ci_ch = pd.crosstab(data['International plan'],data['Churn'])\n",
    "ct_ci_ip = pd.crosstab(data['Churn'],data['International plan'])\n",
    "print(ct_ci_ch,\"\\n\")\n",
    "ct_ci_m = pd.crosstab(data['Churn'], data['International plan'], margins = True)\n",
    "print(ct_ci_m)"
   ]
  },
  {
   "cell_type": "code",
   "execution_count": null,
   "metadata": {},
   "outputs": [],
   "source": [
    "ct_ci_ip.plot(kind = 'bar', stacked = True) # Example of stacked barplot\n",
    "plt.show()"
   ]
  },
  {
   "cell_type": "code",
   "execution_count": null,
   "metadata": {
    "colab": {
     "base_uri": "https://localhost:8080/",
     "height": 510
    },
    "id": "BYtsfpObijfu",
    "outputId": "b063dbae-09d6-4420-9a22-3e88fb4167a0"
   },
   "outputs": [],
   "source": [
    "ct_ci_ch.plot(kind = 'bar', stacked = False)\n",
    "plt.show()"
   ]
  },
  {
   "cell_type": "code",
   "execution_count": null,
   "metadata": {
    "colab": {
     "base_uri": "https://localhost:8080/",
     "height": 520
    },
    "id": "vTsBaORaqNTK",
    "outputId": "f28eb7c8-7b37-47dd-8fa8-4357301d9b86"
   },
   "outputs": [],
   "source": [
    "ct_ci_ip.plot(kind = 'bar', stacked = False)\n",
    "plt.show()"
   ]
  },
  {
   "cell_type": "code",
   "execution_count": null,
   "metadata": {
    "colab": {
     "base_uri": "https://localhost:8080/"
    },
    "id": "zdCdRIxCSiY5",
    "outputId": "94844d50-d668-45ff-c726-ab75847da785"
   },
   "outputs": [],
   "source": [
    "ct_ci_nr = pd.crosstab(data['International plan'],data['Churn'], \n",
    "                       normalize = 'columns')\n",
    "ct_ci_nr = ct_ci_nr\n",
    "print(ct_ci_nr.transpose(),\"\\n\")\n",
    "ct_ci_nc = pd.crosstab(data['Churn'], data['International plan'], \n",
    "                       normalize = 'columns')\n",
    "ct_ci_nc = ct_ci_nc\n",
    "print(ct_ci_nc)"
   ]
  },
  {
   "cell_type": "code",
   "execution_count": null,
   "metadata": {
    "colab": {
     "base_uri": "https://localhost:8080/",
     "height": 234
    },
    "id": "Y_qTd_CxiwRb",
    "outputId": "48988de9-1cf3-4f20-e7c1-39886debdf94"
   },
   "outputs": [],
   "source": [
    "ct_ci_nr.plot(kind = 'pie', subplots = True, legend = False)\n",
    "plt.show()"
   ]
  },
  {
   "cell_type": "code",
   "execution_count": null,
   "metadata": {
    "colab": {
     "base_uri": "https://localhost:8080/",
     "height": 234
    },
    "id": "NtCUuew2qcC8",
    "outputId": "36a35b08-807d-4eb5-fb21-11e9d07d5a50"
   },
   "outputs": [],
   "source": [
    "ct_ci_nc.plot(kind = 'pie', subplots = True, legend = False)\n",
    "plt.show()"
   ]
  },
  {
   "cell_type": "code",
   "execution_count": null,
   "metadata": {
    "colab": {
     "base_uri": "https://localhost:8080/",
     "height": 483
    },
    "id": "soMQclO7SkO7",
    "outputId": "dcfa87c2-4502-415a-cf7e-c7509c30b962"
   },
   "outputs": [],
   "source": [
    "plt.figure(figsize=(8, 8))\n",
    "plt.hist(data['Customer service calls'])\n",
    "plt.show()"
   ]
  },
  {
   "cell_type": "code",
   "execution_count": null,
   "metadata": {},
   "outputs": [],
   "source": [
    "sns.violinplot(x = data['Churn'], y = data['Total eve minutes'])\n",
    "plt.show()"
   ]
  },
  {
   "cell_type": "code",
   "execution_count": null,
   "metadata": {},
   "outputs": [],
   "source": [
    "sns.boxplot(x = data['Churn'], y = data['Total eve minutes'])\n",
    "plt.show()"
   ]
  },
  {
   "cell_type": "code",
   "execution_count": null,
   "metadata": {},
   "outputs": [],
   "source": [
    "sns.jointplot(data = data, x = 'Total eve minutes', y = 'Total night minutes', kind=\"hist\")\n",
    "plt.show();"
   ]
  },
  {
   "cell_type": "code",
   "execution_count": null,
   "metadata": {
    "colab": {
     "base_uri": "https://localhost:8080/",
     "height": 483
    },
    "id": "7zLUG0670HBM",
    "outputId": "f8e2e610-245f-4179-b5b4-ec579f4dd939"
   },
   "outputs": [],
   "source": [
    "plt.figure(figsize=(8, 8))\n",
    "plt.hist([data['Total eve minutes'], data['Total day minutes']], bins = 100, \n",
    "         stacked=True, density=False)\n",
    "plt.show()"
   ]
  },
  {
   "cell_type": "code",
   "execution_count": null,
   "metadata": {
    "colab": {
     "base_uri": "https://localhost:8080/",
     "height": 483
    },
    "id": "DGflIDo00Lt0",
    "outputId": "33981318-0c7d-4c42-e589-8ae7cbebe412"
   },
   "outputs": [],
   "source": [
    "(counts, bins) = np.histogram(data['Customer service calls'], bins=range(11))\n",
    "factor = 1/sum(counts)\n",
    "plt.figure(figsize=(8, 8))\n",
    "plt.hist(bins[:-1], bins, weights=factor*counts)\n",
    "plt.show()"
   ]
  },
  {
   "cell_type": "code",
   "execution_count": null,
   "metadata": {
    "colab": {
     "base_uri": "https://localhost:8080/",
     "height": 502
    },
    "id": "BsWvwRCG0NnS",
    "outputId": "38b458dc-e867-4ecd-f216-eeb1ff77706f"
   },
   "outputs": [],
   "source": [
    "sns.set(rc={\"figure.figsize\":(8, 8)})\n",
    "sns.histplot(data, x=data['Customer service calls'], hue=data['Churn'], \n",
    "             multiple=\"stack\", legend = True) # Set multiple=\"fill\" to make your histogram normalized\n",
    "plt.show()"
   ]
  },
  {
   "cell_type": "code",
   "execution_count": null,
   "metadata": {},
   "outputs": [],
   "source": [
    "sns.set(rc={\"figure.figsize\":(8, 8)})\n",
    "sns.histplot(data, x=data['Customer service calls'], hue=data['Churn'], \n",
    "             multiple=\"fill\", legend = True) \n",
    "plt.show()"
   ]
  },
  {
   "cell_type": "code",
   "execution_count": null,
   "metadata": {
    "colab": {
     "base_uri": "https://localhost:8080/"
    },
    "id": "AIk5S3VI0PfV",
    "outputId": "d94014d6-1737-4f8e-80df-bf5d0e50c9b3"
   },
   "outputs": [],
   "source": [
    "churners = data[data['Churn'] == True]\n",
    "non_churners = data[data['Churn'] == False]\n",
    "c_ic = churners['Total intl calls']\n",
    "nc_ic = non_churners['Total intl calls']\n",
    "from scipy.stats import ttest_ind\n",
    "t_stat, p_value = ttest_ind(c_ic, nc_ic)\n",
    "print(\"T-statistic value: \", t_stat)\n",
    "print(\"P-Value: \", p_value)"
   ]
  },
  {
   "cell_type": "code",
   "execution_count": null,
   "metadata": {
    "colab": {
     "base_uri": "https://localhost:8080/",
     "height": 502
    },
    "id": "WLAa73GD0ScV",
    "outputId": "5e303a8c-5239-47fd-8801-f365e5347c3a"
   },
   "outputs": [],
   "source": [
    "sns.set(rc={\"figure.figsize\":(8, 8)})\n",
    "g = sns.scatterplot(x = data['Total eve minutes'], y = data['Total day minutes'],\n",
    "                   hue = data['Churn'], s = 15);"
   ]
  },
  {
   "cell_type": "code",
   "execution_count": null,
   "metadata": {
    "colab": {
     "base_uri": "https://localhost:8080/",
     "height": 502
    },
    "id": "R52VCieO0UDL",
    "outputId": "1b336ea4-6ceb-4460-fcc5-dabce0cf84e4"
   },
   "outputs": [],
   "source": [
    "sns.set(rc={\"figure.figsize\":(8, 8)})\n",
    "g =sns.scatterplot(x=data['Total day minutes'], y=data['Customer service calls'],\n",
    "                   hue=data['Churn'], s = 15);"
   ]
  },
  {
   "cell_type": "code",
   "execution_count": null,
   "metadata": {
    "colab": {
     "base_uri": "https://localhost:8080/",
     "height": 467
    },
    "id": "MGc0EUIb0V0r",
    "outputId": "42e5e5a8-81cc-4099-b272-94de190993fd"
   },
   "outputs": [],
   "source": [
    "px.scatter_matrix(data.iloc[:, [6,7,8]],width=550, height=450)"
   ]
  },
  {
   "cell_type": "code",
   "execution_count": null,
   "metadata": {
    "colab": {
     "base_uri": "https://localhost:8080/"
    },
    "id": "HQQhb97D0Xq5",
    "outputId": "ff3db468-3973-4933-e912-0d9ee74350ea"
   },
   "outputs": [],
   "source": [
    "mins = data['Total day minutes']\n",
    "calls = data['Total day calls']\n",
    "charge = data['Total day charge']\n",
    "\n",
    "print(st.pearsonr(mins,calls))\n",
    "print(st.pearsonr(mins,charge))\n",
    "print(st.pearsonr(calls,charge))"
   ]
  },
  {
   "cell_type": "code",
   "execution_count": null,
   "metadata": {
    "colab": {
     "base_uri": "https://localhost:8080/",
     "height": 572
    },
    "id": "eSbM7HOV0ZPX",
    "outputId": "73aa536f-5038-4592-a058-33b61fa75b66"
   },
   "outputs": [],
   "source": [
    "model = LinearRegression()\n",
    "x = data['Total day minutes']\n",
    "y = data['Total eve minutes']\n",
    "\n",
    "slope, intercept, r, p, std_err = st.linregress(x, y)\n",
    "x = np.array(x).reshape((-1, 1))\n",
    "y = np.array(y)\n",
    "model.fit(x, y)\n",
    "model = LinearRegression().fit(x, y)\n",
    "r_sq = model.score(x, y)\n",
    "print(f\"coefficient of determination: {r_sq}\")\n",
    "print(f\"intercept: {model.intercept_}\")\n",
    "print(f\"slope: {model.coef_}\")\n",
    "y_pred = model.predict([[5]])\n",
    "print(f\"predicted response:\\n{y_pred}\")\n",
    "\n",
    "def myfunc(x):\n",
    "  return slope * x + intercept\n",
    "\n",
    "mymodel = list(map(myfunc, x))\n",
    "plt.figure(figsize=(8, 8))\n",
    "plt.scatter(x, y, s = 5)\n",
    "plt.plot(x, mymodel)\n",
    "plt.show()\n"
   ]
  }
 ],
 "metadata": {
  "colab": {
   "include_colab_link": true,
   "provenance": []
  },
  "gpuClass": "standard",
  "kernelspec": {
   "display_name": "Python 3 (ipykernel)",
   "language": "python",
   "name": "python3"
  },
  "language_info": {
   "codemirror_mode": {
    "name": "ipython",
    "version": 3
   },
   "file_extension": ".py",
   "mimetype": "text/x-python",
   "name": "python",
   "nbconvert_exporter": "python",
   "pygments_lexer": "ipython3",
   "version": "3.9.16"
  }
 },
 "nbformat": 4,
 "nbformat_minor": 1
}
