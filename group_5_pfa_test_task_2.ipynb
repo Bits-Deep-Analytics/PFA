{
 "cells": [
  {
   "cell_type": "code",
   "execution_count": 14,
   "id": "c3223920",
   "metadata": {},
   "outputs": [
    {
     "name": "stdout",
     "output_type": "stream",
     "text": [
      "        pl_pw     sl_sw  plw_slw_ratio         Species\n",
      "0    7.000000  1.457143       4.803922     Iris-setosa\n",
      "1    7.000000  1.633333       4.285714     Iris-setosa\n",
      "2    6.500000  1.468750       4.425532     Iris-setosa\n",
      "3    7.500000  1.483871       5.054348     Iris-setosa\n",
      "4    7.000000  1.388889       5.040000     Iris-setosa\n",
      "..        ...       ...            ...             ...\n",
      "145  2.260870  2.233333       1.012330  Iris-virginica\n",
      "146  2.631579  2.520000       1.044277  Iris-virginica\n",
      "147  2.600000  2.166667       1.200000  Iris-virginica\n",
      "148  2.347826  1.823529       1.287518  Iris-virginica\n",
      "149  2.833333  1.966667       1.440678  Iris-virginica\n",
      "\n",
      "[150 rows x 4 columns]\n"
     ]
    }
   ],
   "source": [
    "import pandas as pd\n",
    "from sklearn.datasets import load_iris\n",
    "\n",
    "# Load the iris dataset\n",
    "iris_data = pd.read_csv(\"https://raw.githubusercontent.com/Bits-Deep-Analytics/PFA/main/Iris.csv\")\n",
    "\n",
    "# Create new features\n",
    "iris_data['pl_pw'] = iris_data['PetalLengthCm'] / iris_data['PetalWidthCm']\n",
    "iris_data['sl_sw'] = iris_data['SepalLengthCm'] / iris_data['SepalWidthCm']\n",
    "iris_data['plw_slw_ratio'] = iris_data['pl_pw'] / iris_data['sl_sw']\n",
    "\n",
    "# Keep only the derived attributes and the target variable (Species)\n",
    "selected_columns = ['pl_pw', 'sl_sw', 'plw_slw_ratio', 'Species']\n",
    "iris_data = iris_data[selected_columns]\n",
    "\n",
    "# Save the new dataset to a CSV file\n",
    "iris_data.to_csv('group_id_pfa_test_task-2.csv', index = False)\n",
    "print(iris_data)"
   ]
  }
 ],
 "metadata": {
  "kernelspec": {
   "display_name": "Python 3 (ipykernel)",
   "language": "python",
   "name": "python3"
  },
  "language_info": {
   "codemirror_mode": {
    "name": "ipython",
    "version": 3
   },
   "file_extension": ".py",
   "mimetype": "text/x-python",
   "name": "python",
   "nbconvert_exporter": "python",
   "pygments_lexer": "ipython3",
   "version": "3.11.4"
  }
 },
 "nbformat": 4,
 "nbformat_minor": 5
}
