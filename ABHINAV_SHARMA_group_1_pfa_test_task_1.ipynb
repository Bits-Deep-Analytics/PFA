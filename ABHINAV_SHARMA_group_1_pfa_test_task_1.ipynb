{
  "nbformat": 4,
  "nbformat_minor": 0,
  "metadata": {
    "colab": {
      "provenance": []
    },
    "kernelspec": {
      "name": "python3",
      "display_name": "Python 3"
    },
    "language_info": {
      "name": "python"
    }
  },
  "cells": [
    {
      "cell_type": "code",
      "execution_count": 1,
      "metadata": {
        "id": "fCCJwB3BsHwy",
        "colab": {
          "base_uri": "https://localhost:8080/"
        },
        "outputId": "933fac14-0df6-4888-865f-7957fd1c9893"
      },
      "outputs": [
        {
          "output_type": "stream",
          "name": "stdout",
          "text": [
            "Staqueue status: [4, 2]\n"
          ]
        }
      ],
      "source": [
        "## Please write your code here\n",
        "## Only to be submitted by team leader\n",
        "class Staqueue:\n",
        "    def __init__(self):\n",
        "        self.elements = []\n",
        "\n",
        "    def enter(self, x):\n",
        "        if isinstance(x, int):\n",
        "            self.elements.append(x)\n",
        "\n",
        "    def pop(self):\n",
        "        if self.elements:\n",
        "            self.elements.pop()\n",
        "\n",
        "    def dequeue(self):\n",
        "        if self.elements:\n",
        "            self.elements.pop(2)\n",
        "\n",
        "    def print(self):\n",
        "        print(\"Staqueue status:\", self.elements)\n",
        "\n",
        "\n",
        "# Test case\n",
        "staqueue_obj = Staqueue()\n",
        "\n",
        "staqueue_obj.enter(4)\n",
        "staqueue_obj.enter(2)\n",
        "staqueue_obj.enter(3)\n",
        "staqueue_obj.dequeue()\n",
        "staqueue_obj.enter(2)\n",
        "staqueue_obj.pop()\n",
        "\n",
        "staqueue_obj.print()"
      ]
    }
  ]
}