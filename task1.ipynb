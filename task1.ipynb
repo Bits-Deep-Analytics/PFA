{
  "nbformat": 4,
  "nbformat_minor": 0,
  "metadata": {
    "colab": {
      "provenance": []
    },
    "kernelspec": {
      "name": "python3",
      "display_name": "Python 3"
    },
    "language_info": {
      "name": "python"
    }
  },
  "cells": [
    {
      "cell_type": "code",
      "execution_count": 2,
      "metadata": {
        "colab": {
          "base_uri": "https://localhost:8080/"
        },
        "id": "rsgkKIsgG24e",
        "outputId": "1a836705-b645-4e56-aace-66404b7b1d72"
      },
      "outputs": [
        {
          "output_type": "stream",
          "name": "stdout",
          "text": [
            "Error:4.2 is not an integer\n",
            "Staqueue Status:\n",
            "Bottom/Front/Left to Top/Rear/Right: [3]\n"
          ]
        }
      ],
      "source": [
        "class Staqueue:\n",
        "    def __init__(self):\n",
        "        self.elements = []\n",
        "\n",
        "    def enter(self, x):\n",
        "        if isinstance(x, int):\n",
        "            self.elements = self.elements + [x]\n",
        "        else:\n",
        "          print(f\"Error:{x} is not an integer\")\n",
        "\n",
        "    def pop(self):\n",
        "        if self.elements:\n",
        "            top_element = self.elements[-1]\n",
        "            self.elements = self.elements[:-1]\n",
        "            return top_element\n",
        "\n",
        "    def dequeue(self):\n",
        "        if self.elements:\n",
        "            front_element = self.elements[0]\n",
        "            self.elements = self.elements[1:]\n",
        "            return front_element\n",
        "\n",
        "    def print(self):\n",
        "        print(\"Staqueue Status:\")\n",
        "        print(\"Bottom/Front/Left to Top/Rear/Right:\", self.elements)\n",
        "\n",
        "\n",
        "# Test case with non-integer value\n",
        "staqueue_obj = Staqueue()\n",
        "staqueue_obj.enter(4.2)\n",
        "staqueue_obj.enter(2)\n",
        "staqueue_obj.enter(3)\n",
        "staqueue_obj.dequeue()\n",
        "staqueue_obj.enter(2)\n",
        "staqueue_obj.pop()\n",
        "\n",
        "staqueue_obj.print()"
      ]
    }
  ]
}