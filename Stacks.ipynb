{
  "nbformat": 4,
  "nbformat_minor": 0,
  "metadata": {
    "colab": {
      "provenance": []
    },
    "language_info": {
      "name": "python"
    },
    "kernelspec": {
      "name": "python3",
      "display_name": "Python 3"
    }
  },
  "cells": [
    {
      "cell_type": "code",
      "execution_count": null,
      "metadata": {
        "id": "ktQyk9XTFNH-"
      },
      "outputs": [],
      "source": [
        "class Stack:\n",
        "  def __init__(itself):\n",
        "    itself.__item = []\n",
        "  def __len__(itself):\n",
        "    return len(itself.__item)\n",
        "  def push(itself,item):\n",
        "    itself.__item.insert(0,item)\n",
        "  def peek(itself):\n",
        "    if len(itself) == 0:\n",
        "      raise AttributeError(\"peek() called on empty Stack.\")\n",
        "    return itself.__item[0]\n",
        "  def pop(itself):\n",
        "    if len(itself) == 0:\n",
        "      raise Exception(\"pop() called on empty Stack.\")\n",
        "    return itself.__item.pop(0)\n",
        "  def __str__(itself):\n",
        "    return str(itself.__item)"
      ]
    },
    {
      "cell_type": "code",
      "source": [
        "s = Stack()\n",
        "# print(s.item)\n",
        "# s.peek()           # Stack = []\n",
        "# len(s)\n",
        "# s.push(5)          # Stack = [5]\n",
        "# s.push('Apple')    # Stack = ['Apple',5]\n",
        "# s.push({'A':'B'})  # Stack = [{'A':'B'},'Apple',5]\n",
        "# s.push(25)         # Stack = [25,{'A':'B'},'Apple',5]\n",
        "# len(s)\n",
        "str(s)\n",
        "# s.pop()            # Stack = [{'A':'B'},'Apple',5]\n",
        "# s.pop()            # Stack = ['Apple',5]\n",
        "# str(s)\n",
        "# len(s)\n",
        "# s.peek()"
      ],
      "metadata": {
        "colab": {
          "base_uri": "https://localhost:8080/",
          "height": 35
        },
        "id": "KufzRdnEGHef",
        "outputId": "458f858d-0a99-409e-f0fe-471e35c7956f"
      },
      "execution_count": null,
      "outputs": [
        {
          "output_type": "execute_result",
          "data": {
            "text/plain": [
              "\"['Apple', 5]\""
            ],
            "application/vnd.google.colaboratory.intrinsic+json": {
              "type": "string"
            }
          },
          "metadata": {},
          "execution_count": 22
        }
      ]
    }
  ]
}