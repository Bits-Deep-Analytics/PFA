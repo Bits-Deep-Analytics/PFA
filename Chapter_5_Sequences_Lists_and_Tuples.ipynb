{
  "nbformat": 4,
  "nbformat_minor": 0,
  "metadata": {
    "colab": {
      "provenance": []
    },
    "language_info": {
      "name": "python"
    },
    "kernelspec": {
      "name": "python3",
      "display_name": "Python 3"
    }
  },
  "cells": [
    {
      "cell_type": "markdown",
      "source": [
        "# Sequences: Lists and Tuples"
      ],
      "metadata": {
        "id": "FYZPjySf6PrJ"
      }
    },
    {
      "cell_type": "markdown",
      "source": [
        "## Introduction"
      ],
      "metadata": {
        "id": "DekJZpAm6LkM"
      }
    },
    {
      "cell_type": "markdown",
      "source": [
        "Create and initialize lists and\n",
        "tuples.\n",
        "*   Refer to elements of lists,\n",
        "tuples and strings.\n",
        "*   Sort and search lists, and\n",
        "search tuples.\n",
        "*   Pass lists and tuples to\n",
        "functions and methods.\n",
        "*   Use list methods to perform\n",
        "common manipulations, such\n",
        "as searching for items, sorting\n",
        "a list, inserting items and\n",
        "removing items.\n",
        "*   Use additional Python\n",
        "functional-style programming\n",
        "capabilities, including\n",
        "lambdas and the operations\n",
        "filter, map and reduce.\n",
        "*   Use functional-style list\n",
        "comprehensions to create lists\n",
        "quickly and easily, and use\n",
        "generator expressions to\n",
        "generate values on demand.\n",
        "*   Use two-dimensional lists.\n",
        "*   Enhance your analysis and\n",
        "presentation skills with the\n",
        "Seaborn and Matplotlib\n",
        "visualization libraries."
      ],
      "metadata": {
        "id": "gebhU2sH6Udd"
      }
    },
    {
      "cell_type": "markdown",
      "source": [
        "## List"
      ],
      "metadata": {
        "id": "xXMMgGd7hfGn"
      }
    },
    {
      "cell_type": "code",
      "execution_count": null,
      "metadata": {
        "id": "8SAwvZVVr_XB",
        "colab": {
          "base_uri": "https://localhost:8080/",
          "height": 35
        },
        "outputId": "e3533b52-b93a-48fe-e03e-a479cc0facb6"
      },
      "outputs": [
        {
          "output_type": "execute_result",
          "data": {
            "text/plain": [
              "'Mary'"
            ],
            "application/vnd.google.colaboratory.intrinsic+json": {
              "type": "string"
            }
          },
          "metadata": {},
          "execution_count": 1
        }
      ],
      "source": [
        "l1 = ['Mary', 'Smith', 3.57, 2022] # Creating a list\n",
        "l1[0] # Accessing list items"
      ]
    },
    {
      "cell_type": "code",
      "source": [
        "len(l1) # Determining a List’s Length"
      ],
      "metadata": {
        "colab": {
          "base_uri": "https://localhost:8080/"
        },
        "id": "IT8nLWLx2Y_j",
        "outputId": "9d4a68b9-355a-4943-b67d-0cb3366d943a"
      },
      "execution_count": null,
      "outputs": [
        {
          "output_type": "execute_result",
          "data": {
            "text/plain": [
              "4"
            ]
          },
          "metadata": {},
          "execution_count": 2
        }
      ]
    },
    {
      "cell_type": "code",
      "source": [
        "print(l1[-1])"
      ],
      "metadata": {
        "colab": {
          "base_uri": "https://localhost:8080/"
        },
        "id": "nIXto2OB2aof",
        "outputId": "9725b63a-0891-4c51-ea03-65a925466de2"
      },
      "execution_count": null,
      "outputs": [
        {
          "output_type": "stream",
          "name": "stdout",
          "text": [
            "2022\n"
          ]
        }
      ]
    },
    {
      "cell_type": "code",
      "source": [
        "l1[2] = 4 # Lists Are Mutable"
      ],
      "metadata": {
        "id": "O2YD_OBk8rYp"
      },
      "execution_count": null,
      "outputs": []
    },
    {
      "cell_type": "code",
      "source": [
        "s = 'hello'\n",
        "# s[0] = 'H' # Strings are like tuples\n",
        "print(s)"
      ],
      "metadata": {
        "colab": {
          "base_uri": "https://localhost:8080/"
        },
        "id": "eEradoDE2agh",
        "outputId": "7bbb1be0-e439-433f-c364-1c124c7720c0"
      },
      "execution_count": null,
      "outputs": [
        {
          "output_type": "stream",
          "name": "stdout",
          "text": [
            "hello\n"
          ]
        }
      ]
    },
    {
      "cell_type": "markdown",
      "source": [
        "### Accessing Elements from the End of the List with Negative Indices"
      ],
      "metadata": {
        "id": "fgOHAet97M1I"
      }
    },
    {
      "cell_type": "code",
      "source": [
        "# s[10] # What's wrong in it\n",
        "s[-1]"
      ],
      "metadata": {
        "id": "zWXL-zd62aVv",
        "colab": {
          "base_uri": "https://localhost:8080/",
          "height": 35
        },
        "outputId": "4e05a599-1e40-45aa-d580-4b9f6facfcb4"
      },
      "execution_count": null,
      "outputs": [
        {
          "output_type": "execute_result",
          "data": {
            "text/plain": [
              "'o'"
            ],
            "application/vnd.google.colaboratory.intrinsic+json": {
              "type": "string"
            }
          },
          "metadata": {},
          "execution_count": 6
        }
      ]
    },
    {
      "cell_type": "code",
      "source": [
        "# Overload it\n",
        "s[0] + s[1+2] # Indices Must Be Integers or Integer Expressions"
      ],
      "metadata": {
        "id": "ffB3CgtP2iLn",
        "colab": {
          "base_uri": "https://localhost:8080/",
          "height": 35
        },
        "outputId": "f8b764a9-e4ea-4920-97b2-27e79f38ac40"
      },
      "execution_count": null,
      "outputs": [
        {
          "output_type": "execute_result",
          "data": {
            "text/plain": [
              "'hl'"
            ],
            "application/vnd.google.colaboratory.intrinsic+json": {
              "type": "string"
            }
          },
          "metadata": {},
          "execution_count": 7
        }
      ]
    },
    {
      "cell_type": "code",
      "source": [
        "l1[0] = 2"
      ],
      "metadata": {
        "id": "NuPwTlCx8NeC"
      },
      "execution_count": null,
      "outputs": []
    },
    {
      "cell_type": "markdown",
      "source": [
        "### Appending to a List with +="
      ],
      "metadata": {
        "id": "k_HqmKJJ9bT5"
      }
    },
    {
      "cell_type": "code",
      "source": [
        "a_list = []\n",
        "for number in range(1,6):\n",
        "  a_list += [number]\n",
        "\n",
        "a_list"
      ],
      "metadata": {
        "id": "y5AtDE9S2vsW",
        "colab": {
          "base_uri": "https://localhost:8080/"
        },
        "outputId": "01bd8d64-57b1-4501-a630-8853d16854ff"
      },
      "execution_count": null,
      "outputs": [
        {
          "output_type": "execute_result",
          "data": {
            "text/plain": [
              "[1, 2, 3, 4, 5]"
            ]
          },
          "metadata": {},
          "execution_count": 9
        }
      ]
    },
    {
      "cell_type": "code",
      "source": [
        "a_list = []\n",
        "for number in range(1, 6):\n",
        "  a_list = a_list + [number]\n",
        "\n",
        "a_list"
      ],
      "metadata": {
        "colab": {
          "base_uri": "https://localhost:8080/"
        },
        "id": "SeTAEXYFh-4q",
        "outputId": "20af9e5b-d471-4bde-eae1-20c5752e2a3f"
      },
      "execution_count": null,
      "outputs": [
        {
          "output_type": "execute_result",
          "data": {
            "text/plain": [
              "[1, 2, 3, 4, 5]"
            ]
          },
          "metadata": {},
          "execution_count": 10
        }
      ]
    },
    {
      "cell_type": "code",
      "source": [
        "letters = []\n",
        "letters += 'Python'\n",
        "letters"
      ],
      "metadata": {
        "id": "dPAr_YES3Ag4",
        "colab": {
          "base_uri": "https://localhost:8080/"
        },
        "outputId": "47cfdacb-a3f0-4020-da2f-e3acc69f69e9"
      },
      "execution_count": null,
      "outputs": [
        {
          "output_type": "execute_result",
          "data": {
            "text/plain": [
              "['P', 'y', 't', 'h', 'o', 'n']"
            ]
          },
          "metadata": {},
          "execution_count": 11
        }
      ]
    },
    {
      "cell_type": "markdown",
      "source": [
        "### Concatenating Lists with +"
      ],
      "metadata": {
        "id": "8yxQKqYb3Um1"
      }
    },
    {
      "cell_type": "code",
      "source": [
        "list1 = [10, 20, 30]\n",
        "list2 = [40, 50]\n",
        "concatenated_list = list1 + list2\n",
        "concatenated_list"
      ],
      "metadata": {
        "id": "iIhe_ikH3AeQ",
        "colab": {
          "base_uri": "https://localhost:8080/"
        },
        "outputId": "f0c1d9be-e8d9-4c57-c5c1-0d313ae2060f"
      },
      "execution_count": null,
      "outputs": [
        {
          "output_type": "execute_result",
          "data": {
            "text/plain": [
              "[10, 20, 30, 40, 50]"
            ]
          },
          "metadata": {},
          "execution_count": 12
        }
      ]
    },
    {
      "cell_type": "markdown",
      "source": [
        "### Using for and range to Access List Indices and Values"
      ],
      "metadata": {
        "id": "2YyaRoYD92-H"
      }
    },
    {
      "cell_type": "code",
      "source": [
        "for i in range(len(concatenated_list)):\n",
        "  print(f'{i}: {concatenated_list[i]}')"
      ],
      "metadata": {
        "id": "Z_MEr-uu3Abj",
        "colab": {
          "base_uri": "https://localhost:8080/"
        },
        "outputId": "c4ecd248-560f-4d22-c72f-ab58692085a4"
      },
      "execution_count": null,
      "outputs": [
        {
          "output_type": "stream",
          "name": "stdout",
          "text": [
            "0: 10\n",
            "1: 20\n",
            "2: 30\n",
            "3: 40\n",
            "4: 50\n"
          ]
        }
      ]
    },
    {
      "cell_type": "markdown",
      "source": [
        "### Comparison Operators"
      ],
      "metadata": {
        "id": "U19saejX98h-"
      }
    },
    {
      "cell_type": "code",
      "source": [
        "a = [1, 2, 6]\n",
        "b = [1, 2, 3]\n",
        "c = [1, 2, 4]\n",
        "a < c\n",
        "# c > a\n",
        "# a < b"
      ],
      "metadata": {
        "id": "qUEK2TOz3AYx",
        "colab": {
          "base_uri": "https://localhost:8080/"
        },
        "outputId": "371fc5fe-7312-409e-8b14-332ad295cf1e"
      },
      "execution_count": null,
      "outputs": [
        {
          "output_type": "execute_result",
          "data": {
            "text/plain": [
              "False"
            ]
          },
          "metadata": {},
          "execution_count": 14
        }
      ]
    },
    {
      "cell_type": "code",
      "source": [
        "def square_list(values):\n",
        "  for i in range(len(values)):\n",
        "    values[i] **= 2\n",
        "\n",
        "numbers = [1, 2, 3, 4, 5, 6, 7, 8, 9, 10]\n",
        "square_list(numbers)\n",
        "numbers"
      ],
      "metadata": {
        "id": "sFj2S_6s3AVW",
        "colab": {
          "base_uri": "https://localhost:8080/"
        },
        "outputId": "8967a911-15a7-4db8-f9ee-b5fa34de72d8"
      },
      "execution_count": null,
      "outputs": [
        {
          "output_type": "execute_result",
          "data": {
            "text/plain": [
              "[1, 4, 9, 16, 25, 36, 49, 64, 81, 100]"
            ]
          },
          "metadata": {},
          "execution_count": 15
        }
      ]
    },
    {
      "cell_type": "markdown",
      "source": [
        "## Tuples"
      ],
      "metadata": {
        "id": "70Ue0QWo5j6z"
      }
    },
    {
      "cell_type": "markdown",
      "source": [
        "### Creating Tuples"
      ],
      "metadata": {
        "id": "O5qEEaE4WuSo"
      }
    },
    {
      "cell_type": "code",
      "source": [
        "student_tuple = ()\n",
        "student_tuple\n",
        "len(student_tuple)"
      ],
      "metadata": {
        "id": "WTfaAihx3APY",
        "colab": {
          "base_uri": "https://localhost:8080/"
        },
        "outputId": "3f42b1e5-adb2-41f6-cf5f-16615d1d856c"
      },
      "execution_count": null,
      "outputs": [
        {
          "output_type": "execute_result",
          "data": {
            "text/plain": [
              "0"
            ]
          },
          "metadata": {},
          "execution_count": 16
        }
      ]
    },
    {
      "cell_type": "code",
      "source": [
        "student_tuple = ('John', 'Green', 3.3)\n",
        "student_tuple\n",
        "len(student_tuple)"
      ],
      "metadata": {
        "id": "nBYbsJQa3ANR",
        "colab": {
          "base_uri": "https://localhost:8080/"
        },
        "outputId": "4b66c05e-db10-406b-cbdb-ebed68d90504"
      },
      "execution_count": null,
      "outputs": [
        {
          "output_type": "execute_result",
          "data": {
            "text/plain": [
              "3"
            ]
          },
          "metadata": {},
          "execution_count": 17
        }
      ]
    },
    {
      "cell_type": "code",
      "source": [
        "another_student_tuple = 'Mary', 'Red', 3.3\n",
        "another_student_tuple"
      ],
      "metadata": {
        "id": "PizmG3ak3AJ4",
        "colab": {
          "base_uri": "https://localhost:8080/"
        },
        "outputId": "867f60bb-b412-48b4-9ad3-e8df3776bfdb"
      },
      "execution_count": null,
      "outputs": [
        {
          "output_type": "execute_result",
          "data": {
            "text/plain": [
              "('Mary', 'Red', 3.3)"
            ]
          },
          "metadata": {},
          "execution_count": 18
        }
      ]
    },
    {
      "cell_type": "code",
      "source": [
        "a_singleton_tuple = 'red',\n",
        "a_singleton_tuple"
      ],
      "metadata": {
        "id": "fKZ220l-3AFg",
        "colab": {
          "base_uri": "https://localhost:8080/"
        },
        "outputId": "1b777d25-7bad-4f3b-dd40-6e2960ba5f47"
      },
      "execution_count": null,
      "outputs": [
        {
          "output_type": "execute_result",
          "data": {
            "text/plain": [
              "('red',)"
            ]
          },
          "metadata": {},
          "execution_count": 19
        }
      ]
    },
    {
      "cell_type": "markdown",
      "source": [
        "### Accessing Tuple Elements"
      ],
      "metadata": {
        "id": "hv3dk2vFTRLT"
      }
    },
    {
      "cell_type": "code",
      "source": [
        "time_tuple = (9, 16, 1)\n",
        "time_tuple\n",
        "time_tuple[0] * 3600 + time_tuple[1] * 60 + time_tuple[2]"
      ],
      "metadata": {
        "id": "avKExWl93AC_",
        "colab": {
          "base_uri": "https://localhost:8080/"
        },
        "outputId": "1632c62f-7933-4233-f77c-cc721f4054b8"
      },
      "execution_count": null,
      "outputs": [
        {
          "output_type": "execute_result",
          "data": {
            "text/plain": [
              "33361"
            ]
          },
          "metadata": {},
          "execution_count": 20
        }
      ]
    },
    {
      "cell_type": "markdown",
      "source": [
        "### Adding Items to a String or tuple"
      ],
      "metadata": {
        "id": "fDPnsUcwWoV9"
      }
    },
    {
      "cell_type": "code",
      "source": [
        "tuple1 = (10, 20, 30)\n",
        "tuple2 = tuple1\n",
        "tuple2"
      ],
      "metadata": {
        "colab": {
          "base_uri": "https://localhost:8080/"
        },
        "id": "6K-WuXySTuq0",
        "outputId": "d4fb41c8-40cf-4203-867a-d533a5f3e0be"
      },
      "execution_count": null,
      "outputs": [
        {
          "output_type": "execute_result",
          "data": {
            "text/plain": [
              "(10, 20, 30)"
            ]
          },
          "metadata": {},
          "execution_count": 21
        }
      ]
    },
    {
      "cell_type": "code",
      "source": [
        "tuple1 = (40,50)\n",
        "tuple1"
      ],
      "metadata": {
        "colab": {
          "base_uri": "https://localhost:8080/"
        },
        "id": "wWlWSPjlU7YM",
        "outputId": "1d66d1f1-2e24-4c3c-90ae-7d4f9af9fca9"
      },
      "execution_count": null,
      "outputs": [
        {
          "output_type": "execute_result",
          "data": {
            "text/plain": [
              "(40, 50)"
            ]
          },
          "metadata": {},
          "execution_count": 22
        }
      ]
    },
    {
      "cell_type": "code",
      "source": [
        "tuple2 = tuple1 + (40,50)\n",
        "tuple2"
      ],
      "metadata": {
        "colab": {
          "base_uri": "https://localhost:8080/"
        },
        "id": "5YpPcAh5U7Of",
        "outputId": "3f35c113-e111-42c0-e608-1c8786f886f5"
      },
      "execution_count": null,
      "outputs": [
        {
          "output_type": "execute_result",
          "data": {
            "text/plain": [
              "(40, 50, 40, 50)"
            ]
          },
          "metadata": {},
          "execution_count": 23
        }
      ]
    },
    {
      "cell_type": "markdown",
      "source": [
        "### Appending Tuples to Lists"
      ],
      "metadata": {
        "id": "4e4jPvEZWOby"
      }
    },
    {
      "cell_type": "code",
      "source": [
        "numbers = [1, 2, 3, 4, 5]\n",
        "numbers += (6, 7)\n",
        "numbers"
      ],
      "metadata": {
        "id": "TUuAj9W9WNV0",
        "colab": {
          "base_uri": "https://localhost:8080/"
        },
        "outputId": "768949a9-1c24-4584-d760-8492ff5419d1"
      },
      "execution_count": null,
      "outputs": [
        {
          "output_type": "execute_result",
          "data": {
            "text/plain": [
              "[1, 2, 3, 4, 5, 6, 7]"
            ]
          },
          "metadata": {},
          "execution_count": 24
        }
      ]
    },
    {
      "cell_type": "code",
      "source": [
        "tuple1 += (40,50)\n",
        "tuple1 = tuple1 + tuple2\n",
        "tuple1"
      ],
      "metadata": {
        "id": "q1aLCWDaWL_n",
        "colab": {
          "base_uri": "https://localhost:8080/"
        },
        "outputId": "44231066-8f5b-4228-d6bb-78d346d5f401"
      },
      "execution_count": null,
      "outputs": [
        {
          "output_type": "execute_result",
          "data": {
            "text/plain": [
              "(40, 50, 40, 50, 40, 50, 40, 50)"
            ]
          },
          "metadata": {},
          "execution_count": 25
        }
      ]
    },
    {
      "cell_type": "markdown",
      "source": [
        "### Tuples May Contain Mutable Objects"
      ],
      "metadata": {
        "id": "fFMzG0yNXnmC"
      }
    },
    {
      "cell_type": "code",
      "source": [
        "student_tuple = ('Amanda', 'Blue', [98, 75, 87])\n",
        "student_tuple[2][2]  = 1\n",
        "student_tuple"
      ],
      "metadata": {
        "id": "mzluQcj83AAe",
        "colab": {
          "base_uri": "https://localhost:8080/"
        },
        "outputId": "e5f55003-19db-4912-f939-7ee0649e8229"
      },
      "execution_count": null,
      "outputs": [
        {
          "output_type": "execute_result",
          "data": {
            "text/plain": [
              "('Amanda', 'Blue', [98, 75, 1])"
            ]
          },
          "metadata": {},
          "execution_count": 26
        }
      ]
    },
    {
      "cell_type": "markdown",
      "source": [
        "## Unpacking Sequences"
      ],
      "metadata": {
        "id": "oXTnEWn_Z0zd"
      }
    },
    {
      "cell_type": "code",
      "source": [
        "student_tuple = ('Amanda', [98, 85, 87])\n",
        "first_name, grades = student_tuple\n",
        "grades\n",
        "# student_tuple[0:1]"
      ],
      "metadata": {
        "id": "Miwyn0rkBIUb",
        "colab": {
          "base_uri": "https://localhost:8080/"
        },
        "outputId": "15b494f4-06fc-4468-9807-5123155e6dcd"
      },
      "execution_count": null,
      "outputs": [
        {
          "output_type": "execute_result",
          "data": {
            "text/plain": [
              "[98, 85, 87]"
            ]
          },
          "metadata": {},
          "execution_count": 108
        }
      ]
    },
    {
      "cell_type": "code",
      "source": [
        "first, second = 'hi'\n",
        "print(f'{first} {second}')"
      ],
      "metadata": {
        "colab": {
          "base_uri": "https://localhost:8080/"
        },
        "id": "nwbDAFQabk-h",
        "outputId": "3c3486d0-4a57-4b21-db69-7d1d8bd1d2cb"
      },
      "execution_count": null,
      "outputs": [
        {
          "output_type": "stream",
          "name": "stdout",
          "text": [
            "h i\n"
          ]
        }
      ]
    },
    {
      "cell_type": "code",
      "source": [
        "number1, number2, number3 = range(10, 40, 10)\n",
        "print(f'{number1} {number2} {number3}')"
      ],
      "metadata": {
        "colab": {
          "base_uri": "https://localhost:8080/"
        },
        "id": "uCN-UL30cKDA",
        "outputId": "cd953acc-7523-44a1-8fdd-76776c6341b0"
      },
      "execution_count": null,
      "outputs": [
        {
          "output_type": "stream",
          "name": "stdout",
          "text": [
            "10 20 30\n"
          ]
        }
      ]
    },
    {
      "cell_type": "markdown",
      "source": [
        "### Swapping Values Via Packing and Unpacking"
      ],
      "metadata": {
        "id": "IEietck-c8Md"
      }
    },
    {
      "cell_type": "code",
      "source": [
        "number1 = 99\n",
        "number2 = 22\n",
        "print(number1,number2)\n",
        "tuple3 = (number2, number1) # Packing\n",
        "number1, number2 = tuple3 # Unpacking\n",
        "print(number1,number2)"
      ],
      "metadata": {
        "id": "kl1-LNKWBIRk",
        "colab": {
          "base_uri": "https://localhost:8080/"
        },
        "outputId": "a12e99d8-3359-4e49-f19f-9ad82ea29d7c"
      },
      "execution_count": null,
      "outputs": [
        {
          "output_type": "stream",
          "name": "stdout",
          "text": [
            "99 22\n",
            "22 99\n"
          ]
        }
      ]
    },
    {
      "cell_type": "markdown",
      "source": [
        "### Accessing Indices and Values Safely with Built-in Function enumerate"
      ],
      "metadata": {
        "id": "jb6qkIiWdkbM"
      }
    },
    {
      "cell_type": "code",
      "source": [
        "colors = ['red', 'orange', 'yellow']\n",
        "list(enumerate(colors))"
      ],
      "metadata": {
        "id": "ZgcVvYRBBIOS",
        "colab": {
          "base_uri": "https://localhost:8080/"
        },
        "outputId": "500032db-8cc7-4d18-fde2-8c80cb356caf"
      },
      "execution_count": null,
      "outputs": [
        {
          "output_type": "execute_result",
          "data": {
            "text/plain": [
              "[(0, 'red'), (1, 'orange'), (2, 'yellow')]"
            ]
          },
          "metadata": {},
          "execution_count": 31
        }
      ]
    },
    {
      "cell_type": "code",
      "source": [
        "tuple(enumerate(colors))"
      ],
      "metadata": {
        "id": "3GMFiJmiBILZ",
        "colab": {
          "base_uri": "https://localhost:8080/"
        },
        "outputId": "85b5ef03-00eb-4bbc-85b8-cf001cce1f9c"
      },
      "execution_count": null,
      "outputs": [
        {
          "output_type": "execute_result",
          "data": {
            "text/plain": [
              "((0, 'red'), (1, 'orange'), (2, 'yellow'))"
            ]
          },
          "metadata": {},
          "execution_count": 32
        }
      ]
    },
    {
      "cell_type": "code",
      "source": [
        "for index, value in enumerate(colors):\n",
        "  print(f'{index}: {value}')"
      ],
      "metadata": {
        "colab": {
          "base_uri": "https://localhost:8080/"
        },
        "id": "l4PyVNZieuWg",
        "outputId": "3319c14e-93eb-43ab-9290-fc948ab6ccea"
      },
      "execution_count": null,
      "outputs": [
        {
          "output_type": "stream",
          "name": "stdout",
          "text": [
            "0: red\n",
            "1: orange\n",
            "2: yellow\n"
          ]
        }
      ]
    },
    {
      "cell_type": "code",
      "source": [
        "\"\"\"Displaying a bar chart\"\"\"\n",
        "numbers = [19, 3, 15, 7, 11]\n",
        "\n",
        "print('\\nCreating a bar chart from numbers:')\n",
        "print(f'Index{\"Value\":>8} Bar')\n",
        "for index, value in enumerate(numbers):\n",
        "  print(f'{index:>5}{value:>8} {'*' * value}')"
      ],
      "metadata": {
        "id": "qLDQFjOJBHqb",
        "colab": {
          "base_uri": "https://localhost:8080/"
        },
        "outputId": "bf407c45-3a34-47a6-d26e-9be50ffc6e31"
      },
      "execution_count": null,
      "outputs": [
        {
          "output_type": "stream",
          "name": "stdout",
          "text": [
            "\n",
            "Creating a bar chart from numbers:\n",
            "Index   Value Bar\n",
            "    0      19 *******************\n",
            "    1       3 ***\n",
            "    2      15 ***************\n",
            "    3       7 *******\n",
            "    4      11 ***********\n"
          ]
        }
      ]
    },
    {
      "cell_type": "markdown",
      "source": [
        "### Sequence slicing"
      ],
      "metadata": {
        "id": "nD1fB-6OgUA4"
      }
    },
    {
      "cell_type": "code",
      "source": [
        "numbers = [2, 3, 5, 7, 11, 13, 17, 19]"
      ],
      "metadata": {
        "id": "Zg7e4hUsEX3f"
      },
      "execution_count": null,
      "outputs": []
    },
    {
      "cell_type": "code",
      "source": [
        "numbers[2:6]"
      ],
      "metadata": {
        "id": "Jk5wKHPSEX0N",
        "colab": {
          "base_uri": "https://localhost:8080/"
        },
        "outputId": "fb9e8d47-ed33-44ae-9773-bd1e6139448e"
      },
      "execution_count": null,
      "outputs": [
        {
          "output_type": "execute_result",
          "data": {
            "text/plain": [
              "[5, 7, 11, 13]"
            ]
          },
          "metadata": {},
          "execution_count": 36
        }
      ]
    },
    {
      "cell_type": "code",
      "source": [
        "numbers[:6]"
      ],
      "metadata": {
        "id": "Yqcybkl7EXxl",
        "colab": {
          "base_uri": "https://localhost:8080/"
        },
        "outputId": "39c85431-dd5a-4fec-8f81-089dd7d099b5"
      },
      "execution_count": null,
      "outputs": [
        {
          "output_type": "execute_result",
          "data": {
            "text/plain": [
              "[2, 3, 5, 7, 11, 13]"
            ]
          },
          "metadata": {},
          "execution_count": 37
        }
      ]
    },
    {
      "cell_type": "code",
      "source": [
        "numbers[6:]"
      ],
      "metadata": {
        "id": "YcXVhHIYEXus",
        "colab": {
          "base_uri": "https://localhost:8080/"
        },
        "outputId": "b146ce5b-45f4-4ede-9683-f68aa8cd44db"
      },
      "execution_count": null,
      "outputs": [
        {
          "output_type": "execute_result",
          "data": {
            "text/plain": [
              "[17, 19]"
            ]
          },
          "metadata": {},
          "execution_count": 38
        }
      ]
    },
    {
      "cell_type": "markdown",
      "source": [
        "### Specifying a Slice with No Indices"
      ],
      "metadata": {
        "id": "bqHyt8-kgZoJ"
      }
    },
    {
      "cell_type": "code",
      "source": [
        "numbers[:]"
      ],
      "metadata": {
        "id": "jg5nAI3rEXr9",
        "colab": {
          "base_uri": "https://localhost:8080/"
        },
        "outputId": "dcd08ac7-07a2-4c9b-f14b-815cfd8bcfd6"
      },
      "execution_count": null,
      "outputs": [
        {
          "output_type": "execute_result",
          "data": {
            "text/plain": [
              "[6, 7, 8, 9]"
            ]
          },
          "metadata": {},
          "execution_count": 109
        }
      ]
    },
    {
      "cell_type": "markdown",
      "source": [
        "### Slicing with Steps"
      ],
      "metadata": {
        "id": "rrLyimd1gbxH"
      }
    },
    {
      "cell_type": "code",
      "source": [
        "numbers[::2]"
      ],
      "metadata": {
        "id": "tfRxfl8zEXpv",
        "colab": {
          "base_uri": "https://localhost:8080/"
        },
        "outputId": "465b29a7-f486-4f22-fef4-6b1a78b2441d"
      },
      "execution_count": null,
      "outputs": [
        {
          "output_type": "execute_result",
          "data": {
            "text/plain": [
              "[2, 5, 11, 17]"
            ]
          },
          "metadata": {},
          "execution_count": 40
        }
      ]
    },
    {
      "cell_type": "code",
      "source": [
        "numbers[::-2]"
      ],
      "metadata": {
        "id": "EgCygXxFEXmN",
        "colab": {
          "base_uri": "https://localhost:8080/"
        },
        "outputId": "48d2a482-c54e-4c2b-e9c3-754aa3bad357"
      },
      "execution_count": null,
      "outputs": [
        {
          "output_type": "execute_result",
          "data": {
            "text/plain": [
              "[19, 13, 7, 3]"
            ]
          },
          "metadata": {},
          "execution_count": 41
        }
      ]
    },
    {
      "cell_type": "code",
      "source": [
        "numbers[-1:-9:-1]"
      ],
      "metadata": {
        "colab": {
          "base_uri": "https://localhost:8080/"
        },
        "id": "DHLRD4AcgzOm",
        "outputId": "cd4af442-ed4f-4dcf-a9de-5d555ddb7839"
      },
      "execution_count": null,
      "outputs": [
        {
          "output_type": "execute_result",
          "data": {
            "text/plain": [
              "[19, 17, 13, 11, 7, 5, 3, 2]"
            ]
          },
          "metadata": {},
          "execution_count": 42
        }
      ]
    },
    {
      "cell_type": "code",
      "source": [
        "numbers[0:3] = ['two', 'three', 'five']\n",
        "numbers"
      ],
      "metadata": {
        "colab": {
          "base_uri": "https://localhost:8080/"
        },
        "id": "X_mSqKjDhIT7",
        "outputId": "1090c721-a45b-4069-f650-7343171fbf10"
      },
      "execution_count": null,
      "outputs": [
        {
          "output_type": "execute_result",
          "data": {
            "text/plain": [
              "['two', 'three', 'five', 7, 11, 13, 17, 19]"
            ]
          },
          "metadata": {},
          "execution_count": 43
        }
      ]
    },
    {
      "cell_type": "code",
      "source": [
        "numbers[0:3] = []\n",
        "numbers"
      ],
      "metadata": {
        "colab": {
          "base_uri": "https://localhost:8080/"
        },
        "id": "Z9Q-Wxo8hQGW",
        "outputId": "135bf431-69f0-41f2-bb02-977a14be6d19"
      },
      "execution_count": null,
      "outputs": [
        {
          "output_type": "execute_result",
          "data": {
            "text/plain": [
              "[7, 11, 13, 17, 19]"
            ]
          },
          "metadata": {},
          "execution_count": 44
        }
      ]
    },
    {
      "cell_type": "code",
      "source": [
        "list1 = []\n",
        "for item in range(1, 6):\n",
        "  list1.append(item)\n",
        "\n",
        "print(list1)"
      ],
      "metadata": {
        "id": "YyXr-sYDHZ5N",
        "colab": {
          "base_uri": "https://localhost:8080/"
        },
        "outputId": "6c82e2da-0c2f-4081-f447-adebc7ab7545"
      },
      "execution_count": null,
      "outputs": [
        {
          "output_type": "stream",
          "name": "stdout",
          "text": [
            "[1, 2, 3, 4, 5]\n"
          ]
        }
      ]
    },
    {
      "cell_type": "markdown",
      "source": [
        "## List comprehension"
      ],
      "metadata": {
        "id": "cfroFBAAmmsg"
      }
    },
    {
      "cell_type": "code",
      "source": [
        "a = [item for item in range(1, 6)]\n",
        "a"
      ],
      "metadata": {
        "colab": {
          "base_uri": "https://localhost:8080/"
        },
        "id": "9XX21zW0m8Y8",
        "outputId": "4c1e37a6-519c-42cc-9795-cfb5b737809d"
      },
      "execution_count": null,
      "outputs": [
        {
          "output_type": "execute_result",
          "data": {
            "text/plain": [
              "[1, 2, 3, 4, 5]"
            ]
          },
          "metadata": {},
          "execution_count": 93
        }
      ]
    },
    {
      "cell_type": "code",
      "source": [
        "list2 = [item for item in range(1, 6)]\n",
        "print(list2)"
      ],
      "metadata": {
        "id": "yZojaHw2HddD",
        "colab": {
          "base_uri": "https://localhost:8080/"
        },
        "outputId": "50b4b933-813f-4551-eb04-6403137e47af"
      },
      "execution_count": null,
      "outputs": [
        {
          "output_type": "stream",
          "name": "stdout",
          "text": [
            "[1, 2, 3, 4, 5]\n"
          ]
        }
      ]
    },
    {
      "cell_type": "code",
      "source": [
        "list3 = [item * 3 for item in range(1, 6)]\n",
        "list3"
      ],
      "metadata": {
        "id": "0THi5ui1Hqn6",
        "colab": {
          "base_uri": "https://localhost:8080/"
        },
        "outputId": "e83c2583-3e58-4b74-c40f-dd4fe22a70e3"
      },
      "execution_count": null,
      "outputs": [
        {
          "output_type": "execute_result",
          "data": {
            "text/plain": [
              "[3, 6, 9, 12, 15]"
            ]
          },
          "metadata": {},
          "execution_count": 94
        }
      ]
    },
    {
      "cell_type": "code",
      "source": [
        "list4 = [item for item in range(1, 11) if item % 2 == 0]"
      ],
      "metadata": {
        "id": "u88bo6JJHsMv"
      },
      "execution_count": null,
      "outputs": []
    },
    {
      "cell_type": "code",
      "source": [
        "colors = ['red', 'orange', 'yellow', 'green', 'blue']\n",
        "colors2 = [item.upper() for item in colors]\n",
        "colors2"
      ],
      "metadata": {
        "colab": {
          "base_uri": "https://localhost:8080/"
        },
        "id": "QVzE_PDjmo-q",
        "outputId": "d1bcd152-c4a8-417e-9d7a-11c8f4486fed"
      },
      "execution_count": null,
      "outputs": [
        {
          "output_type": "execute_result",
          "data": {
            "text/plain": [
              "['RED', 'ORANGE', 'YELLOW', 'GREEN', 'BLUE']"
            ]
          },
          "metadata": {},
          "execution_count": 90
        }
      ]
    },
    {
      "cell_type": "markdown",
      "source": [
        "## Del statement"
      ],
      "metadata": {
        "id": "COhtQpilJVxf"
      }
    },
    {
      "cell_type": "code",
      "source": [
        "numbers = list(range(0, 10))\n",
        "numbers"
      ],
      "metadata": {
        "colab": {
          "base_uri": "https://localhost:8080/"
        },
        "id": "5A-xhYG1JYBe",
        "outputId": "d1f87c78-44a1-4749-eb30-a20e7bf9ab6c"
      },
      "execution_count": null,
      "outputs": [
        {
          "output_type": "execute_result",
          "data": {
            "text/plain": [
              "[0, 1, 2, 3, 4, 5, 6, 7, 8, 9]"
            ]
          },
          "metadata": {},
          "execution_count": 98
        }
      ]
    },
    {
      "cell_type": "code",
      "source": [
        "del numbers[-1]\n",
        "numbers"
      ],
      "metadata": {
        "id": "O2t5a46OJYac",
        "colab": {
          "base_uri": "https://localhost:8080/"
        },
        "outputId": "ad10abf6-afe5-4089-c65f-90c173774d27"
      },
      "execution_count": null,
      "outputs": [
        {
          "output_type": "execute_result",
          "data": {
            "text/plain": [
              "[0, 1, 2, 3, 4, 5, 6, 7, 8]"
            ]
          },
          "metadata": {},
          "execution_count": 50
        }
      ]
    },
    {
      "cell_type": "code",
      "source": [
        "del(numbers[0:2])\n",
        "numbers"
      ],
      "metadata": {
        "id": "uaRARR1oJYWt",
        "colab": {
          "base_uri": "https://localhost:8080/"
        },
        "outputId": "f8052443-d77f-4e32-cd5d-ba8a84581f97"
      },
      "execution_count": null,
      "outputs": [
        {
          "output_type": "execute_result",
          "data": {
            "text/plain": [
              "[6, 7, 8, 9]"
            ]
          },
          "metadata": {},
          "execution_count": 102
        }
      ]
    },
    {
      "cell_type": "markdown",
      "source": [
        "### Deleting a Slice Representing the Entire List"
      ],
      "metadata": {
        "id": "fYgffRbEKdAh"
      }
    },
    {
      "cell_type": "code",
      "source": [
        "del numbers[:]\n",
        "numbers"
      ],
      "metadata": {
        "id": "pTA28hDmKfwA",
        "colab": {
          "base_uri": "https://localhost:8080/"
        },
        "outputId": "aaf5550b-a05f-4c12-f10c-cf1be2359688"
      },
      "execution_count": null,
      "outputs": [
        {
          "output_type": "execute_result",
          "data": {
            "text/plain": [
              "[]"
            ]
          },
          "metadata": {},
          "execution_count": 52
        }
      ]
    },
    {
      "cell_type": "markdown",
      "source": [
        "### Deleting a Variable from the Current Session"
      ],
      "metadata": {
        "id": "xYUwSKfHKj0h"
      }
    },
    {
      "cell_type": "code",
      "source": [
        "# del numbers\n",
        "# numbers"
      ],
      "metadata": {
        "id": "6Q79ZvmiKmAu"
      },
      "execution_count": null,
      "outputs": []
    },
    {
      "cell_type": "markdown",
      "source": [
        "## Passing Lists to Functions"
      ],
      "metadata": {
        "id": "jx8-WoG4M4B8"
      }
    },
    {
      "cell_type": "code",
      "source": [
        "def modify_elements(items):\n",
        "  \"\"\"\"Multiplies all element values in items by 2.\"\"\"\n",
        "  for i in range(len(items)):\n",
        "    items[i] *= 2\n",
        "\n",
        "numbers = [10, 3, 7, 1, 9]\n",
        "modify_elements(numbers)\n",
        "numbers"
      ],
      "metadata": {
        "colab": {
          "base_uri": "https://localhost:8080/"
        },
        "id": "S2MT9RBiM_ef",
        "outputId": "dc00c141-0e19-4870-935d-cefd4d23f267"
      },
      "execution_count": null,
      "outputs": [
        {
          "output_type": "execute_result",
          "data": {
            "text/plain": [
              "[20, 6, 14, 2, 18]"
            ]
          },
          "metadata": {},
          "execution_count": 54
        }
      ]
    },
    {
      "cell_type": "markdown",
      "source": [
        "### Passing a Tuple to a Function"
      ],
      "metadata": {
        "id": "Jomx4kqxM6qT"
      }
    },
    {
      "cell_type": "code",
      "source": [
        "numbers_tuple = (10, 20, 30)\n",
        "numbers_tuple"
      ],
      "metadata": {
        "colab": {
          "base_uri": "https://localhost:8080/"
        },
        "id": "5yn4bE0mNMxo",
        "outputId": "4daf0369-74ac-4a82-d900-c22adad3445e"
      },
      "execution_count": null,
      "outputs": [
        {
          "output_type": "execute_result",
          "data": {
            "text/plain": [
              "(10, 20, 30)"
            ]
          },
          "metadata": {},
          "execution_count": 55
        }
      ]
    },
    {
      "cell_type": "code",
      "source": [
        "# modify_elements(numbers_tuple) # Tuple"
      ],
      "metadata": {
        "id": "5PTzVo4dNRQv"
      },
      "execution_count": null,
      "outputs": []
    },
    {
      "cell_type": "markdown",
      "source": [
        "## Sorting Lists"
      ],
      "metadata": {
        "id": "UAYJAS93TSIQ"
      }
    },
    {
      "cell_type": "code",
      "source": [
        "numbers = [10, 3, 7, 1, 9, 4, 2, 8, 5, 6]\n",
        "numbers.sort()\n",
        "numbers"
      ],
      "metadata": {
        "id": "f0te8oWuNQrZ",
        "colab": {
          "base_uri": "https://localhost:8080/"
        },
        "outputId": "7fd13a13-69e2-4b2f-a07d-f5926b557b28"
      },
      "execution_count": null,
      "outputs": [
        {
          "output_type": "execute_result",
          "data": {
            "text/plain": [
              "[1, 2, 3, 4, 5, 6, 7, 8, 9, 10]"
            ]
          },
          "metadata": {},
          "execution_count": 57
        }
      ]
    },
    {
      "cell_type": "markdown",
      "source": [
        "### Sorting a List in Descending Order"
      ],
      "metadata": {
        "id": "F0ViNbRlNQVp"
      }
    },
    {
      "cell_type": "code",
      "source": [
        "numbers.sort(reverse=True)\n",
        "numbers"
      ],
      "metadata": {
        "colab": {
          "base_uri": "https://localhost:8080/"
        },
        "id": "_qBFtPQuTeRJ",
        "outputId": "515d078f-3969-45ca-ff3d-1b3b9421e605"
      },
      "execution_count": null,
      "outputs": [
        {
          "output_type": "execute_result",
          "data": {
            "text/plain": [
              "[10, 9, 8, 7, 6, 5, 4, 3, 2, 1]"
            ]
          },
          "metadata": {},
          "execution_count": 58
        }
      ]
    },
    {
      "cell_type": "code",
      "source": [
        "ascending_numbers = sorted(numbers) # Creates a new list"
      ],
      "metadata": {
        "id": "650R37MoTq-C"
      },
      "execution_count": null,
      "outputs": []
    },
    {
      "cell_type": "code",
      "source": [
        "foods = ['Cookies', 'pizza', 'Grapes',\n",
        "         'apples', 'steak', 'Bacon']\n",
        "a = sorted(foods)\n",
        "a # Follows lexicographical order"
      ],
      "metadata": {
        "colab": {
          "base_uri": "https://localhost:8080/"
        },
        "id": "oEyuVDjHT_aL",
        "outputId": "48404d4e-d767-4527-d06c-0f9077004fc2"
      },
      "execution_count": null,
      "outputs": [
        {
          "output_type": "execute_result",
          "data": {
            "text/plain": [
              "['Bacon', 'Cookies', 'Grapes', 'apples', 'pizza', 'steak']"
            ]
          },
          "metadata": {},
          "execution_count": 60
        }
      ]
    },
    {
      "cell_type": "markdown",
      "source": [
        "## Searching Sequences"
      ],
      "metadata": {
        "id": "mlTPxGgMVOwi"
      }
    },
    {
      "cell_type": "code",
      "source": [
        "numbers = [3, 7, 1, 4, 2, 8, 5, 6]\n",
        "numbers.index(5)"
      ],
      "metadata": {
        "colab": {
          "base_uri": "https://localhost:8080/"
        },
        "id": "jW4s2GtNVQwt",
        "outputId": "1687b83a-1242-47a4-e360-e38445a1f311"
      },
      "execution_count": null,
      "outputs": [
        {
          "output_type": "execute_result",
          "data": {
            "text/plain": [
              "6"
            ]
          },
          "metadata": {},
          "execution_count": 61
        }
      ]
    },
    {
      "cell_type": "markdown",
      "source": [
        "### Specifying the Starting Index of a Search"
      ],
      "metadata": {
        "id": "uJPfi-WvVedj"
      }
    },
    {
      "cell_type": "code",
      "source": [
        "numbers *= 2\n",
        "numbers"
      ],
      "metadata": {
        "colab": {
          "base_uri": "https://localhost:8080/"
        },
        "id": "w1UyP6KeVhTZ",
        "outputId": "889403e2-3af1-437d-9e2b-3caae391f4ef"
      },
      "execution_count": null,
      "outputs": [
        {
          "output_type": "execute_result",
          "data": {
            "text/plain": [
              "[3, 7, 1, 4, 2, 8, 5, 6, 3, 7, 1, 4, 2, 8, 5, 6]"
            ]
          },
          "metadata": {},
          "execution_count": 62
        }
      ]
    },
    {
      "cell_type": "code",
      "source": [
        "numbers.index(5, 0) # Search 5 from particular index"
      ],
      "metadata": {
        "colab": {
          "base_uri": "https://localhost:8080/"
        },
        "id": "EyW3u-Y3VwwP",
        "outputId": "b5ad9dbc-5531-4cfe-d782-4ecb640a811f"
      },
      "execution_count": null,
      "outputs": [
        {
          "output_type": "execute_result",
          "data": {
            "text/plain": [
              "6"
            ]
          },
          "metadata": {},
          "execution_count": 63
        }
      ]
    },
    {
      "cell_type": "code",
      "source": [
        "numbers.index(7, 0, 9)  # Start and end indices"
      ],
      "metadata": {
        "colab": {
          "base_uri": "https://localhost:8080/"
        },
        "id": "Q14V0_4CWIRn",
        "outputId": "7b1760db-8e87-40b0-8ee3-44dc12027b0b"
      },
      "execution_count": null,
      "outputs": [
        {
          "output_type": "execute_result",
          "data": {
            "text/plain": [
              "1"
            ]
          },
          "metadata": {},
          "execution_count": 64
        }
      ]
    },
    {
      "cell_type": "markdown",
      "source": [
        "### in and not in operators"
      ],
      "metadata": {
        "id": "hkezqgxBXROF"
      }
    },
    {
      "cell_type": "code",
      "source": [
        "1000 in numbers"
      ],
      "metadata": {
        "colab": {
          "base_uri": "https://localhost:8080/"
        },
        "id": "M4tEHHgxXUvv",
        "outputId": "c0c26d71-441b-4d1e-e50c-3602e118eed3"
      },
      "execution_count": null,
      "outputs": [
        {
          "output_type": "execute_result",
          "data": {
            "text/plain": [
              "False"
            ]
          },
          "metadata": {},
          "execution_count": 65
        }
      ]
    },
    {
      "cell_type": "code",
      "source": [
        "5 in numbers"
      ],
      "metadata": {
        "colab": {
          "base_uri": "https://localhost:8080/"
        },
        "id": "SCpaHLxFXWuJ",
        "outputId": "c9c38e28-216a-4809-93b1-2a1a42f730e3"
      },
      "execution_count": null,
      "outputs": [
        {
          "output_type": "execute_result",
          "data": {
            "text/plain": [
              "False"
            ]
          },
          "metadata": {},
          "execution_count": 104
        }
      ]
    },
    {
      "cell_type": "code",
      "source": [
        "key = 1000 # Rudimentary exception handling\n",
        "if key in numbers:\n",
        "  print(f'found {key} at index {numbers.index(key)}')\n",
        "else:\n",
        "  print(f'{key} not found')"
      ],
      "metadata": {
        "colab": {
          "base_uri": "https://localhost:8080/"
        },
        "id": "5Sx0_okTXbGF",
        "outputId": "46f8000c-3f70-4adb-bed0-05c2d97f6307"
      },
      "execution_count": null,
      "outputs": [
        {
          "output_type": "stream",
          "name": "stdout",
          "text": [
            "1000 not found\n"
          ]
        }
      ]
    },
    {
      "cell_type": "code",
      "source": [
        "mydict = {0 : \"Apple\", 1 : \"Orange\"}\n",
        "mytuple = (0, 1, False)\n",
        "mylist = [False, True, False]\n",
        "x = any(mylist)\n",
        "y = all(mylist)"
      ],
      "metadata": {
        "id": "jjtAnJHLYbd5"
      },
      "execution_count": null,
      "outputs": []
    },
    {
      "cell_type": "code",
      "source": [
        "x"
      ],
      "metadata": {
        "colab": {
          "base_uri": "https://localhost:8080/"
        },
        "id": "oZjARdLbZOPG",
        "outputId": "f4edfb2e-bad3-43ca-eed8-93a45ac64128"
      },
      "execution_count": null,
      "outputs": [
        {
          "output_type": "execute_result",
          "data": {
            "text/plain": [
              "True"
            ]
          },
          "metadata": {},
          "execution_count": 69
        }
      ]
    },
    {
      "cell_type": "code",
      "source": [
        "y"
      ],
      "metadata": {
        "colab": {
          "base_uri": "https://localhost:8080/"
        },
        "id": "FiCvGs-pZPGf",
        "outputId": "322cd3be-c98c-4bbe-ea4d-001424800a28"
      },
      "execution_count": null,
      "outputs": [
        {
          "output_type": "execute_result",
          "data": {
            "text/plain": [
              "False"
            ]
          },
          "metadata": {},
          "execution_count": 70
        }
      ]
    },
    {
      "cell_type": "markdown",
      "source": [
        "## Other list methods"
      ],
      "metadata": {
        "id": "l31ozAeNZXQO"
      }
    },
    {
      "cell_type": "code",
      "source": [
        "color_names = ['orange', 'yellow', 'green']"
      ],
      "metadata": {
        "id": "JLS-K7M0Zd6o"
      },
      "execution_count": null,
      "outputs": []
    },
    {
      "cell_type": "code",
      "source": [
        "color_names.insert(0, 'red')\n",
        "color_names"
      ],
      "metadata": {
        "id": "k6HM56uTZfaJ",
        "colab": {
          "base_uri": "https://localhost:8080/"
        },
        "outputId": "23670384-2d16-4b89-bfc6-fa2419804d1d"
      },
      "execution_count": null,
      "outputs": [
        {
          "output_type": "execute_result",
          "data": {
            "text/plain": [
              "['red', 'orange', 'yellow', 'green']"
            ]
          },
          "metadata": {},
          "execution_count": 72
        }
      ]
    },
    {
      "cell_type": "markdown",
      "source": [
        "### Adding an Element to the End of a List"
      ],
      "metadata": {
        "id": "SgWsjcWKZfTp"
      }
    },
    {
      "cell_type": "code",
      "source": [
        "color_names.append('blue')\n",
        "color_names"
      ],
      "metadata": {
        "id": "EMKf4ywWZfKa",
        "colab": {
          "base_uri": "https://localhost:8080/"
        },
        "outputId": "53b73807-634f-42bd-ca70-b885c7646010"
      },
      "execution_count": null,
      "outputs": [
        {
          "output_type": "execute_result",
          "data": {
            "text/plain": [
              "['red', 'orange', 'yellow', 'green', 'blue']"
            ]
          },
          "metadata": {},
          "execution_count": 73
        }
      ]
    },
    {
      "cell_type": "markdown",
      "source": [
        "### Adding All the Elements of a Sequence to the End of a List"
      ],
      "metadata": {
        "id": "l8aiVvvbZfDV"
      }
    },
    {
      "cell_type": "code",
      "source": [
        "color_names.extend(['indigo', 'violet'])\n",
        "color_names"
      ],
      "metadata": {
        "id": "Y3_05FpSZe8o",
        "colab": {
          "base_uri": "https://localhost:8080/"
        },
        "outputId": "07e2ef59-2bd5-4550-86de-6c57bcb0b0e7"
      },
      "execution_count": null,
      "outputs": [
        {
          "output_type": "execute_result",
          "data": {
            "text/plain": [
              "['red', 'orange', 'yellow', 'green', 'blue', 'indigo', 'violet']"
            ]
          },
          "metadata": {},
          "execution_count": 74
        }
      ]
    },
    {
      "cell_type": "code",
      "source": [
        "sample_list = []\n",
        "s = 'abc'\n",
        "sample_list.extend(s)\n",
        "sample_list"
      ],
      "metadata": {
        "colab": {
          "base_uri": "https://localhost:8080/"
        },
        "id": "f6e-_uxLZev1",
        "outputId": "bce7883d-1747-4429-aab0-4569711b1caf"
      },
      "execution_count": null,
      "outputs": [
        {
          "output_type": "execute_result",
          "data": {
            "text/plain": [
              "['a', 'b', 'c']"
            ]
          },
          "metadata": {},
          "execution_count": 75
        }
      ]
    },
    {
      "cell_type": "code",
      "source": [
        "t = (1, 2, 3)\n",
        "sample_list.extend(t)\n",
        "sample_list"
      ],
      "metadata": {
        "colab": {
          "base_uri": "https://localhost:8080/"
        },
        "id": "FFljfRQTZegE",
        "outputId": "bf54b188-064e-4fc6-c1ba-6a0fbb2eb063"
      },
      "execution_count": null,
      "outputs": [
        {
          "output_type": "execute_result",
          "data": {
            "text/plain": [
              "['a', 'b', 'c', 1, 2, 3]"
            ]
          },
          "metadata": {},
          "execution_count": 76
        }
      ]
    },
    {
      "cell_type": "markdown",
      "source": [
        "#### Tuple concatenation"
      ],
      "metadata": {
        "id": "pwujeGILZeZB"
      }
    },
    {
      "cell_type": "code",
      "source": [
        "sample_list.extend((4, 5, 6)) # Tuples can be added directly\n",
        "sample_list"
      ],
      "metadata": {
        "id": "XL9-XuR6aJ0O",
        "colab": {
          "base_uri": "https://localhost:8080/"
        },
        "outputId": "1a1f18b9-105f-4573-a7f2-8170ab516ac7"
      },
      "execution_count": null,
      "outputs": [
        {
          "output_type": "execute_result",
          "data": {
            "text/plain": [
              "['a', 'b', 'c', 1, 2, 3, 4, 5, 6]"
            ]
          },
          "metadata": {},
          "execution_count": 77
        }
      ]
    },
    {
      "cell_type": "markdown",
      "source": [
        "### Removing the First Occurrence of an Element in a List"
      ],
      "metadata": {
        "id": "Vfh6CG0xaaT6"
      }
    },
    {
      "cell_type": "code",
      "source": [
        "color_names.remove('green')\n",
        "color_names"
      ],
      "metadata": {
        "id": "xYaO6mlWabl-",
        "colab": {
          "base_uri": "https://localhost:8080/"
        },
        "outputId": "8a43d244-fec5-46ac-99d6-85633c3cb3c7"
      },
      "execution_count": null,
      "outputs": [
        {
          "output_type": "execute_result",
          "data": {
            "text/plain": [
              "['red', 'orange', 'yellow', 'blue', 'indigo', 'violet']"
            ]
          },
          "metadata": {},
          "execution_count": 78
        }
      ]
    },
    {
      "cell_type": "markdown",
      "source": [
        "### Emptying a List"
      ],
      "metadata": {
        "id": "3AP60NkaaiJ0"
      }
    },
    {
      "cell_type": "code",
      "source": [
        "color_names.clear()\n",
        "color_names"
      ],
      "metadata": {
        "id": "76PHxhbIak2r",
        "colab": {
          "base_uri": "https://localhost:8080/"
        },
        "outputId": "dc2632c9-e16d-4bd6-b7db-2cdfa22c9b5a"
      },
      "execution_count": null,
      "outputs": [
        {
          "output_type": "execute_result",
          "data": {
            "text/plain": [
              "[]"
            ]
          },
          "metadata": {},
          "execution_count": 79
        }
      ]
    },
    {
      "cell_type": "markdown",
      "source": [
        "### Counting the Number of Occurrences of an Item"
      ],
      "metadata": {
        "id": "kHgJlhtVao7G"
      }
    },
    {
      "cell_type": "code",
      "source": [
        "responses = [1, 2, 5, 4, 3, 5, 2, 1, 3, 3,\n",
        "             1, 4, 3, 3, 3, 2, 3, 3, 2, 2]\n",
        "for i in range(1, 6):\n",
        "  print(f'{i} appears {responses.count(i)} times in responses')"
      ],
      "metadata": {
        "colab": {
          "base_uri": "https://localhost:8080/"
        },
        "id": "MpH9ZeJjaqYd",
        "outputId": "0b15d255-d539-40ec-bede-ebbffc2ab46a"
      },
      "execution_count": null,
      "outputs": [
        {
          "output_type": "stream",
          "name": "stdout",
          "text": [
            "1 appears 3 times in responses\n",
            "2 appears 5 times in responses\n",
            "3 appears 8 times in responses\n",
            "4 appears 2 times in responses\n",
            "5 appears 2 times in responses\n"
          ]
        }
      ]
    },
    {
      "cell_type": "code",
      "source": [
        "color_names = ['red', 'orange', 'yellow', 'green', 'blue']\n",
        "color_names.reverse()\n",
        "color_names"
      ],
      "metadata": {
        "colab": {
          "base_uri": "https://localhost:8080/"
        },
        "id": "49j-defka3GS",
        "outputId": "3880f230-6677-4d38-8c17-f19e94f9b82c"
      },
      "execution_count": null,
      "outputs": [
        {
          "output_type": "execute_result",
          "data": {
            "text/plain": [
              "['blue', 'green', 'yellow', 'orange', 'red']"
            ]
          },
          "metadata": {},
          "execution_count": 81
        }
      ]
    },
    {
      "cell_type": "markdown",
      "source": [
        "### Copying a List"
      ],
      "metadata": {
        "id": "gpJqRdo6bDgc"
      }
    },
    {
      "cell_type": "code",
      "source": [
        "copied_list = color_names.copy()\n",
        "copied_list"
      ],
      "metadata": {
        "id": "GO3fVo4ba-N_",
        "colab": {
          "base_uri": "https://localhost:8080/"
        },
        "outputId": "929fcf3f-c8c9-48a6-cbc8-26212a0f35a4"
      },
      "execution_count": null,
      "outputs": [
        {
          "output_type": "execute_result",
          "data": {
            "text/plain": [
              "['blue', 'green', 'yellow', 'orange', 'red']"
            ]
          },
          "metadata": {},
          "execution_count": 82
        }
      ]
    },
    {
      "cell_type": "markdown",
      "source": [
        "## Simulating Stacks with Lists"
      ],
      "metadata": {
        "id": "iysZlr0_bJuM"
      }
    },
    {
      "cell_type": "code",
      "source": [
        "stack = []\n",
        "stack.append('red')\n",
        "stack"
      ],
      "metadata": {
        "colab": {
          "base_uri": "https://localhost:8080/"
        },
        "id": "rJvdBVcLjBxF",
        "outputId": "accb167f-3799-44e7-d3d1-a2a47e7ae2f1"
      },
      "execution_count": null,
      "outputs": [
        {
          "output_type": "execute_result",
          "data": {
            "text/plain": [
              "['red']"
            ]
          },
          "metadata": {},
          "execution_count": 83
        }
      ]
    },
    {
      "cell_type": "code",
      "source": [
        "stack.append('green')\n",
        "stack"
      ],
      "metadata": {
        "colab": {
          "base_uri": "https://localhost:8080/"
        },
        "id": "JVcb_mEzjBng",
        "outputId": "2ff033de-1934-40d7-919d-acd83d9c9d92"
      },
      "execution_count": null,
      "outputs": [
        {
          "output_type": "execute_result",
          "data": {
            "text/plain": [
              "['red', 'green']"
            ]
          },
          "metadata": {},
          "execution_count": 84
        }
      ]
    },
    {
      "cell_type": "code",
      "source": [
        "stack.pop()"
      ],
      "metadata": {
        "colab": {
          "base_uri": "https://localhost:8080/",
          "height": 35
        },
        "id": "UhX1C8yQjN5R",
        "outputId": "e7bd7137-f679-4892-868c-bc895b0e71d0"
      },
      "execution_count": null,
      "outputs": [
        {
          "output_type": "execute_result",
          "data": {
            "text/plain": [
              "'green'"
            ],
            "application/vnd.google.colaboratory.intrinsic+json": {
              "type": "string"
            }
          },
          "metadata": {},
          "execution_count": 85
        }
      ]
    },
    {
      "cell_type": "code",
      "source": [
        "stack"
      ],
      "metadata": {
        "colab": {
          "base_uri": "https://localhost:8080/"
        },
        "id": "S1Q8aJlJjPR-",
        "outputId": "189b737e-721d-4e3d-8f33-26cbbd3cc323"
      },
      "execution_count": null,
      "outputs": [
        {
          "output_type": "execute_result",
          "data": {
            "text/plain": [
              "['red']"
            ]
          },
          "metadata": {},
          "execution_count": 86
        }
      ]
    },
    {
      "cell_type": "code",
      "source": [
        "stack.pop()"
      ],
      "metadata": {
        "colab": {
          "base_uri": "https://localhost:8080/",
          "height": 35
        },
        "id": "9Y5xJmChjRdJ",
        "outputId": "b911ed2a-1b8e-4639-8d69-afa118ccf908"
      },
      "execution_count": null,
      "outputs": [
        {
          "output_type": "execute_result",
          "data": {
            "text/plain": [
              "'red'"
            ],
            "application/vnd.google.colaboratory.intrinsic+json": {
              "type": "string"
            }
          },
          "metadata": {},
          "execution_count": 87
        }
      ]
    },
    {
      "cell_type": "code",
      "source": [
        "stack"
      ],
      "metadata": {
        "colab": {
          "base_uri": "https://localhost:8080/"
        },
        "id": "Nc07izKcjTHY",
        "outputId": "4e64c772-6961-4bf0-ce3a-83d88a3a6ab2"
      },
      "execution_count": null,
      "outputs": [
        {
          "output_type": "execute_result",
          "data": {
            "text/plain": [
              "[]"
            ]
          },
          "metadata": {},
          "execution_count": 88
        }
      ]
    },
    {
      "cell_type": "code",
      "source": [
        "# stack.pop()"
      ],
      "metadata": {
        "id": "x9w0k_dpjVIO"
      },
      "execution_count": null,
      "outputs": []
    },
    {
      "cell_type": "markdown",
      "source": [
        "## Generator Expressions"
      ],
      "metadata": {
        "id": "STX_dwQVq14T"
      }
    },
    {
      "cell_type": "code",
      "source": [
        "numbers = [10, 3, 7, 1, 9, 4, 2, 8, 5, 6]\n",
        "for value in (x ** 2 for x in numbers if x % 2 != 0):\n",
        "  print(value, end=' ')\n",
        "squares_of_odds = (x ** 2 for x in numbers if x % 2 != 0)"
      ],
      "metadata": {
        "colab": {
          "base_uri": "https://localhost:8080/"
        },
        "id": "YHp625W4q8Mq",
        "outputId": "10e95189-cf99-422a-a7d4-76a92b605a43"
      },
      "execution_count": 3,
      "outputs": [
        {
          "output_type": "stream",
          "name": "stdout",
          "text": [
            "9 49 1 81 25 "
          ]
        }
      ]
    },
    {
      "cell_type": "code",
      "source": [
        "x = [x ** 2 for x in numbers if x % 2 != 0]\n",
        "x"
      ],
      "metadata": {
        "colab": {
          "base_uri": "https://localhost:8080/"
        },
        "id": "d9ptzgZGq80B",
        "outputId": "93741f98-452e-4cbc-a1a6-7395b17a1de5"
      },
      "execution_count": 7,
      "outputs": [
        {
          "output_type": "execute_result",
          "data": {
            "text/plain": [
              "[9, 49, 1, 81, 25]"
            ]
          },
          "metadata": {},
          "execution_count": 7
        }
      ]
    },
    {
      "cell_type": "code",
      "source": [
        "x = [item for item in range(1, 6) ]\n",
        "x"
      ],
      "metadata": {
        "colab": {
          "base_uri": "https://localhost:8080/"
        },
        "id": "i6BwdJARq8p2",
        "outputId": "22e5130a-456b-4ed6-e034-5d55e04ecced"
      },
      "execution_count": 11,
      "outputs": [
        {
          "output_type": "execute_result",
          "data": {
            "text/plain": [
              "[1, 2, 3, 4, 5]"
            ]
          },
          "metadata": {},
          "execution_count": 11
        }
      ]
    },
    {
      "cell_type": "markdown",
      "source": [
        "## Filter, Map and Reduce"
      ],
      "metadata": {
        "id": "NWfAiTBN43S4"
      }
    },
    {
      "cell_type": "code",
      "source": [
        "numbers = [10, 3, 7, 1, 9, 4, 2, 8, 5, 6]"
      ],
      "metadata": {
        "id": "iNZlPkpD427U"
      },
      "execution_count": 13,
      "outputs": []
    },
    {
      "cell_type": "markdown",
      "source": [
        "### Higher order functions"
      ],
      "metadata": {
        "id": "pbID16R95sm7"
      }
    },
    {
      "cell_type": "code",
      "source": [
        "def is_odd(x):\n",
        "  \"\"\"Returns True only if x is odd.\"\"\"\n",
        "  return x % 2 != 0\n",
        "\n",
        "list(filter(is_odd, numbers))"
      ],
      "metadata": {
        "colab": {
          "base_uri": "https://localhost:8080/"
        },
        "id": "x-rtaj5H48_P",
        "outputId": "32f44c2e-75b5-48ee-af8f-caf11ebab166"
      },
      "execution_count": 14,
      "outputs": [
        {
          "output_type": "execute_result",
          "data": {
            "text/plain": [
              "[3, 7, 1, 9, 5]"
            ]
          },
          "metadata": {},
          "execution_count": 14
        }
      ]
    },
    {
      "cell_type": "code",
      "source": [
        "[item for item in numbers if is_odd(item)]"
      ],
      "metadata": {
        "colab": {
          "base_uri": "https://localhost:8080/"
        },
        "id": "pEtzR1n56uf2",
        "outputId": "dfd9ba3f-d198-4437-fb01-4b1c579dc3d4"
      },
      "execution_count": 15,
      "outputs": [
        {
          "output_type": "execute_result",
          "data": {
            "text/plain": [
              "[3, 7, 1, 9, 5]"
            ]
          },
          "metadata": {},
          "execution_count": 15
        }
      ]
    },
    {
      "cell_type": "markdown",
      "source": [
        "### Using a lambda Rather than a Function"
      ],
      "metadata": {
        "id": "wnGczYmh6Dgc"
      }
    },
    {
      "cell_type": "code",
      "source": [
        "list(filter(lambda x: x % 2 != 0, numbers)) # Got no name"
      ],
      "metadata": {
        "colab": {
          "base_uri": "https://localhost:8080/"
        },
        "id": "r3aqWUWt6ClK",
        "outputId": "754233e6-ff45-4c27-d918-1225aaeb3b96"
      },
      "execution_count": 16,
      "outputs": [
        {
          "output_type": "execute_result",
          "data": {
            "text/plain": [
              "[3, 7, 1, 9, 5]"
            ]
          },
          "metadata": {},
          "execution_count": 16
        }
      ]
    },
    {
      "cell_type": "markdown",
      "source": [
        "## Mapping a Sequence’s Values to New Values"
      ],
      "metadata": {
        "id": "G4mUXQkR8LSY"
      }
    },
    {
      "cell_type": "code",
      "source": [
        "numbers"
      ],
      "metadata": {
        "colab": {
          "base_uri": "https://localhost:8080/"
        },
        "id": "v26VWk-A8N1W",
        "outputId": "885fcbba-276b-4102-cd66-d9c558fc17da"
      },
      "execution_count": 17,
      "outputs": [
        {
          "output_type": "execute_result",
          "data": {
            "text/plain": [
              "[10, 3, 7, 1, 9, 4, 2, 8, 5, 6]"
            ]
          },
          "metadata": {},
          "execution_count": 17
        }
      ]
    },
    {
      "cell_type": "code",
      "source": [
        "list(map(lambda x: x ** 2, numbers))"
      ],
      "metadata": {
        "colab": {
          "base_uri": "https://localhost:8080/"
        },
        "id": "bC_Xna6N8RZ7",
        "outputId": "fb59e81d-b1ab-4446-b159-b3b6c3c29d96"
      },
      "execution_count": 18,
      "outputs": [
        {
          "output_type": "execute_result",
          "data": {
            "text/plain": [
              "[100, 9, 49, 1, 81, 16, 4, 64, 25, 36]"
            ]
          },
          "metadata": {},
          "execution_count": 18
        }
      ]
    },
    {
      "cell_type": "code",
      "source": [
        "[item ** 2 for item in numbers]"
      ],
      "metadata": {
        "colab": {
          "base_uri": "https://localhost:8080/"
        },
        "id": "1870i_0u9hxK",
        "outputId": "21f1dc40-1eb1-43f0-c26d-b263245ad677"
      },
      "execution_count": 19,
      "outputs": [
        {
          "output_type": "execute_result",
          "data": {
            "text/plain": [
              "[100, 9, 49, 1, 81, 16, 4, 64, 25, 36]"
            ]
          },
          "metadata": {},
          "execution_count": 19
        }
      ]
    },
    {
      "cell_type": "markdown",
      "source": [
        "### Combining filter and map"
      ],
      "metadata": {
        "id": "Mz6Wa6pO9mwB"
      }
    },
    {
      "cell_type": "code",
      "source": [
        "list(map(lambda x: x ** 2, filter(lambda x: x % 2 != 0, numbers)))"
      ],
      "metadata": {
        "colab": {
          "base_uri": "https://localhost:8080/"
        },
        "id": "S-jeMUFd9l2m",
        "outputId": "9f90e0a2-473e-4bb9-c6c5-96acb8bf2c6b"
      },
      "execution_count": 20,
      "outputs": [
        {
          "output_type": "execute_result",
          "data": {
            "text/plain": [
              "[9, 49, 1, 81, 25]"
            ]
          },
          "metadata": {},
          "execution_count": 20
        }
      ]
    },
    {
      "cell_type": "code",
      "source": [
        "[x ** 2 for x in numbers if x % 2 != 0]"
      ],
      "metadata": {
        "id": "oKBjBL0Q-BdU"
      },
      "execution_count": null,
      "outputs": []
    },
    {
      "cell_type": "markdown",
      "source": [
        "## Other Sequence Processing Functions"
      ],
      "metadata": {
        "id": "xismJ6mQ_41W"
      }
    },
    {
      "cell_type": "markdown",
      "source": [
        "### Finding the Minimum and Maximum Values Using a Key Function"
      ],
      "metadata": {
        "id": "6fhdj-GZ_7pX"
      }
    },
    {
      "cell_type": "code",
      "source": [
        "'R' < 'S'\n",
        "ord('R')"
      ],
      "metadata": {
        "colab": {
          "base_uri": "https://localhost:8080/"
        },
        "id": "ISrMDsth_59-",
        "outputId": "fc509eea-f1a2-4cb3-8df7-ba71a05481d5"
      },
      "execution_count": 49,
      "outputs": [
        {
          "output_type": "stream",
          "name": "stdout",
          "text": [
            "True\n"
          ]
        },
        {
          "output_type": "execute_result",
          "data": {
            "text/plain": [
              "82"
            ]
          },
          "metadata": {},
          "execution_count": 49
        }
      ]
    },
    {
      "cell_type": "code",
      "source": [
        "colors = ['Red', 'orange', 'Yellow', 'green', 'Blue']\n",
        "colors_a = [x.lower() for x in colors]\n",
        "print(sorted(colors_a))"
      ],
      "metadata": {
        "colab": {
          "base_uri": "https://localhost:8080/"
        },
        "id": "krTIvsfgBLGl",
        "outputId": "0a44c856-630c-4308-ad10-e81e11f59f8f"
      },
      "execution_count": 95,
      "outputs": [
        {
          "output_type": "stream",
          "name": "stdout",
          "text": [
            "['blue', 'green', 'orange', 'red', 'yellow']\n"
          ]
        }
      ]
    },
    {
      "cell_type": "code",
      "source": [
        "min(colors, key=lambda s: s.lower())"
      ],
      "metadata": {
        "id": "8ZkeOCcnCxZM"
      },
      "execution_count": null,
      "outputs": []
    },
    {
      "cell_type": "code",
      "source": [
        "max(colors, key=lambda s: s.lower())"
      ],
      "metadata": {
        "id": "-1Pqy8YeCwmm"
      },
      "execution_count": null,
      "outputs": []
    },
    {
      "cell_type": "markdown",
      "source": [
        "### Iterating Backward Through a Sequence"
      ],
      "metadata": {
        "id": "430r9WdwC1EV"
      }
    },
    {
      "cell_type": "code",
      "source": [
        "numbers = [10, 3, 7, 1, 9, 4, 2, 8, 5, 6]\n",
        "reversed_numbers = [item ** 2 for item in reversed(numbers)]\n",
        "reversed_numbers"
      ],
      "metadata": {
        "colab": {
          "base_uri": "https://localhost:8080/"
        },
        "id": "k6qdz63WC36N",
        "outputId": "b041fa97-bb9d-4aa7-9575-3f7a9a8b312a"
      },
      "execution_count": 58,
      "outputs": [
        {
          "output_type": "execute_result",
          "data": {
            "text/plain": [
              "[36, 25, 64, 4, 16, 81, 1, 49, 9, 100]"
            ]
          },
          "metadata": {},
          "execution_count": 58
        }
      ]
    },
    {
      "cell_type": "markdown",
      "source": [
        "### Combining Iterables into Tuples of Corresponding Elements"
      ],
      "metadata": {
        "id": "NKK41qa3DWd8"
      }
    },
    {
      "cell_type": "code",
      "source": [
        "names = ['Bob', 'Sue', 'Amanda']\n",
        "grade_point_averages = [3.5, 4.0, 3.75]\n",
        "for name, gpa in zip(names, grade_point_averages):\n",
        "  print(f'Name={name}; GPA={gpa}')"
      ],
      "metadata": {
        "colab": {
          "base_uri": "https://localhost:8080/"
        },
        "id": "POoQbgbIDX9E",
        "outputId": "7c0a51db-959d-4043-d62d-1217e20d1fcd"
      },
      "execution_count": 66,
      "outputs": [
        {
          "output_type": "stream",
          "name": "stdout",
          "text": [
            "Name=Bob; GPA=3.5\n",
            "Name=Sue; GPA=4.0\n",
            "Name=Amanda; GPA=3.75\n"
          ]
        }
      ]
    },
    {
      "cell_type": "markdown",
      "source": [
        "## Two-Dimensional Lists\n",
        "Double script/indexed lists"
      ],
      "metadata": {
        "id": "p4U5B3_SGysY"
      }
    },
    {
      "cell_type": "code",
      "source": [
        "a = [[77, 68, 86, 73], # first student's grades\n",
        "[96, 87, 89, 81], # second student's grades\n",
        "[70, 90, 86, 81]] # third student's grades"
      ],
      "metadata": {
        "id": "Put35fPeGzCj"
      },
      "execution_count": 69,
      "outputs": []
    },
    {
      "cell_type": "code",
      "source": [
        "for row in a:\n",
        "  for item in row:\n",
        "    print(item, end=' ')\n",
        "  print()"
      ],
      "metadata": {
        "colab": {
          "base_uri": "https://localhost:8080/"
        },
        "id": "sMxOYekRH2nB",
        "outputId": "bdb2c1b2-6e64-4059-ee0e-159b63b5092c"
      },
      "execution_count": 70,
      "outputs": [
        {
          "output_type": "stream",
          "name": "stdout",
          "text": [
            "77 68 86 73 \n",
            "96 87 89 81 \n",
            "70 90 86 81 \n"
          ]
        }
      ]
    },
    {
      "cell_type": "code",
      "source": [
        "for i, row in enumerate(a):\n",
        "  for j, item in enumerate(row):\n",
        "    print(f'a[{i}][{j}]={item} ', end=' ')\n",
        "  print()"
      ],
      "metadata": {
        "colab": {
          "base_uri": "https://localhost:8080/"
        },
        "id": "X_jqKmkAH_Ao",
        "outputId": "95b46ef4-2166-4811-9bd1-ce8cb1c2f2db"
      },
      "execution_count": 74,
      "outputs": [
        {
          "output_type": "stream",
          "name": "stdout",
          "text": [
            "a[0][0]=77  a[0][1]=68  a[0][2]=86  a[0][3]=73  \n",
            "a[1][0]=96  a[1][1]=87  a[1][2]=89  a[1][3]=81  \n",
            "a[2][0]=70  a[2][1]=90  a[2][2]=86  a[2][3]=81  \n"
          ]
        }
      ]
    },
    {
      "cell_type": "code",
      "source": [
        "sales = [[1,2,3],[4,5,6],[7,8,9]] # m = 2; n = 3\n",
        "print(sales)\n",
        "for row in range(len(sales)):\n",
        "  for col in range(len(sales[row])):\n",
        "    sales[row][col] = 0\n",
        "sales"
      ],
      "metadata": {
        "colab": {
          "base_uri": "https://localhost:8080/"
        },
        "id": "nKBhtkAuKPQK",
        "outputId": "b77cc3a0-a980-4103-c007-39f99e22a151"
      },
      "execution_count": 79,
      "outputs": [
        {
          "output_type": "stream",
          "name": "stdout",
          "text": [
            "[[1, 2, 3], [4, 5, 6], [7, 8, 9]]\n"
          ]
        },
        {
          "output_type": "execute_result",
          "data": {
            "text/plain": [
              "[[0, 0, 0], [0, 0, 0], [0, 0, 0]]"
            ]
          },
          "metadata": {},
          "execution_count": 79
        }
      ]
    },
    {
      "cell_type": "markdown",
      "source": [],
      "metadata": {
        "id": "lnLsiGnVGyoN"
      }
    }
  ]
}