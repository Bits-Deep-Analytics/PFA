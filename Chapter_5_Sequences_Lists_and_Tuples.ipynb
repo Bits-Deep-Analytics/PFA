{
 "cells": [
  {
   "cell_type": "markdown",
   "metadata": {
    "id": "FYZPjySf6PrJ"
   },
   "source": [
    "# Sequences: Lists and Tuples"
   ]
  },
  {
   "cell_type": "markdown",
   "metadata": {
    "id": "DekJZpAm6LkM"
   },
   "source": [
    "## Introduction"
   ]
  },
  {
   "cell_type": "markdown",
   "metadata": {
    "id": "gebhU2sH6Udd"
   },
   "source": [
    "Create and initialize lists and\n",
    "tuples.\n",
    "*   Refer to elements of lists,\n",
    "tuples and strings.\n",
    "*   Sort and search lists, and\n",
    "search tuples.\n",
    "*   Pass lists and tuples to\n",
    "functions and methods.\n",
    "*   Use list methods to perform\n",
    "common manipulations, such\n",
    "as searching for items, sorting\n",
    "a list, inserting items and\n",
    "removing items.\n",
    "*   Use additional Python\n",
    "functional-style programming\n",
    "capabilities, including\n",
    "lambdas and the operations\n",
    "filter, map and reduce.\n",
    "*   Use functional-style list\n",
    "comprehensions to create lists\n",
    "quickly and easily, and use\n",
    "generator expressions to\n",
    "generate values on demand.\n",
    "*   Use two-dimensional lists.\n",
    "*   Enhance your analysis and\n",
    "presentation skills with the\n",
    "Seaborn and Matplotlib\n",
    "visualization libraries."
   ]
  },
  {
   "cell_type": "markdown",
   "metadata": {
    "id": "xXMMgGd7hfGn"
   },
   "source": [
    "## List"
   ]
  },
  {
   "cell_type": "code",
   "execution_count": null,
   "metadata": {
    "colab": {
     "base_uri": "https://localhost:8080/",
     "height": 35
    },
    "id": "8SAwvZVVr_XB",
    "outputId": "e3533b52-b93a-48fe-e03e-a479cc0facb6"
   },
   "outputs": [
    {
     "data": {
      "application/vnd.google.colaboratory.intrinsic+json": {
       "type": "string"
      },
      "text/plain": [
       "'Mary'"
      ]
     },
     "execution_count": 1,
     "metadata": {},
     "output_type": "execute_result"
    }
   ],
   "source": [
    "l1 = ['Mary', 'Smith', 3.57, 2022] # Creating a list\n",
    "l1[0] # Accessing list items"
   ]
  },
  {
   "cell_type": "code",
   "execution_count": null,
   "metadata": {
    "colab": {
     "base_uri": "https://localhost:8080/"
    },
    "id": "IT8nLWLx2Y_j",
    "outputId": "9d4a68b9-355a-4943-b67d-0cb3366d943a"
   },
   "outputs": [
    {
     "data": {
      "text/plain": [
       "4"
      ]
     },
     "execution_count": 2,
     "metadata": {},
     "output_type": "execute_result"
    }
   ],
   "source": [
    "len(l1) # Determining a List’s Length"
   ]
  },
  {
   "cell_type": "code",
   "execution_count": null,
   "metadata": {
    "colab": {
     "base_uri": "https://localhost:8080/"
    },
    "id": "nIXto2OB2aof",
    "outputId": "9725b63a-0891-4c51-ea03-65a925466de2"
   },
   "outputs": [
    {
     "name": "stdout",
     "output_type": "stream",
     "text": [
      "2022\n"
     ]
    }
   ],
   "source": [
    "print(l1[-1])"
   ]
  },
  {
   "cell_type": "code",
   "execution_count": null,
   "metadata": {
    "id": "O2YD_OBk8rYp"
   },
   "outputs": [],
   "source": [
    "l1[2] = 4 # Lists Are Mutable"
   ]
  },
  {
   "cell_type": "code",
   "execution_count": null,
   "metadata": {
    "colab": {
     "base_uri": "https://localhost:8080/"
    },
    "id": "eEradoDE2agh",
    "outputId": "7bbb1be0-e439-433f-c364-1c124c7720c0"
   },
   "outputs": [
    {
     "name": "stdout",
     "output_type": "stream",
     "text": [
      "hello\n"
     ]
    }
   ],
   "source": [
    "s = 'hello'\n",
    "# s[0] = 'H' # Strings are like tuples\n",
    "print(s)"
   ]
  },
  {
   "cell_type": "markdown",
   "metadata": {
    "id": "fgOHAet97M1I"
   },
   "source": [
    "### Accessing Elements from the End of the List with Negative Indices"
   ]
  },
  {
   "cell_type": "code",
   "execution_count": null,
   "metadata": {
    "colab": {
     "base_uri": "https://localhost:8080/",
     "height": 35
    },
    "id": "zWXL-zd62aVv",
    "outputId": "4e05a599-1e40-45aa-d580-4b9f6facfcb4"
   },
   "outputs": [
    {
     "data": {
      "application/vnd.google.colaboratory.intrinsic+json": {
       "type": "string"
      },
      "text/plain": [
       "'o'"
      ]
     },
     "execution_count": 6,
     "metadata": {},
     "output_type": "execute_result"
    }
   ],
   "source": [
    "# s[10] # What's wrong in it\n",
    "s[-1]"
   ]
  },
  {
   "cell_type": "code",
   "execution_count": null,
   "metadata": {
    "colab": {
     "base_uri": "https://localhost:8080/",
     "height": 35
    },
    "id": "ffB3CgtP2iLn",
    "outputId": "f8b764a9-e4ea-4920-97b2-27e79f38ac40"
   },
   "outputs": [
    {
     "data": {
      "application/vnd.google.colaboratory.intrinsic+json": {
       "type": "string"
      },
      "text/plain": [
       "'hl'"
      ]
     },
     "execution_count": 7,
     "metadata": {},
     "output_type": "execute_result"
    }
   ],
   "source": [
    "# Overload it\n",
    "s[0] + s[1+2] # Indices Must Be Integers or Integer Expressions"
   ]
  },
  {
   "cell_type": "code",
   "execution_count": null,
   "metadata": {
    "id": "NuPwTlCx8NeC"
   },
   "outputs": [],
   "source": [
    "l1[0] = 2"
   ]
  },
  {
   "cell_type": "markdown",
   "metadata": {
    "id": "k_HqmKJJ9bT5"
   },
   "source": [
    "### Appending to a List with +="
   ]
  },
  {
   "cell_type": "code",
   "execution_count": null,
   "metadata": {
    "colab": {
     "base_uri": "https://localhost:8080/"
    },
    "id": "y5AtDE9S2vsW",
    "outputId": "01bd8d64-57b1-4501-a630-8853d16854ff"
   },
   "outputs": [
    {
     "data": {
      "text/plain": [
       "[1, 2, 3, 4, 5]"
      ]
     },
     "execution_count": 9,
     "metadata": {},
     "output_type": "execute_result"
    }
   ],
   "source": [
    "a_list = []\n",
    "for number in range(1,6):\n",
    "  a_list += [number]\n",
    "\n",
    "a_list"
   ]
  },
  {
   "cell_type": "code",
   "execution_count": null,
   "metadata": {
    "colab": {
     "base_uri": "https://localhost:8080/"
    },
    "id": "SeTAEXYFh-4q",
    "outputId": "20af9e5b-d471-4bde-eae1-20c5752e2a3f"
   },
   "outputs": [
    {
     "data": {
      "text/plain": [
       "[1, 2, 3, 4, 5]"
      ]
     },
     "execution_count": 10,
     "metadata": {},
     "output_type": "execute_result"
    }
   ],
   "source": [
    "a_list = []\n",
    "for number in range(1, 6):\n",
    "  a_list = a_list + [number]\n",
    "\n",
    "a_list"
   ]
  },
  {
   "cell_type": "code",
   "execution_count": null,
   "metadata": {
    "colab": {
     "base_uri": "https://localhost:8080/"
    },
    "id": "dPAr_YES3Ag4",
    "outputId": "47cfdacb-a3f0-4020-da2f-e3acc69f69e9"
   },
   "outputs": [
    {
     "data": {
      "text/plain": [
       "['P', 'y', 't', 'h', 'o', 'n']"
      ]
     },
     "execution_count": 11,
     "metadata": {},
     "output_type": "execute_result"
    }
   ],
   "source": [
    "letters = []\n",
    "letters += 'Python'\n",
    "letters"
   ]
  },
  {
   "cell_type": "markdown",
   "metadata": {
    "id": "8yxQKqYb3Um1"
   },
   "source": [
    "### Concatenating Lists with +"
   ]
  },
  {
   "cell_type": "code",
   "execution_count": null,
   "metadata": {
    "colab": {
     "base_uri": "https://localhost:8080/"
    },
    "id": "iIhe_ikH3AeQ",
    "outputId": "f0c1d9be-e8d9-4c57-c5c1-0d313ae2060f"
   },
   "outputs": [
    {
     "data": {
      "text/plain": [
       "[10, 20, 30, 40, 50]"
      ]
     },
     "execution_count": 12,
     "metadata": {},
     "output_type": "execute_result"
    }
   ],
   "source": [
    "list1 = [10, 20, 30]\n",
    "list2 = [40, 50]\n",
    "concatenated_list = list1 + list2\n",
    "concatenated_list"
   ]
  },
  {
   "cell_type": "markdown",
   "metadata": {
    "id": "2YyaRoYD92-H"
   },
   "source": [
    "### Using for and range to Access List Indices and Values"
   ]
  },
  {
   "cell_type": "code",
   "execution_count": null,
   "metadata": {
    "colab": {
     "base_uri": "https://localhost:8080/"
    },
    "id": "Z_MEr-uu3Abj",
    "outputId": "c4ecd248-560f-4d22-c72f-ab58692085a4"
   },
   "outputs": [
    {
     "name": "stdout",
     "output_type": "stream",
     "text": [
      "0: 10\n",
      "1: 20\n",
      "2: 30\n",
      "3: 40\n",
      "4: 50\n"
     ]
    }
   ],
   "source": [
    "for i in range(len(concatenated_list)):\n",
    "  print(f'{i}: {concatenated_list[i]}')"
   ]
  },
  {
   "cell_type": "markdown",
   "metadata": {
    "id": "U19saejX98h-"
   },
   "source": [
    "### Comparison Operators"
   ]
  },
  {
   "cell_type": "code",
   "execution_count": null,
   "metadata": {
    "colab": {
     "base_uri": "https://localhost:8080/"
    },
    "id": "qUEK2TOz3AYx",
    "outputId": "371fc5fe-7312-409e-8b14-332ad295cf1e"
   },
   "outputs": [
    {
     "data": {
      "text/plain": [
       "False"
      ]
     },
     "execution_count": 14,
     "metadata": {},
     "output_type": "execute_result"
    }
   ],
   "source": [
    "a = [1, 2, 6]\n",
    "b = [1, 2, 3]\n",
    "c = [1, 2, 4]\n",
    "a < c\n",
    "# c > a\n",
    "# a < b"
   ]
  },
  {
   "cell_type": "code",
   "execution_count": null,
   "metadata": {
    "colab": {
     "base_uri": "https://localhost:8080/"
    },
    "id": "sFj2S_6s3AVW",
    "outputId": "8967a911-15a7-4db8-f9ee-b5fa34de72d8"
   },
   "outputs": [
    {
     "data": {
      "text/plain": [
       "[1, 4, 9, 16, 25, 36, 49, 64, 81, 100]"
      ]
     },
     "execution_count": 15,
     "metadata": {},
     "output_type": "execute_result"
    }
   ],
   "source": [
    "def square_list(values):\n",
    "  for i in range(len(values)):\n",
    "    values[i] **= 2\n",
    "\n",
    "numbers = [1, 2, 3, 4, 5, 6, 7, 8, 9, 10]\n",
    "square_list(numbers)\n",
    "numbers"
   ]
  },
  {
   "cell_type": "markdown",
   "metadata": {
    "id": "70Ue0QWo5j6z"
   },
   "source": [
    "## Tuples"
   ]
  },
  {
   "cell_type": "markdown",
   "metadata": {
    "id": "O5qEEaE4WuSo"
   },
   "source": [
    "### Creating Tuples"
   ]
  },
  {
   "cell_type": "code",
   "execution_count": null,
   "metadata": {
    "colab": {
     "base_uri": "https://localhost:8080/"
    },
    "id": "WTfaAihx3APY",
    "outputId": "3f42b1e5-adb2-41f6-cf5f-16615d1d856c"
   },
   "outputs": [
    {
     "data": {
      "text/plain": [
       "0"
      ]
     },
     "execution_count": 16,
     "metadata": {},
     "output_type": "execute_result"
    }
   ],
   "source": [
    "student_tuple = ()\n",
    "student_tuple\n",
    "len(student_tuple)"
   ]
  },
  {
   "cell_type": "code",
   "execution_count": null,
   "metadata": {
    "colab": {
     "base_uri": "https://localhost:8080/"
    },
    "id": "nBYbsJQa3ANR",
    "outputId": "4b66c05e-db10-406b-cbdb-ebed68d90504"
   },
   "outputs": [
    {
     "data": {
      "text/plain": [
       "3"
      ]
     },
     "execution_count": 17,
     "metadata": {},
     "output_type": "execute_result"
    }
   ],
   "source": [
    "student_tuple = ('John', 'Green', 3.3)\n",
    "student_tuple\n",
    "len(student_tuple)"
   ]
  },
  {
   "cell_type": "code",
   "execution_count": null,
   "metadata": {
    "colab": {
     "base_uri": "https://localhost:8080/"
    },
    "id": "PizmG3ak3AJ4",
    "outputId": "867f60bb-b412-48b4-9ad3-e8df3776bfdb"
   },
   "outputs": [
    {
     "data": {
      "text/plain": [
       "('Mary', 'Red', 3.3)"
      ]
     },
     "execution_count": 18,
     "metadata": {},
     "output_type": "execute_result"
    }
   ],
   "source": [
    "another_student_tuple = 'Mary', 'Red', 3.3\n",
    "another_student_tuple"
   ]
  },
  {
   "cell_type": "code",
   "execution_count": null,
   "metadata": {
    "colab": {
     "base_uri": "https://localhost:8080/"
    },
    "id": "fKZ220l-3AFg",
    "outputId": "1b777d25-7bad-4f3b-dd40-6e2960ba5f47"
   },
   "outputs": [
    {
     "data": {
      "text/plain": [
       "('red',)"
      ]
     },
     "execution_count": 19,
     "metadata": {},
     "output_type": "execute_result"
    }
   ],
   "source": [
    "a_singleton_tuple = 'red',\n",
    "a_singleton_tuple"
   ]
  },
  {
   "cell_type": "markdown",
   "metadata": {
    "id": "hv3dk2vFTRLT"
   },
   "source": [
    "### Accessing Tuple Elements"
   ]
  },
  {
   "cell_type": "code",
   "execution_count": null,
   "metadata": {
    "colab": {
     "base_uri": "https://localhost:8080/"
    },
    "id": "avKExWl93AC_",
    "outputId": "1632c62f-7933-4233-f77c-cc721f4054b8"
   },
   "outputs": [
    {
     "data": {
      "text/plain": [
       "33361"
      ]
     },
     "execution_count": 20,
     "metadata": {},
     "output_type": "execute_result"
    }
   ],
   "source": [
    "time_tuple = (9, 16, 1)\n",
    "time_tuple\n",
    "time_tuple[0] * 3600 + time_tuple[1] * 60 + time_tuple[2]"
   ]
  },
  {
   "cell_type": "markdown",
   "metadata": {
    "id": "fDPnsUcwWoV9"
   },
   "source": [
    "### Adding Items to a String or tuple"
   ]
  },
  {
   "cell_type": "code",
   "execution_count": null,
   "metadata": {
    "colab": {
     "base_uri": "https://localhost:8080/"
    },
    "id": "6K-WuXySTuq0",
    "outputId": "d4fb41c8-40cf-4203-867a-d533a5f3e0be"
   },
   "outputs": [
    {
     "data": {
      "text/plain": [
       "(10, 20, 30)"
      ]
     },
     "execution_count": 21,
     "metadata": {},
     "output_type": "execute_result"
    }
   ],
   "source": [
    "tuple1 = (10, 20, 30)\n",
    "tuple2 = tuple1\n",
    "tuple2"
   ]
  },
  {
   "cell_type": "code",
   "execution_count": null,
   "metadata": {
    "colab": {
     "base_uri": "https://localhost:8080/"
    },
    "id": "wWlWSPjlU7YM",
    "outputId": "1d66d1f1-2e24-4c3c-90ae-7d4f9af9fca9"
   },
   "outputs": [
    {
     "data": {
      "text/plain": [
       "(40, 50)"
      ]
     },
     "execution_count": 22,
     "metadata": {},
     "output_type": "execute_result"
    }
   ],
   "source": [
    "tuple1 = (40,50)\n",
    "tuple1"
   ]
  },
  {
   "cell_type": "code",
   "execution_count": null,
   "metadata": {
    "colab": {
     "base_uri": "https://localhost:8080/"
    },
    "id": "5YpPcAh5U7Of",
    "outputId": "3f35c113-e111-42c0-e608-1c8786f886f5"
   },
   "outputs": [
    {
     "data": {
      "text/plain": [
       "(40, 50, 40, 50)"
      ]
     },
     "execution_count": 23,
     "metadata": {},
     "output_type": "execute_result"
    }
   ],
   "source": [
    "tuple2 = tuple1 + (40,50)\n",
    "tuple2"
   ]
  },
  {
   "cell_type": "markdown",
   "metadata": {
    "id": "4e4jPvEZWOby"
   },
   "source": [
    "### Appending Tuples to Lists"
   ]
  },
  {
   "cell_type": "code",
   "execution_count": null,
   "metadata": {
    "colab": {
     "base_uri": "https://localhost:8080/"
    },
    "id": "TUuAj9W9WNV0",
    "outputId": "768949a9-1c24-4584-d760-8492ff5419d1"
   },
   "outputs": [
    {
     "data": {
      "text/plain": [
       "[1, 2, 3, 4, 5, 6, 7]"
      ]
     },
     "execution_count": 24,
     "metadata": {},
     "output_type": "execute_result"
    }
   ],
   "source": [
    "numbers = [1, 2, 3, 4, 5]\n",
    "numbers += (6, 7)\n",
    "numbers"
   ]
  },
  {
   "cell_type": "code",
   "execution_count": null,
   "metadata": {
    "colab": {
     "base_uri": "https://localhost:8080/"
    },
    "id": "q1aLCWDaWL_n",
    "outputId": "44231066-8f5b-4228-d6bb-78d346d5f401"
   },
   "outputs": [
    {
     "data": {
      "text/plain": [
       "(40, 50, 40, 50, 40, 50, 40, 50)"
      ]
     },
     "execution_count": 25,
     "metadata": {},
     "output_type": "execute_result"
    }
   ],
   "source": [
    "tuple1 += (40,50)\n",
    "tuple1 = tuple1 + tuple2\n",
    "tuple1"
   ]
  },
  {
   "cell_type": "markdown",
   "metadata": {
    "id": "fFMzG0yNXnmC"
   },
   "source": [
    "### Tuples May Contain Mutable Objects"
   ]
  },
  {
   "cell_type": "code",
   "execution_count": null,
   "metadata": {
    "colab": {
     "base_uri": "https://localhost:8080/"
    },
    "id": "mzluQcj83AAe",
    "outputId": "e5f55003-19db-4912-f939-7ee0649e8229"
   },
   "outputs": [
    {
     "data": {
      "text/plain": [
       "('Amanda', 'Blue', [98, 75, 1])"
      ]
     },
     "execution_count": 26,
     "metadata": {},
     "output_type": "execute_result"
    }
   ],
   "source": [
    "student_tuple = ('Amanda', 'Blue', [98, 75, 87])\n",
    "student_tuple[2][2]  = 1\n",
    "student_tuple"
   ]
  },
  {
   "cell_type": "markdown",
   "metadata": {
    "id": "oXTnEWn_Z0zd"
   },
   "source": [
    "## Unpacking Sequences"
   ]
  },
  {
   "cell_type": "code",
   "execution_count": null,
   "metadata": {
    "colab": {
     "base_uri": "https://localhost:8080/"
    },
    "id": "Miwyn0rkBIUb",
    "outputId": "15b494f4-06fc-4468-9807-5123155e6dcd"
   },
   "outputs": [
    {
     "data": {
      "text/plain": [
       "[98, 85, 87]"
      ]
     },
     "execution_count": 108,
     "metadata": {},
     "output_type": "execute_result"
    }
   ],
   "source": [
    "student_tuple = ('Amanda', [98, 85, 87])\n",
    "first_name, grades = student_tuple\n",
    "grades\n",
    "# student_tuple[0:1]"
   ]
  },
  {
   "cell_type": "code",
   "execution_count": null,
   "metadata": {
    "colab": {
     "base_uri": "https://localhost:8080/"
    },
    "id": "nwbDAFQabk-h",
    "outputId": "3c3486d0-4a57-4b21-db69-7d1d8bd1d2cb"
   },
   "outputs": [
    {
     "name": "stdout",
     "output_type": "stream",
     "text": [
      "h i\n"
     ]
    }
   ],
   "source": [
    "first, second = 'hi'\n",
    "print(f'{first} {second}')"
   ]
  },
  {
   "cell_type": "code",
   "execution_count": null,
   "metadata": {
    "colab": {
     "base_uri": "https://localhost:8080/"
    },
    "id": "uCN-UL30cKDA",
    "outputId": "cd953acc-7523-44a1-8fdd-76776c6341b0"
   },
   "outputs": [
    {
     "name": "stdout",
     "output_type": "stream",
     "text": [
      "10 20 30\n"
     ]
    }
   ],
   "source": [
    "number1, number2, number3 = range(10, 40, 10)\n",
    "print(f'{number1} {number2} {number3}')"
   ]
  },
  {
   "cell_type": "markdown",
   "metadata": {
    "id": "IEietck-c8Md"
   },
   "source": [
    "### Swapping Values Via Packing and Unpacking"
   ]
  },
  {
   "cell_type": "code",
   "execution_count": null,
   "metadata": {
    "colab": {
     "base_uri": "https://localhost:8080/"
    },
    "id": "kl1-LNKWBIRk",
    "outputId": "a12e99d8-3359-4e49-f19f-9ad82ea29d7c"
   },
   "outputs": [
    {
     "name": "stdout",
     "output_type": "stream",
     "text": [
      "99 22\n",
      "22 99\n"
     ]
    }
   ],
   "source": [
    "number1 = 99\n",
    "number2 = 22\n",
    "print(number1,number2)\n",
    "tuple3 = (number2, number1) # Packing\n",
    "number1, number2 = tuple3 # Unpacking\n",
    "print(number1,number2)"
   ]
  },
  {
   "cell_type": "markdown",
   "metadata": {
    "id": "jb6qkIiWdkbM"
   },
   "source": [
    "### Accessing Indices and Values Safely with Built-in Function enumerate"
   ]
  },
  {
   "cell_type": "code",
   "execution_count": null,
   "metadata": {
    "colab": {
     "base_uri": "https://localhost:8080/"
    },
    "id": "ZgcVvYRBBIOS",
    "outputId": "500032db-8cc7-4d18-fde2-8c80cb356caf"
   },
   "outputs": [
    {
     "data": {
      "text/plain": [
       "[(0, 'red'), (1, 'orange'), (2, 'yellow')]"
      ]
     },
     "execution_count": 31,
     "metadata": {},
     "output_type": "execute_result"
    }
   ],
   "source": [
    "colors = ['red', 'orange', 'yellow']\n",
    "list(enumerate(colors))"
   ]
  },
  {
   "cell_type": "code",
   "execution_count": null,
   "metadata": {
    "colab": {
     "base_uri": "https://localhost:8080/"
    },
    "id": "3GMFiJmiBILZ",
    "outputId": "85b5ef03-00eb-4bbc-85b8-cf001cce1f9c"
   },
   "outputs": [
    {
     "data": {
      "text/plain": [
       "((0, 'red'), (1, 'orange'), (2, 'yellow'))"
      ]
     },
     "execution_count": 32,
     "metadata": {},
     "output_type": "execute_result"
    }
   ],
   "source": [
    "tuple(enumerate(colors))"
   ]
  },
  {
   "cell_type": "code",
   "execution_count": null,
   "metadata": {
    "colab": {
     "base_uri": "https://localhost:8080/"
    },
    "id": "l4PyVNZieuWg",
    "outputId": "3319c14e-93eb-43ab-9290-fc948ab6ccea"
   },
   "outputs": [
    {
     "name": "stdout",
     "output_type": "stream",
     "text": [
      "0: red\n",
      "1: orange\n",
      "2: yellow\n"
     ]
    }
   ],
   "source": [
    "for index, value in enumerate(colors):\n",
    "  print(f'{index}: {value}')"
   ]
  },
  {
   "cell_type": "code",
   "execution_count": null,
   "metadata": {
    "colab": {
     "base_uri": "https://localhost:8080/"
    },
    "id": "qLDQFjOJBHqb",
    "outputId": "bf407c45-3a34-47a6-d26e-9be50ffc6e31"
   },
   "outputs": [
    {
     "name": "stdout",
     "output_type": "stream",
     "text": [
      "\n",
      "Creating a bar chart from numbers:\n",
      "Index   Value Bar\n",
      "    0      19 *******************\n",
      "    1       3 ***\n",
      "    2      15 ***************\n",
      "    3       7 *******\n",
      "    4      11 ***********\n"
     ]
    }
   ],
   "source": [
    "\"\"\"Displaying a bar chart\"\"\"\n",
    "numbers = [19, 3, 15, 7, 11]\n",
    "\n",
    "print('\\nCreating a bar chart from numbers:')\n",
    "print(f'Index{\"Value\":>8} Bar')\n",
    "for index, value in enumerate(numbers):\n",
    "  print(f'{index:>5}{value:>8} {'*' * value}')"
   ]
  },
  {
   "cell_type": "markdown",
   "metadata": {
    "id": "nD1fB-6OgUA4"
   },
   "source": [
    "### Sequence slicing"
   ]
  },
  {
   "cell_type": "code",
   "execution_count": null,
   "metadata": {
    "id": "Zg7e4hUsEX3f"
   },
   "outputs": [],
   "source": [
    "numbers = [2, 3, 5, 7, 11, 13, 17, 19]"
   ]
  },
  {
   "cell_type": "code",
   "execution_count": null,
   "metadata": {
    "colab": {
     "base_uri": "https://localhost:8080/"
    },
    "id": "Jk5wKHPSEX0N",
    "outputId": "fb9e8d47-ed33-44ae-9773-bd1e6139448e"
   },
   "outputs": [
    {
     "data": {
      "text/plain": [
       "[5, 7, 11, 13]"
      ]
     },
     "execution_count": 36,
     "metadata": {},
     "output_type": "execute_result"
    }
   ],
   "source": [
    "numbers[2:6]"
   ]
  },
  {
   "cell_type": "code",
   "execution_count": null,
   "metadata": {
    "colab": {
     "base_uri": "https://localhost:8080/"
    },
    "id": "Yqcybkl7EXxl",
    "outputId": "39c85431-dd5a-4fec-8f81-089dd7d099b5"
   },
   "outputs": [
    {
     "data": {
      "text/plain": [
       "[2, 3, 5, 7, 11, 13]"
      ]
     },
     "execution_count": 37,
     "metadata": {},
     "output_type": "execute_result"
    }
   ],
   "source": [
    "numbers[:6]"
   ]
  },
  {
   "cell_type": "code",
   "execution_count": null,
   "metadata": {
    "colab": {
     "base_uri": "https://localhost:8080/"
    },
    "id": "YcXVhHIYEXus",
    "outputId": "b146ce5b-45f4-4ede-9683-f68aa8cd44db"
   },
   "outputs": [
    {
     "data": {
      "text/plain": [
       "[17, 19]"
      ]
     },
     "execution_count": 38,
     "metadata": {},
     "output_type": "execute_result"
    }
   ],
   "source": [
    "numbers[6:]"
   ]
  },
  {
   "cell_type": "markdown",
   "metadata": {
    "id": "bqHyt8-kgZoJ"
   },
   "source": [
    "### Specifying a Slice with No Indices"
   ]
  },
  {
   "cell_type": "code",
   "execution_count": null,
   "metadata": {
    "colab": {
     "base_uri": "https://localhost:8080/"
    },
    "id": "jg5nAI3rEXr9",
    "outputId": "dcd08ac7-07a2-4c9b-f14b-815cfd8bcfd6"
   },
   "outputs": [
    {
     "data": {
      "text/plain": [
       "[6, 7, 8, 9]"
      ]
     },
     "execution_count": 109,
     "metadata": {},
     "output_type": "execute_result"
    }
   ],
   "source": [
    "numbers[:]"
   ]
  },
  {
   "cell_type": "markdown",
   "metadata": {
    "id": "rrLyimd1gbxH"
   },
   "source": [
    "### Slicing with Steps"
   ]
  },
  {
   "cell_type": "code",
   "execution_count": null,
   "metadata": {
    "colab": {
     "base_uri": "https://localhost:8080/"
    },
    "id": "tfRxfl8zEXpv",
    "outputId": "465b29a7-f486-4f22-fef4-6b1a78b2441d"
   },
   "outputs": [
    {
     "data": {
      "text/plain": [
       "[2, 5, 11, 17]"
      ]
     },
     "execution_count": 40,
     "metadata": {},
     "output_type": "execute_result"
    }
   ],
   "source": [
    "numbers[::2]"
   ]
  },
  {
   "cell_type": "code",
   "execution_count": null,
   "metadata": {
    "colab": {
     "base_uri": "https://localhost:8080/"
    },
    "id": "EgCygXxFEXmN",
    "outputId": "48d2a482-c54e-4c2b-e9c3-754aa3bad357"
   },
   "outputs": [
    {
     "data": {
      "text/plain": [
       "[19, 13, 7, 3]"
      ]
     },
     "execution_count": 41,
     "metadata": {},
     "output_type": "execute_result"
    }
   ],
   "source": [
    "numbers[::-2]"
   ]
  },
  {
   "cell_type": "code",
   "execution_count": null,
   "metadata": {
    "colab": {
     "base_uri": "https://localhost:8080/"
    },
    "id": "DHLRD4AcgzOm",
    "outputId": "cd4af442-ed4f-4dcf-a9de-5d555ddb7839"
   },
   "outputs": [
    {
     "data": {
      "text/plain": [
       "[19, 17, 13, 11, 7, 5, 3, 2]"
      ]
     },
     "execution_count": 42,
     "metadata": {},
     "output_type": "execute_result"
    }
   ],
   "source": [
    "numbers[-1:-9:-1]"
   ]
  },
  {
   "cell_type": "code",
   "execution_count": null,
   "metadata": {
    "colab": {
     "base_uri": "https://localhost:8080/"
    },
    "id": "X_mSqKjDhIT7",
    "outputId": "1090c721-a45b-4069-f650-7343171fbf10"
   },
   "outputs": [
    {
     "data": {
      "text/plain": [
       "['two', 'three', 'five', 7, 11, 13, 17, 19]"
      ]
     },
     "execution_count": 43,
     "metadata": {},
     "output_type": "execute_result"
    }
   ],
   "source": [
    "numbers[0:3] = ['two', 'three', 'five']\n",
    "numbers"
   ]
  },
  {
   "cell_type": "code",
   "execution_count": null,
   "metadata": {
    "colab": {
     "base_uri": "https://localhost:8080/"
    },
    "id": "Z9Q-Wxo8hQGW",
    "outputId": "135bf431-69f0-41f2-bb02-977a14be6d19"
   },
   "outputs": [
    {
     "data": {
      "text/plain": [
       "[7, 11, 13, 17, 19]"
      ]
     },
     "execution_count": 44,
     "metadata": {},
     "output_type": "execute_result"
    }
   ],
   "source": [
    "numbers[0:3] = []\n",
    "numbers"
   ]
  },
  {
   "cell_type": "code",
   "execution_count": null,
   "metadata": {
    "colab": {
     "base_uri": "https://localhost:8080/"
    },
    "id": "YyXr-sYDHZ5N",
    "outputId": "6c82e2da-0c2f-4081-f447-adebc7ab7545"
   },
   "outputs": [
    {
     "name": "stdout",
     "output_type": "stream",
     "text": [
      "[1, 2, 3, 4, 5]\n"
     ]
    }
   ],
   "source": [
    "list1 = []\n",
    "for item in range(1, 6):\n",
    "  list1.append(item)\n",
    "\n",
    "print(list1)"
   ]
  },
  {
   "cell_type": "markdown",
   "metadata": {
    "id": "cfroFBAAmmsg"
   },
   "source": [
    "## List comprehension"
   ]
  },
  {
   "cell_type": "code",
   "execution_count": null,
   "metadata": {
    "colab": {
     "base_uri": "https://localhost:8080/"
    },
    "id": "9XX21zW0m8Y8",
    "outputId": "4c1e37a6-519c-42cc-9795-cfb5b737809d"
   },
   "outputs": [
    {
     "data": {
      "text/plain": [
       "[1, 2, 3, 4, 5]"
      ]
     },
     "execution_count": 93,
     "metadata": {},
     "output_type": "execute_result"
    }
   ],
   "source": [
    "a = [item for item in range(1, 6)]\n",
    "a"
   ]
  },
  {
   "cell_type": "code",
   "execution_count": null,
   "metadata": {
    "colab": {
     "base_uri": "https://localhost:8080/"
    },
    "id": "yZojaHw2HddD",
    "outputId": "50b4b933-813f-4551-eb04-6403137e47af"
   },
   "outputs": [
    {
     "name": "stdout",
     "output_type": "stream",
     "text": [
      "[1, 2, 3, 4, 5]\n"
     ]
    }
   ],
   "source": [
    "list2 = [item for item in range(1, 6)]\n",
    "print(list2)"
   ]
  },
  {
   "cell_type": "code",
   "execution_count": null,
   "metadata": {
    "colab": {
     "base_uri": "https://localhost:8080/"
    },
    "id": "0THi5ui1Hqn6",
    "outputId": "e83c2583-3e58-4b74-c40f-dd4fe22a70e3"
   },
   "outputs": [
    {
     "data": {
      "text/plain": [
       "[3, 6, 9, 12, 15]"
      ]
     },
     "execution_count": 94,
     "metadata": {},
     "output_type": "execute_result"
    }
   ],
   "source": [
    "list3 = [item * 3 for item in range(1, 6)]\n",
    "list3"
   ]
  },
  {
   "cell_type": "code",
   "execution_count": null,
   "metadata": {
    "id": "u88bo6JJHsMv"
   },
   "outputs": [],
   "source": [
    "list4 = [item for item in range(1, 11) if item % 2 == 0]"
   ]
  },
  {
   "cell_type": "code",
   "execution_count": null,
   "metadata": {
    "colab": {
     "base_uri": "https://localhost:8080/"
    },
    "id": "QVzE_PDjmo-q",
    "outputId": "d1bcd152-c4a8-417e-9d7a-11c8f4486fed"
   },
   "outputs": [
    {
     "data": {
      "text/plain": [
       "['RED', 'ORANGE', 'YELLOW', 'GREEN', 'BLUE']"
      ]
     },
     "execution_count": 90,
     "metadata": {},
     "output_type": "execute_result"
    }
   ],
   "source": [
    "colors = ['red', 'orange', 'yellow', 'green', 'blue']\n",
    "colors2 = [item.upper() for item in colors]\n",
    "colors2"
   ]
  },
  {
   "cell_type": "markdown",
   "metadata": {
    "id": "COhtQpilJVxf"
   },
   "source": [
    "## Del statement"
   ]
  },
  {
   "cell_type": "code",
   "execution_count": null,
   "metadata": {
    "colab": {
     "base_uri": "https://localhost:8080/"
    },
    "id": "5A-xhYG1JYBe",
    "outputId": "d1f87c78-44a1-4749-eb30-a20e7bf9ab6c"
   },
   "outputs": [
    {
     "data": {
      "text/plain": [
       "[0, 1, 2, 3, 4, 5, 6, 7, 8, 9]"
      ]
     },
     "execution_count": 98,
     "metadata": {},
     "output_type": "execute_result"
    }
   ],
   "source": [
    "numbers = list(range(0, 10))\n",
    "numbers"
   ]
  },
  {
   "cell_type": "code",
   "execution_count": null,
   "metadata": {
    "colab": {
     "base_uri": "https://localhost:8080/"
    },
    "id": "O2t5a46OJYac",
    "outputId": "ad10abf6-afe5-4089-c65f-90c173774d27"
   },
   "outputs": [
    {
     "data": {
      "text/plain": [
       "[0, 1, 2, 3, 4, 5, 6, 7, 8]"
      ]
     },
     "execution_count": 50,
     "metadata": {},
     "output_type": "execute_result"
    }
   ],
   "source": [
    "del numbers[-1]\n",
    "numbers"
   ]
  },
  {
   "cell_type": "code",
   "execution_count": null,
   "metadata": {
    "colab": {
     "base_uri": "https://localhost:8080/"
    },
    "id": "uaRARR1oJYWt",
    "outputId": "f8052443-d77f-4e32-cd5d-ba8a84581f97"
   },
   "outputs": [
    {
     "data": {
      "text/plain": [
       "[6, 7, 8, 9]"
      ]
     },
     "execution_count": 102,
     "metadata": {},
     "output_type": "execute_result"
    }
   ],
   "source": [
    "del(numbers[0:2])\n",
    "numbers"
   ]
  },
  {
   "cell_type": "markdown",
   "metadata": {
    "id": "fYgffRbEKdAh"
   },
   "source": [
    "### Deleting a Slice Representing the Entire List"
   ]
  },
  {
   "cell_type": "code",
   "execution_count": null,
   "metadata": {
    "colab": {
     "base_uri": "https://localhost:8080/"
    },
    "id": "pTA28hDmKfwA",
    "outputId": "aaf5550b-a05f-4c12-f10c-cf1be2359688"
   },
   "outputs": [
    {
     "data": {
      "text/plain": [
       "[]"
      ]
     },
     "execution_count": 52,
     "metadata": {},
     "output_type": "execute_result"
    }
   ],
   "source": [
    "del numbers[:]\n",
    "numbers"
   ]
  },
  {
   "cell_type": "markdown",
   "metadata": {
    "id": "xYUwSKfHKj0h"
   },
   "source": [
    "### Deleting a Variable from the Current Session"
   ]
  },
  {
   "cell_type": "code",
   "execution_count": null,
   "metadata": {
    "id": "6Q79ZvmiKmAu"
   },
   "outputs": [],
   "source": [
    "# del numbers\n",
    "# numbers"
   ]
  },
  {
   "cell_type": "markdown",
   "metadata": {
    "id": "jx8-WoG4M4B8"
   },
   "source": [
    "## Passing Lists to Functions"
   ]
  },
  {
   "cell_type": "code",
   "execution_count": null,
   "metadata": {
    "colab": {
     "base_uri": "https://localhost:8080/"
    },
    "id": "S2MT9RBiM_ef",
    "outputId": "dc00c141-0e19-4870-935d-cefd4d23f267"
   },
   "outputs": [
    {
     "data": {
      "text/plain": [
       "[20, 6, 14, 2, 18]"
      ]
     },
     "execution_count": 54,
     "metadata": {},
     "output_type": "execute_result"
    }
   ],
   "source": [
    "def modify_elements(items):\n",
    "  \"\"\"\"Multiplies all element values in items by 2.\"\"\"\n",
    "  for i in range(len(items)):\n",
    "    items[i] *= 2\n",
    "\n",
    "numbers = [10, 3, 7, 1, 9]\n",
    "modify_elements(numbers)\n",
    "numbers"
   ]
  },
  {
   "cell_type": "markdown",
   "metadata": {
    "id": "Jomx4kqxM6qT"
   },
   "source": [
    "### Passing a Tuple to a Function"
   ]
  },
  {
   "cell_type": "code",
   "execution_count": null,
   "metadata": {
    "colab": {
     "base_uri": "https://localhost:8080/"
    },
    "id": "5yn4bE0mNMxo",
    "outputId": "4daf0369-74ac-4a82-d900-c22adad3445e"
   },
   "outputs": [
    {
     "data": {
      "text/plain": [
       "(10, 20, 30)"
      ]
     },
     "execution_count": 55,
     "metadata": {},
     "output_type": "execute_result"
    }
   ],
   "source": [
    "numbers_tuple = (10, 20, 30)\n",
    "numbers_tuple"
   ]
  },
  {
   "cell_type": "code",
   "execution_count": null,
   "metadata": {
    "id": "5PTzVo4dNRQv"
   },
   "outputs": [],
   "source": [
    "# modify_elements(numbers_tuple) # Tuple"
   ]
  },
  {
   "cell_type": "markdown",
   "metadata": {
    "id": "UAYJAS93TSIQ"
   },
   "source": [
    "## Sorting Lists"
   ]
  },
  {
   "cell_type": "code",
   "execution_count": null,
   "metadata": {
    "colab": {
     "base_uri": "https://localhost:8080/"
    },
    "id": "f0te8oWuNQrZ",
    "outputId": "7fd13a13-69e2-4b2f-a07d-f5926b557b28"
   },
   "outputs": [
    {
     "data": {
      "text/plain": [
       "[1, 2, 3, 4, 5, 6, 7, 8, 9, 10]"
      ]
     },
     "execution_count": 57,
     "metadata": {},
     "output_type": "execute_result"
    }
   ],
   "source": [
    "numbers = [10, 3, 7, 1, 9, 4, 2, 8, 5, 6]\n",
    "numbers.sort()\n",
    "numbers"
   ]
  },
  {
   "cell_type": "markdown",
   "metadata": {
    "id": "F0ViNbRlNQVp"
   },
   "source": [
    "### Sorting a List in Descending Order"
   ]
  },
  {
   "cell_type": "code",
   "execution_count": null,
   "metadata": {
    "colab": {
     "base_uri": "https://localhost:8080/"
    },
    "id": "_qBFtPQuTeRJ",
    "outputId": "515d078f-3969-45ca-ff3d-1b3b9421e605"
   },
   "outputs": [
    {
     "data": {
      "text/plain": [
       "[10, 9, 8, 7, 6, 5, 4, 3, 2, 1]"
      ]
     },
     "execution_count": 58,
     "metadata": {},
     "output_type": "execute_result"
    }
   ],
   "source": [
    "numbers.sort(reverse=True)\n",
    "numbers"
   ]
  },
  {
   "cell_type": "code",
   "execution_count": null,
   "metadata": {
    "id": "650R37MoTq-C"
   },
   "outputs": [],
   "source": [
    "ascending_numbers = sorted(numbers) # Creates a new list"
   ]
  },
  {
   "cell_type": "code",
   "execution_count": null,
   "metadata": {
    "colab": {
     "base_uri": "https://localhost:8080/"
    },
    "id": "oEyuVDjHT_aL",
    "outputId": "48404d4e-d767-4527-d06c-0f9077004fc2"
   },
   "outputs": [
    {
     "data": {
      "text/plain": [
       "['Bacon', 'Cookies', 'Grapes', 'apples', 'pizza', 'steak']"
      ]
     },
     "execution_count": 60,
     "metadata": {},
     "output_type": "execute_result"
    }
   ],
   "source": [
    "foods = ['Cookies', 'pizza', 'Grapes',\n",
    "         'apples', 'steak', 'Bacon']\n",
    "a = sorted(foods)\n",
    "a # Follows lexicographical order"
   ]
  },
  {
   "cell_type": "markdown",
   "metadata": {
    "id": "mlTPxGgMVOwi"
   },
   "source": [
    "## Searching Sequences"
   ]
  },
  {
   "cell_type": "code",
   "execution_count": null,
   "metadata": {
    "colab": {
     "base_uri": "https://localhost:8080/"
    },
    "id": "jW4s2GtNVQwt",
    "outputId": "1687b83a-1242-47a4-e360-e38445a1f311"
   },
   "outputs": [
    {
     "data": {
      "text/plain": [
       "6"
      ]
     },
     "execution_count": 61,
     "metadata": {},
     "output_type": "execute_result"
    }
   ],
   "source": [
    "numbers = [3, 7, 1, 4, 2, 8, 5, 6]\n",
    "numbers.index(5)"
   ]
  },
  {
   "cell_type": "markdown",
   "metadata": {
    "id": "uJPfi-WvVedj"
   },
   "source": [
    "### Specifying the Starting Index of a Search"
   ]
  },
  {
   "cell_type": "code",
   "execution_count": null,
   "metadata": {
    "colab": {
     "base_uri": "https://localhost:8080/"
    },
    "id": "w1UyP6KeVhTZ",
    "outputId": "889403e2-3af1-437d-9e2b-3caae391f4ef"
   },
   "outputs": [
    {
     "data": {
      "text/plain": [
       "[3, 7, 1, 4, 2, 8, 5, 6, 3, 7, 1, 4, 2, 8, 5, 6]"
      ]
     },
     "execution_count": 62,
     "metadata": {},
     "output_type": "execute_result"
    }
   ],
   "source": [
    "numbers *= 2\n",
    "numbers"
   ]
  },
  {
   "cell_type": "code",
   "execution_count": null,
   "metadata": {
    "colab": {
     "base_uri": "https://localhost:8080/"
    },
    "id": "EyW3u-Y3VwwP",
    "outputId": "b5ad9dbc-5531-4cfe-d782-4ecb640a811f"
   },
   "outputs": [
    {
     "data": {
      "text/plain": [
       "6"
      ]
     },
     "execution_count": 63,
     "metadata": {},
     "output_type": "execute_result"
    }
   ],
   "source": [
    "numbers.index(5, 0) # Search 5 from particular index"
   ]
  },
  {
   "cell_type": "code",
   "execution_count": null,
   "metadata": {
    "colab": {
     "base_uri": "https://localhost:8080/"
    },
    "id": "Q14V0_4CWIRn",
    "outputId": "7b1760db-8e87-40b0-8ee3-44dc12027b0b"
   },
   "outputs": [
    {
     "data": {
      "text/plain": [
       "1"
      ]
     },
     "execution_count": 64,
     "metadata": {},
     "output_type": "execute_result"
    }
   ],
   "source": [
    "numbers.index(7, 0, 9)  # Start and end indices"
   ]
  },
  {
   "cell_type": "markdown",
   "metadata": {
    "id": "hkezqgxBXROF"
   },
   "source": [
    "### in and not in operators"
   ]
  },
  {
   "cell_type": "code",
   "execution_count": null,
   "metadata": {
    "colab": {
     "base_uri": "https://localhost:8080/"
    },
    "id": "M4tEHHgxXUvv",
    "outputId": "c0c26d71-441b-4d1e-e50c-3602e118eed3"
   },
   "outputs": [
    {
     "data": {
      "text/plain": [
       "False"
      ]
     },
     "execution_count": 65,
     "metadata": {},
     "output_type": "execute_result"
    }
   ],
   "source": [
    "1000 in numbers"
   ]
  },
  {
   "cell_type": "code",
   "execution_count": null,
   "metadata": {
    "colab": {
     "base_uri": "https://localhost:8080/"
    },
    "id": "SCpaHLxFXWuJ",
    "outputId": "c9c38e28-216a-4809-93b1-2a1a42f730e3"
   },
   "outputs": [
    {
     "data": {
      "text/plain": [
       "False"
      ]
     },
     "execution_count": 104,
     "metadata": {},
     "output_type": "execute_result"
    }
   ],
   "source": [
    "5 in numbers"
   ]
  },
  {
   "cell_type": "code",
   "execution_count": null,
   "metadata": {
    "colab": {
     "base_uri": "https://localhost:8080/"
    },
    "id": "5Sx0_okTXbGF",
    "outputId": "46f8000c-3f70-4adb-bed0-05c2d97f6307"
   },
   "outputs": [
    {
     "name": "stdout",
     "output_type": "stream",
     "text": [
      "1000 not found\n"
     ]
    }
   ],
   "source": [
    "key = 1000 # Rudimentary exception handling\n",
    "if key in numbers:\n",
    "  print(f'found {key} at index {numbers.index(key)}')\n",
    "else:\n",
    "  print(f'{key} not found')"
   ]
  },
  {
   "cell_type": "code",
   "execution_count": null,
   "metadata": {
    "id": "jjtAnJHLYbd5"
   },
   "outputs": [],
   "source": [
    "mydict = {0 : \"Apple\", 1 : \"Orange\"}\n",
    "mytuple = (0, 1, False)\n",
    "mylist = [False, True, False]\n",
    "x = any(mylist)\n",
    "y = all(mylist)"
   ]
  },
  {
   "cell_type": "code",
   "execution_count": null,
   "metadata": {
    "colab": {
     "base_uri": "https://localhost:8080/"
    },
    "id": "oZjARdLbZOPG",
    "outputId": "f4edfb2e-bad3-43ca-eed8-93a45ac64128"
   },
   "outputs": [
    {
     "data": {
      "text/plain": [
       "True"
      ]
     },
     "execution_count": 69,
     "metadata": {},
     "output_type": "execute_result"
    }
   ],
   "source": [
    "x"
   ]
  },
  {
   "cell_type": "code",
   "execution_count": null,
   "metadata": {
    "colab": {
     "base_uri": "https://localhost:8080/"
    },
    "id": "FiCvGs-pZPGf",
    "outputId": "322cd3be-c98c-4bbe-ea4d-001424800a28"
   },
   "outputs": [
    {
     "data": {
      "text/plain": [
       "False"
      ]
     },
     "execution_count": 70,
     "metadata": {},
     "output_type": "execute_result"
    }
   ],
   "source": [
    "y"
   ]
  },
  {
   "cell_type": "markdown",
   "metadata": {
    "id": "l31ozAeNZXQO"
   },
   "source": [
    "## Other list methods"
   ]
  },
  {
   "cell_type": "code",
   "execution_count": null,
   "metadata": {
    "id": "JLS-K7M0Zd6o"
   },
   "outputs": [],
   "source": [
    "color_names = ['orange', 'yellow', 'green']"
   ]
  },
  {
   "cell_type": "code",
   "execution_count": null,
   "metadata": {
    "colab": {
     "base_uri": "https://localhost:8080/"
    },
    "id": "k6HM56uTZfaJ",
    "outputId": "23670384-2d16-4b89-bfc6-fa2419804d1d"
   },
   "outputs": [
    {
     "data": {
      "text/plain": [
       "['red', 'orange', 'yellow', 'green']"
      ]
     },
     "execution_count": 72,
     "metadata": {},
     "output_type": "execute_result"
    }
   ],
   "source": [
    "color_names.insert(0, 'red')\n",
    "color_names"
   ]
  },
  {
   "cell_type": "markdown",
   "metadata": {
    "id": "SgWsjcWKZfTp"
   },
   "source": [
    "### Adding an Element to the End of a List"
   ]
  },
  {
   "cell_type": "code",
   "execution_count": null,
   "metadata": {
    "colab": {
     "base_uri": "https://localhost:8080/"
    },
    "id": "EMKf4ywWZfKa",
    "outputId": "53b73807-634f-42bd-ca70-b885c7646010"
   },
   "outputs": [
    {
     "data": {
      "text/plain": [
       "['red', 'orange', 'yellow', 'green', 'blue']"
      ]
     },
     "execution_count": 73,
     "metadata": {},
     "output_type": "execute_result"
    }
   ],
   "source": [
    "color_names.append('blue')\n",
    "color_names"
   ]
  },
  {
   "cell_type": "markdown",
   "metadata": {
    "id": "l8aiVvvbZfDV"
   },
   "source": [
    "### Adding All the Elements of a Sequence to the End of a List"
   ]
  },
  {
   "cell_type": "code",
   "execution_count": null,
   "metadata": {
    "colab": {
     "base_uri": "https://localhost:8080/"
    },
    "id": "Y3_05FpSZe8o",
    "outputId": "07e2ef59-2bd5-4550-86de-6c57bcb0b0e7"
   },
   "outputs": [
    {
     "data": {
      "text/plain": [
       "['red', 'orange', 'yellow', 'green', 'blue', 'indigo', 'violet']"
      ]
     },
     "execution_count": 74,
     "metadata": {},
     "output_type": "execute_result"
    }
   ],
   "source": [
    "color_names.extend(['indigo', 'violet'])\n",
    "color_names"
   ]
  },
  {
   "cell_type": "code",
   "execution_count": null,
   "metadata": {
    "colab": {
     "base_uri": "https://localhost:8080/"
    },
    "id": "f6e-_uxLZev1",
    "outputId": "bce7883d-1747-4429-aab0-4569711b1caf"
   },
   "outputs": [
    {
     "data": {
      "text/plain": [
       "['a', 'b', 'c']"
      ]
     },
     "execution_count": 75,
     "metadata": {},
     "output_type": "execute_result"
    }
   ],
   "source": [
    "sample_list = []\n",
    "s = 'abc'\n",
    "sample_list.extend(s)\n",
    "sample_list"
   ]
  },
  {
   "cell_type": "code",
   "execution_count": null,
   "metadata": {
    "colab": {
     "base_uri": "https://localhost:8080/"
    },
    "id": "FFljfRQTZegE",
    "outputId": "bf54b188-064e-4fc6-c1ba-6a0fbb2eb063"
   },
   "outputs": [
    {
     "data": {
      "text/plain": [
       "['a', 'b', 'c', 1, 2, 3]"
      ]
     },
     "execution_count": 76,
     "metadata": {},
     "output_type": "execute_result"
    }
   ],
   "source": [
    "t = (1, 2, 3)\n",
    "sample_list.extend(t)\n",
    "sample_list"
   ]
  },
  {
   "cell_type": "markdown",
   "metadata": {
    "id": "pwujeGILZeZB"
   },
   "source": [
    "#### Tuple concatenation"
   ]
  },
  {
   "cell_type": "code",
   "execution_count": null,
   "metadata": {
    "colab": {
     "base_uri": "https://localhost:8080/"
    },
    "id": "XL9-XuR6aJ0O",
    "outputId": "1a1f18b9-105f-4573-a7f2-8170ab516ac7"
   },
   "outputs": [
    {
     "data": {
      "text/plain": [
       "['a', 'b', 'c', 1, 2, 3, 4, 5, 6]"
      ]
     },
     "execution_count": 77,
     "metadata": {},
     "output_type": "execute_result"
    }
   ],
   "source": [
    "sample_list.extend((4, 5, 6)) # Tuples can be added directly\n",
    "sample_list"
   ]
  },
  {
   "cell_type": "markdown",
   "metadata": {
    "id": "Vfh6CG0xaaT6"
   },
   "source": [
    "### Removing the First Occurrence of an Element in a List"
   ]
  },
  {
   "cell_type": "code",
   "execution_count": null,
   "metadata": {
    "colab": {
     "base_uri": "https://localhost:8080/"
    },
    "id": "xYaO6mlWabl-",
    "outputId": "8a43d244-fec5-46ac-99d6-85633c3cb3c7"
   },
   "outputs": [
    {
     "data": {
      "text/plain": [
       "['red', 'orange', 'yellow', 'blue', 'indigo', 'violet']"
      ]
     },
     "execution_count": 78,
     "metadata": {},
     "output_type": "execute_result"
    }
   ],
   "source": [
    "color_names.remove('green')\n",
    "color_names"
   ]
  },
  {
   "cell_type": "markdown",
   "metadata": {
    "id": "3AP60NkaaiJ0"
   },
   "source": [
    "### Emptying a List"
   ]
  },
  {
   "cell_type": "code",
   "execution_count": null,
   "metadata": {
    "colab": {
     "base_uri": "https://localhost:8080/"
    },
    "id": "76PHxhbIak2r",
    "outputId": "dc2632c9-e16d-4bd6-b7db-2cdfa22c9b5a"
   },
   "outputs": [
    {
     "data": {
      "text/plain": [
       "[]"
      ]
     },
     "execution_count": 79,
     "metadata": {},
     "output_type": "execute_result"
    }
   ],
   "source": [
    "color_names.clear()\n",
    "color_names"
   ]
  },
  {
   "cell_type": "markdown",
   "metadata": {
    "id": "kHgJlhtVao7G"
   },
   "source": [
    "### Counting the Number of Occurrences of an Item"
   ]
  },
  {
   "cell_type": "code",
   "execution_count": null,
   "metadata": {
    "colab": {
     "base_uri": "https://localhost:8080/"
    },
    "id": "MpH9ZeJjaqYd",
    "outputId": "0b15d255-d539-40ec-bede-ebbffc2ab46a"
   },
   "outputs": [
    {
     "name": "stdout",
     "output_type": "stream",
     "text": [
      "1 appears 3 times in responses\n",
      "2 appears 5 times in responses\n",
      "3 appears 8 times in responses\n",
      "4 appears 2 times in responses\n",
      "5 appears 2 times in responses\n"
     ]
    }
   ],
   "source": [
    "responses = [1, 2, 5, 4, 3, 5, 2, 1, 3, 3,\n",
    "             1, 4, 3, 3, 3, 2, 3, 3, 2, 2]\n",
    "for i in range(1, 6):\n",
    "  print(f'{i} appears {responses.count(i)} times in responses')"
   ]
  },
  {
   "cell_type": "code",
   "execution_count": null,
   "metadata": {
    "colab": {
     "base_uri": "https://localhost:8080/"
    },
    "id": "49j-defka3GS",
    "outputId": "3880f230-6677-4d38-8c17-f19e94f9b82c"
   },
   "outputs": [
    {
     "data": {
      "text/plain": [
       "['blue', 'green', 'yellow', 'orange', 'red']"
      ]
     },
     "execution_count": 81,
     "metadata": {},
     "output_type": "execute_result"
    }
   ],
   "source": [
    "color_names = ['red', 'orange', 'yellow', 'green', 'blue']\n",
    "color_names.reverse()\n",
    "color_names"
   ]
  },
  {
   "cell_type": "markdown",
   "metadata": {
    "id": "gpJqRdo6bDgc"
   },
   "source": [
    "### Copying a List"
   ]
  },
  {
   "cell_type": "code",
   "execution_count": null,
   "metadata": {
    "colab": {
     "base_uri": "https://localhost:8080/"
    },
    "id": "GO3fVo4ba-N_",
    "outputId": "929fcf3f-c8c9-48a6-cbc8-26212a0f35a4"
   },
   "outputs": [
    {
     "data": {
      "text/plain": [
       "['blue', 'green', 'yellow', 'orange', 'red']"
      ]
     },
     "execution_count": 82,
     "metadata": {},
     "output_type": "execute_result"
    }
   ],
   "source": [
    "copied_list = color_names.copy()\n",
    "copied_list"
   ]
  },
  {
   "cell_type": "markdown",
   "metadata": {
    "id": "iysZlr0_bJuM"
   },
   "source": [
    "## Simulating Stacks with Lists"
   ]
  },
  {
   "cell_type": "code",
   "execution_count": null,
   "metadata": {
    "colab": {
     "base_uri": "https://localhost:8080/"
    },
    "id": "rJvdBVcLjBxF",
    "outputId": "accb167f-3799-44e7-d3d1-a2a47e7ae2f1"
   },
   "outputs": [
    {
     "data": {
      "text/plain": [
       "['red']"
      ]
     },
     "execution_count": 83,
     "metadata": {},
     "output_type": "execute_result"
    }
   ],
   "source": [
    "stack = []\n",
    "stack.append('red')\n",
    "stack"
   ]
  },
  {
   "cell_type": "code",
   "execution_count": null,
   "metadata": {
    "colab": {
     "base_uri": "https://localhost:8080/"
    },
    "id": "JVcb_mEzjBng",
    "outputId": "2ff033de-1934-40d7-919d-acd83d9c9d92"
   },
   "outputs": [
    {
     "data": {
      "text/plain": [
       "['red', 'green']"
      ]
     },
     "execution_count": 84,
     "metadata": {},
     "output_type": "execute_result"
    }
   ],
   "source": [
    "stack.append('green')\n",
    "stack"
   ]
  },
  {
   "cell_type": "code",
   "execution_count": null,
   "metadata": {
    "colab": {
     "base_uri": "https://localhost:8080/",
     "height": 35
    },
    "id": "UhX1C8yQjN5R",
    "outputId": "e7bd7137-f679-4892-868c-bc895b0e71d0"
   },
   "outputs": [
    {
     "data": {
      "application/vnd.google.colaboratory.intrinsic+json": {
       "type": "string"
      },
      "text/plain": [
       "'green'"
      ]
     },
     "execution_count": 85,
     "metadata": {},
     "output_type": "execute_result"
    }
   ],
   "source": [
    "stack.pop()"
   ]
  },
  {
   "cell_type": "code",
   "execution_count": null,
   "metadata": {
    "colab": {
     "base_uri": "https://localhost:8080/"
    },
    "id": "S1Q8aJlJjPR-",
    "outputId": "189b737e-721d-4e3d-8f33-26cbbd3cc323"
   },
   "outputs": [
    {
     "data": {
      "text/plain": [
       "['red']"
      ]
     },
     "execution_count": 86,
     "metadata": {},
     "output_type": "execute_result"
    }
   ],
   "source": [
    "stack"
   ]
  },
  {
   "cell_type": "code",
   "execution_count": null,
   "metadata": {
    "colab": {
     "base_uri": "https://localhost:8080/",
     "height": 35
    },
    "id": "9Y5xJmChjRdJ",
    "outputId": "b911ed2a-1b8e-4639-8d69-afa118ccf908"
   },
   "outputs": [
    {
     "data": {
      "application/vnd.google.colaboratory.intrinsic+json": {
       "type": "string"
      },
      "text/plain": [
       "'red'"
      ]
     },
     "execution_count": 87,
     "metadata": {},
     "output_type": "execute_result"
    }
   ],
   "source": [
    "stack.pop()"
   ]
  },
  {
   "cell_type": "code",
   "execution_count": null,
   "metadata": {
    "colab": {
     "base_uri": "https://localhost:8080/"
    },
    "id": "Nc07izKcjTHY",
    "outputId": "4e64c772-6961-4bf0-ce3a-83d88a3a6ab2"
   },
   "outputs": [
    {
     "data": {
      "text/plain": [
       "[]"
      ]
     },
     "execution_count": 88,
     "metadata": {},
     "output_type": "execute_result"
    }
   ],
   "source": [
    "stack"
   ]
  },
  {
   "cell_type": "code",
   "execution_count": null,
   "metadata": {
    "id": "x9w0k_dpjVIO"
   },
   "outputs": [],
   "source": [
    "# stack.pop()"
   ]
  },
  {
   "cell_type": "markdown",
   "metadata": {
    "id": "STX_dwQVq14T"
   },
   "source": [
    "## Generator Expressions"
   ]
  },
  {
   "cell_type": "code",
   "execution_count": 3,
   "metadata": {
    "colab": {
     "base_uri": "https://localhost:8080/"
    },
    "id": "YHp625W4q8Mq",
    "outputId": "10e95189-cf99-422a-a7d4-76a92b605a43"
   },
   "outputs": [
    {
     "name": "stdout",
     "output_type": "stream",
     "text": [
      "9 49 1 81 25 "
     ]
    }
   ],
   "source": [
    "numbers = [10, 3, 7, 1, 9, 4, 2, 8, 5, 6]\n",
    "for value in (x ** 2 for x in numbers if x % 2 != 0):\n",
    "  print(value, end=' ')\n",
    "squares_of_odds = (x ** 2 for x in numbers if x % 2 != 0)"
   ]
  },
  {
   "cell_type": "code",
   "execution_count": 7,
   "metadata": {
    "colab": {
     "base_uri": "https://localhost:8080/"
    },
    "id": "d9ptzgZGq80B",
    "outputId": "93741f98-452e-4cbc-a1a6-7395b17a1de5"
   },
   "outputs": [
    {
     "data": {
      "text/plain": [
       "[9, 49, 1, 81, 25]"
      ]
     },
     "execution_count": 7,
     "metadata": {},
     "output_type": "execute_result"
    }
   ],
   "source": [
    "x = [x ** 2 for x in numbers if x % 2 != 0]\n",
    "x"
   ]
  },
  {
   "cell_type": "code",
   "execution_count": 11,
   "metadata": {
    "colab": {
     "base_uri": "https://localhost:8080/"
    },
    "id": "i6BwdJARq8p2",
    "outputId": "22e5130a-456b-4ed6-e034-5d55e04ecced"
   },
   "outputs": [
    {
     "data": {
      "text/plain": [
       "[1, 2, 3, 4, 5]"
      ]
     },
     "execution_count": 11,
     "metadata": {},
     "output_type": "execute_result"
    }
   ],
   "source": [
    "x = [item for item in range(1, 6) ]\n",
    "x"
   ]
  },
  {
   "cell_type": "markdown",
   "metadata": {
    "id": "NWfAiTBN43S4"
   },
   "source": [
    "## Filter, Map and Reduce"
   ]
  },
  {
   "cell_type": "code",
   "execution_count": 13,
   "metadata": {
    "id": "iNZlPkpD427U"
   },
   "outputs": [],
   "source": [
    "numbers = [10, 3, 7, 1, 9, 4, 2, 8, 5, 6]"
   ]
  },
  {
   "cell_type": "markdown",
   "metadata": {
    "id": "pbID16R95sm7"
   },
   "source": [
    "### Higher order functions"
   ]
  },
  {
   "cell_type": "code",
   "execution_count": 14,
   "metadata": {
    "colab": {
     "base_uri": "https://localhost:8080/"
    },
    "id": "x-rtaj5H48_P",
    "outputId": "32f44c2e-75b5-48ee-af8f-caf11ebab166"
   },
   "outputs": [
    {
     "data": {
      "text/plain": [
       "[3, 7, 1, 9, 5]"
      ]
     },
     "execution_count": 14,
     "metadata": {},
     "output_type": "execute_result"
    }
   ],
   "source": [
    "def is_odd(x):\n",
    "  \"\"\"Returns True only if x is odd.\"\"\"\n",
    "  return x % 2 != 0\n",
    "\n",
    "list(filter(is_odd, numbers))"
   ]
  },
  {
   "cell_type": "code",
   "execution_count": 15,
   "metadata": {
    "colab": {
     "base_uri": "https://localhost:8080/"
    },
    "id": "pEtzR1n56uf2",
    "outputId": "dfd9ba3f-d198-4437-fb01-4b1c579dc3d4"
   },
   "outputs": [
    {
     "data": {
      "text/plain": [
       "[3, 7, 1, 9, 5]"
      ]
     },
     "execution_count": 15,
     "metadata": {},
     "output_type": "execute_result"
    }
   ],
   "source": [
    "[item for item in numbers if is_odd(item)]"
   ]
  },
  {
   "cell_type": "markdown",
   "metadata": {
    "id": "wnGczYmh6Dgc"
   },
   "source": [
    "### Using a lambda Rather than a Function"
   ]
  },
  {
   "cell_type": "code",
   "execution_count": 16,
   "metadata": {
    "colab": {
     "base_uri": "https://localhost:8080/"
    },
    "id": "r3aqWUWt6ClK",
    "outputId": "754233e6-ff45-4c27-d918-1225aaeb3b96"
   },
   "outputs": [
    {
     "data": {
      "text/plain": [
       "[3, 7, 1, 9, 5]"
      ]
     },
     "execution_count": 16,
     "metadata": {},
     "output_type": "execute_result"
    }
   ],
   "source": [
    "list(filter(lambda x: x % 2 != 0, numbers)) # Got no name"
   ]
  },
  {
   "cell_type": "markdown",
   "metadata": {
    "id": "G4mUXQkR8LSY"
   },
   "source": [
    "## Mapping a Sequence’s Values to New Values"
   ]
  },
  {
   "cell_type": "code",
   "execution_count": 17,
   "metadata": {
    "colab": {
     "base_uri": "https://localhost:8080/"
    },
    "id": "v26VWk-A8N1W",
    "outputId": "885fcbba-276b-4102-cd66-d9c558fc17da"
   },
   "outputs": [
    {
     "data": {
      "text/plain": [
       "[10, 3, 7, 1, 9, 4, 2, 8, 5, 6]"
      ]
     },
     "execution_count": 17,
     "metadata": {},
     "output_type": "execute_result"
    }
   ],
   "source": [
    "numbers"
   ]
  },
  {
   "cell_type": "code",
   "execution_count": 18,
   "metadata": {
    "colab": {
     "base_uri": "https://localhost:8080/"
    },
    "id": "bC_Xna6N8RZ7",
    "outputId": "fb59e81d-b1ab-4446-b159-b3b6c3c29d96"
   },
   "outputs": [
    {
     "data": {
      "text/plain": [
       "[100, 9, 49, 1, 81, 16, 4, 64, 25, 36]"
      ]
     },
     "execution_count": 18,
     "metadata": {},
     "output_type": "execute_result"
    }
   ],
   "source": [
    "list(map(lambda x: x ** 2, numbers))"
   ]
  },
  {
   "cell_type": "code",
   "execution_count": 19,
   "metadata": {
    "colab": {
     "base_uri": "https://localhost:8080/"
    },
    "id": "1870i_0u9hxK",
    "outputId": "21f1dc40-1eb1-43f0-c26d-b263245ad677"
   },
   "outputs": [
    {
     "data": {
      "text/plain": [
       "[100, 9, 49, 1, 81, 16, 4, 64, 25, 36]"
      ]
     },
     "execution_count": 19,
     "metadata": {},
     "output_type": "execute_result"
    }
   ],
   "source": [
    "[item ** 2 for item in numbers]"
   ]
  },
  {
   "cell_type": "markdown",
   "metadata": {
    "id": "Mz6Wa6pO9mwB"
   },
   "source": [
    "### Combining filter and map"
   ]
  },
  {
   "cell_type": "code",
   "execution_count": 20,
   "metadata": {
    "colab": {
     "base_uri": "https://localhost:8080/"
    },
    "id": "S-jeMUFd9l2m",
    "outputId": "9f90e0a2-473e-4bb9-c6c5-96acb8bf2c6b"
   },
   "outputs": [
    {
     "data": {
      "text/plain": [
       "[9, 49, 1, 81, 25]"
      ]
     },
     "execution_count": 20,
     "metadata": {},
     "output_type": "execute_result"
    }
   ],
   "source": [
    "list(map(lambda x: x ** 2, filter(lambda x: x % 2 != 0, numbers)))"
   ]
  },
  {
   "cell_type": "code",
   "execution_count": null,
   "metadata": {
    "id": "oKBjBL0Q-BdU"
   },
   "outputs": [],
   "source": [
    "[x ** 2 for x in numbers if x % 2 != 0]"
   ]
  },
  {
   "cell_type": "markdown",
   "metadata": {
    "id": "xismJ6mQ_41W"
   },
   "source": [
    "## Other Sequence Processing Functions"
   ]
  },
  {
   "cell_type": "markdown",
   "metadata": {
    "id": "6fhdj-GZ_7pX"
   },
   "source": [
    "### Finding the Minimum and Maximum Values Using a Key Function"
   ]
  },
  {
   "cell_type": "code",
   "execution_count": 49,
   "metadata": {
    "colab": {
     "base_uri": "https://localhost:8080/"
    },
    "id": "ISrMDsth_59-",
    "outputId": "fc509eea-f1a2-4cb3-8df7-ba71a05481d5"
   },
   "outputs": [
    {
     "name": "stdout",
     "output_type": "stream",
     "text": [
      "True\n"
     ]
    },
    {
     "data": {
      "text/plain": [
       "82"
      ]
     },
     "execution_count": 49,
     "metadata": {},
     "output_type": "execute_result"
    }
   ],
   "source": [
    "'R' < 'S'\n",
    "ord('R')"
   ]
  },
  {
   "cell_type": "code",
   "execution_count": 95,
   "metadata": {
    "colab": {
     "base_uri": "https://localhost:8080/"
    },
    "id": "krTIvsfgBLGl",
    "outputId": "0a44c856-630c-4308-ad10-e81e11f59f8f"
   },
   "outputs": [
    {
     "name": "stdout",
     "output_type": "stream",
     "text": [
      "['blue', 'green', 'orange', 'red', 'yellow']\n"
     ]
    }
   ],
   "source": [
    "colors = ['Red', 'orange', 'Yellow', 'green', 'Blue']\n",
    "colors_a = [x.lower() for x in colors]\n",
    "print(sorted(colors_a))"
   ]
  },
  {
   "cell_type": "code",
   "execution_count": null,
   "metadata": {
    "id": "8ZkeOCcnCxZM"
   },
   "outputs": [],
   "source": [
    "min(colors, key=lambda s: s.lower())"
   ]
  },
  {
   "cell_type": "code",
   "execution_count": null,
   "metadata": {
    "id": "-1Pqy8YeCwmm"
   },
   "outputs": [],
   "source": [
    "max(colors, key=lambda s: s.lower())"
   ]
  },
  {
   "cell_type": "markdown",
   "metadata": {
    "id": "430r9WdwC1EV"
   },
   "source": [
    "### Iterating Backward Through a Sequence"
   ]
  },
  {
   "cell_type": "code",
   "execution_count": 58,
   "metadata": {
    "colab": {
     "base_uri": "https://localhost:8080/"
    },
    "id": "k6qdz63WC36N",
    "outputId": "b041fa97-bb9d-4aa7-9575-3f7a9a8b312a"
   },
   "outputs": [
    {
     "data": {
      "text/plain": [
       "[36, 25, 64, 4, 16, 81, 1, 49, 9, 100]"
      ]
     },
     "execution_count": 58,
     "metadata": {},
     "output_type": "execute_result"
    }
   ],
   "source": [
    "numbers = [10, 3, 7, 1, 9, 4, 2, 8, 5, 6]\n",
    "reversed_numbers = [item ** 2 for item in reversed(numbers)]\n",
    "reversed_numbers"
   ]
  },
  {
   "cell_type": "markdown",
   "metadata": {
    "id": "NKK41qa3DWd8"
   },
   "source": [
    "### Combining Iterables into Tuples of Corresponding Elements"
   ]
  },
  {
   "cell_type": "code",
   "execution_count": 66,
   "metadata": {
    "colab": {
     "base_uri": "https://localhost:8080/"
    },
    "id": "POoQbgbIDX9E",
    "outputId": "7c0a51db-959d-4043-d62d-1217e20d1fcd"
   },
   "outputs": [
    {
     "name": "stdout",
     "output_type": "stream",
     "text": [
      "Name=Bob; GPA=3.5\n",
      "Name=Sue; GPA=4.0\n",
      "Name=Amanda; GPA=3.75\n"
     ]
    }
   ],
   "source": [
    "names = ['Bob', 'Sue', 'Amanda']\n",
    "grade_point_averages = [3.5, 4.0, 3.75]\n",
    "for name, gpa in zip(names, grade_point_averages):\n",
    "  print(f'Name={name}; GPA={gpa}')"
   ]
  },
  {
   "cell_type": "markdown",
   "metadata": {
    "id": "p4U5B3_SGysY"
   },
   "source": [
    "## Two-Dimensional Lists\n",
    "Double script/indexed lists"
   ]
  },
  {
   "cell_type": "code",
   "execution_count": 69,
   "metadata": {
    "id": "Put35fPeGzCj"
   },
   "outputs": [],
   "source": [
    "a = [[77, 68, 86, 73], # first student's grades\n",
    "[96, 87, 89, 81], # second student's grades\n",
    "[70, 90, 86, 81]] # third student's grades"
   ]
  },
  {
   "cell_type": "code",
   "execution_count": 70,
   "metadata": {
    "colab": {
     "base_uri": "https://localhost:8080/"
    },
    "id": "sMxOYekRH2nB",
    "outputId": "bdb2c1b2-6e64-4059-ee0e-159b63b5092c"
   },
   "outputs": [
    {
     "name": "stdout",
     "output_type": "stream",
     "text": [
      "77 68 86 73 \n",
      "96 87 89 81 \n",
      "70 90 86 81 \n"
     ]
    }
   ],
   "source": [
    "for row in a:\n",
    "  for item in row:\n",
    "    print(item, end=' ')\n",
    "  print()"
   ]
  },
  {
   "cell_type": "code",
   "execution_count": 74,
   "metadata": {
    "colab": {
     "base_uri": "https://localhost:8080/"
    },
    "id": "X_jqKmkAH_Ao",
    "outputId": "95b46ef4-2166-4811-9bd1-ce8cb1c2f2db"
   },
   "outputs": [
    {
     "name": "stdout",
     "output_type": "stream",
     "text": [
      "a[0][0]=77  a[0][1]=68  a[0][2]=86  a[0][3]=73  \n",
      "a[1][0]=96  a[1][1]=87  a[1][2]=89  a[1][3]=81  \n",
      "a[2][0]=70  a[2][1]=90  a[2][2]=86  a[2][3]=81  \n"
     ]
    }
   ],
   "source": [
    "for i, row in enumerate(a):\n",
    "  for j, item in enumerate(row):\n",
    "    print(f'a[{i}][{j}]={item} ', end=' ')\n",
    "  print()"
   ]
  },
  {
   "cell_type": "code",
   "execution_count": 79,
   "metadata": {
    "colab": {
     "base_uri": "https://localhost:8080/"
    },
    "id": "nKBhtkAuKPQK",
    "outputId": "b77cc3a0-a980-4103-c007-39f99e22a151"
   },
   "outputs": [
    {
     "name": "stdout",
     "output_type": "stream",
     "text": [
      "[[1, 2, 3], [4, 5, 6], [7, 8, 9]]\n"
     ]
    },
    {
     "data": {
      "text/plain": [
       "[[0, 0, 0], [0, 0, 0], [0, 0, 0]]"
      ]
     },
     "execution_count": 79,
     "metadata": {},
     "output_type": "execute_result"
    }
   ],
   "source": [
    "sales = [[1,2,3],[4,5,6],[7,8,9]] # m = 2; n = 3\n",
    "print(sales)\n",
    "for row in range(len(sales)):\n",
    "  for col in range(len(sales[row])):\n",
    "    sales[row][col] = 0\n",
    "sales"
   ]
  },
  {
   "cell_type": "markdown",
   "metadata": {
    "id": "lnLsiGnVGyoN"
   },
   "source": []
  },
  {
   "cell_type": "code",
   "execution_count": 1,
   "metadata": {},
   "outputs": [
    {
     "name": "stdout",
     "output_type": "stream",
     "text": [
      "moshi moshi\n"
     ]
    }
   ],
   "source": [
    "print(\"moshi moshi\")"
   ]
  }
 ],
 "metadata": {
  "colab": {
   "provenance": []
  },
  "kernelspec": {
   "display_name": "Python 3 (ipykernel)",
   "language": "python",
   "name": "python3"
  },
  "language_info": {
   "codemirror_mode": {
    "name": "ipython",
    "version": 3
   },
   "file_extension": ".py",
   "mimetype": "text/x-python",
   "name": "python",
   "nbconvert_exporter": "python",
   "pygments_lexer": "ipython3",
   "version": "3.9.13"
  }
 },
 "nbformat": 4,
 "nbformat_minor": 1
}
