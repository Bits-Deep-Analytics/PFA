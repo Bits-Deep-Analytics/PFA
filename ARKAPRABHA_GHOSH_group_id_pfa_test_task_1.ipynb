{
  "nbformat": 4,
  "nbformat_minor": 0,
  "metadata": {
    "colab": {
      "provenance": []
    },
    "kernelspec": {
      "name": "python3",
      "display_name": "Python 3"
    },
    "language_info": {
      "name": "python"
    }
  },
  "cells": [
    {
      "cell_type": "code",
      "execution_count": null,
      "metadata": {
        "id": "fCCJwB3BsHwy"
      },
      "outputs": [],
      "source": [
        "## Please write your code here\n",
        "## Only to be submitted by team leader\n",
        "\n",
        "class StaQueue:\n",
        "    def __init__(self):\n",
        "        self.elements = []\n",
        "\n",
        "    def enter(self, x):\n",
        "        if isinstance(x, int):\n",
        "            self.elements.append(x)\n",
        "        else:\n",
        "            print(\"Error: Only integers are allowed.\")\n",
        "\n",
        "    def pop(self):\n",
        "        if self.elements:\n",
        "            return self.elements.pop()\n",
        "        else:\n",
        "            print(\"Error: StaQueue is empty.\")\n",
        "\n",
        "    def dequeue(self):\n",
        "        if self.elements:\n",
        "            return self.elements.pop(0)\n",
        "        else:\n",
        "            print(\"Error: StaQueue is empty.\")\n",
        "\n",
        "    def print(self):\n",
        "        print(\"StaQueue status:\")\n",
        "        for element in self.elements:\n",
        "            print(element, end=\" \")\n",
        "        print()"
      ]
    },
    {
      "cell_type": "code",
      "source": [
        "staqueue = StaQueue()\n",
        "\n",
        "staqueue.enter(4)\n",
        "staqueue.print()\n",
        "staqueue.enter(2)\n",
        "staqueue.print()\n",
        "staqueue.enter(3)\n",
        "staqueue.print()\n",
        "staqueue.dequeue()\n",
        "staqueue.print()\n",
        "staqueue.enter(2)\n",
        "staqueue.print()\n",
        "staqueue.pop()\n",
        "staqueue.print()\n",
        "staqueue.enter(\"Arka\")"
      ],
      "metadata": {
        "colab": {
          "base_uri": "https://localhost:8080/"
        },
        "id": "dJC1VQoD7K8v",
        "outputId": "dce82b95-7e4c-49a9-ee08-adb849c95992"
      },
      "execution_count": null,
      "outputs": [
        {
          "output_type": "stream",
          "name": "stdout",
          "text": [
            "StaQueue status:\n",
            "4 \n",
            "StaQueue status:\n",
            "4 2 \n",
            "StaQueue status:\n",
            "4 2 3 \n",
            "StaQueue status:\n",
            "2 3 \n",
            "StaQueue status:\n",
            "2 3 2 \n",
            "StaQueue status:\n",
            "2 3 \n",
            "Error: Only integers are allowed.\n"
          ]
        }
      ]
    }
  ]
}