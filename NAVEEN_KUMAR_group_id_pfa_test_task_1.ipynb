{
  "nbformat": 4,
  "nbformat_minor": 0,
  "metadata": {
    "colab": {
      "provenance": []
    },
    "kernelspec": {
      "name": "python3",
      "display_name": "Python 3"
    },
    "language_info": {
      "name": "python"
    }
  },
  "cells": [
    {
      "cell_type": "code",
      "execution_count": 12,
      "metadata": {
        "id": "fCCJwB3BsHwy",
        "colab": {
          "base_uri": "https://localhost:8080/"
        },
        "outputId": "a5de96b2-9661-4c32-cad8-97cbf47d590f"
      },
      "outputs": [
        {
          "output_type": "stream",
          "name": "stdout",
          "text": [
            "Enter value for enter(4): 4\n",
            "Enter value for enter(2): 2\n",
            "Enter value for enter(3): 3\n",
            "Enter value for enter(2): 2\n",
            "Status of staqueue (from bottom/front/left to top/rear/right):\n",
            "3 2 \n"
          ]
        }
      ],
      "source": [
        "## Please write your code here\n",
        "## Only to be submitted by team leader\n",
        "class Staqueue:\n",
        "    def __init__(self):\n",
        "        self.elements = []\n",
        "\n",
        "    def enter(self, x):\n",
        "        if isinstance(x, int):\n",
        "            self.elements.append(x)\n",
        "\n",
        "    def pop(self):\n",
        "        if self.elements:\n",
        "            return self.elements.pop()\n",
        "\n",
        "    def dequeue(self):\n",
        "        if self.elements:\n",
        "            return self.elements.pop(0)\n",
        "\n",
        "    def print(self):\n",
        "        print(\"Status of staqueue (from bottom/front/left to top/rear/right):\")\n",
        "        for element in reversed(self.elements):\n",
        "            print(element, end=\" \")\n",
        "        print()\n",
        "\n",
        "\n",
        "# Test the Staqueue class with user input\n",
        "if __name__ == \"__main__\":\n",
        "    s = Staqueue()\n",
        "\n",
        "    try:\n",
        "        x = int(input(\"Enter value for enter(4): \"))\n",
        "        s.enter(x)\n",
        "\n",
        "        x = int(input(\"Enter value for enter(2): \"))\n",
        "        s.enter(x)\n",
        "\n",
        "        x = int(input(\"Enter value for enter(3): \"))\n",
        "        s.enter(x)\n",
        "\n",
        "        s.dequeue()\n",
        "\n",
        "        x = int(input(\"Enter value for enter(2): \"))\n",
        "        s.enter(x)\n",
        "\n",
        "        s.pop()\n",
        "\n",
        "        s.print()\n",
        "\n",
        "    except ValueError:\n",
        "        print(\"Please enter integer values only.\")\n"
      ]
    },
    {
      "cell_type": "code",
      "source": [
        "class Staqueue:\n",
        "    def __init__(self):\n",
        "        self.elements = []\n",
        "\n",
        "    def enter(self, x):\n",
        "        if isinstance(x, int):\n",
        "            self.elements.append(x)\n",
        "\n",
        "    def pop(self):\n",
        "        if self.elements:\n",
        "            return self.elements.pop()\n",
        "\n",
        "    def dequeue(self):\n",
        "        if self.elements:\n",
        "            return self.elements.pop(0)\n",
        "\n",
        "    def print(self):\n",
        "        print(\"Staqueue Status:\", self.elements)\n",
        "\n",
        "\n",
        "# Test case\n",
        "staqueue_instance = Staqueue()\n",
        "try:\n",
        "  x=int(input(\"Enter First Value: \"))\n",
        "  staqueue_instance.enter(x)\n",
        "  staqueue_instance.print()\n",
        "  y=int(input(\"Enter Second Value: \"))\n",
        "  staqueue_instance.enter(y)\n",
        "  staqueue_instance.print()\n",
        "  z=int(input(\"Enter Third Value: \"))\n",
        "  staqueue_instance.enter(z)\n",
        "  staqueue_instance.print()\n",
        "  staqueue_instance.dequeue()\n",
        "  staqueue_instance.print()\n",
        "  a=int(input(\"Enter Fourth Value: \"))\n",
        "  staqueue_instance.enter(a)\n",
        "  staqueue_instance.print()\n",
        "  staqueue_instance.pop()\n",
        "  staqueue_instance.print()\n",
        "except ValueError:\n",
        "  print(\"Enter integer Values only!\")"
      ],
      "metadata": {
        "colab": {
          "base_uri": "https://localhost:8080/"
        },
        "id": "m40wLxXP8zir",
        "outputId": "2d12b1e9-6096-4be6-8172-ea64a99e7648"
      },
      "execution_count": 18,
      "outputs": [
        {
          "output_type": "stream",
          "name": "stdout",
          "text": [
            "Enter First Value: 4\n",
            "Staqueue Status: [4]\n",
            "Enter Second Value: 2\n",
            "Staqueue Status: [4, 2]\n",
            "Enter Third Value: 3\n",
            "Staqueue Status: [4, 2, 3]\n",
            "Staqueue Status: [2, 3]\n",
            "Enter Fourth Value: 2\n",
            "Staqueue Status: [2, 3, 2]\n",
            "Staqueue Status: [2, 3]\n"
          ]
        }
      ]
    }
  ]
}