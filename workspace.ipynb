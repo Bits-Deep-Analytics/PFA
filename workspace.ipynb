{
 "cells": [
  {
   "cell_type": "code",
   "execution_count": 2,
   "id": "a851c7af",
   "metadata": {},
   "outputs": [],
   "source": [
    "import dill as dl\n",
    "var1 = 1\n",
    "var2 = 2\n",
    "var3 = var1 + var2\n",
    "\n",
    "dl.dump_session('var3.pkl')"
   ]
  }
 ],
 "metadata": {
  "kernelspec": {
   "display_name": "Python 3 (ipykernel)",
   "language": "python",
   "name": "python3"
  },
  "language_info": {
   "codemirror_mode": {
    "name": "ipython",
    "version": 3
   },
   "file_extension": ".py",
   "mimetype": "text/x-python",
   "name": "python",
   "nbconvert_exporter": "python",
   "pygments_lexer": "ipython3",
   "version": "3.11.4"
  }
 },
 "nbformat": 4,
 "nbformat_minor": 5
}
