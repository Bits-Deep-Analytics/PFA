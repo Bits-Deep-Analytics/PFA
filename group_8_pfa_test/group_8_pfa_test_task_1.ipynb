{
  "nbformat": 4,
  "nbformat_minor": 0,
  "metadata": {
    "colab": {
      "provenance": []
    },
    "kernelspec": {
      "name": "python3",
      "display_name": "Python 3"
    },
    "language_info": {
      "name": "python"
    }
  },
  "cells": [
    {
      "cell_type": "code",
      "execution_count": null,
      "metadata": {
        "id": "fCCJwB3BsHwy"
      },
      "outputs": [],
      "source": [
        "## Please write your code here\n",
        "## Only to be submitted by team leader"
      ]
    },
    {
      "cell_type": "code",
      "source": [
        "class StaQueue:\n",
        "    def __init__(self):\n",
        "        self.queue = []\n",
        "\n",
        "    def enter(self, x):\n",
        "        try:\n",
        "            if not isinstance(x, int):\n",
        "                raise ValueError(\"Only integers are allowed in StaQueue.\")\n",
        "            self.queue.append(x)\n",
        "        except ValueError as e:\n",
        "            print(f\"Error: {e}\")\n",
        "\n",
        "    def pop(self):\n",
        "        try:\n",
        "            if not self.queue:\n",
        "                raise IndexError(\"StaQueue is empty. Cannot perform pop operation.\")\n",
        "            return self.queue.pop()\n",
        "        except IndexError as e:\n",
        "            print(f\"Error: {e}\")\n",
        "\n",
        "    def dequeue(self):\n",
        "        try:\n",
        "            if not self.queue:\n",
        "                raise IndexError(\"StaQueue is empty. Cannot perform dequeue operation.\")\n",
        "            return self.queue.pop(0)\n",
        "        except IndexError as e:\n",
        "            print(f\"Error: {e}\")\n",
        "\n",
        "    def print_queue(self):\n",
        "        # for item in reversed(self.queue):\n",
        "         # print(item)\n",
        "        print(\"StaQueue Status:\",(self.queue))\n",
        "\n",
        "\n",
        "\n"
      ],
      "metadata": {
        "id": "8_n6oc27xTXP"
      },
      "execution_count": 12,
      "outputs": []
    },
    {
      "cell_type": "code",
      "source": [
        "# Test case\n",
        "if __name__ == \"__main__\":\n",
        "    # Creating a staqueue object\n",
        "    my_staqueue = StaQueue()\n",
        "\n",
        "    # Test case: enter(4), enter(2), enter(3), dequeue(), enter(2), pop()\n",
        "    my_staqueue.enter(4)\n",
        "    my_staqueue.enter(2)\n",
        "    my_staqueue.enter(3)\n",
        "    my_staqueue.dequeue()\n",
        "    my_staqueue.enter(2)\n",
        "    my_staqueue.pop()\n",
        "\n",
        " #testing for another datatype\n",
        "    #my_staqueue.enter(\"1\")\n",
        "\n",
        "    # Printing the elements in the required order\n",
        "    my_staqueue.print_queue()"
      ],
      "metadata": {
        "colab": {
          "base_uri": "https://localhost:8080/"
        },
        "id": "C6wlt0nXx6E2",
        "outputId": "70c412b2-bbbf-4cfb-91fd-be416726c398"
      },
      "execution_count": 15,
      "outputs": [
        {
          "output_type": "stream",
          "name": "stdout",
          "text": [
            "StaQueue Status: [4, 2, 3]\n"
          ]
        }
      ]
    }
  ]
}