{
  "nbformat": 4,
  "nbformat_minor": 0,
  "metadata": {
    "colab": {
      "provenance": []
    },
    "kernelspec": {
      "name": "python3",
      "display_name": "Python 3"
    },
    "language_info": {
      "name": "python"
    }
  },
  "cells": [
    {
      "cell_type": "code",
      "execution_count": 10,
      "metadata": {
        "colab": {
          "base_uri": "https://localhost:8080/"
        },
        "id": "RUV9xHaYup_O",
        "outputId": "2d34fce8-c606-4e91-fbde-6b1e05652eff"
      },
      "outputs": [
        {
          "output_type": "stream",
          "name": "stdout",
          "text": [
            "      Id  SepalLengthCm  SepalWidthCm  PetalLengthCm  PetalWidthCm  \\\n",
            "0      1            5.1           3.5            1.4           0.2   \n",
            "1      2            4.9           3.0            1.4           0.2   \n",
            "2      3            4.7           3.2            1.3           0.2   \n",
            "3      4            4.6           3.1            1.5           0.2   \n",
            "4      5            5.0           3.6            1.4           0.2   \n",
            "..   ...            ...           ...            ...           ...   \n",
            "145  146            6.7           3.0            5.2           2.3   \n",
            "146  147            6.3           2.5            5.0           1.9   \n",
            "147  148            6.5           3.0            5.2           2.0   \n",
            "148  149            6.2           3.4            5.4           2.3   \n",
            "149  150            5.9           3.0            5.1           1.8   \n",
            "\n",
            "            Species  \n",
            "0       Iris-setosa  \n",
            "1       Iris-setosa  \n",
            "2       Iris-setosa  \n",
            "3       Iris-setosa  \n",
            "4       Iris-setosa  \n",
            "..              ...  \n",
            "145  Iris-virginica  \n",
            "146  Iris-virginica  \n",
            "147  Iris-virginica  \n",
            "148  Iris-virginica  \n",
            "149  Iris-virginica  \n",
            "\n",
            "[150 rows x 6 columns]\n",
            "        pl_pw     sl_sw  plw_slw_ratio         Species\n",
            "0    7.000000  1.457143       4.803922     Iris-setosa\n",
            "1    7.000000  1.633333       4.285714     Iris-setosa\n",
            "2    6.500000  1.468750       4.425532     Iris-setosa\n",
            "3    7.500000  1.483871       5.054348     Iris-setosa\n",
            "4    7.000000  1.388889       5.040000     Iris-setosa\n",
            "..        ...       ...            ...             ...\n",
            "145  2.260870  2.233333       1.012330  Iris-virginica\n",
            "146  2.631579  2.520000       1.044277  Iris-virginica\n",
            "147  2.600000  2.166667       1.200000  Iris-virginica\n",
            "148  2.347826  1.823529       1.287518  Iris-virginica\n",
            "149  2.833333  1.966667       1.440678  Iris-virginica\n",
            "\n",
            "[150 rows x 4 columns]\n"
          ]
        }
      ],
      "source": [
        "import pandas as pd\n",
        "# Raw CSV file URL\n",
        "raw_csv_url = \"https://github.com/Bits-Deep-Analytics/PFA/raw/main/Iris.csv\"\n",
        "\n",
        "# Read the raw dataset into a pandas DataFrame\n",
        "toy_df = pd.read_csv(raw_csv_url)\n",
        "print(toy_df)\n",
        "type(toy_df)\n",
        "\n",
        "# Create new features\n",
        "toy_df['pl_pw'] = toy_df['PetalLengthCm'] / toy_df['PetalWidthCm']\n",
        "toy_df['sl_sw'] = toy_df['SepalLengthCm'] / toy_df['SepalWidthCm']\n",
        "toy_df['plw_slw_ratio'] = toy_df['pl_pw'] / toy_df['sl_sw']\n",
        "\n",
        "# Keep only the derived attributes and the target variable (Species)\n",
        "selected_columns = ['pl_pw', 'sl_sw', 'plw_slw_ratio', 'Species']\n",
        "toy_df = toy_df[selected_columns]\n",
        "\n",
        "# Save the new dataset as a CSV file\n",
        "toy_df.to_csv('group_id_pfa_test_task-2_toy.csv', index=False)\n",
        "\n",
        "# Display the toy dataset\n",
        "print(toy_df)"
      ]
    },
    {
      "cell_type": "code",
      "source": [],
      "metadata": {
        "id": "yrKJ1vqBw2Zn"
      },
      "execution_count": null,
      "outputs": []
    }
  ]
}