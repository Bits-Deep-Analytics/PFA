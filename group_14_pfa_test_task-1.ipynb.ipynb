{
 "cells": [
  {
   "cell_type": "code",
   "execution_count": 1,
   "id": "45ae088e",
   "metadata": {},
   "outputs": [
    {
     "name": "stdout",
     "output_type": "stream",
     "text": [
      "Dequeued element: 4\n",
      "Popped element: 2\n",
      "2 3 \n"
     ]
    }
   ],
   "source": [
    "class Staqueue:\n",
    "    def __init__(self):\n",
    "        self.data = []\n",
    "\n",
    "    def enter(self, x):\n",
    "        if isinstance(x, int):\n",
    "            self.data.append(x)\n",
    "\n",
    "    def pop(self):\n",
    "        if self.data:\n",
    "            return self.data.pop()\n",
    "        else:\n",
    "            return None\n",
    "\n",
    "    def dequeue(self):\n",
    "        if self.data:\n",
    "            return self.data.pop(0)\n",
    "        else:\n",
    "            return None\n",
    "\n",
    "    def display(self):\n",
    "        for i in self.data:\n",
    "            print(i, end=' ')\n",
    "        print()\n",
    "\n",
    "# Create a staqueue object\n",
    "s = Staqueue()\n",
    "\n",
    "# Enter elements into the staqueue\n",
    "s.enter(4)\n",
    "s.enter(2)\n",
    "s.enter(3)\n",
    "\n",
    "# Dequeue an element from the staqueue\n",
    "dequeued_element = s.dequeue()\n",
    "print(\"Dequeued element:\", dequeued_element)\n",
    "\n",
    "# Enter another element\n",
    "s.enter(2)\n",
    "\n",
    "# Pop an element from the staqueue\n",
    "popped_element = s.pop()\n",
    "print(\"Popped element:\", popped_element)\n",
    "\n",
    "# Print the contents of the staqueue\n",
    "s.display()"
   ]
  },
  {
   "cell_type": "code",
   "execution_count": null,
   "id": "4db45b1d",
   "metadata": {},
   "outputs": [],
   "source": []
  }
 ],
 "metadata": {
  "kernelspec": {
   "display_name": "Python 3 (ipykernel)",
   "language": "python",
   "name": "python3"
  },
  "language_info": {
   "codemirror_mode": {
    "name": "ipython",
    "version": 3
   },
   "file_extension": ".py",
   "mimetype": "text/x-python",
   "name": "python",
   "nbconvert_exporter": "python",
   "pygments_lexer": "ipython3",
   "version": "3.10.9"
  }
 },
 "nbformat": 4,
 "nbformat_minor": 5
}
