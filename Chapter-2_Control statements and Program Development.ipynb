{
 "cells": [
  {
   "cell_type": "markdown",
   "metadata": {},
   "source": [
    "<a href=\"https://colab.research.google.com/github/Bits-Deep-Analytics/PFA/blob/main/Chapter-2_Control statements and Program Development.ipynb\" target=\"_blank\"><img src=\"https://colab.research.google.com/assets/colab-badge.svg\" alt=\"Open this notebook in Colaboratory\"/></a>"
   ]
  },
  {
   "cell_type": "markdown",
   "metadata": {
    "id": "1XvYFVHdAT8a"
   },
   "source": [
    "# Control statements and Program Development"
   ]
  },
  {
   "cell_type": "markdown",
   "metadata": {
    "id": "3e_XIPygOkS1"
   },
   "source": [
    "## Introduction"
   ]
  },
  {
   "cell_type": "markdown",
   "metadata": {
    "id": "zDkM6egsO9xz"
   },
   "source": [
    "## Algorithms"
   ]
  },
  {
   "cell_type": "markdown",
   "metadata": {
    "id": "Oj4zcDRoPCRx"
   },
   "source": [
    "## Pseudocode"
   ]
  },
  {
   "cell_type": "markdown",
   "metadata": {
    "id": "GRD0JqWdPL08"
   },
   "source": [
    "## Control Statements"
   ]
  },
  {
   "cell_type": "markdown",
   "metadata": {
    "id": "-LbYS5ffPd4I"
   },
   "source": [
    "## if Statement"
   ]
  },
  {
   "cell_type": "code",
   "execution_count": null,
   "metadata": {
    "colab": {
     "base_uri": "https://localhost:8080/"
    },
    "executionInfo": {
     "elapsed": 63,
     "status": "ok",
     "timestamp": 1694180737770,
     "user": {
      "displayName": "Deepak Sharma",
      "userId": "17454489798718451046"
     },
     "user_tz": -330
    },
    "id": "bPA4OcWRPzPx",
    "outputId": "32a9741b-bc52-4df8-89e5-bc4abc4649de"
   },
   "outputs": [
    {
     "name": "stdout",
     "output_type": "stream",
     "text": [
      "Passed\n"
     ]
    }
   ],
   "source": [
    "grade = 85\n",
    "if grade >= 60:\n",
    "    print('Passed')"
   ]
  },
  {
   "cell_type": "markdown",
   "metadata": {
    "id": "PF0rzxVhRINu"
   },
   "source": [
    "## if...else and if...elif...else Statements"
   ]
  },
  {
   "cell_type": "code",
   "execution_count": null,
   "metadata": {
    "colab": {
     "base_uri": "https://localhost:8080/"
    },
    "executionInfo": {
     "elapsed": 60,
     "status": "ok",
     "timestamp": 1694180737771,
     "user": {
      "displayName": "Deepak Sharma",
      "userId": "17454489798718451046"
     },
     "user_tz": -330
    },
    "id": "QIYKEAvXRJ1y",
    "outputId": "2062048b-23c2-45a7-d052-67a68fa5c55c"
   },
   "outputs": [
    {
     "name": "stdout",
     "output_type": "stream",
     "text": [
      "Passed\n"
     ]
    }
   ],
   "source": [
    "grade = 85\n",
    "if grade >= 60:\n",
    "    print('Passed')\n",
    "else:\n",
    "    print('Failed')"
   ]
  },
  {
   "cell_type": "code",
   "execution_count": null,
   "metadata": {
    "id": "Wk3tTZ3vRb4X"
   },
   "outputs": [],
   "source": [
    "grade = 57"
   ]
  },
  {
   "cell_type": "code",
   "execution_count": null,
   "metadata": {
    "colab": {
     "base_uri": "https://localhost:8080/"
    },
    "executionInfo": {
     "elapsed": 60,
     "status": "ok",
     "timestamp": 1694180737773,
     "user": {
      "displayName": "Deepak Sharma",
      "userId": "17454489798718451046"
     },
     "user_tz": -330
    },
    "id": "Z6pc4xS_Rzoa",
    "outputId": "ccac7835-94f3-41ea-de13-a9fac699d0f2"
   },
   "outputs": [
    {
     "name": "stdout",
     "output_type": "stream",
     "text": [
      "Failed\n"
     ]
    }
   ],
   "source": [
    "if grade >= 60:\n",
    "   print('Passed')\n",
    "else:\n",
    "    print('Failed')"
   ]
  },
  {
   "cell_type": "code",
   "execution_count": null,
   "metadata": {
    "colab": {
     "base_uri": "https://localhost:8080/"
    },
    "executionInfo": {
     "elapsed": 60,
     "status": "ok",
     "timestamp": 1694180737774,
     "user": {
      "displayName": "Deepak Sharma",
      "userId": "17454489798718451046"
     },
     "user_tz": -330
    },
    "id": "cu6l6vpjR-cI",
    "outputId": "715bb5f6-482d-4e9b-aec0-190ca691f53f"
   },
   "outputs": [
    {
     "name": "stdout",
     "output_type": "stream",
     "text": [
      "Passed\n"
     ]
    }
   ],
   "source": [
    "grade = 99\n",
    "if grade >= 60:\n",
    "    print('Passed')\n",
    "else:\n",
    "    print('Failed')"
   ]
  },
  {
   "cell_type": "code",
   "execution_count": 2,
   "metadata": {
    "executionInfo": {
     "elapsed": 2,
     "status": "ok",
     "timestamp": 1694407277928,
     "user": {
      "displayName": "Deepak Sharma",
      "userId": "17454489798718451046"
     },
     "user_tz": -330
    },
    "id": "TVTZ-sHSUPcV"
   },
   "outputs": [],
   "source": [
    "grade = 87\n",
    "if grade >= 60:\n",
    "   result = 'Passed'\n",
    "else:\n",
    "   result = 'Failed'"
   ]
  },
  {
   "cell_type": "code",
   "execution_count": null,
   "metadata": {
    "colab": {
     "base_uri": "https://localhost:8080/",
     "height": 35
    },
    "executionInfo": {
     "elapsed": 62,
     "status": "ok",
     "timestamp": 1694180737777,
     "user": {
      "displayName": "Deepak Sharma",
      "userId": "17454489798718451046"
     },
     "user_tz": -330
    },
    "id": "dGL0oLTzUZiL",
    "outputId": "244658a0-66dd-4feb-9f53-72d4ff8210d2"
   },
   "outputs": [
    {
     "data": {
      "application/vnd.google.colaboratory.intrinsic+json": {
       "type": "string"
      },
      "text/plain": [
       "'Passed'"
      ]
     },
     "execution_count": 113,
     "metadata": {},
     "output_type": "execute_result"
    }
   ],
   "source": [
    "result"
   ]
  },
  {
   "cell_type": "code",
   "execution_count": 3,
   "metadata": {
    "executionInfo": {
     "elapsed": 3,
     "status": "ok",
     "timestamp": 1694407287799,
     "user": {
      "displayName": "Deepak Sharma",
      "userId": "17454489798718451046"
     },
     "user_tz": -330
    },
    "id": "yfq2HNPfUxJX"
   },
   "outputs": [],
   "source": [
    "result = ('Passed' if grade >= 60 else 'Failed')"
   ]
  },
  {
   "cell_type": "code",
   "execution_count": null,
   "metadata": {
    "id": "-4EBWWMuj3fl"
   },
   "outputs": [],
   "source": [
    "grade = 85\n",
    "if grade <= 60:\n",
    " print('Passed')\n",
    "else:\n",
    " print('Failed')"
   ]
  },
  {
   "cell_type": "code",
   "execution_count": 10,
   "metadata": {
    "colab": {
     "base_uri": "https://localhost:8080/"
    },
    "executionInfo": {
     "elapsed": 3,
     "status": "ok",
     "timestamp": 1694407381367,
     "user": {
      "displayName": "Deepak Sharma",
      "userId": "17454489798718451046"
     },
     "user_tz": -330
    },
    "id": "B0JP9lUzir6_",
    "outputId": "8a4e5ede-80ac-4fad-daa1-2b74699290a4"
   },
   "outputs": [
    {
     "name": "stdout",
     "output_type": "stream",
     "text": [
      "result 4\n"
     ]
    }
   ],
   "source": [
    "print(\"result\", 4 if grade >= 60 else 5)"
   ]
  },
  {
   "cell_type": "code",
   "execution_count": null,
   "metadata": {
    "colab": {
     "base_uri": "https://localhost:8080/",
     "height": 35
    },
    "executionInfo": {
     "elapsed": 62,
     "status": "ok",
     "timestamp": 1694180737778,
     "user": {
      "displayName": "Deepak Sharma",
      "userId": "17454489798718451046"
     },
     "user_tz": -330
    },
    "id": "xIuOiMSDU2ft",
    "outputId": "66be9cbe-e878-4e53-b71f-702c3f0766e4"
   },
   "outputs": [
    {
     "data": {
      "application/vnd.google.colaboratory.intrinsic+json": {
       "type": "string"
      },
      "text/plain": [
       "'Passed'"
      ]
     },
     "execution_count": 115,
     "metadata": {},
     "output_type": "execute_result"
    }
   ],
   "source": [
    "result"
   ]
  },
  {
   "cell_type": "code",
   "execution_count": null,
   "metadata": {
    "colab": {
     "base_uri": "https://localhost:8080/",
     "height": 35
    },
    "executionInfo": {
     "elapsed": 61,
     "status": "ok",
     "timestamp": 1694180737778,
     "user": {
      "displayName": "Deepak Sharma",
      "userId": "17454489798718451046"
     },
     "user_tz": -330
    },
    "id": "NDDhDmDYU6-H",
    "outputId": "81ca9a11-0cb9-4a4a-bf73-8dc7e6a9e7cb"
   },
   "outputs": [
    {
     "data": {
      "application/vnd.google.colaboratory.intrinsic+json": {
       "type": "string"
      },
      "text/plain": [
       "'Passed'"
      ]
     },
     "execution_count": 116,
     "metadata": {},
     "output_type": "execute_result"
    }
   ],
   "source": [
    "'Passed' if grade >= 60 else 'Failed'"
   ]
  },
  {
   "cell_type": "markdown",
   "metadata": {
    "id": "eIpNWfN6VHG0"
   },
   "source": [
    "### Multiple Statements in a Suite"
   ]
  },
  {
   "cell_type": "code",
   "execution_count": null,
   "metadata": {
    "id": "Q_6hsyLnVNOZ"
   },
   "outputs": [],
   "source": [
    "grade = 49"
   ]
  },
  {
   "cell_type": "code",
   "execution_count": null,
   "metadata": {
    "colab": {
     "base_uri": "https://localhost:8080/"
    },
    "executionInfo": {
     "elapsed": 53,
     "status": "ok",
     "timestamp": 1694180737779,
     "user": {
      "displayName": "Deepak Sharma",
      "userId": "17454489798718451046"
     },
     "user_tz": -330
    },
    "id": "D4Pc-N8xVTko",
    "outputId": "695a96c5-fd12-4aaa-daa6-9eaf5e97d946"
   },
   "outputs": [
    {
     "name": "stdout",
     "output_type": "stream",
     "text": [
      "Failed\n",
      "You must take this course again\n"
     ]
    }
   ],
   "source": [
    "if grade >= 60:\n",
    "   print('Passed')\n",
    "else:\n",
    "    print('Failed')\n",
    "    print('You must take this course again')"
   ]
  },
  {
   "cell_type": "code",
   "execution_count": null,
   "metadata": {
    "colab": {
     "base_uri": "https://localhost:8080/"
    },
    "executionInfo": {
     "elapsed": 46,
     "status": "ok",
     "timestamp": 1694180737779,
     "user": {
      "displayName": "Deepak Sharma",
      "userId": "17454489798718451046"
     },
     "user_tz": -330
    },
    "id": "9fr9rAL9Vo5o",
    "outputId": "c74d8e11-179a-44ac-b854-51b2b7674bad"
   },
   "outputs": [
    {
     "name": "stdout",
     "output_type": "stream",
     "text": [
      "Passed\n",
      "You must take this course again\n"
     ]
    }
   ],
   "source": [
    "grade = 100\n",
    "\n",
    "if grade >= 60:\n",
    "    print('Passed')\n",
    "else:\n",
    "    print('Failed')\n",
    "print('You must take this course again')"
   ]
  },
  {
   "cell_type": "markdown",
   "metadata": {
    "id": "Y52FXQ4HWSEE"
   },
   "source": [
    "## if...elif...else Statement"
   ]
  },
  {
   "cell_type": "code",
   "execution_count": null,
   "metadata": {
    "colab": {
     "base_uri": "https://localhost:8080/"
    },
    "executionInfo": {
     "elapsed": 45,
     "status": "ok",
     "timestamp": 1694180737780,
     "user": {
      "displayName": "Deepak Sharma",
      "userId": "17454489798718451046"
     },
     "user_tz": -330
    },
    "id": "sYeVGJmTWUlQ",
    "outputId": "ddd93078-f15c-4811-e5a0-98fba826b679"
   },
   "outputs": [
    {
     "name": "stdout",
     "output_type": "stream",
     "text": [
      "C\n"
     ]
    }
   ],
   "source": [
    " grade = 77\n",
    " if grade >= 90:\n",
    "    print('A')\n",
    " elif grade >= 80:\n",
    "    print('B')\n",
    " elif grade >= 70:\n",
    "    print('C')\n",
    " elif grade >= 60:\n",
    "    print('D')\n",
    " else:\n",
    "    print('F')"
   ]
  },
  {
   "cell_type": "markdown",
   "metadata": {
    "id": "M90lJR5xWq2t"
   },
   "source": [
    "## while Statement"
   ]
  },
  {
   "cell_type": "code",
   "execution_count": null,
   "metadata": {
    "colab": {
     "base_uri": "https://localhost:8080/"
    },
    "executionInfo": {
     "elapsed": 45,
     "status": "ok",
     "timestamp": 1694180737781,
     "user": {
      "displayName": "Deepak Sharma",
      "userId": "17454489798718451046"
     },
     "user_tz": -330
    },
    "id": "1TDj58ZPXAiJ",
    "outputId": "3cf0f426-2c59-4d43-fa04-15c4fcb684df"
   },
   "outputs": [
    {
     "data": {
      "text/plain": [
       "81"
      ]
     },
     "execution_count": 121,
     "metadata": {},
     "output_type": "execute_result"
    }
   ],
   "source": [
    "product = 3\n",
    "while product <= 50:\n",
    "       product = product * 3\n",
    "\n",
    "product"
   ]
  },
  {
   "cell_type": "markdown",
   "metadata": {
    "id": "0jDJtd41XRgd"
   },
   "source": [
    "##  for Statement"
   ]
  },
  {
   "cell_type": "code",
   "execution_count": 12,
   "metadata": {
    "colab": {
     "base_uri": "https://localhost:8080/"
    },
    "executionInfo": {
     "elapsed": 494,
     "status": "ok",
     "timestamp": 1694407823185,
     "user": {
      "displayName": "Deepak Sharma",
      "userId": "17454489798718451046"
     },
     "user_tz": -330
    },
    "id": "KgALn2VXXSko",
    "outputId": "e4a82c48-d2f2-4acf-9284-fe7d6cd06303"
   },
   "outputs": [
    {
     "name": "stdout",
     "output_type": "stream",
     "text": [
      "Programming"
     ]
    }
   ],
   "source": [
    "for character in 'Programming':\n",
    " print(character, end='', sep = '-')"
   ]
  },
  {
   "cell_type": "markdown",
   "metadata": {
    "id": "L-96LkmUXgLT"
   },
   "source": [
    "### Function print’s sep Keyword Argument"
   ]
  },
  {
   "cell_type": "code",
   "execution_count": null,
   "metadata": {
    "colab": {
     "base_uri": "https://localhost:8080/"
    },
    "executionInfo": {
     "elapsed": 44,
     "status": "ok",
     "timestamp": 1694180737784,
     "user": {
      "displayName": "Deepak Sharma",
      "userId": "17454489798718451046"
     },
     "user_tz": -330
    },
    "id": "VpcAN9CnXjKM",
    "outputId": "89bf64e8-85e0-4e12-d281-893b3a442c30"
   },
   "outputs": [
    {
     "name": "stdout",
     "output_type": "stream",
     "text": [
      "10, 20, 30\n"
     ]
    }
   ],
   "source": [
    "print(10, 20, 30, sep=', ')"
   ]
  },
  {
   "cell_type": "markdown",
   "metadata": {
    "id": "1VKPC6-yXrWd"
   },
   "source": [
    "### 3.8.1 Iterables, Lists and Iterators"
   ]
  },
  {
   "cell_type": "code",
   "execution_count": null,
   "metadata": {
    "id": "f2uJs_lDXl-w"
   },
   "outputs": [],
   "source": [
    "total = 0\n",
    "for number in [2, -3, 0, 17, 9]:\n",
    "    total = total + number\n"
   ]
  },
  {
   "cell_type": "code",
   "execution_count": null,
   "metadata": {
    "colab": {
     "base_uri": "https://localhost:8080/"
    },
    "executionInfo": {
     "elapsed": 44,
     "status": "ok",
     "timestamp": 1694180737786,
     "user": {
      "displayName": "Deepak Sharma",
      "userId": "17454489798718451046"
     },
     "user_tz": -330
    },
    "id": "yAP-y6fnX3kN",
    "outputId": "7920cad6-e83d-4376-c070-6e2f1c947b1c"
   },
   "outputs": [
    {
     "data": {
      "text/plain": [
       "25"
      ]
     },
     "execution_count": 125,
     "metadata": {},
     "output_type": "execute_result"
    }
   ],
   "source": [
    "total"
   ]
  },
  {
   "cell_type": "markdown",
   "metadata": {
    "id": "esAbqYTJX_CZ"
   },
   "source": [
    "### 3.8.2 Built-In range Function"
   ]
  },
  {
   "cell_type": "code",
   "execution_count": null,
   "metadata": {
    "colab": {
     "base_uri": "https://localhost:8080/"
    },
    "executionInfo": {
     "elapsed": 44,
     "status": "ok",
     "timestamp": 1694180737788,
     "user": {
      "displayName": "Deepak Sharma",
      "userId": "17454489798718451046"
     },
     "user_tz": -330
    },
    "id": "Vn5D3kD3X_9v",
    "outputId": "3ef89d7c-16e6-4c8f-dc2f-9bb27325f525"
   },
   "outputs": [
    {
     "name": "stdout",
     "output_type": "stream",
     "text": [
      "0 1 2 3 4 5 6 7 8 9 "
     ]
    }
   ],
   "source": [
    "for counter in range(10):\n",
    "    print(counter, end=' ')"
   ]
  },
  {
   "cell_type": "code",
   "execution_count": 20,
   "metadata": {
    "colab": {
     "base_uri": "https://localhost:8080/"
    },
    "executionInfo": {
     "elapsed": 422,
     "status": "ok",
     "timestamp": 1694408223898,
     "user": {
      "displayName": "Deepak Sharma",
      "userId": "17454489798718451046"
     },
     "user_tz": -330
    },
    "id": "3_kcwvoyliOe",
    "outputId": "5d0c0cd0-8435-4b13-9230-5eeac21dff1c"
   },
   "outputs": [
    {
     "name": "stdout",
     "output_type": "stream",
     "text": [
      "2\n"
     ]
    }
   ],
   "source": [
    "a = {1,0,1,0}\n",
    "print(len(a))"
   ]
  },
  {
   "cell_type": "markdown",
   "metadata": {
    "id": "QHFhoihlYKdd"
   },
   "source": [
    "## Augmented Assignments"
   ]
  },
  {
   "cell_type": "code",
   "execution_count": null,
   "metadata": {
    "id": "GNq0iBcoYPQr"
   },
   "outputs": [],
   "source": [
    "total = 0\n",
    "for number in [1, 2, 3, 4, 5]:\n",
    "    total += number # add number to total\n"
   ]
  },
  {
   "cell_type": "code",
   "execution_count": null,
   "metadata": {
    "colab": {
     "base_uri": "https://localhost:8080/"
    },
    "executionInfo": {
     "elapsed": 45,
     "status": "ok",
     "timestamp": 1694180737791,
     "user": {
      "displayName": "Deepak Sharma",
      "userId": "17454489798718451046"
     },
     "user_tz": -330
    },
    "id": "VE2VzYfxYUcz",
    "outputId": "61c6caea-e0ae-4636-f200-0151843da294"
   },
   "outputs": [
    {
     "data": {
      "text/plain": [
       "15"
      ]
     },
     "execution_count": 128,
     "metadata": {},
     "output_type": "execute_result"
    }
   ],
   "source": [
    "total"
   ]
  },
  {
   "cell_type": "markdown",
   "metadata": {
    "id": "41sRo54MYpRV"
   },
   "source": [
    "### Program Development: Sequence-Controlled Repetition"
   ]
  },
  {
   "cell_type": "markdown",
   "metadata": {
    "id": "MPmiO1X_Yt8b"
   },
   "source": [
    "### Requirements Statement"
   ]
  },
  {
   "cell_type": "markdown",
   "metadata": {
    "id": "-ZGCjMwpYxVN"
   },
   "source": [
    "### Pseudocode for the Algorithm"
   ]
  },
  {
   "cell_type": "markdown",
   "metadata": {
    "id": "Vf05Qx9xY2Lu"
   },
   "source": [
    "### Coding the Algorithm in Python"
   ]
  },
  {
   "cell_type": "code",
   "execution_count": null,
   "metadata": {
    "colab": {
     "base_uri": "https://localhost:8080/"
    },
    "executionInfo": {
     "elapsed": 46,
     "status": "ok",
     "timestamp": 1694180737793,
     "user": {
      "displayName": "Deepak Sharma",
      "userId": "17454489798718451046"
     },
     "user_tz": -330
    },
    "id": "1Va5GqO_Y9nL",
    "outputId": "504f3cfb-b1f2-4d08-a3c4-9e41198e9442"
   },
   "outputs": [
    {
     "name": "stdout",
     "output_type": "stream",
     "text": [
      "Class average is 81.7\n"
     ]
    }
   ],
   "source": [
    "# fig03_01.py\n",
    "\"\"\"Class average program with sequence-controlled repetition.\"\"\"\n",
    "# initialization phase\n",
    "total = 0 # sum of grades\n",
    "grade_counter = 0\n",
    "grades = [98, 76, 71, 87, 83, 90, 57, 79, 82, 94] # list of 10 grades\n",
    "\n",
    "# processing phase\n",
    "for grade in grades:\n",
    "    total += grade # add current grade to the running total\n",
    "    grade_counter += 1 # indicate that one more grade was processed\n",
    "\n",
    "# termination phase\n",
    "average = total / grade_counter\n",
    "print(f'Class average is {average}')"
   ]
  },
  {
   "cell_type": "markdown",
   "metadata": {
    "id": "lmM9ctYiaRy0"
   },
   "source": [
    "## Program Development: Sentinel-Controlled Repetition"
   ]
  },
  {
   "cell_type": "markdown",
   "metadata": {
    "id": "q_WXzm8UaXZA"
   },
   "source": [
    "### Implementing Sentinel-Controlled Iteration"
   ]
  },
  {
   "cell_type": "code",
   "execution_count": null,
   "metadata": {
    "colab": {
     "base_uri": "https://localhost:8080/"
    },
    "executionInfo": {
     "elapsed": 11009,
     "status": "ok",
     "timestamp": 1694180748756,
     "user": {
      "displayName": "Deepak Sharma",
      "userId": "17454489798718451046"
     },
     "user_tz": -330
    },
    "id": "K5n-COiRcack",
    "outputId": "b4e54b9d-0058-4fb0-dc1c-d82ebdfc13a8"
   },
   "outputs": [
    {
     "name": "stdout",
     "output_type": "stream",
     "text": [
      "Enter grade, -1 to end: 1\n",
      "Enter grade, -1 to end: 2\n",
      "Enter grade, -1 to end: 3\n",
      "Enter grade, -1 to end: -1\n",
      "Class average is 2.00\n"
     ]
    }
   ],
   "source": [
    "2# fig03_02.py\n",
    "\"\"\"Class average program with sentinel-controlled iteration.\"\"\"\n",
    "\n",
    "# initialization phase\n",
    "total = 0 # sum of grades\n",
    "grade_counter = 0 # number of grades entered\n",
    "\n",
    "# processing phase\n",
    "grade = int(input('Enter grade, -1 to end: ')) # get one grade\n",
    "\n",
    "while grade != -1:\n",
    "  total += grade\n",
    "  grade_counter += 1\n",
    "  grade = int(input('Enter grade, -1 to end: '))\n",
    "\n",
    "# termination phase\n",
    "if grade_counter != 0:\n",
    "  average = total 2/ grade_counter\n",
    "  print(f'Class average is {average:.2f}')\n",
    "else:\n",
    "  print('No grades were entered')"
   ]
  },
  {
   "cell_type": "markdown",
   "metadata": {
    "id": "wxTNVRLhe4Jl"
   },
   "source": [
    "## Program Development: Nested Control Statements"
   ]
  },
  {
   "cell_type": "markdown",
   "metadata": {
    "id": "JpxJps2MfJJx"
   },
   "source": [
    "### Implementing the Algorithm"
   ]
  },
  {
   "cell_type": "code",
   "execution_count": null,
   "metadata": {
    "colab": {
     "base_uri": "https://localhost:8080/"
    },
    "executionInfo": {
     "elapsed": 66618,
     "status": "ok",
     "timestamp": 1694180815368,
     "user": {
      "displayName": "Deepak Sharma",
      "userId": "17454489798718451046"
     },
     "user_tz": -330
    },
    "id": "1S2A-EXyfKDT",
    "outputId": "2418fe03-ad7b-48a5-9bb3-571912cbf140"
   },
   "outputs": [
    {
     "name": "stdout",
     "output_type": "stream",
     "text": [
      "Enter result (1=pass, 2=fail): 1\n",
      "Enter result (1=pass, 2=fail): 2\n",
      "Enter result (1=pass, 2=fail): 1\n",
      "Enter result (1=pass, 2=fail): 1\n",
      "Enter result (1=pass, 2=fail): 2\n",
      "Enter result (1=pass, 2=fail): 1\n",
      "Enter result (1=pass, 2=fail): 1\n",
      "Enter result (1=pass, 2=fail): 3\n",
      "Enter result (1=pass, 2=fail): 2\n",
      "Enter result (1=pass, 2=fail): 2\n",
      "Passed: 0\n",
      "Failed: 1\n"
     ]
    }
   ],
   "source": [
    "# fig03_03.py\n",
    "\"\"\"Using nested control statements to analyze examination results.\"\"\"\n",
    "\n",
    "# initialize variables\n",
    "passes = 0 # number of passes\n",
    "failures = 0 # number of failures\n",
    "\n",
    "# process 10 students\n",
    "for student in range(10):\n",
    "     # get one exam result\n",
    "      result = int(input('Enter result (1=pass, 2=fail): '))\n",
    "\n",
    "if result == 1:\n",
    "     passes = passes + 1\n",
    "else:\n",
    "    failures = failures + 1\n",
    "\n",
    "# termination phase\n",
    "print('Passed:', passes)\n",
    "print('Failed:', failures)\n",
    "\n",
    "if passes > 8:\n",
    "     print('Bonus to instructor')"
   ]
  },
  {
   "cell_type": "markdown",
   "metadata": {
    "id": "x4ungJugkRI3"
   },
   "source": [
    "## Built-In Function range: A Deeper Look"
   ]
  },
  {
   "cell_type": "code",
   "execution_count": null,
   "metadata": {
    "colab": {
     "base_uri": "https://localhost:8080/"
    },
    "executionInfo": {
     "elapsed": 29,
     "status": "ok",
     "timestamp": 1694180815368,
     "user": {
      "displayName": "Deepak Sharma",
      "userId": "17454489798718451046"
     },
     "user_tz": -330
    },
    "id": "MBgIB_qLkV0s",
    "outputId": "4cd3e15d-197c-477c-be64-864cbf9f89e8"
   },
   "outputs": [
    {
     "name": "stdout",
     "output_type": "stream",
     "text": [
      "5 6 7 8 9 "
     ]
    }
   ],
   "source": [
    "for number in range(5, 10):\n",
    "    print(number, end=' ')"
   ]
  },
  {
   "cell_type": "code",
   "execution_count": null,
   "metadata": {
    "colab": {
     "base_uri": "https://localhost:8080/"
    },
    "executionInfo": {
     "elapsed": 27,
     "status": "ok",
     "timestamp": 1694180815369,
     "user": {
      "displayName": "Deepak Sharma",
      "userId": "17454489798718451046"
     },
     "user_tz": -330
    },
    "id": "tDnAZGlzkcbo",
    "outputId": "7b1fdcc1-8f00-4d81-f84f-16bb89711d66"
   },
   "outputs": [
    {
     "name": "stdout",
     "output_type": "stream",
     "text": [
      "0 2 4 6 8 "
     ]
    }
   ],
   "source": [
    "for number in range(0, 10, 2):\n",
    "    print(number, end=' ')"
   ]
  },
  {
   "cell_type": "code",
   "execution_count": null,
   "metadata": {
    "colab": {
     "base_uri": "https://localhost:8080/"
    },
    "executionInfo": {
     "elapsed": 26,
     "status": "ok",
     "timestamp": 1694180815369,
     "user": {
      "displayName": "Deepak Sharma",
      "userId": "17454489798718451046"
     },
     "user_tz": -330
    },
    "id": "JFC3fHKhks1-",
    "outputId": "e422db3f-a345-460b-ae5e-09e579f3dec3"
   },
   "outputs": [
    {
     "name": "stdout",
     "output_type": "stream",
     "text": [
      "10 8 6 4 2 "
     ]
    }
   ],
   "source": [
    "for number in range(10, 0, -2):\n",
    "    print(number, end=' ')"
   ]
  },
  {
   "cell_type": "markdown",
   "metadata": {
    "id": "kI9igcU8k6BQ"
   },
   "source": [
    "## Using Type Decimal for Monetary Amounts"
   ]
  },
  {
   "cell_type": "code",
   "execution_count": null,
   "metadata": {
    "colab": {
     "base_uri": "https://localhost:8080/"
    },
    "executionInfo": {
     "elapsed": 24,
     "status": "ok",
     "timestamp": 1694180815369,
     "user": {
      "displayName": "Deepak Sharma",
      "userId": "17454489798718451046"
     },
     "user_tz": -330
    },
    "id": "oSPmtAtok7zr",
    "outputId": "ffa68eed-0d77-4038-9744-5b7dde6c3db7"
   },
   "outputs": [
    {
     "name": "stdout",
     "output_type": "stream",
     "text": [
      "112.31\n"
     ]
    }
   ],
   "source": [
    "amount = 112.31\n",
    "print(amount)"
   ]
  },
  {
   "cell_type": "code",
   "execution_count": null,
   "metadata": {
    "colab": {
     "base_uri": "https://localhost:8080/"
    },
    "executionInfo": {
     "elapsed": 23,
     "status": "ok",
     "timestamp": 1694180815369,
     "user": {
      "displayName": "Deepak Sharma",
      "userId": "17454489798718451046"
     },
     "user_tz": -330
    },
    "id": "fl1qWWoPk_h2",
    "outputId": "e5d2218a-731c-43f5-d686-272ad46b8169"
   },
   "outputs": [
    {
     "name": "stdout",
     "output_type": "stream",
     "text": [
      "112.31000000000000227374\n"
     ]
    }
   ],
   "source": [
    "print(f'{amount:.20f}')"
   ]
  },
  {
   "cell_type": "markdown",
   "metadata": {
    "id": "11Yqt4iymUh4"
   },
   "source": [
    "### Importing Type Decimal from the decimal Module"
   ]
  },
  {
   "cell_type": "code",
   "execution_count": 22,
   "metadata": {
    "executionInfo": {
     "elapsed": 1,
     "status": "ok",
     "timestamp": 1694408356664,
     "user": {
      "displayName": "Deepak Sharma",
      "userId": "17454489798718451046"
     },
     "user_tz": -330
    },
    "id": "O1YPehZcmV6A"
   },
   "outputs": [],
   "source": [
    "from Decimal import decimal"
   ]
  },
  {
   "cell_type": "markdown",
   "metadata": {
    "id": "Fn0esBLGmc_k"
   },
   "source": [
    "### Creating Decimals"
   ]
  },
  {
   "cell_type": "code",
   "execution_count": null,
   "metadata": {
    "colab": {
     "base_uri": "https://localhost:8080/"
    },
    "executionInfo": {
     "elapsed": 22,
     "status": "ok",
     "timestamp": 1694180815370,
     "user": {
      "displayName": "Deepak Sharma",
      "userId": "17454489798718451046"
     },
     "user_tz": -330
    },
    "id": "aoT4HEW9meYE",
    "outputId": "b52d0a0f-c42b-4d7f-aafb-c99e2330c68f"
   },
   "outputs": [
    {
     "data": {
      "text/plain": [
       "Decimal('0.05')"
      ]
     },
     "execution_count": 138,
     "metadata": {},
     "output_type": "execute_result"
    }
   ],
   "source": [
    "principal = Decimal('1000.00')\n",
    "principal\n",
    "Decimal('1000.00')\n",
    "rate = Decimal('0.05')\n",
    "rate\n",
    "Decimal('0.05')"
   ]
  },
  {
   "cell_type": "markdown",
   "metadata": {
    "id": "VToVj_c4muHd"
   },
   "source": [
    "### Decimal Arithmetic"
   ]
  },
  {
   "cell_type": "code",
   "execution_count": null,
   "metadata": {
    "colab": {
     "base_uri": "https://localhost:8080/"
    },
    "executionInfo": {
     "elapsed": 21,
     "status": "ok",
     "timestamp": 1694180815370,
     "user": {
      "displayName": "Deepak Sharma",
      "userId": "17454489798718451046"
     },
     "user_tz": -330
    },
    "id": "S6GfHXklmvQi",
    "outputId": "1906c865-9677-4462-f572-c358319d93ed"
   },
   "outputs": [
    {
     "data": {
      "text/plain": [
       "Decimal('12.5')"
      ]
     },
     "execution_count": 139,
     "metadata": {},
     "output_type": "execute_result"
    }
   ],
   "source": [
    "x = Decimal('10.5')\n",
    "y = Decimal('2')\n",
    "\n",
    "x + y"
   ]
  },
  {
   "cell_type": "code",
   "execution_count": null,
   "metadata": {
    "colab": {
     "base_uri": "https://localhost:8080/"
    },
    "executionInfo": {
     "elapsed": 20,
     "status": "ok",
     "timestamp": 1694180815370,
     "user": {
      "displayName": "Deepak Sharma",
      "userId": "17454489798718451046"
     },
     "user_tz": -330
    },
    "id": "clnS8XICm2I8",
    "outputId": "a109105b-301f-4fc2-c63b-a93e3d402f89"
   },
   "outputs": [
    {
     "data": {
      "text/plain": [
       "Decimal('5')"
      ]
     },
     "execution_count": 140,
     "metadata": {},
     "output_type": "execute_result"
    }
   ],
   "source": [
    "x // y"
   ]
  },
  {
   "cell_type": "code",
   "execution_count": null,
   "metadata": {
    "colab": {
     "base_uri": "https://localhost:8080/"
    },
    "executionInfo": {
     "elapsed": 20,
     "status": "ok",
     "timestamp": 1694180815371,
     "user": {
      "displayName": "Deepak Sharma",
      "userId": "17454489798718451046"
     },
     "user_tz": -330
    },
    "id": "_PQWqcsqm5Fx",
    "outputId": "dab4e4af-7b57-4d26-95e1-ad6eb72856aa"
   },
   "outputs": [
    {
     "data": {
      "text/plain": [
       "Decimal('12.5')"
      ]
     },
     "execution_count": 141,
     "metadata": {},
     "output_type": "execute_result"
    }
   ],
   "source": [
    "x += y\n",
    "x"
   ]
  },
  {
   "cell_type": "markdown",
   "metadata": {
    "id": "LETLm0YFnC3A"
   },
   "source": [
    "### Calculating Compound Interest   Cant be executed"
   ]
  },
  {
   "cell_type": "code",
   "execution_count": null,
   "metadata": {
    "colab": {
     "base_uri": "https://localhost:8080/"
    },
    "executionInfo": {
     "elapsed": 20,
     "status": "ok",
     "timestamp": 1694180815371,
     "user": {
      "displayName": "Deepak Sharma",
      "userId": "17454489798718451046"
     },
     "user_tz": -330
    },
    "id": "rRKPAA_PnFd7",
    "outputId": "229dce3e-0fa6-4d18-ff2a-bdd0f387cd2f"
   },
   "outputs": [
    {
     "name": "stdout",
     "output_type": "stream",
     "text": [
      " 1   1050.00\n",
      " 2   1102.50\n",
      " 3   1157.62\n",
      " 4   1215.51\n",
      " 5   1276.28\n",
      " 6   1340.10\n",
      " 7   1407.10\n",
      " 8   1477.46\n",
      " 9   1551.33\n",
      "10   1628.89\n"
     ]
    }
   ],
   "source": [
    "for year in range(1, 11):\n",
    "  amount = principal * (1 + rate) ** year\n",
    "  print(f'{year:>2}{amount:>10.2f}')"
   ]
  },
  {
   "cell_type": "markdown",
   "metadata": {
    "id": "7BxK0aFnnmlB"
   },
   "source": [
    "## break and continue Statements"
   ]
  },
  {
   "cell_type": "code",
   "execution_count": null,
   "metadata": {
    "colab": {
     "base_uri": "https://localhost:8080/"
    },
    "executionInfo": {
     "elapsed": 19,
     "status": "ok",
     "timestamp": 1694180815371,
     "user": {
      "displayName": "Deepak Sharma",
      "userId": "17454489798718451046"
     },
     "user_tz": -330
    },
    "id": "Vs4O_M8VnoQj",
    "outputId": "c28f3892-5288-4f34-b15f-c1af5838ab69"
   },
   "outputs": [
    {
     "name": "stdout",
     "output_type": "stream",
     "text": [
      "0 1 2 3 4 5 6 7 8 9 "
     ]
    }
   ],
   "source": [
    "for number in range(100):\n",
    "    if number == 10:\n",
    "        break\n",
    "    print(number, end=' ')"
   ]
  },
  {
   "cell_type": "code",
   "execution_count": null,
   "metadata": {
    "colab": {
     "base_uri": "https://localhost:8080/"
    },
    "executionInfo": {
     "elapsed": 18,
     "status": "ok",
     "timestamp": 1694180815371,
     "user": {
      "displayName": "Deepak Sharma",
      "userId": "17454489798718451046"
     },
     "user_tz": -330
    },
    "id": "jNWaYTgWn0je",
    "outputId": "e75e8b12-5bf3-456a-b728-f1106ae179c5"
   },
   "outputs": [
    {
     "name": "stdout",
     "output_type": "stream",
     "text": [
      "0 1 2 3 4 6 7 8 9 "
     ]
    }
   ],
   "source": [
    "for number in range(10):\n",
    "    if number == 5:\n",
    "        continue\n",
    "    print(number, end=' ')"
   ]
  },
  {
   "cell_type": "code",
   "execution_count": null,
   "metadata": {
    "id": "pAXbWGVimwBe"
   },
   "outputs": [],
   "source": []
  },
  {
   "cell_type": "markdown",
   "metadata": {
    "id": "GuZBoNFIoKfs"
   },
   "source": [
    "## Boolean Operators and, or and not"
   ]
  },
  {
   "cell_type": "markdown",
   "metadata": {
    "id": "yH8fzDVDoNym"
   },
   "source": [
    "### Boolean Operator and"
   ]
  },
  {
   "cell_type": "code",
   "execution_count": null,
   "metadata": {
    "colab": {
     "base_uri": "https://localhost:8080/"
    },
    "executionInfo": {
     "elapsed": 19,
     "status": "ok",
     "timestamp": 1694180815372,
     "user": {
      "displayName": "Deepak Sharma",
      "userId": "17454489798718451046"
     },
     "user_tz": -330
    },
    "id": "BA1A179RoOwl",
    "outputId": "68a64fb4-ff1e-46d3-cdcc-c710161b9b98"
   },
   "outputs": [
    {
     "name": "stdout",
     "output_type": "stream",
     "text": [
      "Senior female\n"
     ]
    }
   ],
   "source": [
    "gender = 'Female'\n",
    "age = 70\n",
    "if gender == 'Female' and age >= 65:\n",
    "    print('Senior female')"
   ]
  },
  {
   "cell_type": "markdown",
   "metadata": {
    "id": "T9ArSwb2o-iG"
   },
   "source": [
    "### Boolean Operator or"
   ]
  },
  {
   "cell_type": "code",
   "execution_count": null,
   "metadata": {
    "colab": {
     "base_uri": "https://localhost:8080/"
    },
    "executionInfo": {
     "elapsed": 18,
     "status": "ok",
     "timestamp": 1694180815372,
     "user": {
      "displayName": "Deepak Sharma",
      "userId": "17454489798718451046"
     },
     "user_tz": -330
    },
    "id": "PvamPi1ho_tK",
    "outputId": "e294a291-b1f9-411e-b16a-2a8785d3c875"
   },
   "outputs": [
    {
     "name": "stdout",
     "output_type": "stream",
     "text": [
      "Student gets an A\n"
     ]
    }
   ],
   "source": [
    "semester_average = 83\n",
    "final_exam = 95\n",
    "if semester_average >= 90 or final_exam >= 90:\n",
    "    print('Student gets an A')"
   ]
  },
  {
   "cell_type": "markdown",
   "metadata": {
    "id": "O1tiyZFupRli"
   },
   "source": [
    "### Boolean Operator not"
   ]
  },
  {
   "cell_type": "code",
   "execution_count": null,
   "metadata": {
    "colab": {
     "base_uri": "https://localhost:8080/"
    },
    "executionInfo": {
     "elapsed": 17,
     "status": "ok",
     "timestamp": 1694180815372,
     "user": {
      "displayName": "Deepak Sharma",
      "userId": "17454489798718451046"
     },
     "user_tz": -330
    },
    "id": "fAetImxmpT-9",
    "outputId": "347047a0-4d4a-457e-8616-8c7127baec30"
   },
   "outputs": [
    {
     "name": "stdout",
     "output_type": "stream",
     "text": [
      "The next grade is 87\n"
     ]
    }
   ],
   "source": [
    "grade = 87\n",
    "if not grade == -1:\n",
    "   print('The next grade is', grade)"
   ]
  },
  {
   "cell_type": "code",
   "execution_count": null,
   "metadata": {
    "colab": {
     "base_uri": "https://localhost:8080/"
    },
    "executionInfo": {
     "elapsed": 18,
     "status": "ok",
     "timestamp": 1694180815373,
     "user": {
      "displayName": "Deepak Sharma",
      "userId": "17454489798718451046"
     },
     "user_tz": -330
    },
    "id": "F0EuJcKCpcn7",
    "outputId": "19821230-2154-4745-e769-3cff6bb096ea"
   },
   "outputs": [
    {
     "name": "stdout",
     "output_type": "stream",
     "text": [
      "The next grade is 87\n"
     ]
    }
   ],
   "source": [
    "if grade != -1:\n",
    "   print('The next grade is', grade)"
   ]
  },
  {
   "cell_type": "markdown",
   "metadata": {
    "id": "PWzviM5rplOT"
   },
   "source": [
    "## Intro to Data Science: Measures of Central Tendency—Mean, Median and Mode"
   ]
  },
  {
   "cell_type": "code",
   "execution_count": null,
   "metadata": {
    "colab": {
     "base_uri": "https://localhost:8080/"
    },
    "executionInfo": {
     "elapsed": 17,
     "status": "ok",
     "timestamp": 1694180815373,
     "user": {
      "displayName": "Deepak Sharma",
      "userId": "17454489798718451046"
     },
     "user_tz": -330
    },
    "id": "PE9xOTmTputW",
    "outputId": "f96c5b0e-664c-4ab1-acd6-c8b3100eeed3"
   },
   "outputs": [
    {
     "data": {
      "text/plain": [
       "79.4"
      ]
     },
     "execution_count": 149,
     "metadata": {},
     "output_type": "execute_result"
    }
   ],
   "source": [
    "grades = [85, 93, 45, 89, 85]\n",
    "sum(grades) / len(grades)"
   ]
  },
  {
   "cell_type": "code",
   "execution_count": null,
   "metadata": {
    "colab": {
     "base_uri": "https://localhost:8080/"
    },
    "executionInfo": {
     "elapsed": 16,
     "status": "ok",
     "timestamp": 1694180815373,
     "user": {
      "displayName": "Deepak Sharma",
      "userId": "17454489798718451046"
     },
     "user_tz": -330
    },
    "id": "Rq32sxrJp1Ay",
    "outputId": "19e83f12-88fe-4b0f-fb6a-e4b0d3d535a5"
   },
   "outputs": [
    {
     "data": {
      "text/plain": [
       "79.4"
      ]
     },
     "execution_count": 150,
     "metadata": {},
     "output_type": "execute_result"
    }
   ],
   "source": [
    "import statistics\n",
    "statistics.mean(grades)"
   ]
  },
  {
   "cell_type": "code",
   "execution_count": null,
   "metadata": {
    "colab": {
     "base_uri": "https://localhost:8080/"
    },
    "executionInfo": {
     "elapsed": 16,
     "status": "ok",
     "timestamp": 1694180815373,
     "user": {
      "displayName": "Deepak Sharma",
      "userId": "17454489798718451046"
     },
     "user_tz": -330
    },
    "id": "vJkuCkdaqBvA",
    "outputId": "fdc5b38b-4f8f-4f1f-edba-80e0226e17a5"
   },
   "outputs": [
    {
     "data": {
      "text/plain": [
       "85"
      ]
     },
     "execution_count": 151,
     "metadata": {},
     "output_type": "execute_result"
    }
   ],
   "source": [
    "statistics.median(grades)"
   ]
  },
  {
   "cell_type": "code",
   "execution_count": null,
   "metadata": {
    "colab": {
     "base_uri": "https://localhost:8080/"
    },
    "executionInfo": {
     "elapsed": 16,
     "status": "ok",
     "timestamp": 1694180815374,
     "user": {
      "displayName": "Deepak Sharma",
      "userId": "17454489798718451046"
     },
     "user_tz": -330
    },
    "id": "d7LX6beAqWs3",
    "outputId": "c599918c-47a1-4492-c657-4896dd22c518"
   },
   "outputs": [
    {
     "data": {
      "text/plain": [
       "85"
      ]
     },
     "execution_count": 152,
     "metadata": {},
     "output_type": "execute_result"
    }
   ],
   "source": [
    "statistics.mode(grades)"
   ]
  },
  {
   "cell_type": "code",
   "execution_count": null,
   "metadata": {
    "colab": {
     "base_uri": "https://localhost:8080/"
    },
    "executionInfo": {
     "elapsed": 16,
     "status": "ok",
     "timestamp": 1694180815374,
     "user": {
      "displayName": "Deepak Sharma",
      "userId": "17454489798718451046"
     },
     "user_tz": -330
    },
    "id": "6mAmWMvYqZOo",
    "outputId": "6e9b886f-9827-4103-c31a-0b9c04a18d62"
   },
   "outputs": [
    {
     "data": {
      "text/plain": [
       "[45, 85, 85, 89, 93]"
      ]
     },
     "execution_count": 153,
     "metadata": {},
     "output_type": "execute_result"
    }
   ],
   "source": [
    "sorted(grades)"
   ]
  },
  {
   "cell_type": "code",
   "execution_count": null,
   "metadata": {
    "id": "8J2FmbZ4m-ee"
   },
   "outputs": [],
   "source": [
    "from Decimal import decimal"
   ]
  }
 ],
 "metadata": {
  "colab": {
   "collapsed_sections": [
    "-LbYS5ffPd4I",
    "PF0rzxVhRINu",
    "M90lJR5xWq2t",
    "0jDJtd41XRgd",
    "esAbqYTJX_CZ",
    "QHFhoihlYKdd",
    "41sRo54MYpRV",
    "Vf05Qx9xY2Lu",
    "lmM9ctYiaRy0",
    "wxTNVRLhe4Jl",
    "JpxJps2MfJJx",
    "x4ungJugkRI3",
    "kI9igcU8k6BQ",
    "Fn0esBLGmc_k",
    "VToVj_c4muHd",
    "7BxK0aFnnmlB",
    "GuZBoNFIoKfs",
    "yH8fzDVDoNym",
    "T9ArSwb2o-iG",
    "O1tiyZFupRli",
    "PWzviM5rplOT"
   ],
   "provenance": [
    {
     "file_id": "1PGkkHJ-8u_rdnKMZfjIUJtzbX9H8SY8E",
     "timestamp": 1694345405255
    }
   ]
  },
  "kernelspec": {
   "display_name": "Python 3 (ipykernel)",
   "language": "python",
   "name": "python3"
  },
  "language_info": {
   "codemirror_mode": {
    "name": "ipython",
    "version": 3
   },
   "file_extension": ".py",
   "mimetype": "text/x-python",
   "name": "python",
   "nbconvert_exporter": "python",
   "pygments_lexer": "ipython3",
   "version": "3.9.16"
  }
 },
 "nbformat": 4,
 "nbformat_minor": 1
}
