{
 "cells": [
  {
   "cell_type": "code",
   "execution_count": null,
   "id": "d34e2c72",
   "metadata": {},
   "outputs": [],
   "source": [
    "n=input(\"enter any string\")\n",
    "if(n==n[::-1]):\n",
    "    print(\"number is palllendrome \")\n",
    "else:\n",
    "    print(\"number not pallendrome \")"
   ]
  }
 ],
 "metadata": {
  "kernelspec": {
   "display_name": "Python 3 (ipykernel)",
   "language": "python",
   "name": "python3"
  },
  "language_info": {
   "codemirror_mode": {
    "name": "ipython",
    "version": 3
   },
   "file_extension": ".py",
   "mimetype": "text/x-python",
   "name": "python",
   "nbconvert_exporter": "python",
   "pygments_lexer": "ipython3",
   "version": "3.10.9"
  }
 },
 "nbformat": 4,
 "nbformat_minor": 5
}
